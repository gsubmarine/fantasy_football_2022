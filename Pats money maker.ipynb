{
 "cells": [
  {
   "cell_type": "code",
   "execution_count": 69,
   "id": "e2497c57",
   "metadata": {},
   "outputs": [],
   "source": [
    "import pandas as pd\n",
    "from fuzzywuzzy import fuzz\n",
    "from fuzzywuzzy import process\n",
    "import plotly.express as px\n",
    "from sklearn.cluster import KMeans"
   ]
  },
  {
   "cell_type": "code",
   "execution_count": 62,
   "id": "cecb6413",
   "metadata": {},
   "outputs": [
    {
     "data": {
      "text/html": [
       "<div>\n",
       "<style scoped>\n",
       "    .dataframe tbody tr th:only-of-type {\n",
       "        vertical-align: middle;\n",
       "    }\n",
       "\n",
       "    .dataframe tbody tr th {\n",
       "        vertical-align: top;\n",
       "    }\n",
       "\n",
       "    .dataframe thead th {\n",
       "        text-align: right;\n",
       "    }\n",
       "</style>\n",
       "<table border=\"1\" class=\"dataframe\">\n",
       "  <thead>\n",
       "    <tr style=\"text-align: right;\">\n",
       "      <th></th>\n",
       "      <th>Unnamed: 0</th>\n",
       "      <th>PLAYER</th>\n",
       "      <th>POS</th>\n",
       "      <th>AVG</th>\n",
       "    </tr>\n",
       "  </thead>\n",
       "  <tbody>\n",
       "    <tr>\n",
       "      <th>0</th>\n",
       "      <td>0</td>\n",
       "      <td>Christian McCaffrey</td>\n",
       "      <td>RB</td>\n",
       "      <td>1.0</td>\n",
       "    </tr>\n",
       "    <tr>\n",
       "      <th>1</th>\n",
       "      <td>1</td>\n",
       "      <td>Saquon Barkley</td>\n",
       "      <td>RB</td>\n",
       "      <td>2.0</td>\n",
       "    </tr>\n",
       "    <tr>\n",
       "      <th>2</th>\n",
       "      <td>2</td>\n",
       "      <td>Ezekiel Elliott</td>\n",
       "      <td>RB</td>\n",
       "      <td>3.0</td>\n",
       "    </tr>\n",
       "    <tr>\n",
       "      <th>3</th>\n",
       "      <td>3</td>\n",
       "      <td>Michael Thomas</td>\n",
       "      <td>WR</td>\n",
       "      <td>5.0</td>\n",
       "    </tr>\n",
       "    <tr>\n",
       "      <th>4</th>\n",
       "      <td>4</td>\n",
       "      <td>Alvin Kamara</td>\n",
       "      <td>RB</td>\n",
       "      <td>5.0</td>\n",
       "    </tr>\n",
       "    <tr>\n",
       "      <th>...</th>\n",
       "      <td>...</td>\n",
       "      <td>...</td>\n",
       "      <td>...</td>\n",
       "      <td>...</td>\n",
       "    </tr>\n",
       "    <tr>\n",
       "      <th>376</th>\n",
       "      <td>376</td>\n",
       "      <td>Adam Trautman</td>\n",
       "      <td>TE</td>\n",
       "      <td>380.0</td>\n",
       "    </tr>\n",
       "    <tr>\n",
       "      <th>377</th>\n",
       "      <td>377</td>\n",
       "      <td>Trent Taylor</td>\n",
       "      <td>WR</td>\n",
       "      <td>381.0</td>\n",
       "    </tr>\n",
       "    <tr>\n",
       "      <th>378</th>\n",
       "      <td>378</td>\n",
       "      <td>Corey Clement</td>\n",
       "      <td>RB</td>\n",
       "      <td>382.0</td>\n",
       "    </tr>\n",
       "    <tr>\n",
       "      <th>379</th>\n",
       "      <td>379</td>\n",
       "      <td>Devine Ozigbo</td>\n",
       "      <td>RB</td>\n",
       "      <td>383.0</td>\n",
       "    </tr>\n",
       "    <tr>\n",
       "      <th>381</th>\n",
       "      <td>381</td>\n",
       "      <td>John Hightower</td>\n",
       "      <td>WR</td>\n",
       "      <td>385.0</td>\n",
       "    </tr>\n",
       "  </tbody>\n",
       "</table>\n",
       "<p>372 rows × 4 columns</p>\n",
       "</div>"
      ],
      "text/plain": [
       "     Unnamed: 0               PLAYER POS    AVG\n",
       "0             0  Christian McCaffrey  RB    1.0\n",
       "1             1       Saquon Barkley  RB    2.0\n",
       "2             2      Ezekiel Elliott  RB    3.0\n",
       "3             3       Michael Thomas  WR    5.0\n",
       "4             4         Alvin Kamara  RB    5.0\n",
       "..          ...                  ...  ..    ...\n",
       "376         376        Adam Trautman  TE  380.0\n",
       "377         377         Trent Taylor  WR  381.0\n",
       "378         378        Corey Clement  RB  382.0\n",
       "379         379        Devine Ozigbo  RB  383.0\n",
       "381         381       John Hightower  WR  385.0\n",
       "\n",
       "[372 rows x 4 columns]"
      ]
     },
     "execution_count": 62,
     "metadata": {},
     "output_type": "execute_result"
    }
   ],
   "source": [
    "adp = pd.read_csv(\"data/fantasypros/adp/HALF_PPR_ADP.csv\")\n",
    "adp.dropna(subset=[\"PLAYER\"], inplace=True)\n",
    "adp"
   ]
  },
  {
   "cell_type": "code",
   "execution_count": 64,
   "id": "1aa582b8",
   "metadata": {},
   "outputs": [],
   "source": [
    "data = pd.read_csv(\"data/yearly/2019.csv\")\n",
    "data.dropna(subset=[\"Pos\"], inplace=True)"
   ]
  },
  {
   "cell_type": "code",
   "execution_count": 117,
   "id": "a64e6f71",
   "metadata": {},
   "outputs": [],
   "source": [
    "def plotKmeans(df, x=\"ADP\", y=\"FantasyPoints\", position=\"RB\", clusters=2):\n",
    "    dataset = df.dropna(subset=[x, y])\n",
    "    dataset = dataset[dataset[\"Pos\"] == position]\n",
    "    points = list(zip(dataset[x].to_list(), dataset[y].to_list()))\n",
    "    kmeans = KMeans(n_clusters=clusters, random_state=42) \n",
    "    kmeans.fit(points)\n",
    "    kmeans.labels_\n",
    "    dataset[\"labels\"] = kmeans.labels_\n",
    "    fig = px.scatter(dataset, x=x, y=y, color=\"labels\", text=\"Player\")\n",
    "    print(x)\n",
    "    fig.update_layout({\n",
    "        \"font\" : dict(\n",
    "        family=\"sans serif\",\n",
    "        size=18,\n",
    "        color=\"LightSeaGreen\"\n",
    "    ),\n",
    "        \"xaxis_title\": x,\n",
    "        \"yaxis_title\": y,\n",
    "    })\n",
    "    fig.show()"
   ]
  },
  {
   "cell_type": "code",
   "execution_count": 65,
   "id": "fb5b9044",
   "metadata": {},
   "outputs": [
    {
     "name": "stderr",
     "output_type": "stream",
     "text": [
      "/var/folders/zd/hd98t63j70j07gdtg557z0980000gp/T/ipykernel_86027/1954686457.py:4: FutureWarning:\n",
      "\n",
      "The default dtype for empty Series will be 'object' instead of 'float64' in a future version. Specify a dtype explicitly to silence this warning.\n",
      "\n",
      "/var/folders/zd/hd98t63j70j07gdtg557z0980000gp/T/ipykernel_86027/1954686457.py:8: SettingWithCopyWarning:\n",
      "\n",
      "\n",
      "A value is trying to be set on a copy of a slice from a DataFrame\n",
      "\n",
      "See the caveats in the documentation: https://pandas.pydata.org/pandas-docs/stable/user_guide/indexing.html#returning-a-view-versus-a-copy\n",
      "\n"
     ]
    }
   ],
   "source": [
    "xs = []\n",
    "ys = []\n",
    "pos = []\n",
    "data[\"ADP\"] = pd.Series()\n",
    "for i, player in adp.iterrows():  \n",
    "    try:\n",
    "        ix = process.extractOne(player[\"PLAYER\"], data[\"Player\"])\n",
    "        data[\"ADP\"].loc[ix[2]] = player[\"AVG\"]\n",
    "    except:\n",
    "        print(player[\"PLAYER\"])\n",
    "    "
   ]
  },
  {
   "cell_type": "code",
   "execution_count": 66,
   "id": "f47eb795",
   "metadata": {},
   "outputs": [
    {
     "data": {
      "application/vnd.plotly.v1+json": {
       "config": {
        "plotlyServerURL": "https://plot.ly"
       },
       "data": [
        {
         "hovertemplate": "Pos=RB<br>ADP=%{x}<br>FantasyPoints=%{y}<br>Player=%{text}<extra></extra>",
         "legendgroup": "RB",
         "marker": {
          "color": "#636efa",
          "symbol": "circle"
         },
         "mode": "markers+text",
         "name": "RB",
         "orientation": "v",
         "showlegend": true,
         "text": [
          "Christian McCaffrey",
          "Derrick Henry",
          "Aaron Jones",
          "Ezekiel Elliott",
          "Dalvin Cook",
          "Nick Chubb",
          "Austin Ekeler",
          "Mark Ingram",
          "Chris Carson",
          "Saquon Barkley",
          "Joe Mixon",
          "Todd Gurley",
          "Leonard Fournette",
          "Josh Jacobs",
          "Miles Sanders",
          "Alvin Kamara",
          "Marlon Mack",
          "Kenyan Drake",
          "Phillip Lindsay",
          "Raheem Mostert",
          "Le'Veon Bell",
          "David Montgomery",
          "Carlos Hyde",
          "Sony Michel",
          "Devonta Freeman",
          "Melvin Gordon",
          "Ronald Jones",
          "Adrian Peterson",
          "James White",
          "Latavius Murray",
          "Devin Singletary",
          "Tevin Coleman",
          "James Conner",
          "Damien Williams",
          "Duke Johnson",
          "Jamaal Williams",
          "David Johnson",
          "Peyton Barber",
          "Jordan Howard",
          "Royce Freeman",
          "LeSean McCoy",
          "Gus Edwards",
          "DeAndre Washington",
          "Tarik Cohen",
          "Matt Breida",
          "Frank Gore",
          "Kerryon Johnson",
          "Rex Burkhead",
          "Nyheim Hines",
          "Tony Pollard",
          "Boston Scott",
          "Chase Edmonds",
          "Rashaad Penny",
          "Kareem Hunt",
          "Alexander Mattison",
          "Malcolm Brown",
          "Brian Hill",
          "Jaylen Samuels",
          "Benny Snell",
          "Darrel Williams",
          "Chris Thompson",
          "Derrius Guice",
          "J.D. McKissic",
          "Mike Boone",
          "Jalen Richard",
          "Jordan Wilkins",
          "Patrick Laird",
          "Jeff Wilson",
          "Brandon Bolden",
          "Justice Hill",
          "Bo Scarbrough",
          "Dion Lewis",
          "Dare Ogunbowale",
          "Kalen Ballage",
          "Giovani Bernard",
          "Ryquell Armstead",
          "Wayne Gallman",
          "Ty Johnson",
          "Jonathan Williams",
          "Kyle Juszczyk",
          "Qadree Ollison",
          "Mark Walton",
          "Dontrell Hilliard",
          "Bilal Powell",
          "Ito Smith",
          "Ameer Abdullah",
          "Myles Gaskin",
          "Reggie Bonnafon",
          "Darwin Thompson",
          "Justin Jackson",
          "C.J. Ham",
          "Ty Montgomery",
          "C.J. Prosise",
          "Darrell Henderson",
          "Travis Homer",
          "T.J. Yeldon",
          "Andrew Beck",
          "Wendell Smallwood",
          "Trey Edmunds",
          "Wes Hills",
          "Kerrith Whyte",
          "Alec Ingold",
          "Javorius Allen",
          "Darren Sproles",
          "Andy Janovich",
          "Danny Vitale",
          "Derek Watt",
          "Kenjon Barner",
          "D'Ernest Johnson",
          "Marshawn Lynch",
          "Alex Armah",
          "Nick Bellore",
          "Devontae Booker",
          "Tra Carson",
          "Cethan Carter",
          "Troymaine Pope",
          "Spencer Ware",
          "Dwayne Washington",
          "Zach Line",
          "Khari Blasingame",
          "Mike Davis",
          "Patrick DiMarco",
          "Jon Hilliman",
          "Taiwan Jones",
          "Devine Ozigbo",
          "Elijhaa Penny",
          "C.J. Anderson",
          "Paul Perkins",
          "Jay Ajayi",
          "Dalyn Dawkins",
          "Anthony Sherman",
          "Nick Bawden",
          "Tyler Ervin",
          "T.J. Logan",
          "Samaje Perine",
          "Keith Smith",
          "Zach Zenner",
          "Josh Adams",
          "Tony Brooks-James",
          "Josh Ferguson",
          "Damien Harris",
          "Buddy Howell",
          "Jakob Johnson",
          "John Kelly",
          "Ryan Nall",
          "Ricky Ortiz",
          "Jordan Scarlett",
          "De'Lance Turner",
          "Dexter Williams",
          "James Develin",
          "Alfred Morris",
          "Roosevelt Nix",
          "Senorise Perry"
         ],
         "type": "scatter",
         "x": [
          1,
          6,
          20.5,
          245,
          6,
          13,
          246,
          48.5,
          136,
          2,
          10,
          31.5,
          null,
          17,
          20.5,
          5,
          105.5,
          16,
          97.5,
          58.5,
          44.5,
          60.5,
          228,
          93.5,
          null,
          38,
          93,
          373,
          98.5,
          127,
          216,
          117,
          42.5,
          null,
          157,
          351,
          52,
          305,
          95,
          234,
          172.5,
          263,
          286,
          115,
          96,
          256,
          113.5,
          294,
          155,
          150,
          169.5,
          159.5,
          176,
          74.5,
          130.5,
          217,
          247,
          265,
          261,
          346,
          206,
          null,
          364,
          335,
          255,
          null,
          324,
          null,
          219,
          208,
          366,
          275,
          334,
          359,
          229,
          174.5,
          null,
          null,
          null,
          344,
          null,
          null,
          null,
          null,
          280,
          354,
          null,
          345,
          301,
          331,
          98.5,
          379,
          null,
          127,
          null,
          362,
          null,
          null,
          116.5,
          null,
          null,
          null,
          null,
          null,
          null,
          null,
          null,
          null,
          null,
          null,
          241,
          null,
          null,
          null,
          null,
          null,
          null,
          null,
          null,
          null,
          374,
          null,
          null,
          239,
          383,
          null,
          null,
          null,
          null,
          null,
          null,
          null,
          null,
          null,
          277,
          null,
          null,
          null,
          null,
          363,
          197.5,
          null,
          null,
          378,
          null,
          null,
          null,
          null,
          110.5,
          null,
          null,
          null,
          null
         ],
         "xaxis": "x",
         "y": [
          469.2,
          294.6,
          314.8,
          311.7,
          292.4,
          255.2,
          309,
          238.5,
          232.6,
          244.1,
          225.4,
          217.4,
          259.4,
          191.6,
          216.7,
          248.52,
          179.29999999999995,
          212.2,
          197.7,
          165.2,
          213,
          170.4,
          153.2,
          152.6,
          197.6,
          180.8,
          166.3,
          147,
          198.2,
          157.2,
          147.9,
          135.4,
          145.5,
          141.1,
          154,
          146.3,
          141.5,
          114.5,
          111.4,
          142.2,
          118.6,
          92.6,
          121.9,
          163.9,
          103.3,
          94.9,
          85,
          101.1,
          105.9,
          87.2,
          96.9,
          82.8,
          75.3,
          101.4,
          68.4,
          59.1,
          67.19999999999999,
          104.4,
          57.9,
          67.80000000000001,
          93.6,
          57.4,
          83.8,
          50,
          82.8,
          54,
          66.2,
          46.9,
          50.9,
          49.5,
          43.2,
          66.3,
          75.3,
          51.8,
          68.4,
          51.2,
          48.2,
          60.2,
          40.4,
          50.6,
          30.7,
          42,
          38.1,
          33.2,
          36.3,
          39.3,
          31.4,
          29.3,
          32.1,
          31.2,
          37.6,
          32.3,
          28.8,
          22.4,
          28,
          29.7,
          24.54000000000001,
          23.5,
          20,
          16.2,
          14.1,
          18.1,
          11.5,
          15,
          15.3,
          17,
          13.2,
          9.12,
          15.2,
          9.4,
          9.7,
          10.3,
          12.6,
          10.6,
          9.3,
          9.4,
          12.3,
          7.6,
          11.6,
          9.4,
          11.9,
          9.8,
          8.2,
          5.9,
          8,
          6.8,
          4.3,
          4.8,
          3,
          2.6,
          5.1000000000000005,
          5.7,
          4.1,
          4.3,
          1.6,
          3.1,
          3.7,
          1.2,
          0.7,
          0.9,
          1.2,
          1,
          1.5,
          0.9,
          0.8,
          1.8,
          0.9,
          0.6,
          1.1,
          0.3,
          0.4,
          2.4,
          1.4
         ],
         "yaxis": "y"
        },
        {
         "hovertemplate": "Pos=QB<br>ADP=%{x}<br>FantasyPoints=%{y}<br>Player=%{text}<extra></extra>",
         "legendgroup": "QB",
         "marker": {
          "color": "#EF553B",
          "symbol": "circle"
         },
         "mode": "markers+text",
         "name": "QB",
         "orientation": "v",
         "showlegend": true,
         "text": [
          "Lamar Jackson",
          "Dak Prescott",
          "Russell Wilson",
          "Deshaun Watson",
          "Jameis Winston",
          "Josh Allen",
          "Patrick Mahomes",
          "Kyler Murray",
          "Aaron Rodgers",
          "Carson Wentz",
          "Matt Ryan",
          "Tom Brady",
          "Jared Goff",
          "Jimmy Garoppolo",
          "Derek Carr",
          "Kirk Cousins",
          "Ryan Fitzpatrick",
          "Philip Rivers",
          "Baker Mayfield",
          "Gardner Minshew",
          "Drew Brees",
          "Ryan Tannehill",
          "Jacoby Brissett",
          "Daniel Jones",
          "Andy Dalton",
          "Mitchell Trubisky",
          "Sam Darnold",
          "Kyle Allen",
          "Matthew Stafford",
          "Mason Rudolph",
          "Case Keenum",
          "Teddy Bridgewater",
          "Joe Flacco",
          "Marcus Mariota",
          "Taysom Hill",
          "Dwayne Haskins",
          "Drew Lock",
          "Jeff Driskel",
          "David Blough",
          "Eli Manning",
          "Devlin Hodges",
          "Matt Moore",
          "Nick Foles",
          "Brandon Allen",
          "Matt Schaub",
          "Chase Daniel",
          "Ryan Finley",
          "Brian Hoyer",
          "Josh Rosen",
          "A.J. McCarron",
          "Cam Newton",
          "Robert Griffin",
          "Ben Roethlisberger",
          "Luke Falk",
          "Matt Barkley",
          "Brett Hundley",
          "Tyrod Taylor",
          "Mike Glennon",
          "Colt McCoy",
          "Will Grier",
          "Ryan Griffin",
          "Josh McCown",
          "Tim Boyle",
          "Garrett Gilbert",
          "Trace McSorley",
          "Nick Mullens",
          "Trevor Siemian",
          "Alex Tanney",
          "Blake Bortles",
          "Sean Mannion",
          "Jarrett Stidham"
         ],
         "type": "scatter",
         "x": [
          213,
          49,
          52.5,
          57.5,
          348,
          191,
          135.5,
          54.5,
          90.5,
          95,
          78,
          279,
          153.5,
          145,
          166,
          162,
          232,
          154,
          130,
          145,
          111.5,
          147,
          null,
          144,
          null,
          323,
          170,
          367,
          104,
          341,
          null,
          160.5,
          null,
          337,
          null,
          278,
          325,
          null,
          null,
          null,
          null,
          null,
          310,
          268,
          null,
          null,
          null,
          null,
          null,
          null,
          203.5,
          null,
          120.5,
          null,
          null,
          null,
          381,
          null,
          null,
          null,
          null,
          null,
          null,
          null,
          null,
          null,
          null,
          null,
          372,
          99.5,
          295
         ],
         "xaxis": "x",
         "y": [
          415.68,
          335.7800000000001,
          326.6,
          318.98,
          297.36,
          282.56,
          285.04,
          279.28,
          272.38000000000005,
          271.86,
          265.34,
          261.67999999999995,
          247.52,
          243.32,
          244.36,
          242.42,
          239.46,
          233.50000000000003,
          227.18,
          223.24,
          224.76,
          222.18,
          215.68,
          210.98,
          199.66,
          200.82,
          183.16,
          177.48,
          166.55999999999997,
          108.8,
          103.48,
          90.46,
          82.88,
          85.02000000000002,
          102.2,
          74.69999999999997,
          68,
          58.1,
          55.36,
          54.38000000000001,
          51.32,
          42.26,
          35.73999999999999,
          32.5,
          30.90000000000001,
          26,
          24.66,
          21.08,
          17.98,
          16.9,
          16.68,
          16,
          12.739999999999998,
          8.64,
          5.959999999999999,
          6.06,
          6.0200000000000005,
          4.24,
          4.279999999999999,
          1.3199999999999994,
          0.62,
          0.76,
          -0.0999999999999999,
          -0.3,
          0.1,
          -0.3,
          0.12,
          0.04,
          -0.78,
          -1.46,
          -1.64
         ],
         "yaxis": "y"
        },
        {
         "hovertemplate": "Pos=WR<br>ADP=%{x}<br>FantasyPoints=%{y}<br>Player=%{text}<extra></extra>",
         "legendgroup": "WR",
         "marker": {
          "color": "#00cc96",
          "symbol": "circle"
         },
         "mode": "markers+text",
         "name": "WR",
         "orientation": "v",
         "showlegend": true,
         "text": [
          "Michael Thomas",
          "Chris Godwin",
          "Kenny Golladay",
          "Cooper Kupp",
          "Julio Jones",
          "DeVante Parker",
          "Amari Cooper",
          "Mike Evans",
          "A.J. Brown",
          "DeAndre Hopkins",
          "Keenan Allen",
          "Allen Robinson",
          "Julian Edelman",
          "Jarvis Landry",
          "Tyler Lockett",
          "DJ Chark",
          "Courtland Sutton",
          "Stefon Diggs",
          "John Brown",
          "Michael Gallup",
          "D.J. Moore",
          "Robert Woods",
          "Calvin Ridley",
          "Terry McLaurin",
          "Tyler Boyd",
          "Deebo Samuel",
          "Marvin Jones",
          "Tyreek Hill",
          "Davante Adams",
          "D.K. Metcalf",
          "Odell Beckham",
          "Emmanuel Sanders",
          "Darius Slayton",
          "Jamison Crowder",
          "Cole Beasley",
          "Curtis Samuel",
          "Mike Williams",
          "Robby Anderson",
          "Chris Conley",
          "Diontae Johnson",
          "Golden Tate",
          "Larry Fitzgerald",
          "Breshad Perriman",
          "Tyrell Williams",
          "Marquise Brown",
          "Randall Cobb",
          "Christian Kirk",
          "Mecole Hardman",
          "Zach Pascal",
          "Dede Westbrook",
          "James Washington",
          "Sammy Watkins",
          "Will Fuller",
          "Hunter Renfrow",
          "Sterling Shepard",
          "Adam Thielen",
          "T.Y. Hilton",
          "Kenny Stills",
          "Danny Amendola",
          "Alshon Jeffery",
          "Brandin Cooks",
          "Anthony Miller",
          "Steven Sims",
          "Corey Davis",
          "Phillip Dorsett",
          "JuJu Smith-Schuster",
          "Demarcus Robinson",
          "Kendrick Bourne",
          "Allen Lazard",
          "John Ross",
          "Mohamed Sanu",
          "Willie Snead",
          "Auden Tate",
          "Taylor Gabriel",
          "Preston Williams",
          "Marquez Valdes-Scantling",
          "Tajae Sharpe",
          "Ted Ginn",
          "Nelson Agholor",
          "Keelan Cole",
          "Alex Erickson",
          "Tre'Quan Smith",
          "Allen Hurns",
          "Russell Gage",
          "Adam Humphries",
          "Demaryius Thomas",
          "Olabisi Johnson",
          "Josh Gordon",
          "Albert Wilson",
          "David Moore",
          "Cody Latimer",
          "Geronimo Allison",
          "Josh Reynolds",
          "Damiere Byrd",
          "Marcus Johnson",
          "Seth Roberts",
          "Miles Boykin",
          "Kelvin Harmon",
          "Paul Richardson",
          "DaeSean Hamilton",
          "Isaiah McKenzie",
          "Jakobi Meyers",
          "Tavon Austin",
          "Marvin Hall",
          "Jaron Brown",
          "Vyncint Smith",
          "Greg Ward",
          "Pharoh Cooper",
          "Keke Coutee",
          "Malik Turner",
          "Chester Rogers",
          "Jarius Wright",
          "DeSean Jackson",
          "Jake Kumerow",
          "Scott Miller",
          "Justin Watson",
          "Jakeem Grant",
          "N'Keal Harry",
          "Isaiah Ford",
          "Marquise Goodwin",
          "Andy Isabella",
          "Trey Quinn",
          "Damion Ratley",
          "KeeSean Johnson",
          "Cordarrelle Patterson",
          "Javon Wims",
          "Dante Pettis",
          "Laquon Treadwell",
          "Olamide Zaccheaus",
          "JJ Arcega-Whiteside",
          "Bennie Fowler",
          "Byron Pringle",
          "Duke Williams",
          "Zay Jones",
          "Tim Patrick",
          "Kalif Raymond",
          "Parris Campbell",
          "Trevor Davis",
          "Justin Hardy",
          "Richie James",
          "Dontrelle Inman",
          "Devin Smith",
          "DeAndre Carter",
          "Keelan Doss",
          "Rico Gafford",
          "Mack Hollins",
          "Antonio Brown",
          "Deon Cain",
          "Rashard Higgins",
          "Brandon Zylstra",
          "Marcell Ateman",
          "Braxton Berrios",
          "Deonte Harris",
          "T.J. Jones",
          "JJ Nelson",
          "Christian Blake",
          "Antonio Callaway",
          "Robert Foster",
          "Ventell Bryant",
          "KhaDarel Hodge",
          "Trent Sherfield",
          "Damion Willis",
          "Chad Beebe",
          "Chris Hogan",
          "Riley Ridley",
          "Tevin Jones",
          "Chris Lacy",
          "Andre Patton",
          "Deontay Burnett",
          "Alexander Hollins",
          "DeAndrew White",
          "Cedrick Wilson",
          "Geremy Davis",
          "Steven Mitchell",
          "Jason Moore",
          "Travis Benjamin",
          "C.J. Board",
          "Cody Core",
          "Devin Funchess",
          "Johnny Holton",
          "Ishmael Hyman",
          "Jordan Matthews",
          "Codey McElroy",
          "Andre Roberts",
          "Da'Mari Scott",
          "Russell Shepard",
          "Cam Sims",
          "Ryan Switzer",
          "Josh Bellamy",
          "Fred Brown",
          "Michael Crabtree",
          "Rashard Davis",
          "Robert Davis",
          "Ashton Dulin",
          "Darius Jennings",
          "Marqise Lee",
          "Donte Moncrief",
          "Chris Moore",
          "Stanley Morgan",
          "Diontae Spencer",
          "Bobo Wilson",
          "Austin Carr",
          "John Franklin",
          "Ryan Grant",
          "Dwayne Harris",
          "Cody Hollister",
          "Gunner Olszewski",
          "Jaleel Scott",
          "Jeff Smith",
          "De'Anthony Thomas",
          "Mike Thomas",
          "John Ursua",
          "Cyril Grayson",
          "Krishawn Hogan",
          "Quincy Enunwa",
          "Darrius Shepherd",
          "Michael Walker"
         ],
         "type": "scatter",
         "x": [
          5,
          19,
          23.5,
          40,
          12.5,
          53,
          32.5,
          214.5,
          272,
          282,
          51,
          28,
          84,
          77,
          49.5,
          287,
          47.5,
          61.5,
          138.5,
          75,
          34.5,
          158,
          44,
          248,
          377,
          82,
          96,
          10,
          380,
          53,
          25.5,
          117,
          112,
          129.5,
          221,
          169,
          134,
          159,
          285,
          112,
          347,
          165.5,
          168.5,
          null,
          78.5,
          266,
          349,
          146.5,
          304,
          173,
          203,
          152.5,
          88,
          169.5,
          137.5,
          32.5,
          59.5,
          201,
          273,
          339,
          99,
          187,
          314,
          184,
          316,
          32,
          328,
          260,
          184,
          385,
          235,
          218,
          302,
          null,
          155.5,
          319,
          338,
          369,
          309,
          296,
          null,
          274,
          225,
          320,
          317,
          null,
          356,
          null,
          null,
          333,
          null,
          237,
          262,
          null,
          null,
          null,
          297,
          null,
          null,
          null,
          null,
          342,
          376,
          null,
          null,
          null,
          353,
          null,
          null,
          null,
          null,
          null,
          162,
          null,
          360,
          127,
          null,
          153,
          null,
          null,
          299,
          null,
          271,
          null,
          null,
          null,
          368,
          null,
          null,
          330,
          null,
          null,
          null,
          null,
          null,
          null,
          189,
          null,
          null,
          null,
          null,
          264,
          null,
          null,
          null,
          350,
          169,
          357,
          188,
          null,
          null,
          null,
          175,
          null,
          null,
          242,
          null,
          null,
          null,
          null,
          null,
          125,
          null,
          null,
          null,
          null,
          null,
          141.5,
          null,
          null,
          64,
          null,
          null,
          null,
          null,
          298,
          null,
          null,
          null,
          null,
          null,
          null,
          null,
          236,
          null,
          null,
          326,
          null,
          313,
          null,
          null,
          null,
          null,
          null,
          null,
          null,
          null,
          292,
          null,
          null,
          null,
          null,
          null,
          null,
          null,
          null,
          null,
          null,
          null,
          null,
          null,
          null,
          null,
          110,
          null,
          null,
          202
         ],
         "xaxis": "x",
         "y": [
          374.6,
          274.1,
          248,
          270.5,
          274.1,
          246.2,
          246.5,
          230.7,
          217.1,
          266.54,
          261.5,
          254.9,
          254.28,
          237.4,
          235.2,
          223.8,
          222.42,
          212.1,
          219.82,
          212.7,
          230.5,
          232.9,
          195,
          191.9,
          222.9,
          187.1,
          193.9,
          188.3,
          210.7,
          185.1,
          201.3,
          188.3,
          170,
          197.7,
          180.8,
          171.7,
          161.29999999999995,
          160.3,
          154.5,
          157.1,
          152.2,
          177.4,
          138.1,
          143.1,
          146.4,
          154.9,
          166.20000000000005,
          113.5,
          133.29999999999998,
          152.7,
          133.5,
          136.5,
          134,
          133.5,
          139.79999999999998,
          114.4,
          125.1,
          120.1,
          140.56,
          122.2,
          117.5,
          127.5,
          103.5,
          115.1,
          100.8,
          113.2,
          100.9,
          95.8,
          102.8,
          95,
          124.1,
          95.1,
          101.5,
          90.3,
          90.8,
          84.10000000000002,
          81.9,
          85.89999999999998,
          92,
          78.69999999999997,
          96.24,
          71.4,
          83.6,
          98.8,
          86.5,
          85.3,
          79,
          73.69999999999997,
          89.4,
          59.6,
          66,
          73.4,
          61.9,
          71.9,
          56.7,
          60.1,
          50.8,
          66.94,
          64.5,
          63.7,
          63.3,
          61.9,
          47.40000000000001,
          39.8,
          48,
          48.7,
          59.9,
          55.5,
          52.8,
          45.5,
          45.7,
          56.9,
          36.9,
          39.9,
          40.6,
          42.9,
          39.9,
          39.4,
          48.5,
          38.1,
          35.4,
          49.8,
          38,
          44,
          29.6,
          42.6,
          34.54,
          33.4,
          20.5,
          32.9,
          44.3,
          35,
          34.6,
          48.9,
          37.8,
          29.5,
          38.1,
          28.40000000000001,
          38.5,
          26.4,
          30.1,
          22.3,
          25.2,
          24.3,
          14.6,
          22.5,
          16.1,
          21.4,
          15.5,
          18.6,
          14.6,
          15.5,
          9.5,
          12.8,
          13.6,
          20.1,
          16.9,
          12.3,
          8.5,
          11.6,
          12,
          17.2,
          9,
          14.7,
          12.9,
          10.1,
          9,
          11.6,
          6.8,
          6.6,
          9.1,
          9.6,
          6.8,
          5.7,
          6.3,
          9,
          5.1,
          5.8,
          6.2,
          6,
          5.4,
          7.3,
          4,
          5.7,
          4.7,
          5.5,
          4.7,
          10.7,
          4,
          4.1,
          6.2,
          2.6,
          3.7,
          3.7,
          3.7,
          4.9,
          5.8,
          5.1,
          4.8,
          7.699999999999997,
          4.5,
          1.9,
          1.1,
          5.4,
          1.7,
          3.3,
          3.4000000000000004,
          1.6,
          2.2,
          2.1,
          3.4,
          2.1,
          1.3,
          1.4,
          -1.4,
          -0.8999999999999999,
          -0.5
         ],
         "yaxis": "y"
        },
        {
         "hovertemplate": "Pos=TE<br>ADP=%{x}<br>FantasyPoints=%{y}<br>Player=%{text}<extra></extra>",
         "legendgroup": "TE",
         "marker": {
          "color": "#ab63fa",
          "symbol": "circle"
         },
         "mode": "markers+text",
         "name": "TE",
         "orientation": "v",
         "showlegend": true,
         "text": [
          "Travis Kelce",
          "Mark Andrews",
          "George Kittle",
          "Darren Waller",
          "Zach Ertz",
          "Jared Cook",
          "Austin Hooper",
          "Hunter Henry",
          "Tyler Higbee",
          "Dallas Goedert",
          "Mike Gesicki",
          "Jason Witten",
          "Darren Fells",
          "Kyle Rudolph",
          "Greg Olsen",
          "Noah Fant",
          "Jonnu Smith",
          "Jack Doyle",
          "Evan Engram",
          "Tyler Eifert",
          "Ryan Griffin",
          "Jimmy Graham",
          "Eric Ebron",
          "Cameron Brate",
          "Blake Jarwin",
          "Jordan Akins",
          "Gerald Everett",
          "Jacob Hollister",
          "Dawson Knox",
          "Will Dissly",
          "O.J. Howard",
          "T.J. Hockenson",
          "Hayden Hurst",
          "Foster Moreau",
          "Vance McDonald",
          "Ricky Seals-Jones",
          "Kaden Smith",
          "Nick Boyle",
          "Irv Smith Jr.",
          "Josh Hill",
          "C.J. Uzomah",
          "Demetrius Harris",
          "Delanie Walker",
          "Charles Clay",
          "Jeremy Sprinkle",
          "James O'Shaughnessy",
          "Anthony Firkser",
          "Maxx Williams",
          "Dan Arnold",
          "Rhett Ellison",
          "Logan Thomas",
          "Marcedes Lewis",
          "Ross Dwelley",
          "Jaeden Graham",
          "Derek Carrier",
          "Ian Thomas",
          "Matt LaCosse",
          "Vernon Davis",
          "Jeff Heuerman",
          "Ryan Izzo",
          "Nick O'Leary",
          "Nick Vannett",
          "Ben Watson",
          "Hale Hentges",
          "Robert Tonyan",
          "Joshua Perkins",
          "MyCole Pruitt",
          "Seth Devalve",
          "Virgil Green",
          "Jesse James",
          "Daniel Brown",
          "Jesper Horsted",
          "Tyler Kroft",
          "Ben Braunecker",
          "Stephen Carlson",
          "Tommy Sweeney",
          "Troy Fumagalli",
          "David Njoku",
          "Mo Alie-Cox",
          "J.P. Holtz",
          "Lee Smith",
          "Trey Burton",
          "Luke Willson",
          "Blake Bell",
          "Adam Shaheen",
          "Durham Smythe",
          "Geoff Swaim",
          "Tyler Conklin",
          "Clive Walford",
          "Lance Kendricks",
          "Luke Stocker",
          "Trevon Wesco",
          "Deon Yelder",
          "Pharaoh Brown",
          "Tanner Hudson",
          "Johnny Mundt",
          "Drew Sample",
          "Ross Travis",
          "Josh Oliver",
          "Eric Saubert",
          "Antony Auclair",
          "Sean Culkin",
          "Chris Herndon",
          "Charles Jones",
          "Ben Koyack",
          "Chris Manhertz",
          "Isaac Nauta",
          "Dalton Schultz",
          "Scott Simonson",
          "Tyrone Swoopes",
          "Jordan Thomas",
          "Levine Toilolo",
          "Darrell Daniels",
          "Zach Gentry",
          "Xavier Grimble",
          "Eric Tomlinson"
         ],
         "type": "scatter",
         "x": [
          355,
          36.5,
          19.5,
          54,
          41.5,
          80.5,
          103,
          137.5,
          152.5,
          371,
          130,
          370,
          332,
          167.5,
          205,
          119,
          157,
          142,
          80.5,
          246.5,
          null,
          202.5,
          163,
          318,
          166.5,
          152,
          283,
          321,
          230,
          213.5,
          181,
          145,
          119.5,
          null,
          293,
          null,
          343,
          null,
          226,
          null,
          238,
          null,
          null,
          249,
          281,
          null,
          null,
          null,
          352,
          null,
          327,
          null,
          null,
          null,
          null,
          159,
          199,
          null,
          null,
          null,
          null,
          null,
          null,
          null,
          null,
          null,
          null,
          null,
          null,
          null,
          291,
          null,
          null,
          224.5,
          null,
          null,
          null,
          258,
          null,
          null,
          null,
          336,
          134.5,
          null,
          null,
          null,
          null,
          null,
          null,
          null,
          null,
          null,
          null,
          null,
          306,
          null,
          358,
          null,
          null,
          null,
          null,
          null,
          178,
          215,
          null,
          null,
          null,
          null,
          null,
          284,
          null,
          null,
          null,
          null,
          null,
          249
         ],
         "xaxis": "x",
         "y": [
          254.3,
          207.2,
          222.5,
          221,
          213.6,
          167.5,
          189.7,
          148.2,
          160.4,
          144.7,
          136,
          137.9,
          110.1,
          111.7,
          123.7,
          111,
          104.7,
          111.8,
          109.4,
          104.6,
          96,
          100.7,
          86.5,
          91.1,
          85.5,
          89.8,
          89.8,
          93.9,
          79.7,
          73.9,
          83.9,
          80.7,
          76.9,
          68.4,
          83.5,
          58.9,
          75.8,
          75.1,
          79.1,
          65.6,
          63.2,
          47.9,
          54.5,
          47.7,
          56.1,
          41.3,
          40.4,
          41.2,
          32.7,
          40.7,
          39.3,
          36.6,
          36.1,
          29.9,
          32.5,
          35.6,
          32.1,
          28.3,
          31.4,
          23.4,
          29.9,
          33.6,
          34.3,
          24.3,
          26,
          23.7,
          21,
          26,
          22.8,
          30.2,
          20.2,
          20.7,
          19.1,
          17.9,
          16.1,
          19.4,
          15.8,
          15.1,
          17.3,
          16.1,
          13.1,
          22.4,
          15.9,
          14.7,
          14.4,
          13.5,
          19.5,
          13.8,
          10.1,
          8,
          13.3,
          6.9,
          8,
          4.7,
          4.6,
          6.6,
          8,
          7.1,
          4.5,
          4.1,
          2.1,
          2.2,
          1.7,
          1.5,
          1.9,
          2.1,
          3.3,
          1.6,
          3.1,
          1.5,
          1.8,
          3,
          1.4,
          1.4,
          1.3,
          1.1
         ],
         "yaxis": "y"
        },
        {
         "hovertemplate": "Pos=0<br>ADP=%{x}<br>FantasyPoints=%{y}<br>Player=%{text}<extra></extra>",
         "legendgroup": "0",
         "marker": {
          "color": "#FFA15A",
          "symbol": "circle"
         },
         "mode": "markers+text",
         "name": "0",
         "orientation": "v",
         "showlegend": true,
         "text": [
          "Michael Burton",
          "Jerell Adams",
          "Stephen Anderson",
          "Evan Baylis",
          "Kendall Blanton",
          "Deante Burton",
          "Trenton Cannon",
          "Garrett Celek",
          "Jordan Chunn",
          "Chandler Cox",
          "River Cracraft",
          "Jerome Cunningham",
          "Davion Davis",
          "Garrett Dickerson",
          "Gehrig Dieter",
          "Brandon Dillon",
          "Josh Doctson",
          "Quinton Dunbar",
          "Alex Ellis",
          "David Fales",
          "David Fluellen",
          "D.J. Foster",
          "Travis Fulgham",
          "Cullen Gillaspia",
          "C.J. Goodwin",
          "Jalen Guyton",
          "Justin Hardee",
          "Clark Harris",
          "Lil'Jordan Humphrey",
          "Trenton Irwin",
          "Gary Jennings",
          "Tom Kennedy",
          "Darvin Kidsy",
          "Keith Kirkwood",
          "Matt Lengel",
          "Josh Malone",
          "Jeremy McNichols",
          "Carson Meier",
          "Jaydon Mickens",
          "Jojo Natson",
          "Jamize Olawale",
          "Matthew Orzech",
          "Craig Reynolds",
          "Richard Rodgers",
          "Cooper Rush",
          "Spencer Schnell",
          "Mason Schreck",
          "Matthew Slater",
          "Rod Smith",
          "Nate Solder",
          "Jace Sternberger",
          "Taywan Taylor",
          "Robert Turbin",
          "Jason Vander Laan",
          "Austin Walter",
          "Jester Weah",
          "Nsimba Webster",
          "Chad Williams",
          "Trayveon Williams",
          "Juwann Winfree",
          "Greg Dortch",
          "Ray-Ray McCloud",
          "Corey Clement"
         ],
         "type": "scatter",
         "x": [
          null,
          null,
          null,
          null,
          null,
          220,
          null,
          null,
          null,
          null,
          null,
          null,
          null,
          null,
          null,
          173.5,
          null,
          375,
          null,
          231,
          null,
          null,
          null,
          null,
          null,
          null,
          303,
          null,
          365,
          null,
          null,
          null,
          null,
          null,
          207,
          null,
          null,
          null,
          329,
          null,
          null,
          null,
          null,
          null,
          null,
          null,
          null,
          180.5,
          null,
          null,
          252,
          227.5,
          null,
          288,
          null,
          null,
          null,
          null,
          null,
          null,
          null,
          null,
          382
         ],
         "xaxis": "x",
         "y": [
          0,
          0,
          0,
          0,
          0,
          0,
          0,
          0,
          0,
          0,
          0,
          0,
          0,
          0,
          0,
          0,
          0,
          0,
          0,
          0,
          0,
          0,
          0,
          0,
          0,
          0,
          0,
          0,
          0,
          0,
          0,
          0,
          0,
          0,
          0,
          0,
          0,
          0,
          0,
          0,
          0,
          0,
          0,
          0,
          0,
          0,
          0,
          0,
          0,
          0,
          0,
          0,
          0,
          0,
          0,
          0,
          0,
          0,
          0,
          0,
          -2,
          -2,
          -4
         ],
         "yaxis": "y"
        }
       ],
       "layout": {
        "legend": {
         "title": {
          "text": "Pos"
         },
         "tracegroupgap": 0
        },
        "margin": {
         "t": 60
        },
        "template": {
         "data": {
          "bar": [
           {
            "error_x": {
             "color": "#2a3f5f"
            },
            "error_y": {
             "color": "#2a3f5f"
            },
            "marker": {
             "line": {
              "color": "#E5ECF6",
              "width": 0.5
             },
             "pattern": {
              "fillmode": "overlay",
              "size": 10,
              "solidity": 0.2
             }
            },
            "type": "bar"
           }
          ],
          "barpolar": [
           {
            "marker": {
             "line": {
              "color": "#E5ECF6",
              "width": 0.5
             },
             "pattern": {
              "fillmode": "overlay",
              "size": 10,
              "solidity": 0.2
             }
            },
            "type": "barpolar"
           }
          ],
          "carpet": [
           {
            "aaxis": {
             "endlinecolor": "#2a3f5f",
             "gridcolor": "white",
             "linecolor": "white",
             "minorgridcolor": "white",
             "startlinecolor": "#2a3f5f"
            },
            "baxis": {
             "endlinecolor": "#2a3f5f",
             "gridcolor": "white",
             "linecolor": "white",
             "minorgridcolor": "white",
             "startlinecolor": "#2a3f5f"
            },
            "type": "carpet"
           }
          ],
          "choropleth": [
           {
            "colorbar": {
             "outlinewidth": 0,
             "ticks": ""
            },
            "type": "choropleth"
           }
          ],
          "contour": [
           {
            "colorbar": {
             "outlinewidth": 0,
             "ticks": ""
            },
            "colorscale": [
             [
              0,
              "#0d0887"
             ],
             [
              0.1111111111111111,
              "#46039f"
             ],
             [
              0.2222222222222222,
              "#7201a8"
             ],
             [
              0.3333333333333333,
              "#9c179e"
             ],
             [
              0.4444444444444444,
              "#bd3786"
             ],
             [
              0.5555555555555556,
              "#d8576b"
             ],
             [
              0.6666666666666666,
              "#ed7953"
             ],
             [
              0.7777777777777778,
              "#fb9f3a"
             ],
             [
              0.8888888888888888,
              "#fdca26"
             ],
             [
              1,
              "#f0f921"
             ]
            ],
            "type": "contour"
           }
          ],
          "contourcarpet": [
           {
            "colorbar": {
             "outlinewidth": 0,
             "ticks": ""
            },
            "type": "contourcarpet"
           }
          ],
          "heatmap": [
           {
            "colorbar": {
             "outlinewidth": 0,
             "ticks": ""
            },
            "colorscale": [
             [
              0,
              "#0d0887"
             ],
             [
              0.1111111111111111,
              "#46039f"
             ],
             [
              0.2222222222222222,
              "#7201a8"
             ],
             [
              0.3333333333333333,
              "#9c179e"
             ],
             [
              0.4444444444444444,
              "#bd3786"
             ],
             [
              0.5555555555555556,
              "#d8576b"
             ],
             [
              0.6666666666666666,
              "#ed7953"
             ],
             [
              0.7777777777777778,
              "#fb9f3a"
             ],
             [
              0.8888888888888888,
              "#fdca26"
             ],
             [
              1,
              "#f0f921"
             ]
            ],
            "type": "heatmap"
           }
          ],
          "heatmapgl": [
           {
            "colorbar": {
             "outlinewidth": 0,
             "ticks": ""
            },
            "colorscale": [
             [
              0,
              "#0d0887"
             ],
             [
              0.1111111111111111,
              "#46039f"
             ],
             [
              0.2222222222222222,
              "#7201a8"
             ],
             [
              0.3333333333333333,
              "#9c179e"
             ],
             [
              0.4444444444444444,
              "#bd3786"
             ],
             [
              0.5555555555555556,
              "#d8576b"
             ],
             [
              0.6666666666666666,
              "#ed7953"
             ],
             [
              0.7777777777777778,
              "#fb9f3a"
             ],
             [
              0.8888888888888888,
              "#fdca26"
             ],
             [
              1,
              "#f0f921"
             ]
            ],
            "type": "heatmapgl"
           }
          ],
          "histogram": [
           {
            "marker": {
             "pattern": {
              "fillmode": "overlay",
              "size": 10,
              "solidity": 0.2
             }
            },
            "type": "histogram"
           }
          ],
          "histogram2d": [
           {
            "colorbar": {
             "outlinewidth": 0,
             "ticks": ""
            },
            "colorscale": [
             [
              0,
              "#0d0887"
             ],
             [
              0.1111111111111111,
              "#46039f"
             ],
             [
              0.2222222222222222,
              "#7201a8"
             ],
             [
              0.3333333333333333,
              "#9c179e"
             ],
             [
              0.4444444444444444,
              "#bd3786"
             ],
             [
              0.5555555555555556,
              "#d8576b"
             ],
             [
              0.6666666666666666,
              "#ed7953"
             ],
             [
              0.7777777777777778,
              "#fb9f3a"
             ],
             [
              0.8888888888888888,
              "#fdca26"
             ],
             [
              1,
              "#f0f921"
             ]
            ],
            "type": "histogram2d"
           }
          ],
          "histogram2dcontour": [
           {
            "colorbar": {
             "outlinewidth": 0,
             "ticks": ""
            },
            "colorscale": [
             [
              0,
              "#0d0887"
             ],
             [
              0.1111111111111111,
              "#46039f"
             ],
             [
              0.2222222222222222,
              "#7201a8"
             ],
             [
              0.3333333333333333,
              "#9c179e"
             ],
             [
              0.4444444444444444,
              "#bd3786"
             ],
             [
              0.5555555555555556,
              "#d8576b"
             ],
             [
              0.6666666666666666,
              "#ed7953"
             ],
             [
              0.7777777777777778,
              "#fb9f3a"
             ],
             [
              0.8888888888888888,
              "#fdca26"
             ],
             [
              1,
              "#f0f921"
             ]
            ],
            "type": "histogram2dcontour"
           }
          ],
          "mesh3d": [
           {
            "colorbar": {
             "outlinewidth": 0,
             "ticks": ""
            },
            "type": "mesh3d"
           }
          ],
          "parcoords": [
           {
            "line": {
             "colorbar": {
              "outlinewidth": 0,
              "ticks": ""
             }
            },
            "type": "parcoords"
           }
          ],
          "pie": [
           {
            "automargin": true,
            "type": "pie"
           }
          ],
          "scatter": [
           {
            "fillpattern": {
             "fillmode": "overlay",
             "size": 10,
             "solidity": 0.2
            },
            "type": "scatter"
           }
          ],
          "scatter3d": [
           {
            "line": {
             "colorbar": {
              "outlinewidth": 0,
              "ticks": ""
             }
            },
            "marker": {
             "colorbar": {
              "outlinewidth": 0,
              "ticks": ""
             }
            },
            "type": "scatter3d"
           }
          ],
          "scattercarpet": [
           {
            "marker": {
             "colorbar": {
              "outlinewidth": 0,
              "ticks": ""
             }
            },
            "type": "scattercarpet"
           }
          ],
          "scattergeo": [
           {
            "marker": {
             "colorbar": {
              "outlinewidth": 0,
              "ticks": ""
             }
            },
            "type": "scattergeo"
           }
          ],
          "scattergl": [
           {
            "marker": {
             "colorbar": {
              "outlinewidth": 0,
              "ticks": ""
             }
            },
            "type": "scattergl"
           }
          ],
          "scattermapbox": [
           {
            "marker": {
             "colorbar": {
              "outlinewidth": 0,
              "ticks": ""
             }
            },
            "type": "scattermapbox"
           }
          ],
          "scatterpolar": [
           {
            "marker": {
             "colorbar": {
              "outlinewidth": 0,
              "ticks": ""
             }
            },
            "type": "scatterpolar"
           }
          ],
          "scatterpolargl": [
           {
            "marker": {
             "colorbar": {
              "outlinewidth": 0,
              "ticks": ""
             }
            },
            "type": "scatterpolargl"
           }
          ],
          "scatterternary": [
           {
            "marker": {
             "colorbar": {
              "outlinewidth": 0,
              "ticks": ""
             }
            },
            "type": "scatterternary"
           }
          ],
          "surface": [
           {
            "colorbar": {
             "outlinewidth": 0,
             "ticks": ""
            },
            "colorscale": [
             [
              0,
              "#0d0887"
             ],
             [
              0.1111111111111111,
              "#46039f"
             ],
             [
              0.2222222222222222,
              "#7201a8"
             ],
             [
              0.3333333333333333,
              "#9c179e"
             ],
             [
              0.4444444444444444,
              "#bd3786"
             ],
             [
              0.5555555555555556,
              "#d8576b"
             ],
             [
              0.6666666666666666,
              "#ed7953"
             ],
             [
              0.7777777777777778,
              "#fb9f3a"
             ],
             [
              0.8888888888888888,
              "#fdca26"
             ],
             [
              1,
              "#f0f921"
             ]
            ],
            "type": "surface"
           }
          ],
          "table": [
           {
            "cells": {
             "fill": {
              "color": "#EBF0F8"
             },
             "line": {
              "color": "white"
             }
            },
            "header": {
             "fill": {
              "color": "#C8D4E3"
             },
             "line": {
              "color": "white"
             }
            },
            "type": "table"
           }
          ]
         },
         "layout": {
          "annotationdefaults": {
           "arrowcolor": "#2a3f5f",
           "arrowhead": 0,
           "arrowwidth": 1
          },
          "autotypenumbers": "strict",
          "coloraxis": {
           "colorbar": {
            "outlinewidth": 0,
            "ticks": ""
           }
          },
          "colorscale": {
           "diverging": [
            [
             0,
             "#8e0152"
            ],
            [
             0.1,
             "#c51b7d"
            ],
            [
             0.2,
             "#de77ae"
            ],
            [
             0.3,
             "#f1b6da"
            ],
            [
             0.4,
             "#fde0ef"
            ],
            [
             0.5,
             "#f7f7f7"
            ],
            [
             0.6,
             "#e6f5d0"
            ],
            [
             0.7,
             "#b8e186"
            ],
            [
             0.8,
             "#7fbc41"
            ],
            [
             0.9,
             "#4d9221"
            ],
            [
             1,
             "#276419"
            ]
           ],
           "sequential": [
            [
             0,
             "#0d0887"
            ],
            [
             0.1111111111111111,
             "#46039f"
            ],
            [
             0.2222222222222222,
             "#7201a8"
            ],
            [
             0.3333333333333333,
             "#9c179e"
            ],
            [
             0.4444444444444444,
             "#bd3786"
            ],
            [
             0.5555555555555556,
             "#d8576b"
            ],
            [
             0.6666666666666666,
             "#ed7953"
            ],
            [
             0.7777777777777778,
             "#fb9f3a"
            ],
            [
             0.8888888888888888,
             "#fdca26"
            ],
            [
             1,
             "#f0f921"
            ]
           ],
           "sequentialminus": [
            [
             0,
             "#0d0887"
            ],
            [
             0.1111111111111111,
             "#46039f"
            ],
            [
             0.2222222222222222,
             "#7201a8"
            ],
            [
             0.3333333333333333,
             "#9c179e"
            ],
            [
             0.4444444444444444,
             "#bd3786"
            ],
            [
             0.5555555555555556,
             "#d8576b"
            ],
            [
             0.6666666666666666,
             "#ed7953"
            ],
            [
             0.7777777777777778,
             "#fb9f3a"
            ],
            [
             0.8888888888888888,
             "#fdca26"
            ],
            [
             1,
             "#f0f921"
            ]
           ]
          },
          "colorway": [
           "#636efa",
           "#EF553B",
           "#00cc96",
           "#ab63fa",
           "#FFA15A",
           "#19d3f3",
           "#FF6692",
           "#B6E880",
           "#FF97FF",
           "#FECB52"
          ],
          "font": {
           "color": "#2a3f5f"
          },
          "geo": {
           "bgcolor": "white",
           "lakecolor": "white",
           "landcolor": "#E5ECF6",
           "showlakes": true,
           "showland": true,
           "subunitcolor": "white"
          },
          "hoverlabel": {
           "align": "left"
          },
          "hovermode": "closest",
          "mapbox": {
           "style": "light"
          },
          "paper_bgcolor": "white",
          "plot_bgcolor": "#E5ECF6",
          "polar": {
           "angularaxis": {
            "gridcolor": "white",
            "linecolor": "white",
            "ticks": ""
           },
           "bgcolor": "#E5ECF6",
           "radialaxis": {
            "gridcolor": "white",
            "linecolor": "white",
            "ticks": ""
           }
          },
          "scene": {
           "xaxis": {
            "backgroundcolor": "#E5ECF6",
            "gridcolor": "white",
            "gridwidth": 2,
            "linecolor": "white",
            "showbackground": true,
            "ticks": "",
            "zerolinecolor": "white"
           },
           "yaxis": {
            "backgroundcolor": "#E5ECF6",
            "gridcolor": "white",
            "gridwidth": 2,
            "linecolor": "white",
            "showbackground": true,
            "ticks": "",
            "zerolinecolor": "white"
           },
           "zaxis": {
            "backgroundcolor": "#E5ECF6",
            "gridcolor": "white",
            "gridwidth": 2,
            "linecolor": "white",
            "showbackground": true,
            "ticks": "",
            "zerolinecolor": "white"
           }
          },
          "shapedefaults": {
           "line": {
            "color": "#2a3f5f"
           }
          },
          "ternary": {
           "aaxis": {
            "gridcolor": "white",
            "linecolor": "white",
            "ticks": ""
           },
           "baxis": {
            "gridcolor": "white",
            "linecolor": "white",
            "ticks": ""
           },
           "bgcolor": "#E5ECF6",
           "caxis": {
            "gridcolor": "white",
            "linecolor": "white",
            "ticks": ""
           }
          },
          "title": {
           "x": 0.05
          },
          "xaxis": {
           "automargin": true,
           "gridcolor": "white",
           "linecolor": "white",
           "ticks": "",
           "title": {
            "standoff": 15
           },
           "zerolinecolor": "white",
           "zerolinewidth": 2
          },
          "yaxis": {
           "automargin": true,
           "gridcolor": "white",
           "linecolor": "white",
           "ticks": "",
           "title": {
            "standoff": 15
           },
           "zerolinecolor": "white",
           "zerolinewidth": 2
          }
         }
        },
        "xaxis": {
         "anchor": "y",
         "domain": [
          0,
          1
         ],
         "title": {
          "text": "ADP"
         }
        },
        "yaxis": {
         "anchor": "x",
         "domain": [
          0,
          1
         ],
         "title": {
          "text": "FantasyPoints"
         }
        }
       }
      },
      "text/html": [
       "<div>                            <div id=\"32040b6e-3983-4dc5-a149-4bde2dedb843\" class=\"plotly-graph-div\" style=\"height:525px; width:100%;\"></div>            <script type=\"text/javascript\">                require([\"plotly\"], function(Plotly) {                    window.PLOTLYENV=window.PLOTLYENV || {};                                    if (document.getElementById(\"32040b6e-3983-4dc5-a149-4bde2dedb843\")) {                    Plotly.newPlot(                        \"32040b6e-3983-4dc5-a149-4bde2dedb843\",                        [{\"hovertemplate\":\"Pos=RB<br>ADP=%{x}<br>FantasyPoints=%{y}<br>Player=%{text}<extra></extra>\",\"legendgroup\":\"RB\",\"marker\":{\"color\":\"#636efa\",\"symbol\":\"circle\"},\"mode\":\"markers+text\",\"name\":\"RB\",\"orientation\":\"v\",\"showlegend\":true,\"text\":[\"Christian McCaffrey\",\"Derrick Henry\",\"Aaron Jones\",\"Ezekiel Elliott\",\"Dalvin Cook\",\"Nick Chubb\",\"Austin Ekeler\",\"Mark Ingram\",\"Chris Carson\",\"Saquon Barkley\",\"Joe Mixon\",\"Todd Gurley\",\"Leonard Fournette\",\"Josh Jacobs\",\"Miles Sanders\",\"Alvin Kamara\",\"Marlon Mack\",\"Kenyan Drake\",\"Phillip Lindsay\",\"Raheem Mostert\",\"Le'Veon Bell\",\"David Montgomery\",\"Carlos Hyde\",\"Sony Michel\",\"Devonta Freeman\",\"Melvin Gordon\",\"Ronald Jones\",\"Adrian Peterson\",\"James White\",\"Latavius Murray\",\"Devin Singletary\",\"Tevin Coleman\",\"James Conner\",\"Damien Williams\",\"Duke Johnson\",\"Jamaal Williams\",\"David Johnson\",\"Peyton Barber\",\"Jordan Howard\",\"Royce Freeman\",\"LeSean McCoy\",\"Gus Edwards\",\"DeAndre Washington\",\"Tarik Cohen\",\"Matt Breida\",\"Frank Gore\",\"Kerryon Johnson\",\"Rex Burkhead\",\"Nyheim Hines\",\"Tony Pollard\",\"Boston Scott\",\"Chase Edmonds\",\"Rashaad Penny\",\"Kareem Hunt\",\"Alexander Mattison\",\"Malcolm Brown\",\"Brian Hill\",\"Jaylen Samuels\",\"Benny Snell\",\"Darrel Williams\",\"Chris Thompson\",\"Derrius Guice\",\"J.D. McKissic\",\"Mike Boone\",\"Jalen Richard\",\"Jordan Wilkins\",\"Patrick Laird\",\"Jeff Wilson\",\"Brandon Bolden\",\"Justice Hill\",\"Bo Scarbrough\",\"Dion Lewis\",\"Dare Ogunbowale\",\"Kalen Ballage\",\"Giovani Bernard\",\"Ryquell Armstead\",\"Wayne Gallman\",\"Ty Johnson\",\"Jonathan Williams\",\"Kyle Juszczyk\",\"Qadree Ollison\",\"Mark Walton\",\"Dontrell Hilliard\",\"Bilal Powell\",\"Ito Smith\",\"Ameer Abdullah\",\"Myles Gaskin\",\"Reggie Bonnafon\",\"Darwin Thompson\",\"Justin Jackson\",\"C.J. Ham\",\"Ty Montgomery\",\"C.J. Prosise\",\"Darrell Henderson\",\"Travis Homer\",\"T.J. Yeldon\",\"Andrew Beck\",\"Wendell Smallwood\",\"Trey Edmunds\",\"Wes Hills\",\"Kerrith Whyte\",\"Alec Ingold\",\"Javorius Allen\",\"Darren Sproles\",\"Andy Janovich\",\"Danny Vitale\",\"Derek Watt\",\"Kenjon Barner\",\"D'Ernest Johnson\",\"Marshawn Lynch\",\"Alex Armah\",\"Nick Bellore\",\"Devontae Booker\",\"Tra Carson\",\"Cethan Carter\",\"Troymaine Pope\",\"Spencer Ware\",\"Dwayne Washington\",\"Zach Line\",\"Khari Blasingame\",\"Mike Davis\",\"Patrick DiMarco\",\"Jon Hilliman\",\"Taiwan Jones\",\"Devine Ozigbo\",\"Elijhaa Penny\",\"C.J. Anderson\",\"Paul Perkins\",\"Jay Ajayi\",\"Dalyn Dawkins\",\"Anthony Sherman\",\"Nick Bawden\",\"Tyler Ervin\",\"T.J. Logan\",\"Samaje Perine\",\"Keith Smith\",\"Zach Zenner\",\"Josh Adams\",\"Tony Brooks-James\",\"Josh Ferguson\",\"Damien Harris\",\"Buddy Howell\",\"Jakob Johnson\",\"John Kelly\",\"Ryan Nall\",\"Ricky Ortiz\",\"Jordan Scarlett\",\"De'Lance Turner\",\"Dexter Williams\",\"James Develin\",\"Alfred Morris\",\"Roosevelt Nix\",\"Senorise Perry\"],\"x\":[1.0,6.0,20.5,245.0,6.0,13.0,246.0,48.5,136.0,2.0,10.0,31.5,null,17.0,20.5,5.0,105.5,16.0,97.5,58.5,44.5,60.5,228.0,93.5,null,38.0,93.0,373.0,98.5,127.0,216.0,117.0,42.5,null,157.0,351.0,52.0,305.0,95.0,234.0,172.5,263.0,286.0,115.0,96.0,256.0,113.5,294.0,155.0,150.0,169.5,159.5,176.0,74.5,130.5,217.0,247.0,265.0,261.0,346.0,206.0,null,364.0,335.0,255.0,null,324.0,null,219.0,208.0,366.0,275.0,334.0,359.0,229.0,174.5,null,null,null,344.0,null,null,null,null,280.0,354.0,null,345.0,301.0,331.0,98.5,379.0,null,127.0,null,362.0,null,null,116.5,null,null,null,null,null,null,null,null,null,null,null,241.0,null,null,null,null,null,null,null,null,null,374.0,null,null,239.0,383.0,null,null,null,null,null,null,null,null,null,277.0,null,null,null,null,363.0,197.5,null,null,378.0,null,null,null,null,110.5,null,null,null,null],\"xaxis\":\"x\",\"y\":[469.2,294.6,314.8,311.7,292.4,255.2,309.0,238.5,232.6,244.1,225.4,217.4,259.4,191.6,216.7,248.52,179.29999999999995,212.2,197.7,165.2,213.0,170.4,153.2,152.6,197.6,180.8,166.3,147.0,198.2,157.2,147.9,135.4,145.5,141.1,154.0,146.3,141.5,114.5,111.4,142.2,118.6,92.6,121.9,163.9,103.3,94.9,85.0,101.1,105.9,87.2,96.9,82.8,75.3,101.4,68.4,59.1,67.19999999999999,104.4,57.9,67.80000000000001,93.6,57.4,83.8,50.0,82.8,54.0,66.2,46.9,50.9,49.5,43.2,66.3,75.3,51.8,68.4,51.2,48.2,60.2,40.4,50.6,30.7,42.0,38.1,33.2,36.3,39.3,31.4,29.3,32.1,31.2,37.6,32.3,28.8,22.4,28.0,29.7,24.54000000000001,23.5,20.0,16.2,14.1,18.1,11.5,15.0,15.3,17.0,13.2,9.12,15.2,9.4,9.7,10.3,12.6,10.6,9.3,9.4,12.3,7.6,11.6,9.4,11.9,9.8,8.2,5.9,8.0,6.8,4.3,4.8,3.0,2.6,5.1000000000000005,5.7,4.1,4.3,1.6,3.1,3.7,1.2,0.7,0.9,1.2,1.0,1.5,0.9,0.8,1.8,0.9,0.6,1.1,0.3,0.4,2.4,1.4],\"yaxis\":\"y\",\"type\":\"scatter\"},{\"hovertemplate\":\"Pos=QB<br>ADP=%{x}<br>FantasyPoints=%{y}<br>Player=%{text}<extra></extra>\",\"legendgroup\":\"QB\",\"marker\":{\"color\":\"#EF553B\",\"symbol\":\"circle\"},\"mode\":\"markers+text\",\"name\":\"QB\",\"orientation\":\"v\",\"showlegend\":true,\"text\":[\"Lamar Jackson\",\"Dak Prescott\",\"Russell Wilson\",\"Deshaun Watson\",\"Jameis Winston\",\"Josh Allen\",\"Patrick Mahomes\",\"Kyler Murray\",\"Aaron Rodgers\",\"Carson Wentz\",\"Matt Ryan\",\"Tom Brady\",\"Jared Goff\",\"Jimmy Garoppolo\",\"Derek Carr\",\"Kirk Cousins\",\"Ryan Fitzpatrick\",\"Philip Rivers\",\"Baker Mayfield\",\"Gardner Minshew\",\"Drew Brees\",\"Ryan Tannehill\",\"Jacoby Brissett\",\"Daniel Jones\",\"Andy Dalton\",\"Mitchell Trubisky\",\"Sam Darnold\",\"Kyle Allen\",\"Matthew Stafford\",\"Mason Rudolph\",\"Case Keenum\",\"Teddy Bridgewater\",\"Joe Flacco\",\"Marcus Mariota\",\"Taysom Hill\",\"Dwayne Haskins\",\"Drew Lock\",\"Jeff Driskel\",\"David Blough\",\"Eli Manning\",\"Devlin Hodges\",\"Matt Moore\",\"Nick Foles\",\"Brandon Allen\",\"Matt Schaub\",\"Chase Daniel\",\"Ryan Finley\",\"Brian Hoyer\",\"Josh Rosen\",\"A.J. McCarron\",\"Cam Newton\",\"Robert Griffin\",\"Ben Roethlisberger\",\"Luke Falk\",\"Matt Barkley\",\"Brett Hundley\",\"Tyrod Taylor\",\"Mike Glennon\",\"Colt McCoy\",\"Will Grier\",\"Ryan Griffin\",\"Josh McCown\",\"Tim Boyle\",\"Garrett Gilbert\",\"Trace McSorley\",\"Nick Mullens\",\"Trevor Siemian\",\"Alex Tanney\",\"Blake Bortles\",\"Sean Mannion\",\"Jarrett Stidham\"],\"x\":[213.0,49.0,52.5,57.5,348.0,191.0,135.5,54.5,90.5,95.0,78.0,279.0,153.5,145.0,166.0,162.0,232.0,154.0,130.0,145.0,111.5,147.0,null,144.0,null,323.0,170.0,367.0,104.0,341.0,null,160.5,null,337.0,null,278.0,325.0,null,null,null,null,null,310.0,268.0,null,null,null,null,null,null,203.5,null,120.5,null,null,null,381.0,null,null,null,null,null,null,null,null,null,null,null,372.0,99.5,295.0],\"xaxis\":\"x\",\"y\":[415.68,335.7800000000001,326.6,318.98,297.36,282.56,285.04,279.28,272.38000000000005,271.86,265.34,261.67999999999995,247.52,243.32,244.36,242.42,239.46,233.50000000000003,227.18,223.24,224.76,222.18,215.68,210.98,199.66,200.82,183.16,177.48,166.55999999999997,108.8,103.48,90.46,82.88,85.02000000000002,102.2,74.69999999999997,68.0,58.1,55.36,54.38000000000001,51.32,42.26,35.73999999999999,32.5,30.90000000000001,26.0,24.66,21.08,17.98,16.9,16.68,16.0,12.739999999999998,8.64,5.959999999999999,6.06,6.0200000000000005,4.24,4.279999999999999,1.3199999999999994,0.62,0.76,-0.0999999999999999,-0.3,0.1,-0.3,0.12,0.04,-0.78,-1.46,-1.64],\"yaxis\":\"y\",\"type\":\"scatter\"},{\"hovertemplate\":\"Pos=WR<br>ADP=%{x}<br>FantasyPoints=%{y}<br>Player=%{text}<extra></extra>\",\"legendgroup\":\"WR\",\"marker\":{\"color\":\"#00cc96\",\"symbol\":\"circle\"},\"mode\":\"markers+text\",\"name\":\"WR\",\"orientation\":\"v\",\"showlegend\":true,\"text\":[\"Michael Thomas\",\"Chris Godwin\",\"Kenny Golladay\",\"Cooper Kupp\",\"Julio Jones\",\"DeVante Parker\",\"Amari Cooper\",\"Mike Evans\",\"A.J. Brown\",\"DeAndre Hopkins\",\"Keenan Allen\",\"Allen Robinson\",\"Julian Edelman\",\"Jarvis Landry\",\"Tyler Lockett\",\"DJ Chark\",\"Courtland Sutton\",\"Stefon Diggs\",\"John Brown\",\"Michael Gallup\",\"D.J. Moore\",\"Robert Woods\",\"Calvin Ridley\",\"Terry McLaurin\",\"Tyler Boyd\",\"Deebo Samuel\",\"Marvin Jones\",\"Tyreek Hill\",\"Davante Adams\",\"D.K. Metcalf\",\"Odell Beckham\",\"Emmanuel Sanders\",\"Darius Slayton\",\"Jamison Crowder\",\"Cole Beasley\",\"Curtis Samuel\",\"Mike Williams\",\"Robby Anderson\",\"Chris Conley\",\"Diontae Johnson\",\"Golden Tate\",\"Larry Fitzgerald\",\"Breshad Perriman\",\"Tyrell Williams\",\"Marquise Brown\",\"Randall Cobb\",\"Christian Kirk\",\"Mecole Hardman\",\"Zach Pascal\",\"Dede Westbrook\",\"James Washington\",\"Sammy Watkins\",\"Will Fuller\",\"Hunter Renfrow\",\"Sterling Shepard\",\"Adam Thielen\",\"T.Y. Hilton\",\"Kenny Stills\",\"Danny Amendola\",\"Alshon Jeffery\",\"Brandin Cooks\",\"Anthony Miller\",\"Steven Sims\",\"Corey Davis\",\"Phillip Dorsett\",\"JuJu Smith-Schuster\",\"Demarcus Robinson\",\"Kendrick Bourne\",\"Allen Lazard\",\"John Ross\",\"Mohamed Sanu\",\"Willie Snead\",\"Auden Tate\",\"Taylor Gabriel\",\"Preston Williams\",\"Marquez Valdes-Scantling\",\"Tajae Sharpe\",\"Ted Ginn\",\"Nelson Agholor\",\"Keelan Cole\",\"Alex Erickson\",\"Tre'Quan Smith\",\"Allen Hurns\",\"Russell Gage\",\"Adam Humphries\",\"Demaryius Thomas\",\"Olabisi Johnson\",\"Josh Gordon\",\"Albert Wilson\",\"David Moore\",\"Cody Latimer\",\"Geronimo Allison\",\"Josh Reynolds\",\"Damiere Byrd\",\"Marcus Johnson\",\"Seth Roberts\",\"Miles Boykin\",\"Kelvin Harmon\",\"Paul Richardson\",\"DaeSean Hamilton\",\"Isaiah McKenzie\",\"Jakobi Meyers\",\"Tavon Austin\",\"Marvin Hall\",\"Jaron Brown\",\"Vyncint Smith\",\"Greg Ward\",\"Pharoh Cooper\",\"Keke Coutee\",\"Malik Turner\",\"Chester Rogers\",\"Jarius Wright\",\"DeSean Jackson\",\"Jake Kumerow\",\"Scott Miller\",\"Justin Watson\",\"Jakeem Grant\",\"N'Keal Harry\",\"Isaiah Ford\",\"Marquise Goodwin\",\"Andy Isabella\",\"Trey Quinn\",\"Damion Ratley\",\"KeeSean Johnson\",\"Cordarrelle Patterson\",\"Javon Wims\",\"Dante Pettis\",\"Laquon Treadwell\",\"Olamide Zaccheaus\",\"JJ Arcega-Whiteside\",\"Bennie Fowler\",\"Byron Pringle\",\"Duke Williams\",\"Zay Jones\",\"Tim Patrick\",\"Kalif Raymond\",\"Parris Campbell\",\"Trevor Davis\",\"Justin Hardy\",\"Richie James\",\"Dontrelle Inman\",\"Devin Smith\",\"DeAndre Carter\",\"Keelan Doss\",\"Rico Gafford\",\"Mack Hollins\",\"Antonio Brown\",\"Deon Cain\",\"Rashard Higgins\",\"Brandon Zylstra\",\"Marcell Ateman\",\"Braxton Berrios\",\"Deonte Harris\",\"T.J. Jones\",\"JJ Nelson\",\"Christian Blake\",\"Antonio Callaway\",\"Robert Foster\",\"Ventell Bryant\",\"KhaDarel Hodge\",\"Trent Sherfield\",\"Damion Willis\",\"Chad Beebe\",\"Chris Hogan\",\"Riley Ridley\",\"Tevin Jones\",\"Chris Lacy\",\"Andre Patton\",\"Deontay Burnett\",\"Alexander Hollins\",\"DeAndrew White\",\"Cedrick Wilson\",\"Geremy Davis\",\"Steven Mitchell\",\"Jason Moore\",\"Travis Benjamin\",\"C.J. Board\",\"Cody Core\",\"Devin Funchess\",\"Johnny Holton\",\"Ishmael Hyman\",\"Jordan Matthews\",\"Codey McElroy\",\"Andre Roberts\",\"Da'Mari Scott\",\"Russell Shepard\",\"Cam Sims\",\"Ryan Switzer\",\"Josh Bellamy\",\"Fred Brown\",\"Michael Crabtree\",\"Rashard Davis\",\"Robert Davis\",\"Ashton Dulin\",\"Darius Jennings\",\"Marqise Lee\",\"Donte Moncrief\",\"Chris Moore\",\"Stanley Morgan\",\"Diontae Spencer\",\"Bobo Wilson\",\"Austin Carr\",\"John Franklin\",\"Ryan Grant\",\"Dwayne Harris\",\"Cody Hollister\",\"Gunner Olszewski\",\"Jaleel Scott\",\"Jeff Smith\",\"De'Anthony Thomas\",\"Mike Thomas\",\"John Ursua\",\"Cyril Grayson\",\"Krishawn Hogan\",\"Quincy Enunwa\",\"Darrius Shepherd\",\"Michael Walker\"],\"x\":[5.0,19.0,23.5,40.0,12.5,53.0,32.5,214.5,272.0,282.0,51.0,28.0,84.0,77.0,49.5,287.0,47.5,61.5,138.5,75.0,34.5,158.0,44.0,248.0,377.0,82.0,96.0,10.0,380.0,53.0,25.5,117.0,112.0,129.5,221.0,169.0,134.0,159.0,285.0,112.0,347.0,165.5,168.5,null,78.5,266.0,349.0,146.5,304.0,173.0,203.0,152.5,88.0,169.5,137.5,32.5,59.5,201.0,273.0,339.0,99.0,187.0,314.0,184.0,316.0,32.0,328.0,260.0,184.0,385.0,235.0,218.0,302.0,null,155.5,319.0,338.0,369.0,309.0,296.0,null,274.0,225.0,320.0,317.0,null,356.0,null,null,333.0,null,237.0,262.0,null,null,null,297.0,null,null,null,null,342.0,376.0,null,null,null,353.0,null,null,null,null,null,162.0,null,360.0,127.0,null,153.0,null,null,299.0,null,271.0,null,null,null,368.0,null,null,330.0,null,null,null,null,null,null,189.0,null,null,null,null,264.0,null,null,null,350.0,169.0,357.0,188.0,null,null,null,175.0,null,null,242.0,null,null,null,null,null,125.0,null,null,null,null,null,141.5,null,null,64.0,null,null,null,null,298.0,null,null,null,null,null,null,null,236.0,null,null,326.0,null,313.0,null,null,null,null,null,null,null,null,292.0,null,null,null,null,null,null,null,null,null,null,null,null,null,null,null,110.0,null,null,202.0],\"xaxis\":\"x\",\"y\":[374.6,274.1,248.0,270.5,274.1,246.2,246.5,230.7,217.1,266.54,261.5,254.9,254.28,237.4,235.2,223.8,222.42,212.1,219.82,212.7,230.5,232.9,195.0,191.9,222.9,187.1,193.9,188.3,210.7,185.1,201.3,188.3,170.0,197.7,180.8,171.7,161.29999999999995,160.3,154.5,157.1,152.2,177.4,138.1,143.1,146.4,154.9,166.20000000000005,113.5,133.29999999999998,152.7,133.5,136.5,134.0,133.5,139.79999999999998,114.4,125.1,120.1,140.56,122.2,117.5,127.5,103.5,115.1,100.8,113.2,100.9,95.8,102.8,95.0,124.1,95.1,101.5,90.3,90.8,84.10000000000002,81.9,85.89999999999998,92.0,78.69999999999997,96.24,71.4,83.6,98.8,86.5,85.3,79.0,73.69999999999997,89.4,59.6,66.0,73.4,61.9,71.9,56.7,60.1,50.8,66.94,64.5,63.7,63.3,61.9,47.40000000000001,39.8,48.0,48.7,59.9,55.5,52.8,45.5,45.7,56.9,36.9,39.9,40.6,42.9,39.9,39.4,48.5,38.1,35.4,49.8,38.0,44.0,29.6,42.6,34.54,33.4,20.5,32.9,44.3,35.0,34.6,48.9,37.8,29.5,38.1,28.40000000000001,38.5,26.4,30.1,22.3,25.2,24.3,14.6,22.5,16.1,21.4,15.5,18.6,14.6,15.5,9.5,12.8,13.6,20.1,16.9,12.3,8.5,11.6,12.0,17.2,9.0,14.7,12.9,10.1,9.0,11.6,6.8,6.6,9.1,9.6,6.8,5.7,6.3,9.0,5.1,5.8,6.2,6.0,5.4,7.3,4.0,5.7,4.7,5.5,4.7,10.7,4.0,4.1,6.2,2.6,3.7,3.7,3.7,4.9,5.8,5.1,4.8,7.699999999999997,4.5,1.9,1.1,5.4,1.7,3.3,3.4000000000000004,1.6,2.2,2.1,3.4,2.1,1.3,1.4,-1.4,-0.8999999999999999,-0.5],\"yaxis\":\"y\",\"type\":\"scatter\"},{\"hovertemplate\":\"Pos=TE<br>ADP=%{x}<br>FantasyPoints=%{y}<br>Player=%{text}<extra></extra>\",\"legendgroup\":\"TE\",\"marker\":{\"color\":\"#ab63fa\",\"symbol\":\"circle\"},\"mode\":\"markers+text\",\"name\":\"TE\",\"orientation\":\"v\",\"showlegend\":true,\"text\":[\"Travis Kelce\",\"Mark Andrews\",\"George Kittle\",\"Darren Waller\",\"Zach Ertz\",\"Jared Cook\",\"Austin Hooper\",\"Hunter Henry\",\"Tyler Higbee\",\"Dallas Goedert\",\"Mike Gesicki\",\"Jason Witten\",\"Darren Fells\",\"Kyle Rudolph\",\"Greg Olsen\",\"Noah Fant\",\"Jonnu Smith\",\"Jack Doyle\",\"Evan Engram\",\"Tyler Eifert\",\"Ryan Griffin\",\"Jimmy Graham\",\"Eric Ebron\",\"Cameron Brate\",\"Blake Jarwin\",\"Jordan Akins\",\"Gerald Everett\",\"Jacob Hollister\",\"Dawson Knox\",\"Will Dissly\",\"O.J. Howard\",\"T.J. Hockenson\",\"Hayden Hurst\",\"Foster Moreau\",\"Vance McDonald\",\"Ricky Seals-Jones\",\"Kaden Smith\",\"Nick Boyle\",\"Irv Smith Jr.\",\"Josh Hill\",\"C.J. Uzomah\",\"Demetrius Harris\",\"Delanie Walker\",\"Charles Clay\",\"Jeremy Sprinkle\",\"James O'Shaughnessy\",\"Anthony Firkser\",\"Maxx Williams\",\"Dan Arnold\",\"Rhett Ellison\",\"Logan Thomas\",\"Marcedes Lewis\",\"Ross Dwelley\",\"Jaeden Graham\",\"Derek Carrier\",\"Ian Thomas\",\"Matt LaCosse\",\"Vernon Davis\",\"Jeff Heuerman\",\"Ryan Izzo\",\"Nick O'Leary\",\"Nick Vannett\",\"Ben Watson\",\"Hale Hentges\",\"Robert Tonyan\",\"Joshua Perkins\",\"MyCole Pruitt\",\"Seth Devalve\",\"Virgil Green\",\"Jesse James\",\"Daniel Brown\",\"Jesper Horsted\",\"Tyler Kroft\",\"Ben Braunecker\",\"Stephen Carlson\",\"Tommy Sweeney\",\"Troy Fumagalli\",\"David Njoku\",\"Mo Alie-Cox\",\"J.P. Holtz\",\"Lee Smith\",\"Trey Burton\",\"Luke Willson\",\"Blake Bell\",\"Adam Shaheen\",\"Durham Smythe\",\"Geoff Swaim\",\"Tyler Conklin\",\"Clive Walford\",\"Lance Kendricks\",\"Luke Stocker\",\"Trevon Wesco\",\"Deon Yelder\",\"Pharaoh Brown\",\"Tanner Hudson\",\"Johnny Mundt\",\"Drew Sample\",\"Ross Travis\",\"Josh Oliver\",\"Eric Saubert\",\"Antony Auclair\",\"Sean Culkin\",\"Chris Herndon\",\"Charles Jones\",\"Ben Koyack\",\"Chris Manhertz\",\"Isaac Nauta\",\"Dalton Schultz\",\"Scott Simonson\",\"Tyrone Swoopes\",\"Jordan Thomas\",\"Levine Toilolo\",\"Darrell Daniels\",\"Zach Gentry\",\"Xavier Grimble\",\"Eric Tomlinson\"],\"x\":[355.0,36.5,19.5,54.0,41.5,80.5,103.0,137.5,152.5,371.0,130.0,370.0,332.0,167.5,205.0,119.0,157.0,142.0,80.5,246.5,null,202.5,163.0,318.0,166.5,152.0,283.0,321.0,230.0,213.5,181.0,145.0,119.5,null,293.0,null,343.0,null,226.0,null,238.0,null,null,249.0,281.0,null,null,null,352.0,null,327.0,null,null,null,null,159.0,199.0,null,null,null,null,null,null,null,null,null,null,null,null,null,291.0,null,null,224.5,null,null,null,258.0,null,null,null,336.0,134.5,null,null,null,null,null,null,null,null,null,null,null,306.0,null,358.0,null,null,null,null,null,178.0,215.0,null,null,null,null,null,284.0,null,null,null,null,null,249.0],\"xaxis\":\"x\",\"y\":[254.3,207.2,222.5,221.0,213.6,167.5,189.7,148.2,160.4,144.7,136.0,137.9,110.1,111.7,123.7,111.0,104.7,111.8,109.4,104.6,96.0,100.7,86.5,91.1,85.5,89.8,89.8,93.9,79.7,73.9,83.9,80.7,76.9,68.4,83.5,58.9,75.8,75.1,79.1,65.6,63.2,47.9,54.5,47.7,56.1,41.3,40.4,41.2,32.7,40.7,39.3,36.6,36.1,29.9,32.5,35.6,32.1,28.3,31.4,23.4,29.9,33.6,34.3,24.3,26.0,23.7,21.0,26.0,22.8,30.2,20.2,20.7,19.1,17.9,16.1,19.4,15.8,15.1,17.3,16.1,13.1,22.4,15.9,14.7,14.4,13.5,19.5,13.8,10.1,8.0,13.3,6.9,8.0,4.7,4.6,6.6,8.0,7.1,4.5,4.1,2.1,2.2,1.7,1.5,1.9,2.1,3.3,1.6,3.1,1.5,1.8,3.0,1.4,1.4,1.3,1.1],\"yaxis\":\"y\",\"type\":\"scatter\"},{\"hovertemplate\":\"Pos=0<br>ADP=%{x}<br>FantasyPoints=%{y}<br>Player=%{text}<extra></extra>\",\"legendgroup\":\"0\",\"marker\":{\"color\":\"#FFA15A\",\"symbol\":\"circle\"},\"mode\":\"markers+text\",\"name\":\"0\",\"orientation\":\"v\",\"showlegend\":true,\"text\":[\"Michael Burton\",\"Jerell Adams\",\"Stephen Anderson\",\"Evan Baylis\",\"Kendall Blanton\",\"Deante Burton\",\"Trenton Cannon\",\"Garrett Celek\",\"Jordan Chunn\",\"Chandler Cox\",\"River Cracraft\",\"Jerome Cunningham\",\"Davion Davis\",\"Garrett Dickerson\",\"Gehrig Dieter\",\"Brandon Dillon\",\"Josh Doctson\",\"Quinton Dunbar\",\"Alex Ellis\",\"David Fales\",\"David Fluellen\",\"D.J. Foster\",\"Travis Fulgham\",\"Cullen Gillaspia\",\"C.J. Goodwin\",\"Jalen Guyton\",\"Justin Hardee\",\"Clark Harris\",\"Lil'Jordan Humphrey\",\"Trenton Irwin\",\"Gary Jennings\",\"Tom Kennedy\",\"Darvin Kidsy\",\"Keith Kirkwood\",\"Matt Lengel\",\"Josh Malone\",\"Jeremy McNichols\",\"Carson Meier\",\"Jaydon Mickens\",\"Jojo Natson\",\"Jamize Olawale\",\"Matthew Orzech\",\"Craig Reynolds\",\"Richard Rodgers\",\"Cooper Rush\",\"Spencer Schnell\",\"Mason Schreck\",\"Matthew Slater\",\"Rod Smith\",\"Nate Solder\",\"Jace Sternberger\",\"Taywan Taylor\",\"Robert Turbin\",\"Jason Vander Laan\",\"Austin Walter\",\"Jester Weah\",\"Nsimba Webster\",\"Chad Williams\",\"Trayveon Williams\",\"Juwann Winfree\",\"Greg Dortch\",\"Ray-Ray McCloud\",\"Corey Clement\"],\"x\":[null,null,null,null,null,220.0,null,null,null,null,null,null,null,null,null,173.5,null,375.0,null,231.0,null,null,null,null,null,null,303.0,null,365.0,null,null,null,null,null,207.0,null,null,null,329.0,null,null,null,null,null,null,null,null,180.5,null,null,252.0,227.5,null,288.0,null,null,null,null,null,null,null,null,382.0],\"xaxis\":\"x\",\"y\":[0.0,0.0,0.0,0.0,0.0,0.0,0.0,0.0,0.0,0.0,0.0,0.0,0.0,0.0,0.0,0.0,0.0,0.0,0.0,0.0,0.0,0.0,0.0,0.0,0.0,0.0,0.0,0.0,0.0,0.0,0.0,0.0,0.0,0.0,0.0,0.0,0.0,0.0,0.0,0.0,0.0,0.0,0.0,0.0,0.0,0.0,0.0,0.0,0.0,0.0,0.0,0.0,0.0,0.0,0.0,0.0,0.0,0.0,0.0,0.0,-2.0,-2.0,-4.0],\"yaxis\":\"y\",\"type\":\"scatter\"}],                        {\"template\":{\"data\":{\"histogram2dcontour\":[{\"type\":\"histogram2dcontour\",\"colorbar\":{\"outlinewidth\":0,\"ticks\":\"\"},\"colorscale\":[[0.0,\"#0d0887\"],[0.1111111111111111,\"#46039f\"],[0.2222222222222222,\"#7201a8\"],[0.3333333333333333,\"#9c179e\"],[0.4444444444444444,\"#bd3786\"],[0.5555555555555556,\"#d8576b\"],[0.6666666666666666,\"#ed7953\"],[0.7777777777777778,\"#fb9f3a\"],[0.8888888888888888,\"#fdca26\"],[1.0,\"#f0f921\"]]}],\"choropleth\":[{\"type\":\"choropleth\",\"colorbar\":{\"outlinewidth\":0,\"ticks\":\"\"}}],\"histogram2d\":[{\"type\":\"histogram2d\",\"colorbar\":{\"outlinewidth\":0,\"ticks\":\"\"},\"colorscale\":[[0.0,\"#0d0887\"],[0.1111111111111111,\"#46039f\"],[0.2222222222222222,\"#7201a8\"],[0.3333333333333333,\"#9c179e\"],[0.4444444444444444,\"#bd3786\"],[0.5555555555555556,\"#d8576b\"],[0.6666666666666666,\"#ed7953\"],[0.7777777777777778,\"#fb9f3a\"],[0.8888888888888888,\"#fdca26\"],[1.0,\"#f0f921\"]]}],\"heatmap\":[{\"type\":\"heatmap\",\"colorbar\":{\"outlinewidth\":0,\"ticks\":\"\"},\"colorscale\":[[0.0,\"#0d0887\"],[0.1111111111111111,\"#46039f\"],[0.2222222222222222,\"#7201a8\"],[0.3333333333333333,\"#9c179e\"],[0.4444444444444444,\"#bd3786\"],[0.5555555555555556,\"#d8576b\"],[0.6666666666666666,\"#ed7953\"],[0.7777777777777778,\"#fb9f3a\"],[0.8888888888888888,\"#fdca26\"],[1.0,\"#f0f921\"]]}],\"heatmapgl\":[{\"type\":\"heatmapgl\",\"colorbar\":{\"outlinewidth\":0,\"ticks\":\"\"},\"colorscale\":[[0.0,\"#0d0887\"],[0.1111111111111111,\"#46039f\"],[0.2222222222222222,\"#7201a8\"],[0.3333333333333333,\"#9c179e\"],[0.4444444444444444,\"#bd3786\"],[0.5555555555555556,\"#d8576b\"],[0.6666666666666666,\"#ed7953\"],[0.7777777777777778,\"#fb9f3a\"],[0.8888888888888888,\"#fdca26\"],[1.0,\"#f0f921\"]]}],\"contourcarpet\":[{\"type\":\"contourcarpet\",\"colorbar\":{\"outlinewidth\":0,\"ticks\":\"\"}}],\"contour\":[{\"type\":\"contour\",\"colorbar\":{\"outlinewidth\":0,\"ticks\":\"\"},\"colorscale\":[[0.0,\"#0d0887\"],[0.1111111111111111,\"#46039f\"],[0.2222222222222222,\"#7201a8\"],[0.3333333333333333,\"#9c179e\"],[0.4444444444444444,\"#bd3786\"],[0.5555555555555556,\"#d8576b\"],[0.6666666666666666,\"#ed7953\"],[0.7777777777777778,\"#fb9f3a\"],[0.8888888888888888,\"#fdca26\"],[1.0,\"#f0f921\"]]}],\"surface\":[{\"type\":\"surface\",\"colorbar\":{\"outlinewidth\":0,\"ticks\":\"\"},\"colorscale\":[[0.0,\"#0d0887\"],[0.1111111111111111,\"#46039f\"],[0.2222222222222222,\"#7201a8\"],[0.3333333333333333,\"#9c179e\"],[0.4444444444444444,\"#bd3786\"],[0.5555555555555556,\"#d8576b\"],[0.6666666666666666,\"#ed7953\"],[0.7777777777777778,\"#fb9f3a\"],[0.8888888888888888,\"#fdca26\"],[1.0,\"#f0f921\"]]}],\"mesh3d\":[{\"type\":\"mesh3d\",\"colorbar\":{\"outlinewidth\":0,\"ticks\":\"\"}}],\"scatter\":[{\"fillpattern\":{\"fillmode\":\"overlay\",\"size\":10,\"solidity\":0.2},\"type\":\"scatter\"}],\"parcoords\":[{\"type\":\"parcoords\",\"line\":{\"colorbar\":{\"outlinewidth\":0,\"ticks\":\"\"}}}],\"scatterpolargl\":[{\"type\":\"scatterpolargl\",\"marker\":{\"colorbar\":{\"outlinewidth\":0,\"ticks\":\"\"}}}],\"bar\":[{\"error_x\":{\"color\":\"#2a3f5f\"},\"error_y\":{\"color\":\"#2a3f5f\"},\"marker\":{\"line\":{\"color\":\"#E5ECF6\",\"width\":0.5},\"pattern\":{\"fillmode\":\"overlay\",\"size\":10,\"solidity\":0.2}},\"type\":\"bar\"}],\"scattergeo\":[{\"type\":\"scattergeo\",\"marker\":{\"colorbar\":{\"outlinewidth\":0,\"ticks\":\"\"}}}],\"scatterpolar\":[{\"type\":\"scatterpolar\",\"marker\":{\"colorbar\":{\"outlinewidth\":0,\"ticks\":\"\"}}}],\"histogram\":[{\"marker\":{\"pattern\":{\"fillmode\":\"overlay\",\"size\":10,\"solidity\":0.2}},\"type\":\"histogram\"}],\"scattergl\":[{\"type\":\"scattergl\",\"marker\":{\"colorbar\":{\"outlinewidth\":0,\"ticks\":\"\"}}}],\"scatter3d\":[{\"type\":\"scatter3d\",\"line\":{\"colorbar\":{\"outlinewidth\":0,\"ticks\":\"\"}},\"marker\":{\"colorbar\":{\"outlinewidth\":0,\"ticks\":\"\"}}}],\"scattermapbox\":[{\"type\":\"scattermapbox\",\"marker\":{\"colorbar\":{\"outlinewidth\":0,\"ticks\":\"\"}}}],\"scatterternary\":[{\"type\":\"scatterternary\",\"marker\":{\"colorbar\":{\"outlinewidth\":0,\"ticks\":\"\"}}}],\"scattercarpet\":[{\"type\":\"scattercarpet\",\"marker\":{\"colorbar\":{\"outlinewidth\":0,\"ticks\":\"\"}}}],\"carpet\":[{\"aaxis\":{\"endlinecolor\":\"#2a3f5f\",\"gridcolor\":\"white\",\"linecolor\":\"white\",\"minorgridcolor\":\"white\",\"startlinecolor\":\"#2a3f5f\"},\"baxis\":{\"endlinecolor\":\"#2a3f5f\",\"gridcolor\":\"white\",\"linecolor\":\"white\",\"minorgridcolor\":\"white\",\"startlinecolor\":\"#2a3f5f\"},\"type\":\"carpet\"}],\"table\":[{\"cells\":{\"fill\":{\"color\":\"#EBF0F8\"},\"line\":{\"color\":\"white\"}},\"header\":{\"fill\":{\"color\":\"#C8D4E3\"},\"line\":{\"color\":\"white\"}},\"type\":\"table\"}],\"barpolar\":[{\"marker\":{\"line\":{\"color\":\"#E5ECF6\",\"width\":0.5},\"pattern\":{\"fillmode\":\"overlay\",\"size\":10,\"solidity\":0.2}},\"type\":\"barpolar\"}],\"pie\":[{\"automargin\":true,\"type\":\"pie\"}]},\"layout\":{\"autotypenumbers\":\"strict\",\"colorway\":[\"#636efa\",\"#EF553B\",\"#00cc96\",\"#ab63fa\",\"#FFA15A\",\"#19d3f3\",\"#FF6692\",\"#B6E880\",\"#FF97FF\",\"#FECB52\"],\"font\":{\"color\":\"#2a3f5f\"},\"hovermode\":\"closest\",\"hoverlabel\":{\"align\":\"left\"},\"paper_bgcolor\":\"white\",\"plot_bgcolor\":\"#E5ECF6\",\"polar\":{\"bgcolor\":\"#E5ECF6\",\"angularaxis\":{\"gridcolor\":\"white\",\"linecolor\":\"white\",\"ticks\":\"\"},\"radialaxis\":{\"gridcolor\":\"white\",\"linecolor\":\"white\",\"ticks\":\"\"}},\"ternary\":{\"bgcolor\":\"#E5ECF6\",\"aaxis\":{\"gridcolor\":\"white\",\"linecolor\":\"white\",\"ticks\":\"\"},\"baxis\":{\"gridcolor\":\"white\",\"linecolor\":\"white\",\"ticks\":\"\"},\"caxis\":{\"gridcolor\":\"white\",\"linecolor\":\"white\",\"ticks\":\"\"}},\"coloraxis\":{\"colorbar\":{\"outlinewidth\":0,\"ticks\":\"\"}},\"colorscale\":{\"sequential\":[[0.0,\"#0d0887\"],[0.1111111111111111,\"#46039f\"],[0.2222222222222222,\"#7201a8\"],[0.3333333333333333,\"#9c179e\"],[0.4444444444444444,\"#bd3786\"],[0.5555555555555556,\"#d8576b\"],[0.6666666666666666,\"#ed7953\"],[0.7777777777777778,\"#fb9f3a\"],[0.8888888888888888,\"#fdca26\"],[1.0,\"#f0f921\"]],\"sequentialminus\":[[0.0,\"#0d0887\"],[0.1111111111111111,\"#46039f\"],[0.2222222222222222,\"#7201a8\"],[0.3333333333333333,\"#9c179e\"],[0.4444444444444444,\"#bd3786\"],[0.5555555555555556,\"#d8576b\"],[0.6666666666666666,\"#ed7953\"],[0.7777777777777778,\"#fb9f3a\"],[0.8888888888888888,\"#fdca26\"],[1.0,\"#f0f921\"]],\"diverging\":[[0,\"#8e0152\"],[0.1,\"#c51b7d\"],[0.2,\"#de77ae\"],[0.3,\"#f1b6da\"],[0.4,\"#fde0ef\"],[0.5,\"#f7f7f7\"],[0.6,\"#e6f5d0\"],[0.7,\"#b8e186\"],[0.8,\"#7fbc41\"],[0.9,\"#4d9221\"],[1,\"#276419\"]]},\"xaxis\":{\"gridcolor\":\"white\",\"linecolor\":\"white\",\"ticks\":\"\",\"title\":{\"standoff\":15},\"zerolinecolor\":\"white\",\"automargin\":true,\"zerolinewidth\":2},\"yaxis\":{\"gridcolor\":\"white\",\"linecolor\":\"white\",\"ticks\":\"\",\"title\":{\"standoff\":15},\"zerolinecolor\":\"white\",\"automargin\":true,\"zerolinewidth\":2},\"scene\":{\"xaxis\":{\"backgroundcolor\":\"#E5ECF6\",\"gridcolor\":\"white\",\"linecolor\":\"white\",\"showbackground\":true,\"ticks\":\"\",\"zerolinecolor\":\"white\",\"gridwidth\":2},\"yaxis\":{\"backgroundcolor\":\"#E5ECF6\",\"gridcolor\":\"white\",\"linecolor\":\"white\",\"showbackground\":true,\"ticks\":\"\",\"zerolinecolor\":\"white\",\"gridwidth\":2},\"zaxis\":{\"backgroundcolor\":\"#E5ECF6\",\"gridcolor\":\"white\",\"linecolor\":\"white\",\"showbackground\":true,\"ticks\":\"\",\"zerolinecolor\":\"white\",\"gridwidth\":2}},\"shapedefaults\":{\"line\":{\"color\":\"#2a3f5f\"}},\"annotationdefaults\":{\"arrowcolor\":\"#2a3f5f\",\"arrowhead\":0,\"arrowwidth\":1},\"geo\":{\"bgcolor\":\"white\",\"landcolor\":\"#E5ECF6\",\"subunitcolor\":\"white\",\"showland\":true,\"showlakes\":true,\"lakecolor\":\"white\"},\"title\":{\"x\":0.05},\"mapbox\":{\"style\":\"light\"}}},\"xaxis\":{\"anchor\":\"y\",\"domain\":[0.0,1.0],\"title\":{\"text\":\"ADP\"}},\"yaxis\":{\"anchor\":\"x\",\"domain\":[0.0,1.0],\"title\":{\"text\":\"FantasyPoints\"}},\"legend\":{\"title\":{\"text\":\"Pos\"},\"tracegroupgap\":0},\"margin\":{\"t\":60}},                        {\"responsive\": true}                    ).then(function(){\n",
       "                            \n",
       "var gd = document.getElementById('32040b6e-3983-4dc5-a149-4bde2dedb843');\n",
       "var x = new MutationObserver(function (mutations, observer) {{\n",
       "        var display = window.getComputedStyle(gd).display;\n",
       "        if (!display || display === 'none') {{\n",
       "            console.log([gd, 'removed!']);\n",
       "            Plotly.purge(gd);\n",
       "            observer.disconnect();\n",
       "        }}\n",
       "}});\n",
       "\n",
       "// Listen for the removal of the full notebook cells\n",
       "var notebookContainer = gd.closest('#notebook-container');\n",
       "if (notebookContainer) {{\n",
       "    x.observe(notebookContainer, {childList: true});\n",
       "}}\n",
       "\n",
       "// Listen for the clearing of the current output cell\n",
       "var outputEl = gd.closest('.output');\n",
       "if (outputEl) {{\n",
       "    x.observe(outputEl, {childList: true});\n",
       "}}\n",
       "\n",
       "                        })                };                });            </script>        </div>"
      ]
     },
     "metadata": {},
     "output_type": "display_data"
    }
   ],
   "source": [
    "px.scatter(data, x=\"ADP\", y=\"FantasyPoints\", color=\"Pos\", text=\"Player\").show()"
   ]
  },
  {
   "cell_type": "code",
   "execution_count": 118,
   "id": "14520b3c",
   "metadata": {},
   "outputs": [
    {
     "name": "stdout",
     "output_type": "stream",
     "text": [
      "ADP\n"
     ]
    },
    {
     "data": {
      "application/vnd.plotly.v1+json": {
       "config": {
        "plotlyServerURL": "https://plot.ly"
       },
       "data": [
        {
         "hovertemplate": "ADP=%{x}<br>FantasyPoints=%{y}<br>Player=%{text}<br>labels=%{marker.color}<extra></extra>",
         "legendgroup": "",
         "marker": {
          "color": [
           2,
           2,
           2,
           2,
           2,
           2,
           2,
           3,
           3,
           3,
           2,
           2,
           2,
           2,
           2,
           3,
           2,
           2,
           4,
           2,
           2,
           4,
           2,
           3,
           3,
           4,
           4,
           2,
           3,
           2,
           2,
           4,
           4,
           4,
           3,
           4,
           4,
           4,
           3,
           4,
           3,
           4,
           4,
           4,
           3,
           3,
           4,
           3,
           4,
           4,
           4,
           4,
           4,
           4,
           4,
           4,
           4,
           3,
           1,
           4,
           4,
           1,
           4,
           1,
           4,
           1,
           1,
           0,
           1,
           3,
           0,
           1,
           0,
           1,
           1,
           1,
           1,
           1,
           1,
           0,
           1,
           1,
           1,
           1,
           0,
           1,
           1,
           1,
           1,
           1,
           0,
           1,
           0,
           0,
           1,
           1,
           1,
           1,
           0,
           1,
           1,
           0,
           1,
           0,
           0,
           0,
           0,
           0,
           0,
           1,
           0,
           1,
           1,
           1,
           0,
           0
          ],
          "coloraxis": "coloraxis",
          "symbol": "circle"
         },
         "mode": "markers+text",
         "name": "",
         "orientation": "v",
         "showlegend": false,
         "text": [
          "Michael Thomas",
          "Chris Godwin",
          "Kenny Golladay",
          "Cooper Kupp",
          "Julio Jones",
          "DeVante Parker",
          "Amari Cooper",
          "Mike Evans",
          "A.J. Brown",
          "DeAndre Hopkins",
          "Keenan Allen",
          "Allen Robinson",
          "Julian Edelman",
          "Jarvis Landry",
          "Tyler Lockett",
          "DJ Chark",
          "Courtland Sutton",
          "Stefon Diggs",
          "John Brown",
          "Michael Gallup",
          "D.J. Moore",
          "Robert Woods",
          "Calvin Ridley",
          "Terry McLaurin",
          "Tyler Boyd",
          "Deebo Samuel",
          "Marvin Jones",
          "Tyreek Hill",
          "Davante Adams",
          "D.K. Metcalf",
          "Odell Beckham",
          "Emmanuel Sanders",
          "Darius Slayton",
          "Jamison Crowder",
          "Cole Beasley",
          "Curtis Samuel",
          "Mike Williams",
          "Robby Anderson",
          "Chris Conley",
          "Diontae Johnson",
          "Golden Tate",
          "Larry Fitzgerald",
          "Breshad Perriman",
          "Marquise Brown",
          "Randall Cobb",
          "Christian Kirk",
          "Mecole Hardman",
          "Zach Pascal",
          "Dede Westbrook",
          "James Washington",
          "Sammy Watkins",
          "Will Fuller",
          "Hunter Renfrow",
          "Sterling Shepard",
          "Adam Thielen",
          "T.Y. Hilton",
          "Kenny Stills",
          "Danny Amendola",
          "Alshon Jeffery",
          "Brandin Cooks",
          "Anthony Miller",
          "Steven Sims",
          "Corey Davis",
          "Phillip Dorsett",
          "JuJu Smith-Schuster",
          "Demarcus Robinson",
          "Kendrick Bourne",
          "Allen Lazard",
          "John Ross",
          "Mohamed Sanu",
          "Willie Snead",
          "Auden Tate",
          "Preston Williams",
          "Marquez Valdes-Scantling",
          "Tajae Sharpe",
          "Ted Ginn",
          "Nelson Agholor",
          "Keelan Cole",
          "Tre'Quan Smith",
          "Allen Hurns",
          "Russell Gage",
          "Adam Humphries",
          "Olabisi Johnson",
          "David Moore",
          "Geronimo Allison",
          "Josh Reynolds",
          "Miles Boykin",
          "Jakobi Meyers",
          "Tavon Austin",
          "Greg Ward",
          "DeSean Jackson",
          "Scott Miller",
          "Justin Watson",
          "N'Keal Harry",
          "Andy Isabella",
          "Damion Ratley",
          "Dante Pettis",
          "JJ Arcega-Whiteside",
          "Parris Campbell",
          "Devin Smith",
          "Mack Hollins",
          "Antonio Brown",
          "Deon Cain",
          "Rashard Higgins",
          "Deonte Harris",
          "Christian Blake",
          "Damion Willis",
          "Andre Patton",
          "DeAndrew White",
          "Travis Benjamin",
          "Andre Roberts",
          "Cam Sims",
          "Josh Bellamy",
          "Chris Moore",
          "Krishawn Hogan",
          "Michael Walker"
         ],
         "type": "scatter",
         "x": [
          5,
          19,
          23.5,
          40,
          12.5,
          53,
          32.5,
          214.5,
          272,
          282,
          51,
          28,
          84,
          77,
          49.5,
          287,
          47.5,
          61.5,
          138.5,
          75,
          34.5,
          158,
          44,
          248,
          377,
          82,
          96,
          10,
          380,
          53,
          25.5,
          117,
          112,
          129.5,
          221,
          169,
          134,
          159,
          285,
          112,
          347,
          165.5,
          168.5,
          78.5,
          266,
          349,
          146.5,
          304,
          173,
          203,
          152.5,
          88,
          169.5,
          137.5,
          32.5,
          59.5,
          201,
          273,
          339,
          99,
          187,
          314,
          184,
          316,
          32,
          328,
          260,
          184,
          385,
          235,
          218,
          302,
          155.5,
          319,
          338,
          369,
          309,
          296,
          274,
          225,
          320,
          317,
          356,
          333,
          237,
          262,
          297,
          342,
          376,
          353,
          162,
          360,
          127,
          153,
          299,
          271,
          368,
          330,
          189,
          264,
          350,
          169,
          357,
          188,
          175,
          242,
          125,
          141.5,
          64,
          298,
          236,
          326,
          313,
          292,
          110,
          202
         ],
         "xaxis": "x",
         "y": [
          374.6,
          274.1,
          248,
          270.5,
          274.1,
          246.2,
          246.5,
          230.7,
          217.1,
          266.54,
          261.5,
          254.9,
          254.28,
          237.4,
          235.2,
          223.8,
          222.42,
          212.1,
          219.82,
          212.7,
          230.5,
          232.9,
          195,
          191.9,
          222.9,
          187.1,
          193.9,
          188.3,
          210.7,
          185.1,
          201.3,
          188.3,
          170,
          197.7,
          180.8,
          171.7,
          161.29999999999995,
          160.3,
          154.5,
          157.1,
          152.2,
          177.4,
          138.1,
          146.4,
          154.9,
          166.20000000000005,
          113.5,
          133.29999999999998,
          152.7,
          133.5,
          136.5,
          134,
          133.5,
          139.79999999999998,
          114.4,
          125.1,
          120.1,
          140.56,
          122.2,
          117.5,
          127.5,
          103.5,
          115.1,
          100.8,
          113.2,
          100.9,
          95.8,
          102.8,
          95,
          124.1,
          95.1,
          101.5,
          90.8,
          84.10000000000002,
          81.9,
          85.89999999999998,
          92,
          78.69999999999997,
          71.4,
          83.6,
          98.8,
          86.5,
          79,
          59.6,
          73.4,
          61.9,
          50.8,
          61.9,
          47.40000000000001,
          59.9,
          36.9,
          40.6,
          42.9,
          39.4,
          35.4,
          38,
          34.54,
          32.9,
          38.1,
          22.3,
          22.5,
          16.1,
          21.4,
          15.5,
          9.5,
          20.1,
          17.2,
          11.6,
          9.1,
          9,
          5.7,
          4.7,
          4,
          5.1,
          1.4,
          -0.5
         ],
         "yaxis": "y"
        }
       ],
       "layout": {
        "coloraxis": {
         "colorbar": {
          "title": {
           "text": "labels"
          }
         },
         "colorscale": [
          [
           0,
           "#0d0887"
          ],
          [
           0.1111111111111111,
           "#46039f"
          ],
          [
           0.2222222222222222,
           "#7201a8"
          ],
          [
           0.3333333333333333,
           "#9c179e"
          ],
          [
           0.4444444444444444,
           "#bd3786"
          ],
          [
           0.5555555555555556,
           "#d8576b"
          ],
          [
           0.6666666666666666,
           "#ed7953"
          ],
          [
           0.7777777777777778,
           "#fb9f3a"
          ],
          [
           0.8888888888888888,
           "#fdca26"
          ],
          [
           1,
           "#f0f921"
          ]
         ]
        },
        "font": {
         "color": "LightSeaGreen",
         "family": "sans serif",
         "size": 18
        },
        "legend": {
         "tracegroupgap": 0
        },
        "margin": {
         "t": 60
        },
        "template": {
         "data": {
          "bar": [
           {
            "error_x": {
             "color": "#2a3f5f"
            },
            "error_y": {
             "color": "#2a3f5f"
            },
            "marker": {
             "line": {
              "color": "#E5ECF6",
              "width": 0.5
             },
             "pattern": {
              "fillmode": "overlay",
              "size": 10,
              "solidity": 0.2
             }
            },
            "type": "bar"
           }
          ],
          "barpolar": [
           {
            "marker": {
             "line": {
              "color": "#E5ECF6",
              "width": 0.5
             },
             "pattern": {
              "fillmode": "overlay",
              "size": 10,
              "solidity": 0.2
             }
            },
            "type": "barpolar"
           }
          ],
          "carpet": [
           {
            "aaxis": {
             "endlinecolor": "#2a3f5f",
             "gridcolor": "white",
             "linecolor": "white",
             "minorgridcolor": "white",
             "startlinecolor": "#2a3f5f"
            },
            "baxis": {
             "endlinecolor": "#2a3f5f",
             "gridcolor": "white",
             "linecolor": "white",
             "minorgridcolor": "white",
             "startlinecolor": "#2a3f5f"
            },
            "type": "carpet"
           }
          ],
          "choropleth": [
           {
            "colorbar": {
             "outlinewidth": 0,
             "ticks": ""
            },
            "type": "choropleth"
           }
          ],
          "contour": [
           {
            "colorbar": {
             "outlinewidth": 0,
             "ticks": ""
            },
            "colorscale": [
             [
              0,
              "#0d0887"
             ],
             [
              0.1111111111111111,
              "#46039f"
             ],
             [
              0.2222222222222222,
              "#7201a8"
             ],
             [
              0.3333333333333333,
              "#9c179e"
             ],
             [
              0.4444444444444444,
              "#bd3786"
             ],
             [
              0.5555555555555556,
              "#d8576b"
             ],
             [
              0.6666666666666666,
              "#ed7953"
             ],
             [
              0.7777777777777778,
              "#fb9f3a"
             ],
             [
              0.8888888888888888,
              "#fdca26"
             ],
             [
              1,
              "#f0f921"
             ]
            ],
            "type": "contour"
           }
          ],
          "contourcarpet": [
           {
            "colorbar": {
             "outlinewidth": 0,
             "ticks": ""
            },
            "type": "contourcarpet"
           }
          ],
          "heatmap": [
           {
            "colorbar": {
             "outlinewidth": 0,
             "ticks": ""
            },
            "colorscale": [
             [
              0,
              "#0d0887"
             ],
             [
              0.1111111111111111,
              "#46039f"
             ],
             [
              0.2222222222222222,
              "#7201a8"
             ],
             [
              0.3333333333333333,
              "#9c179e"
             ],
             [
              0.4444444444444444,
              "#bd3786"
             ],
             [
              0.5555555555555556,
              "#d8576b"
             ],
             [
              0.6666666666666666,
              "#ed7953"
             ],
             [
              0.7777777777777778,
              "#fb9f3a"
             ],
             [
              0.8888888888888888,
              "#fdca26"
             ],
             [
              1,
              "#f0f921"
             ]
            ],
            "type": "heatmap"
           }
          ],
          "heatmapgl": [
           {
            "colorbar": {
             "outlinewidth": 0,
             "ticks": ""
            },
            "colorscale": [
             [
              0,
              "#0d0887"
             ],
             [
              0.1111111111111111,
              "#46039f"
             ],
             [
              0.2222222222222222,
              "#7201a8"
             ],
             [
              0.3333333333333333,
              "#9c179e"
             ],
             [
              0.4444444444444444,
              "#bd3786"
             ],
             [
              0.5555555555555556,
              "#d8576b"
             ],
             [
              0.6666666666666666,
              "#ed7953"
             ],
             [
              0.7777777777777778,
              "#fb9f3a"
             ],
             [
              0.8888888888888888,
              "#fdca26"
             ],
             [
              1,
              "#f0f921"
             ]
            ],
            "type": "heatmapgl"
           }
          ],
          "histogram": [
           {
            "marker": {
             "pattern": {
              "fillmode": "overlay",
              "size": 10,
              "solidity": 0.2
             }
            },
            "type": "histogram"
           }
          ],
          "histogram2d": [
           {
            "colorbar": {
             "outlinewidth": 0,
             "ticks": ""
            },
            "colorscale": [
             [
              0,
              "#0d0887"
             ],
             [
              0.1111111111111111,
              "#46039f"
             ],
             [
              0.2222222222222222,
              "#7201a8"
             ],
             [
              0.3333333333333333,
              "#9c179e"
             ],
             [
              0.4444444444444444,
              "#bd3786"
             ],
             [
              0.5555555555555556,
              "#d8576b"
             ],
             [
              0.6666666666666666,
              "#ed7953"
             ],
             [
              0.7777777777777778,
              "#fb9f3a"
             ],
             [
              0.8888888888888888,
              "#fdca26"
             ],
             [
              1,
              "#f0f921"
             ]
            ],
            "type": "histogram2d"
           }
          ],
          "histogram2dcontour": [
           {
            "colorbar": {
             "outlinewidth": 0,
             "ticks": ""
            },
            "colorscale": [
             [
              0,
              "#0d0887"
             ],
             [
              0.1111111111111111,
              "#46039f"
             ],
             [
              0.2222222222222222,
              "#7201a8"
             ],
             [
              0.3333333333333333,
              "#9c179e"
             ],
             [
              0.4444444444444444,
              "#bd3786"
             ],
             [
              0.5555555555555556,
              "#d8576b"
             ],
             [
              0.6666666666666666,
              "#ed7953"
             ],
             [
              0.7777777777777778,
              "#fb9f3a"
             ],
             [
              0.8888888888888888,
              "#fdca26"
             ],
             [
              1,
              "#f0f921"
             ]
            ],
            "type": "histogram2dcontour"
           }
          ],
          "mesh3d": [
           {
            "colorbar": {
             "outlinewidth": 0,
             "ticks": ""
            },
            "type": "mesh3d"
           }
          ],
          "parcoords": [
           {
            "line": {
             "colorbar": {
              "outlinewidth": 0,
              "ticks": ""
             }
            },
            "type": "parcoords"
           }
          ],
          "pie": [
           {
            "automargin": true,
            "type": "pie"
           }
          ],
          "scatter": [
           {
            "fillpattern": {
             "fillmode": "overlay",
             "size": 10,
             "solidity": 0.2
            },
            "type": "scatter"
           }
          ],
          "scatter3d": [
           {
            "line": {
             "colorbar": {
              "outlinewidth": 0,
              "ticks": ""
             }
            },
            "marker": {
             "colorbar": {
              "outlinewidth": 0,
              "ticks": ""
             }
            },
            "type": "scatter3d"
           }
          ],
          "scattercarpet": [
           {
            "marker": {
             "colorbar": {
              "outlinewidth": 0,
              "ticks": ""
             }
            },
            "type": "scattercarpet"
           }
          ],
          "scattergeo": [
           {
            "marker": {
             "colorbar": {
              "outlinewidth": 0,
              "ticks": ""
             }
            },
            "type": "scattergeo"
           }
          ],
          "scattergl": [
           {
            "marker": {
             "colorbar": {
              "outlinewidth": 0,
              "ticks": ""
             }
            },
            "type": "scattergl"
           }
          ],
          "scattermapbox": [
           {
            "marker": {
             "colorbar": {
              "outlinewidth": 0,
              "ticks": ""
             }
            },
            "type": "scattermapbox"
           }
          ],
          "scatterpolar": [
           {
            "marker": {
             "colorbar": {
              "outlinewidth": 0,
              "ticks": ""
             }
            },
            "type": "scatterpolar"
           }
          ],
          "scatterpolargl": [
           {
            "marker": {
             "colorbar": {
              "outlinewidth": 0,
              "ticks": ""
             }
            },
            "type": "scatterpolargl"
           }
          ],
          "scatterternary": [
           {
            "marker": {
             "colorbar": {
              "outlinewidth": 0,
              "ticks": ""
             }
            },
            "type": "scatterternary"
           }
          ],
          "surface": [
           {
            "colorbar": {
             "outlinewidth": 0,
             "ticks": ""
            },
            "colorscale": [
             [
              0,
              "#0d0887"
             ],
             [
              0.1111111111111111,
              "#46039f"
             ],
             [
              0.2222222222222222,
              "#7201a8"
             ],
             [
              0.3333333333333333,
              "#9c179e"
             ],
             [
              0.4444444444444444,
              "#bd3786"
             ],
             [
              0.5555555555555556,
              "#d8576b"
             ],
             [
              0.6666666666666666,
              "#ed7953"
             ],
             [
              0.7777777777777778,
              "#fb9f3a"
             ],
             [
              0.8888888888888888,
              "#fdca26"
             ],
             [
              1,
              "#f0f921"
             ]
            ],
            "type": "surface"
           }
          ],
          "table": [
           {
            "cells": {
             "fill": {
              "color": "#EBF0F8"
             },
             "line": {
              "color": "white"
             }
            },
            "header": {
             "fill": {
              "color": "#C8D4E3"
             },
             "line": {
              "color": "white"
             }
            },
            "type": "table"
           }
          ]
         },
         "layout": {
          "annotationdefaults": {
           "arrowcolor": "#2a3f5f",
           "arrowhead": 0,
           "arrowwidth": 1
          },
          "autotypenumbers": "strict",
          "coloraxis": {
           "colorbar": {
            "outlinewidth": 0,
            "ticks": ""
           }
          },
          "colorscale": {
           "diverging": [
            [
             0,
             "#8e0152"
            ],
            [
             0.1,
             "#c51b7d"
            ],
            [
             0.2,
             "#de77ae"
            ],
            [
             0.3,
             "#f1b6da"
            ],
            [
             0.4,
             "#fde0ef"
            ],
            [
             0.5,
             "#f7f7f7"
            ],
            [
             0.6,
             "#e6f5d0"
            ],
            [
             0.7,
             "#b8e186"
            ],
            [
             0.8,
             "#7fbc41"
            ],
            [
             0.9,
             "#4d9221"
            ],
            [
             1,
             "#276419"
            ]
           ],
           "sequential": [
            [
             0,
             "#0d0887"
            ],
            [
             0.1111111111111111,
             "#46039f"
            ],
            [
             0.2222222222222222,
             "#7201a8"
            ],
            [
             0.3333333333333333,
             "#9c179e"
            ],
            [
             0.4444444444444444,
             "#bd3786"
            ],
            [
             0.5555555555555556,
             "#d8576b"
            ],
            [
             0.6666666666666666,
             "#ed7953"
            ],
            [
             0.7777777777777778,
             "#fb9f3a"
            ],
            [
             0.8888888888888888,
             "#fdca26"
            ],
            [
             1,
             "#f0f921"
            ]
           ],
           "sequentialminus": [
            [
             0,
             "#0d0887"
            ],
            [
             0.1111111111111111,
             "#46039f"
            ],
            [
             0.2222222222222222,
             "#7201a8"
            ],
            [
             0.3333333333333333,
             "#9c179e"
            ],
            [
             0.4444444444444444,
             "#bd3786"
            ],
            [
             0.5555555555555556,
             "#d8576b"
            ],
            [
             0.6666666666666666,
             "#ed7953"
            ],
            [
             0.7777777777777778,
             "#fb9f3a"
            ],
            [
             0.8888888888888888,
             "#fdca26"
            ],
            [
             1,
             "#f0f921"
            ]
           ]
          },
          "colorway": [
           "#636efa",
           "#EF553B",
           "#00cc96",
           "#ab63fa",
           "#FFA15A",
           "#19d3f3",
           "#FF6692",
           "#B6E880",
           "#FF97FF",
           "#FECB52"
          ],
          "font": {
           "color": "#2a3f5f"
          },
          "geo": {
           "bgcolor": "white",
           "lakecolor": "white",
           "landcolor": "#E5ECF6",
           "showlakes": true,
           "showland": true,
           "subunitcolor": "white"
          },
          "hoverlabel": {
           "align": "left"
          },
          "hovermode": "closest",
          "mapbox": {
           "style": "light"
          },
          "paper_bgcolor": "white",
          "plot_bgcolor": "#E5ECF6",
          "polar": {
           "angularaxis": {
            "gridcolor": "white",
            "linecolor": "white",
            "ticks": ""
           },
           "bgcolor": "#E5ECF6",
           "radialaxis": {
            "gridcolor": "white",
            "linecolor": "white",
            "ticks": ""
           }
          },
          "scene": {
           "xaxis": {
            "backgroundcolor": "#E5ECF6",
            "gridcolor": "white",
            "gridwidth": 2,
            "linecolor": "white",
            "showbackground": true,
            "ticks": "",
            "zerolinecolor": "white"
           },
           "yaxis": {
            "backgroundcolor": "#E5ECF6",
            "gridcolor": "white",
            "gridwidth": 2,
            "linecolor": "white",
            "showbackground": true,
            "ticks": "",
            "zerolinecolor": "white"
           },
           "zaxis": {
            "backgroundcolor": "#E5ECF6",
            "gridcolor": "white",
            "gridwidth": 2,
            "linecolor": "white",
            "showbackground": true,
            "ticks": "",
            "zerolinecolor": "white"
           }
          },
          "shapedefaults": {
           "line": {
            "color": "#2a3f5f"
           }
          },
          "ternary": {
           "aaxis": {
            "gridcolor": "white",
            "linecolor": "white",
            "ticks": ""
           },
           "baxis": {
            "gridcolor": "white",
            "linecolor": "white",
            "ticks": ""
           },
           "bgcolor": "#E5ECF6",
           "caxis": {
            "gridcolor": "white",
            "linecolor": "white",
            "ticks": ""
           }
          },
          "title": {
           "x": 0.05
          },
          "xaxis": {
           "automargin": true,
           "gridcolor": "white",
           "linecolor": "white",
           "ticks": "",
           "title": {
            "standoff": 15
           },
           "zerolinecolor": "white",
           "zerolinewidth": 2
          },
          "yaxis": {
           "automargin": true,
           "gridcolor": "white",
           "linecolor": "white",
           "ticks": "",
           "title": {
            "standoff": 15
           },
           "zerolinecolor": "white",
           "zerolinewidth": 2
          }
         }
        },
        "xaxis": {
         "anchor": "y",
         "domain": [
          0,
          1
         ],
         "title": {
          "text": "ADP"
         }
        },
        "yaxis": {
         "anchor": "x",
         "domain": [
          0,
          1
         ],
         "title": {
          "text": "FantasyPoints"
         }
        }
       }
      },
      "text/html": [
       "<div>                            <div id=\"5283a53f-83b5-4ee5-9307-cc7cdbd225f6\" class=\"plotly-graph-div\" style=\"height:525px; width:100%;\"></div>            <script type=\"text/javascript\">                require([\"plotly\"], function(Plotly) {                    window.PLOTLYENV=window.PLOTLYENV || {};                                    if (document.getElementById(\"5283a53f-83b5-4ee5-9307-cc7cdbd225f6\")) {                    Plotly.newPlot(                        \"5283a53f-83b5-4ee5-9307-cc7cdbd225f6\",                        [{\"hovertemplate\":\"ADP=%{x}<br>FantasyPoints=%{y}<br>Player=%{text}<br>labels=%{marker.color}<extra></extra>\",\"legendgroup\":\"\",\"marker\":{\"color\":[2,2,2,2,2,2,2,3,3,3,2,2,2,2,2,3,2,2,4,2,2,4,2,3,3,4,4,2,3,2,2,4,4,4,3,4,4,4,3,4,3,4,4,4,3,3,4,3,4,4,4,4,4,4,4,4,4,3,1,4,4,1,4,1,4,1,1,0,1,3,0,1,0,1,1,1,1,1,1,0,1,1,1,1,0,1,1,1,1,1,0,1,0,0,1,1,1,1,0,1,1,0,1,0,0,0,0,0,0,1,0,1,1,1,0,0],\"coloraxis\":\"coloraxis\",\"symbol\":\"circle\"},\"mode\":\"markers+text\",\"name\":\"\",\"orientation\":\"v\",\"showlegend\":false,\"text\":[\"Michael Thomas\",\"Chris Godwin\",\"Kenny Golladay\",\"Cooper Kupp\",\"Julio Jones\",\"DeVante Parker\",\"Amari Cooper\",\"Mike Evans\",\"A.J. Brown\",\"DeAndre Hopkins\",\"Keenan Allen\",\"Allen Robinson\",\"Julian Edelman\",\"Jarvis Landry\",\"Tyler Lockett\",\"DJ Chark\",\"Courtland Sutton\",\"Stefon Diggs\",\"John Brown\",\"Michael Gallup\",\"D.J. Moore\",\"Robert Woods\",\"Calvin Ridley\",\"Terry McLaurin\",\"Tyler Boyd\",\"Deebo Samuel\",\"Marvin Jones\",\"Tyreek Hill\",\"Davante Adams\",\"D.K. Metcalf\",\"Odell Beckham\",\"Emmanuel Sanders\",\"Darius Slayton\",\"Jamison Crowder\",\"Cole Beasley\",\"Curtis Samuel\",\"Mike Williams\",\"Robby Anderson\",\"Chris Conley\",\"Diontae Johnson\",\"Golden Tate\",\"Larry Fitzgerald\",\"Breshad Perriman\",\"Marquise Brown\",\"Randall Cobb\",\"Christian Kirk\",\"Mecole Hardman\",\"Zach Pascal\",\"Dede Westbrook\",\"James Washington\",\"Sammy Watkins\",\"Will Fuller\",\"Hunter Renfrow\",\"Sterling Shepard\",\"Adam Thielen\",\"T.Y. Hilton\",\"Kenny Stills\",\"Danny Amendola\",\"Alshon Jeffery\",\"Brandin Cooks\",\"Anthony Miller\",\"Steven Sims\",\"Corey Davis\",\"Phillip Dorsett\",\"JuJu Smith-Schuster\",\"Demarcus Robinson\",\"Kendrick Bourne\",\"Allen Lazard\",\"John Ross\",\"Mohamed Sanu\",\"Willie Snead\",\"Auden Tate\",\"Preston Williams\",\"Marquez Valdes-Scantling\",\"Tajae Sharpe\",\"Ted Ginn\",\"Nelson Agholor\",\"Keelan Cole\",\"Tre'Quan Smith\",\"Allen Hurns\",\"Russell Gage\",\"Adam Humphries\",\"Olabisi Johnson\",\"David Moore\",\"Geronimo Allison\",\"Josh Reynolds\",\"Miles Boykin\",\"Jakobi Meyers\",\"Tavon Austin\",\"Greg Ward\",\"DeSean Jackson\",\"Scott Miller\",\"Justin Watson\",\"N'Keal Harry\",\"Andy Isabella\",\"Damion Ratley\",\"Dante Pettis\",\"JJ Arcega-Whiteside\",\"Parris Campbell\",\"Devin Smith\",\"Mack Hollins\",\"Antonio Brown\",\"Deon Cain\",\"Rashard Higgins\",\"Deonte Harris\",\"Christian Blake\",\"Damion Willis\",\"Andre Patton\",\"DeAndrew White\",\"Travis Benjamin\",\"Andre Roberts\",\"Cam Sims\",\"Josh Bellamy\",\"Chris Moore\",\"Krishawn Hogan\",\"Michael Walker\"],\"x\":[5.0,19.0,23.5,40.0,12.5,53.0,32.5,214.5,272.0,282.0,51.0,28.0,84.0,77.0,49.5,287.0,47.5,61.5,138.5,75.0,34.5,158.0,44.0,248.0,377.0,82.0,96.0,10.0,380.0,53.0,25.5,117.0,112.0,129.5,221.0,169.0,134.0,159.0,285.0,112.0,347.0,165.5,168.5,78.5,266.0,349.0,146.5,304.0,173.0,203.0,152.5,88.0,169.5,137.5,32.5,59.5,201.0,273.0,339.0,99.0,187.0,314.0,184.0,316.0,32.0,328.0,260.0,184.0,385.0,235.0,218.0,302.0,155.5,319.0,338.0,369.0,309.0,296.0,274.0,225.0,320.0,317.0,356.0,333.0,237.0,262.0,297.0,342.0,376.0,353.0,162.0,360.0,127.0,153.0,299.0,271.0,368.0,330.0,189.0,264.0,350.0,169.0,357.0,188.0,175.0,242.0,125.0,141.5,64.0,298.0,236.0,326.0,313.0,292.0,110.0,202.0],\"xaxis\":\"x\",\"y\":[374.6,274.1,248.0,270.5,274.1,246.2,246.5,230.7,217.1,266.54,261.5,254.9,254.28,237.4,235.2,223.8,222.42,212.1,219.82,212.7,230.5,232.9,195.0,191.9,222.9,187.1,193.9,188.3,210.7,185.1,201.3,188.3,170.0,197.7,180.8,171.7,161.29999999999995,160.3,154.5,157.1,152.2,177.4,138.1,146.4,154.9,166.20000000000005,113.5,133.29999999999998,152.7,133.5,136.5,134.0,133.5,139.79999999999998,114.4,125.1,120.1,140.56,122.2,117.5,127.5,103.5,115.1,100.8,113.2,100.9,95.8,102.8,95.0,124.1,95.1,101.5,90.8,84.10000000000002,81.9,85.89999999999998,92.0,78.69999999999997,71.4,83.6,98.8,86.5,79.0,59.6,73.4,61.9,50.8,61.9,47.40000000000001,59.9,36.9,40.6,42.9,39.4,35.4,38.0,34.54,32.9,38.1,22.3,22.5,16.1,21.4,15.5,9.5,20.1,17.2,11.6,9.1,9.0,5.7,4.7,4.0,5.1,1.4,-0.5],\"yaxis\":\"y\",\"type\":\"scatter\"}],                        {\"template\":{\"data\":{\"histogram2dcontour\":[{\"type\":\"histogram2dcontour\",\"colorbar\":{\"outlinewidth\":0,\"ticks\":\"\"},\"colorscale\":[[0.0,\"#0d0887\"],[0.1111111111111111,\"#46039f\"],[0.2222222222222222,\"#7201a8\"],[0.3333333333333333,\"#9c179e\"],[0.4444444444444444,\"#bd3786\"],[0.5555555555555556,\"#d8576b\"],[0.6666666666666666,\"#ed7953\"],[0.7777777777777778,\"#fb9f3a\"],[0.8888888888888888,\"#fdca26\"],[1.0,\"#f0f921\"]]}],\"choropleth\":[{\"type\":\"choropleth\",\"colorbar\":{\"outlinewidth\":0,\"ticks\":\"\"}}],\"histogram2d\":[{\"type\":\"histogram2d\",\"colorbar\":{\"outlinewidth\":0,\"ticks\":\"\"},\"colorscale\":[[0.0,\"#0d0887\"],[0.1111111111111111,\"#46039f\"],[0.2222222222222222,\"#7201a8\"],[0.3333333333333333,\"#9c179e\"],[0.4444444444444444,\"#bd3786\"],[0.5555555555555556,\"#d8576b\"],[0.6666666666666666,\"#ed7953\"],[0.7777777777777778,\"#fb9f3a\"],[0.8888888888888888,\"#fdca26\"],[1.0,\"#f0f921\"]]}],\"heatmap\":[{\"type\":\"heatmap\",\"colorbar\":{\"outlinewidth\":0,\"ticks\":\"\"},\"colorscale\":[[0.0,\"#0d0887\"],[0.1111111111111111,\"#46039f\"],[0.2222222222222222,\"#7201a8\"],[0.3333333333333333,\"#9c179e\"],[0.4444444444444444,\"#bd3786\"],[0.5555555555555556,\"#d8576b\"],[0.6666666666666666,\"#ed7953\"],[0.7777777777777778,\"#fb9f3a\"],[0.8888888888888888,\"#fdca26\"],[1.0,\"#f0f921\"]]}],\"heatmapgl\":[{\"type\":\"heatmapgl\",\"colorbar\":{\"outlinewidth\":0,\"ticks\":\"\"},\"colorscale\":[[0.0,\"#0d0887\"],[0.1111111111111111,\"#46039f\"],[0.2222222222222222,\"#7201a8\"],[0.3333333333333333,\"#9c179e\"],[0.4444444444444444,\"#bd3786\"],[0.5555555555555556,\"#d8576b\"],[0.6666666666666666,\"#ed7953\"],[0.7777777777777778,\"#fb9f3a\"],[0.8888888888888888,\"#fdca26\"],[1.0,\"#f0f921\"]]}],\"contourcarpet\":[{\"type\":\"contourcarpet\",\"colorbar\":{\"outlinewidth\":0,\"ticks\":\"\"}}],\"contour\":[{\"type\":\"contour\",\"colorbar\":{\"outlinewidth\":0,\"ticks\":\"\"},\"colorscale\":[[0.0,\"#0d0887\"],[0.1111111111111111,\"#46039f\"],[0.2222222222222222,\"#7201a8\"],[0.3333333333333333,\"#9c179e\"],[0.4444444444444444,\"#bd3786\"],[0.5555555555555556,\"#d8576b\"],[0.6666666666666666,\"#ed7953\"],[0.7777777777777778,\"#fb9f3a\"],[0.8888888888888888,\"#fdca26\"],[1.0,\"#f0f921\"]]}],\"surface\":[{\"type\":\"surface\",\"colorbar\":{\"outlinewidth\":0,\"ticks\":\"\"},\"colorscale\":[[0.0,\"#0d0887\"],[0.1111111111111111,\"#46039f\"],[0.2222222222222222,\"#7201a8\"],[0.3333333333333333,\"#9c179e\"],[0.4444444444444444,\"#bd3786\"],[0.5555555555555556,\"#d8576b\"],[0.6666666666666666,\"#ed7953\"],[0.7777777777777778,\"#fb9f3a\"],[0.8888888888888888,\"#fdca26\"],[1.0,\"#f0f921\"]]}],\"mesh3d\":[{\"type\":\"mesh3d\",\"colorbar\":{\"outlinewidth\":0,\"ticks\":\"\"}}],\"scatter\":[{\"fillpattern\":{\"fillmode\":\"overlay\",\"size\":10,\"solidity\":0.2},\"type\":\"scatter\"}],\"parcoords\":[{\"type\":\"parcoords\",\"line\":{\"colorbar\":{\"outlinewidth\":0,\"ticks\":\"\"}}}],\"scatterpolargl\":[{\"type\":\"scatterpolargl\",\"marker\":{\"colorbar\":{\"outlinewidth\":0,\"ticks\":\"\"}}}],\"bar\":[{\"error_x\":{\"color\":\"#2a3f5f\"},\"error_y\":{\"color\":\"#2a3f5f\"},\"marker\":{\"line\":{\"color\":\"#E5ECF6\",\"width\":0.5},\"pattern\":{\"fillmode\":\"overlay\",\"size\":10,\"solidity\":0.2}},\"type\":\"bar\"}],\"scattergeo\":[{\"type\":\"scattergeo\",\"marker\":{\"colorbar\":{\"outlinewidth\":0,\"ticks\":\"\"}}}],\"scatterpolar\":[{\"type\":\"scatterpolar\",\"marker\":{\"colorbar\":{\"outlinewidth\":0,\"ticks\":\"\"}}}],\"histogram\":[{\"marker\":{\"pattern\":{\"fillmode\":\"overlay\",\"size\":10,\"solidity\":0.2}},\"type\":\"histogram\"}],\"scattergl\":[{\"type\":\"scattergl\",\"marker\":{\"colorbar\":{\"outlinewidth\":0,\"ticks\":\"\"}}}],\"scatter3d\":[{\"type\":\"scatter3d\",\"line\":{\"colorbar\":{\"outlinewidth\":0,\"ticks\":\"\"}},\"marker\":{\"colorbar\":{\"outlinewidth\":0,\"ticks\":\"\"}}}],\"scattermapbox\":[{\"type\":\"scattermapbox\",\"marker\":{\"colorbar\":{\"outlinewidth\":0,\"ticks\":\"\"}}}],\"scatterternary\":[{\"type\":\"scatterternary\",\"marker\":{\"colorbar\":{\"outlinewidth\":0,\"ticks\":\"\"}}}],\"scattercarpet\":[{\"type\":\"scattercarpet\",\"marker\":{\"colorbar\":{\"outlinewidth\":0,\"ticks\":\"\"}}}],\"carpet\":[{\"aaxis\":{\"endlinecolor\":\"#2a3f5f\",\"gridcolor\":\"white\",\"linecolor\":\"white\",\"minorgridcolor\":\"white\",\"startlinecolor\":\"#2a3f5f\"},\"baxis\":{\"endlinecolor\":\"#2a3f5f\",\"gridcolor\":\"white\",\"linecolor\":\"white\",\"minorgridcolor\":\"white\",\"startlinecolor\":\"#2a3f5f\"},\"type\":\"carpet\"}],\"table\":[{\"cells\":{\"fill\":{\"color\":\"#EBF0F8\"},\"line\":{\"color\":\"white\"}},\"header\":{\"fill\":{\"color\":\"#C8D4E3\"},\"line\":{\"color\":\"white\"}},\"type\":\"table\"}],\"barpolar\":[{\"marker\":{\"line\":{\"color\":\"#E5ECF6\",\"width\":0.5},\"pattern\":{\"fillmode\":\"overlay\",\"size\":10,\"solidity\":0.2}},\"type\":\"barpolar\"}],\"pie\":[{\"automargin\":true,\"type\":\"pie\"}]},\"layout\":{\"autotypenumbers\":\"strict\",\"colorway\":[\"#636efa\",\"#EF553B\",\"#00cc96\",\"#ab63fa\",\"#FFA15A\",\"#19d3f3\",\"#FF6692\",\"#B6E880\",\"#FF97FF\",\"#FECB52\"],\"font\":{\"color\":\"#2a3f5f\"},\"hovermode\":\"closest\",\"hoverlabel\":{\"align\":\"left\"},\"paper_bgcolor\":\"white\",\"plot_bgcolor\":\"#E5ECF6\",\"polar\":{\"bgcolor\":\"#E5ECF6\",\"angularaxis\":{\"gridcolor\":\"white\",\"linecolor\":\"white\",\"ticks\":\"\"},\"radialaxis\":{\"gridcolor\":\"white\",\"linecolor\":\"white\",\"ticks\":\"\"}},\"ternary\":{\"bgcolor\":\"#E5ECF6\",\"aaxis\":{\"gridcolor\":\"white\",\"linecolor\":\"white\",\"ticks\":\"\"},\"baxis\":{\"gridcolor\":\"white\",\"linecolor\":\"white\",\"ticks\":\"\"},\"caxis\":{\"gridcolor\":\"white\",\"linecolor\":\"white\",\"ticks\":\"\"}},\"coloraxis\":{\"colorbar\":{\"outlinewidth\":0,\"ticks\":\"\"}},\"colorscale\":{\"sequential\":[[0.0,\"#0d0887\"],[0.1111111111111111,\"#46039f\"],[0.2222222222222222,\"#7201a8\"],[0.3333333333333333,\"#9c179e\"],[0.4444444444444444,\"#bd3786\"],[0.5555555555555556,\"#d8576b\"],[0.6666666666666666,\"#ed7953\"],[0.7777777777777778,\"#fb9f3a\"],[0.8888888888888888,\"#fdca26\"],[1.0,\"#f0f921\"]],\"sequentialminus\":[[0.0,\"#0d0887\"],[0.1111111111111111,\"#46039f\"],[0.2222222222222222,\"#7201a8\"],[0.3333333333333333,\"#9c179e\"],[0.4444444444444444,\"#bd3786\"],[0.5555555555555556,\"#d8576b\"],[0.6666666666666666,\"#ed7953\"],[0.7777777777777778,\"#fb9f3a\"],[0.8888888888888888,\"#fdca26\"],[1.0,\"#f0f921\"]],\"diverging\":[[0,\"#8e0152\"],[0.1,\"#c51b7d\"],[0.2,\"#de77ae\"],[0.3,\"#f1b6da\"],[0.4,\"#fde0ef\"],[0.5,\"#f7f7f7\"],[0.6,\"#e6f5d0\"],[0.7,\"#b8e186\"],[0.8,\"#7fbc41\"],[0.9,\"#4d9221\"],[1,\"#276419\"]]},\"xaxis\":{\"gridcolor\":\"white\",\"linecolor\":\"white\",\"ticks\":\"\",\"title\":{\"standoff\":15},\"zerolinecolor\":\"white\",\"automargin\":true,\"zerolinewidth\":2},\"yaxis\":{\"gridcolor\":\"white\",\"linecolor\":\"white\",\"ticks\":\"\",\"title\":{\"standoff\":15},\"zerolinecolor\":\"white\",\"automargin\":true,\"zerolinewidth\":2},\"scene\":{\"xaxis\":{\"backgroundcolor\":\"#E5ECF6\",\"gridcolor\":\"white\",\"linecolor\":\"white\",\"showbackground\":true,\"ticks\":\"\",\"zerolinecolor\":\"white\",\"gridwidth\":2},\"yaxis\":{\"backgroundcolor\":\"#E5ECF6\",\"gridcolor\":\"white\",\"linecolor\":\"white\",\"showbackground\":true,\"ticks\":\"\",\"zerolinecolor\":\"white\",\"gridwidth\":2},\"zaxis\":{\"backgroundcolor\":\"#E5ECF6\",\"gridcolor\":\"white\",\"linecolor\":\"white\",\"showbackground\":true,\"ticks\":\"\",\"zerolinecolor\":\"white\",\"gridwidth\":2}},\"shapedefaults\":{\"line\":{\"color\":\"#2a3f5f\"}},\"annotationdefaults\":{\"arrowcolor\":\"#2a3f5f\",\"arrowhead\":0,\"arrowwidth\":1},\"geo\":{\"bgcolor\":\"white\",\"landcolor\":\"#E5ECF6\",\"subunitcolor\":\"white\",\"showland\":true,\"showlakes\":true,\"lakecolor\":\"white\"},\"title\":{\"x\":0.05},\"mapbox\":{\"style\":\"light\"}}},\"xaxis\":{\"anchor\":\"y\",\"domain\":[0.0,1.0],\"title\":{\"text\":\"ADP\"}},\"yaxis\":{\"anchor\":\"x\",\"domain\":[0.0,1.0],\"title\":{\"text\":\"FantasyPoints\"}},\"coloraxis\":{\"colorbar\":{\"title\":{\"text\":\"labels\"}},\"colorscale\":[[0.0,\"#0d0887\"],[0.1111111111111111,\"#46039f\"],[0.2222222222222222,\"#7201a8\"],[0.3333333333333333,\"#9c179e\"],[0.4444444444444444,\"#bd3786\"],[0.5555555555555556,\"#d8576b\"],[0.6666666666666666,\"#ed7953\"],[0.7777777777777778,\"#fb9f3a\"],[0.8888888888888888,\"#fdca26\"],[1.0,\"#f0f921\"]]},\"legend\":{\"tracegroupgap\":0},\"margin\":{\"t\":60},\"font\":{\"family\":\"sans serif\",\"size\":18,\"color\":\"LightSeaGreen\"}},                        {\"responsive\": true}                    ).then(function(){\n",
       "                            \n",
       "var gd = document.getElementById('5283a53f-83b5-4ee5-9307-cc7cdbd225f6');\n",
       "var x = new MutationObserver(function (mutations, observer) {{\n",
       "        var display = window.getComputedStyle(gd).display;\n",
       "        if (!display || display === 'none') {{\n",
       "            console.log([gd, 'removed!']);\n",
       "            Plotly.purge(gd);\n",
       "            observer.disconnect();\n",
       "        }}\n",
       "}});\n",
       "\n",
       "// Listen for the removal of the full notebook cells\n",
       "var notebookContainer = gd.closest('#notebook-container');\n",
       "if (notebookContainer) {{\n",
       "    x.observe(notebookContainer, {childList: true});\n",
       "}}\n",
       "\n",
       "// Listen for the clearing of the current output cell\n",
       "var outputEl = gd.closest('.output');\n",
       "if (outputEl) {{\n",
       "    x.observe(outputEl, {childList: true});\n",
       "}}\n",
       "\n",
       "                        })                };                });            </script>        </div>"
      ]
     },
     "metadata": {},
     "output_type": "display_data"
    }
   ],
   "source": [
    "plotKmeans(data, position=\"WR\", clusters=5)"
   ]
  },
  {
   "cell_type": "code",
   "execution_count": null,
   "id": "a9feb29e",
   "metadata": {},
   "outputs": [],
   "source": []
  }
 ],
 "metadata": {
  "kernelspec": {
   "display_name": "Python 3 (ipykernel)",
   "language": "python",
   "name": "python3"
  },
  "language_info": {
   "codemirror_mode": {
    "name": "ipython",
    "version": 3
   },
   "file_extension": ".py",
   "mimetype": "text/x-python",
   "name": "python",
   "nbconvert_exporter": "python",
   "pygments_lexer": "ipython3",
   "version": "3.9.13"
  }
 },
 "nbformat": 4,
 "nbformat_minor": 5
}
