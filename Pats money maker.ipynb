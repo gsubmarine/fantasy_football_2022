{
 "cells": [
  {
   "cell_type": "code",
   "execution_count": 58,
   "id": "1bf88947",
   "metadata": {},
   "outputs": [],
   "source": [
    "import pandas as pd\n",
    "from fuzzywuzzy import fuzz\n",
    "from fuzzywuzzy import process\n",
    "import plotly.express as px\n",
    "from sklearn.cluster import KMeans\n",
    "from PyPDF2 import PdfReader\n",
    "import re\n",
    "\n",
    "import plotly.graph_objects as go\n",
    "\n"
   ]
  },
  {
   "cell_type": "code",
   "execution_count": null,
   "id": "b43401a4",
   "metadata": {},
   "outputs": [],
   "source": [
    "adp = pd.read_csv(\"data/fantasypros/adp/HALF_PPR_ADP.csv\")\n",
    "adp.dropna(subset=[\"PLAYER\"], inplace=True)\n",
    "adp"
   ]
  },
  {
   "cell_type": "code",
   "execution_count": null,
   "id": "313d2cfc",
   "metadata": {},
   "outputs": [],
   "source": [
    "data = pd.read_csv(\"data/yearly/2019.csv\")\n",
    "data.dropna(subset=[\"Pos\"], inplace=True)"
   ]
  },
  {
   "cell_type": "code",
   "execution_count": 321,
   "id": "482db47d",
   "metadata": {},
   "outputs": [],
   "source": [
    "def plotKmeans(df, x=\"ADP\", y=\"FantasyPoints\", position=\"RB\", clusters=2):\n",
    "    dataset = df.dropna(subset=[x, y])\n",
    "    #dataset = dataset[dataset[\"Pos\"] == position]\n",
    "    points = list(zip(dataset[x].to_list(), dataset[y].to_list()))\n",
    "    kmeans = KMeans(n_clusters=clusters, random_state=42) \n",
    "    kmeans.fit(points)\n",
    "    kmeans.labels_\n",
    "    dataset[\"labels\"] = kmeans.labels_\n",
    "    fig = px.scatter(dataset, x=x, y=y, color=\"labels\", hover_data=[\"Player\", \"Year\"])\n",
    "    fig.update_layout({\n",
    "        \"font\" : dict(\n",
    "        family=\"sans serif\",\n",
    "        size=18,\n",
    "        color=\"LightSeaGreen\"\n",
    "    ),\n",
    "        \"xaxis_title\": x,\n",
    "        \"yaxis_title\": y,\n",
    "    })\n",
    "    fig.show()\n",
    "    \n",
    "def plotElbow(df, x=\"ADP\", y=\"FantasyPoints\", position=\"RB\"):\n",
    "    xs = []\n",
    "    ys = []\n",
    "    for i in range(1, 15):\n",
    "        dataset = df.dropna(subset=[x, y])\n",
    "        dataset = dataset[dataset[\"Pos\"] == position]\n",
    "        points = list(zip(dataset[x].to_list(), dataset[y].to_list()))\n",
    "        kmeans = KMeans(n_clusters=i, random_state=42) \n",
    "        kmeans.fit(points)\n",
    "        kmeans.labels_\n",
    "        dataset[\"labels\"] = kmeans.labels_\n",
    "        xs.append(i)\n",
    "        ys.append(kmeans.inertia_)\n",
    "    px.scatter(x=xs, y=ys).show()\n",
    "       \n",
    "    \n",
    "def pdf_to_text(filename:str) -> str:\n",
    "\n",
    "    text = \"\"\n",
    "    try:\n",
    "        reader = PdfReader(filename)\n",
    "        for page in reader.pages:\n",
    "            text += page.extract_text()\n",
    "            print(page)\n",
    "            return text\n",
    "    except Exception as exc:\n",
    "        print(\"you're fucked idiot\")\n",
    "\n",
    "def getNameFromSlice(s):\n",
    "    try:\n",
    "        return re.search(r\"\\) .+(?=,)\", s).group()[2:]\n",
    "    except:\n",
    "        print(s)\n",
    "        return re.search(r\"\\)\",s).group()[2:]\n",
    "\n",
    "def getAdpFromSlice(s):\n",
    "    return float(re.search(r\"\\(.+(?=\\))\", s).group()[1:])\n",
    "\n",
    "def getColumnIndex(s):\n",
    "    try:\n",
    "        return int(re.search(r\"\\d+\\.\", s).group()[:-1])\n",
    "    except:\n",
    "        return -1\n",
    "\n",
    "def getNewColumnMap(columns, column_map, year):\n",
    "    if columns[0] is None:\n",
    "        column_map[0] = \"TE\"\n",
    "    if columns[2] is None:\n",
    "        column_map[2] = \"WR\"\n",
    "    if columns[3] is None:\n",
    "        if column_map[3] == \"WR\":\n",
    "            column_map[3] = \"DST\"\n",
    "        elif column_map[3] == \"DST\":\n",
    "            column_map[3] = \"K\"\n",
    "        elif column_map[3] == \"DST\":\n",
    "            column_map[3] = \"K\"\n",
    "    \n",
    "\n",
    "def getDataFromLine2(line, break_num, column_map):\n",
    "    output = {\n",
    "        \"QB\" : [],\n",
    "        \"RB\" : [],\n",
    "        \"WR\" : [],\n",
    "        \"TE\" : [],\n",
    "        \"K\"  : [],\n",
    "        \"DST\": [],\n",
    "        \"GARBAGE_COLLECT\" : []\n",
    "    }        \n",
    "    line_split = line.split(\"$\")\n",
    "    \n",
    "    if break_num == 1:\n",
    "        line_split.insert(2, \"\")\n",
    "        column_map[2] = \"WR\"\n",
    "    elif break_num == 2:\n",
    "        line_split.insert(3, \"\")\n",
    "        column_map[3] = \"DST\"\n",
    "    elif break_num == 3:\n",
    "        column_map[0] = \"TE\"\n",
    "        column_map[3] = \"K\"\n",
    "        line_split.insert(0, \"\")\n",
    "        line_split.insert(3, \"\")\n",
    "    elif break_num == 4:\n",
    "        line_split.insert(3, \"\")\n",
    "        column_map[3] = \"GARBAGE_COLLECT\"\n",
    "    \n",
    "    col0 = line_split[0]\n",
    "    col1 = line_split[1]\n",
    "    col2 = line_split[2]\n",
    "    col3 = line_split[3]\n",
    "    \n",
    "    if col0:\n",
    "        output[column_map[0]].append((getNameFromSlice(col0), getAdpFromSlice(col0)))\n",
    "    if col1:\n",
    "        output[column_map[1]].append((getNameFromSlice(col1), getAdpFromSlice(col1)))\n",
    "    if col2:\n",
    "        output[column_map[2]].append((getNameFromSlice(col2), getAdpFromSlice(col2)))\n",
    "    if col3 and break_num < 4:\n",
    "        output[column_map[3]].append((getNameFromSlice(col3), getAdpFromSlice(col3)))\n",
    "    return output\n",
    "    \n",
    "\n",
    "def loadAdp2(year: str) :\n",
    "    filename = 'espn_' + year + \".pdf\"\n",
    "    text = pdf_to_text(filename)\n",
    "    #seperate text into a list of rows\n",
    "    lines = []\n",
    "    line = \"\"\n",
    "    for char in text:\n",
    "        if char == \"\\n\":\n",
    "            lines.append(line)\n",
    "            line=\"\"\n",
    "            continue\n",
    "        line+=char\n",
    "    #Find runningback value in each row\n",
    "    rb = []\n",
    "    qb = []\n",
    "    wr = []\n",
    "    te = []\n",
    "    prev_line = None\n",
    "    column_map = [\"QB\", \"RB\", \"RB\", \"WR\"]\n",
    "    second_break = False\n",
    "    line_break = 0\n",
    "    for line in lines[:77]:\n",
    "        #data = getDataFromLine(line, prev_line, column_map, year)\n",
    "        if (len(line.split(\"$\")) < 5 and not second_break):\n",
    "            line_break += 1\n",
    "            second_break = True\n",
    "        elif (len(line.split(\"$\")) < 5):\n",
    "                second_break = False\n",
    "        data = getDataFromLine2(line, line_break, column_map)\n",
    "        \n",
    "        #print(data)\n",
    "        prev_line = line\n",
    "        \n",
    "        for k, v in data.items():\n",
    "            if k == \"RB\" and len(v):\n",
    "                rb.extend(v)\n",
    "            elif k == \"WR\" and len(v):\n",
    "                wr.extend(v)\n",
    "            elif k == \"QB\" and len(v):\n",
    "                qb.extend(v)\n",
    "            elif k == \"TE\" and len(v):\n",
    "                te.extend(v)\n",
    "    qb_df = pd.DataFrame(qb, columns=[\"Name\", \"ADP\"]) \n",
    "    qb_df[\"Pos\"] = \"QB\"\n",
    "    wr_df = pd.DataFrame(wr, columns=[\"Name\", \"ADP\"])\n",
    "    wr_df[\"Pos\"] = \"WR\"\n",
    "    rb_df = pd.DataFrame(rb, columns=[\"Name\", \"ADP\"])\n",
    "    rb_df[\"Pos\"] = \"RB\"\n",
    "    te_df = pd.DataFrame(te, columns=[\"Name\", \"ADP\"])\n",
    "    te_df[\"Pos\"] = \"TE\"\n",
    "    \n",
    "    return (pd.concat([qb_df, wr_df, rb_df, te_df]))\n",
    " \n",
    "        \n",
    "        \n",
    "def loadAndMergeData(year):\n",
    "    adp = loadAdp2(str(year))\n",
    "    data = pd.read_csv(f\"data/yearly/{year}.csv\")\n",
    "    data.dropna(subset=[\"Pos\"], inplace=True)\n",
    "    data[\"ADP\"] = pd.Series()\n",
    "    data[\"Year\"] = year\n",
    "    for i, player in adp.iterrows():  \n",
    "        try:\n",
    "            ix = process.extractOne(player[\"Name\"], data[\"Player\"])\n",
    "            data[\"ADP\"].loc[ix[2]] = player[\"ADP\"]\n",
    "        except:\n",
    "            print(player[\"Name\"])\n",
    "    #adp.dropna(subset=[\"PLAYER\"], inplace=True)\n",
    "    \n",
    "    return data\n",
    "    \n",
    "    \n",
    "    "
   ]
  },
  {
   "cell_type": "code",
   "execution_count": 319,
   "id": "3f547070",
   "metadata": {},
   "outputs": [
    {
     "name": "stdout",
     "output_type": "stream",
     "text": [
      "{'/Type': '/Page', '/Parent': IndirectObject(2, 0, 11424668496), '/Resources': {'/ExtGState': {'/GS6': IndirectObject(6, 0, 11424668496)}, '/Font': {'/F1': IndirectObject(7, 0, 11424668496), '/F2': IndirectObject(9, 0, 11424668496)}, '/XObject': {'/Image11': IndirectObject(11, 0, 11424668496)}, '/ProcSet': ['/PDF', '/Text', '/ImageB', '/ImageC', '/ImageI']}, '/MediaBox': [0, 0, 1176.92, 1523.08], '/Contents': IndirectObject(5, 0, 11424668496), '/Group': {'/Type': '/Group', '/S': '/Transparency', '/CS': '/DeviceRGB'}, '/Tabs': '/S', '/StructParents': 0}\n"
     ]
    },
    {
     "name": "stderr",
     "output_type": "stream",
     "text": [
      "/var/folders/zd/hd98t63j70j07gdtg557z0980000gp/T/ipykernel_90727/167014452.py:181: FutureWarning:\n",
      "\n",
      "The default dtype for empty Series will be 'object' instead of 'float64' in a future version. Specify a dtype explicitly to silence this warning.\n",
      "\n",
      "/var/folders/zd/hd98t63j70j07gdtg557z0980000gp/T/ipykernel_90727/167014452.py:186: SettingWithCopyWarning:\n",
      "\n",
      "\n",
      "A value is trying to be set on a copy of a slice from a DataFrame\n",
      "\n",
      "See the caveats in the documentation: https://pandas.pydata.org/pandas-docs/stable/user_guide/indexing.html#returning-a-view-versus-a-copy\n",
      "\n"
     ]
    },
    {
     "name": "stdout",
     "output_type": "stream",
     "text": [
      "{'/Type': '/Page', '/Parent': IndirectObject(2, 0, 11426704256), '/Resources': {'/ExtGState': {'/GS6': IndirectObject(6, 0, 11426704256), '/GS9': IndirectObject(9, 0, 11426704256)}, '/Font': {'/F1': IndirectObject(7, 0, 11426704256), '/F2': IndirectObject(10, 0, 11426704256)}, '/XObject': {'/Image12': IndirectObject(12, 0, 11426704256)}, '/ProcSet': ['/PDF', '/Text', '/ImageB', '/ImageC', '/ImageI']}, '/MediaBox': [0, 0, 612, 792], '/Contents': IndirectObject(5, 0, 11426704256), '/Group': {'/Type': '/Group', '/S': '/Transparency', '/CS': '/DeviceRGB'}, '/Tabs': '/S', '/StructParents': 0}\n"
     ]
    },
    {
     "name": "stderr",
     "output_type": "stream",
     "text": [
      "/var/folders/zd/hd98t63j70j07gdtg557z0980000gp/T/ipykernel_90727/167014452.py:181: FutureWarning:\n",
      "\n",
      "The default dtype for empty Series will be 'object' instead of 'float64' in a future version. Specify a dtype explicitly to silence this warning.\n",
      "\n",
      "/var/folders/zd/hd98t63j70j07gdtg557z0980000gp/T/ipykernel_90727/167014452.py:186: SettingWithCopyWarning:\n",
      "\n",
      "\n",
      "A value is trying to be set on a copy of a slice from a DataFrame\n",
      "\n",
      "See the caveats in the documentation: https://pandas.pydata.org/pandas-docs/stable/user_guide/indexing.html#returning-a-view-versus-a-copy\n",
      "\n"
     ]
    },
    {
     "name": "stdout",
     "output_type": "stream",
     "text": [
      "{'/Type': '/Page', '/Parent': IndirectObject(2, 0, 11349082224), '/Resources': {'/ExtGState': {'/GS6': IndirectObject(6, 0, 11349082224), '/GS9': IndirectObject(9, 0, 11349082224)}, '/Font': {'/F1': IndirectObject(7, 0, 11349082224), '/F2': IndirectObject(10, 0, 11349082224)}, '/XObject': {'/Image12': IndirectObject(12, 0, 11349082224)}, '/ProcSet': ['/PDF', '/Text', '/ImageB', '/ImageC', '/ImageI']}, '/MediaBox': [0, 0, 612, 792], '/Contents': IndirectObject(5, 0, 11349082224), '/Group': {'/Type': '/Group', '/S': '/Transparency', '/CS': '/DeviceRGB'}, '/Tabs': '/S', '/StructParents': 0}\n"
     ]
    },
    {
     "name": "stderr",
     "output_type": "stream",
     "text": [
      "/var/folders/zd/hd98t63j70j07gdtg557z0980000gp/T/ipykernel_90727/167014452.py:181: FutureWarning:\n",
      "\n",
      "The default dtype for empty Series will be 'object' instead of 'float64' in a future version. Specify a dtype explicitly to silence this warning.\n",
      "\n",
      "/var/folders/zd/hd98t63j70j07gdtg557z0980000gp/T/ipykernel_90727/167014452.py:186: SettingWithCopyWarning:\n",
      "\n",
      "\n",
      "A value is trying to be set on a copy of a slice from a DataFrame\n",
      "\n",
      "See the caveats in the documentation: https://pandas.pydata.org/pandas-docs/stable/user_guide/indexing.html#returning-a-view-versus-a-copy\n",
      "\n"
     ]
    },
    {
     "name": "stdout",
     "output_type": "stream",
     "text": [
      "{'/Type': '/Page', '/Parent': IndirectObject(2, 0, 11367740608), '/Resources': {'/ExtGState': {'/GS6': IndirectObject(6, 0, 11367740608), '/GS9': IndirectObject(9, 0, 11367740608)}, '/Font': {'/F1': IndirectObject(7, 0, 11367740608), '/F2': IndirectObject(10, 0, 11367740608)}, '/XObject': {'/Image12': IndirectObject(12, 0, 11367740608)}, '/ProcSet': ['/PDF', '/Text', '/ImageB', '/ImageC', '/ImageI']}, '/MediaBox': [0, 0, 612, 792], '/Contents': IndirectObject(5, 0, 11367740608), '/Group': {'/Type': '/Group', '/S': '/Transparency', '/CS': '/DeviceRGB'}, '/Tabs': '/S', '/StructParents': 0}\n"
     ]
    },
    {
     "name": "stderr",
     "output_type": "stream",
     "text": [
      "/var/folders/zd/hd98t63j70j07gdtg557z0980000gp/T/ipykernel_90727/167014452.py:181: FutureWarning:\n",
      "\n",
      "The default dtype for empty Series will be 'object' instead of 'float64' in a future version. Specify a dtype explicitly to silence this warning.\n",
      "\n",
      "/var/folders/zd/hd98t63j70j07gdtg557z0980000gp/T/ipykernel_90727/167014452.py:186: SettingWithCopyWarning:\n",
      "\n",
      "\n",
      "A value is trying to be set on a copy of a slice from a DataFrame\n",
      "\n",
      "See the caveats in the documentation: https://pandas.pydata.org/pandas-docs/stable/user_guide/indexing.html#returning-a-view-versus-a-copy\n",
      "\n"
     ]
    }
   ],
   "source": [
    "# xs = []\n",
    "# ys = []\n",
    "# pos = []\n",
    "# data[\"ADP\"] = pd.Series()\n",
    "# for i, player in adp.iterrows():  \n",
    "#     try:\n",
    "#         ix = process.extractOne(player[\"PLAYER\"], data[\"Player\"])\n",
    "#         data[\"ADP\"].loc[ix[2]] = player[\"AVG\"]\n",
    "#     except:\n",
    "#         print(player[\"PLAYER\"])\n",
    "data18 = loadAndMergeData(2018) \n",
    "data19 = loadAndMergeData(2019)\n",
    "data20 = loadAndMergeData(2020) \n",
    "data21 = loadAndMergeData(2021) \n",
    "aggData = pd.concat([data18, data19, data20, data21])"
   ]
  },
  {
   "cell_type": "code",
   "execution_count": 300,
   "id": "88c2a700",
   "metadata": {},
   "outputs": [],
   "source": [
    "aggData = pd.concat([data18, data19, data20, data21])"
   ]
  },
  {
   "cell_type": "code",
   "execution_count": 62,
   "id": "91f0cb41",
   "metadata": {},
   "outputs": [
    {
     "data": {
      "application/vnd.plotly.v1+json": {
       "config": {
        "plotlyServerURL": "https://plot.ly"
       },
       "data": [
        {
         "mode": "markers",
         "text": [
          "Jonathan Taylor*+",
          "Cooper Kupp*+",
          "Deebo Samuel*+",
          "Josh Allen",
          "Austin Ekeler",
          "Justin Herbert*",
          "Tom Brady*",
          "Mark Andrews*+",
          "Ja'Marr Chase*",
          "Justin Jefferson*",
          "Joe Mixon*",
          "Davante Adams*+",
          "Patrick Mahomes*",
          "Najee Harris*",
          "Travis Kelce*",
          "James Conner*",
          "Mike Evans*",
          "Aaron Rodgers*+",
          "Tyreek Hill*",
          "Matthew Stafford",
          "Stefon Diggs*",
          "Ezekiel Elliott",
          "Dak Prescott",
          "Nick Chubb*",
          "Mike Williams",
          "D.K. Metcalf",
          "Tyler Lockett",
          "Damien Harris",
          "Joe Burrow",
          "Diontae Johnson*",
          "Jalen Hurts",
          "Alvin Kamara*",
          "Antonio Gibson",
          "Leonard Fournette",
          "Dalton Schultz",
          "Cordarrelle Patterson",
          "George Kittle*",
          "Hunter Renfrow*",
          "CeeDee Lamb*",
          "Kyler Murray*",
          "Kirk Cousins*",
          "Aaron Jones",
          "Keenan Allen*",
          "Derrick Henry",
          "Michael Pittman Jr.",
          "Dalvin Cook*",
          "Josh Jacobs",
          "Rob Gronkowski",
          "Tee Higgins",
          "Dawson Knox",
          "D.J. Moore",
          "Chris Godwin",
          "Hunter Henry",
          "Melvin Gordon",
          "Jaylen Waddle",
          "Brandin Cooks",
          "Dallas Goedert",
          "Darnell Mooney",
          "Kyle Pitts*",
          "Javonte Williams",
          "Amon-Ra St. Brown",
          "Zach Ertz",
          "Terry McLaurin",
          "Marquise Brown",
          "Amari Cooper",
          "Devin Singletary",
          "Adam Thielen",
          "Christian Kirk",
          "David Montgomery",
          "AJ Dillon",
          "Kendrick Bourne",
          "Darrel Williams",
          "D'Andre Swift",
          "Mike Gesicki",
          "Elijah Mitchell",
          "Ryan Tannehill",
          "Carson Wentz",
          "Derek Carr",
          "Russell Wilson*",
          "Lamar Jackson*",
          "Jimmy Garoppolo",
          "Mac Jones*",
          "Matt Ryan",
          "Taylor Heinicke",
          "Ben Roethlisberger",
          "Teddy Bridgewater",
          "Trevor Lawrence",
          "Jared Goff",
          "Baker Mayfield",
          "Tua Tagovailoa",
          "Daniel Jones",
          "Sam Darnold",
          "Davis Mills",
          "Zach Wilson",
          "James Robinson",
          "Darrell Henderson",
          "Justin Fields",
          "Myles Gaskin",
          "Sony Michel",
          "Tony Pollard",
          "DeVonta Smith",
          "A.J. Brown",
          "Michael Carter",
          "Taysom Hill",
          "Van Jefferson",
          "Tyler Boyd",
          "Jameis Winston",
          "Rashaad Penny",
          "Brandon Aiyuk",
          "Devonta Freeman",
          "Chuba Hubbard",
          "K.J. Osborn",
          "Saquon Barkley",
          "Chase Claypool",
          "Marvin Jones",
          "Marquez Callaway",
          "DeAndre Hopkins",
          "Devontae Booker",
          "A.J. Green",
          "Allen Lazard",
          "Jakobi Meyers",
          "Tim Patrick",
          "Cedrick Wilson Jr.",
          "Rhamondre Stevenson",
          "Chase Edmonds",
          "Clyde Edwards-Helaire",
          "Russell Gage",
          "Elijah Moore",
          "Mike Davis",
          "Alexander Mattison",
          "Latavius Murray",
          "Jamaal Williams",
          "Pat Freiermuth",
          "Courtland Sutton",
          "Robert Woods",
          "Gabriel Davis",
          "Noah Fant",
          "Christian McCaffrey",
          "Miles Sanders",
          "Kenneth Gainwell",
          "Emmanuel Sanders",
          "Trevor Siemian",
          "Kareem Hunt",
          "Robby Anderson",
          "Tyler Higbee",
          "Cam Newton",
          "Boston Scott",
          "Odell Beckham Jr.",
          "D'Onta Foreman",
          "D'Ernest Johnson",
          "J.D. McKissic",
          "Byron Pringle",
          "Jared Cook",
          "Andy Dalton",
          "T.J. Hockenson",
          "Kalif Raymond",
          "Brandon Bolden",
          "Tyler Huntley",
          "Ty Johnson",
          "Mecole Hardman",
          "Mark Ingram",
          "Zack Moss",
          "Tyrod Taylor",
          "Jarvis Landry",
          "Antonio Brown",
          "Rex Burkhead",
          "C.J. Uzomah",
          "Darren Waller",
          "Cole Beasley",
          "Tyler Conklin",
          "Deonte Harris",
          "Donovan Peoples-Jones",
          "Braxton Berrios+",
          "Bryan Edwards",
          "Kenyan Drake",
          "Nyheim Hines",
          "Quez Watkins",
          "Jacoby Brissett",
          "David Njoku",
          "Corey Davis",
          "Gerald Everett",
          "Nick Westbrook-Ikhine",
          "Ronald Jones II",
          "Nelson Agholor",
          "Randall Cobb",
          "Jalen Guyton",
          "Khalil Herbert",
          "Trey Lance",
          "Justin Jackson",
          "DeVante Parker",
          "Laviska Shenault Jr.",
          "DeAndre Carter",
          "Freddie Swain",
          "Jordan Howard",
          "Cole Kmet",
          "Henry Ruggs III",
          "Marquez Valdes-Scantling",
          "Alex Collins",
          "Josh Palmer",
          "Jamison Crowder",
          "Zay Jones",
          "Olamide Zaccheaus",
          "Rashod Bateman",
          "Jauan Jennings",
          "Evan Engram",
          "Michael Gallup",
          "Zach Pascal",
          "Mo Alie-Cox",
          "DeSean Jackson",
          "Samaje Perine",
          "Tre'Quan Smith",
          "Austin Hooper",
          "Duke Johnson",
          "Rondale Moore",
          "Foster Moreau",
          "Dontrell Hilliard",
          "Geno Smith",
          "Ameer Abdullah",
          "Jamal Agnew",
          "Kenny Golladay",
          "Josh Reynolds",
          "Keelan Cole",
          "Nico Collins",
          "T.Y. Hilton",
          "Drew Lock",
          "Jack Doyle",
          "Devin Duvernay*+",
          "Cameron Brate",
          "David Johnson",
          "Julio Jones",
          "Allen Robinson",
          "Laquon Treadwell",
          "Derrick Gore",
          "Jerry Jeudy",
          "Mack Hollins",
          "Travis Homer",
          "Josh Johnson",
          "Jeremy McNichols",
          "Jaret Patterson",
          "Danny Amendola",
          "Anthony Firkser",
          "Jalen Reagor",
          "Damien Williams",
          "Jeff Wilson",
          "Kyle Juszczyk*",
          "Demarcus Robinson",
          "Mike White",
          "Chris Conley",
          "Albert Okwuegbunam",
          "Darius Slayton",
          "Kadarius Toney",
          "Sammy Watkins",
          "Chris Carson",
          "Sterling Shepard",
          "James Washington",
          "Dan Arnold",
          "Harrison Bryant",
          "Tevin Coleman",
          "Phillip Lindsay",
          "Colt McCoy",
          "Peyton Barber",
          "Juwan Johnson",
          "Calvin Ridley",
          "Damiere Byrd",
          "DeeJay Dallas",
          "Ashton Dulin",
          "Donald Parham",
          "Ricky Seals-Jones",
          "Jonnu Smith",
          "Geoff Swaim",
          "Antoine Wesley",
          "Ryan Griffin",
          "Adam Humphries",
          "Hayden Hurst",
          "Josiah Deguara",
          "Marquise Goodwin",
          "Jimmy Graham",
          "Lil'Jordan Humphrey",
          "Dare Ogunbowale",
          "Giovani Bernard",
          "Matt Breida",
          "Tyler Johnson",
          "Brevin Jordan",
          "Durham Smythe",
          "Logan Thomas",
          "Adam Trautman",
          "Chris Evans",
          "Cyril Grayson",
          "Chris Moore",
          "MyCole Pruitt",
          "Chester Rogers",
          "Quintez Cephus",
          "Rashard Higgins",
          "Carlos Hyde",
          "Gardner Minshew II",
          "Kyle Rudolph",
          "Cam Sims",
          "Le'Veon Bell",
          "Demetric Felton",
          "Isaiah McKenzie",
          "Tommy Tremble",
          "Malik Turner",
          "Ke'Shawn Vaughn",
          "Ty'Son Williams",
          "Robert Tonyan",
          "John Bates",
          "Mike Glennon",
          "Brandon Zylstra",
          "John Ross",
          "Will Dissly",
          "Jakeem Grant*",
          "Case Keenum",
          "Isaiah Ford",
          "Craig Reynolds",
          "Greg Ward",
          "Salvon Ahmed",
          "Tavon Austin",
          "DJ Chark",
          "Jamycal Hasty",
          "Ray-Ray McCloud",
          "Elijhaa Penny",
          "James O'Shaughnessy",
          "Royce Freeman",
          "Trey Sermon",
          "Maxx Williams",
          "Tim Boyle",
          "Joe Flacco",
          "Kendall Hinton",
          "Cooper Rush",
          "Ihmir Smith-Marsette",
          "Brock Wright",
          "Stephen Anderson",
          "Corey Clement",
          "Tyler Kroft",
          "Jerick McKinnon",
          "Adrian Peterson",
          "Anthony Schwartz",
          "Tajae Sharpe",
          "Albert Wilson",
          "Eno Benjamin",
          "Parris Campbell",
          "Blake Jarwin",
          "Jermar Jefferson",
          "Breshad Perriman",
          "Eric Ebron",
          "Marcedes Lewis",
          "Jordan Love",
          "Malcolm Brown",
          "O.J. Howard",
          "Godwin Igwebuike",
          "James Proche",
          "JuJu Smith-Schuster",
          "Kene Nwangwu",
          "Ian Thomas",
          "Nick Vannett",
          "James White",
          "Jordan Akins",
          "Noah Brown",
          "D'Wayne Eskridge",
          "KhaDarel Hodge",
          "Mason Rudolph",
          "Mohamed Sanu",
          "Nick Foles",
          "Joe Fortson",
          "Zach Gentry",
          "Tony Jones",
          "Austin Walter",
          "Jonathan Williams",
          "Dyami Brown",
          "C.J. Ham",
          "N'Keal Harry",
          "Marcus Johnson",
          "Terrace Marshall Jr.",
          "Qadree Ollison",
          "Kristian Wilkerson",
          "Pharaoh Brown",
          "Alec Ingold",
          "Marcus Mariota",
          "Dante Pettis",
          "Larry Rountree",
          "Trent Sherfield",
          "J.J. Taylor",
          "Patrick Taylor",
          "Brandon Allen",
          "Jesper Horsted",
          "Scott Miller",
          "Ty Montgomery",
          "P.J. Walker",
          "Wayne Gallman",
          "Chris Manhertz",
          "Sean Mannion",
          "Denzel Mims",
          "Patrick Ricard*",
          "Ben Skowronek",
          "Lee Smith",
          "Kenny Stills",
          "Michael Burton",
          "Jacob Hollister",
          "Brian Hoyer",
          "Jesse James",
          "Joshua Kelley",
          "Tom Kennedy",
          "Antony Auclair",
          "Phillip Dorsett",
          "Ross Dwelley",
          "Dez Fitzpatrick",
          "Jake Fromm",
          "Kylen Granson",
          "Collin Johnson",
          "Marlon Mack",
          "Jalen Richard",
          "Eric Saubert",
          "Adam Shaheen",
          "Jeff Smith",
          "Benny Snell Jr.",
          "Equanimeous St. Brown",
          "Ryquell Armstead",
          "Blake Bell",
          "Trinity Benson",
          "Jason Cabinda",
          "Noah Gray",
          "Chris Herndon",
          "Chris Hogan",
          "Nick Mullens",
          "Shi Smith",
          "Tommy Sweeney",
          "Auden Tate",
          "Cameron Batson",
          "Josh Gordon",
          "JaQuan Hardy",
          "Deon Jackson",
          "Andy Janovich",
          "Sean McKeon",
          "Anthony Miller",
          "Keith Smith",
          "Kyle Allen",
          "Alex Armah",
          "Garrett Gilbert",
          "Tyree Jackson",
          "Chris Myarick",
          "Dezmon Patmon",
          "Drew Sample",
          "Mitchell Trubisky",
          "Preston Williams",
          "KJ Hamler",
          "Josh Oliver",
          "Andre Roberts",
          "Johnny Stanton",
          "Jonathan Ward",
          "Dede Westbrook",
          "C.J. Board",
          "Mike Boone",
          "Ja'Marcus Bradley",
          "Alex Erickson",
          "Luke Farrell",
          "Penny Hart",
          "Dax Milne",
          "Jason Moore",
          "Amari Rodgers",
          "Ito Smith",
          "Trayveon Williams",
          "Jaelon Darden",
          "Will Fuller",
          "Jason Huntley",
          "Tre' McKitty",
          "Wendell Smallwood",
          "Rodney Smith",
          "Mike Thomas",
          "Charlie Woerner",
          "JJ Arcega-Whiteside",
          "Kalen Ballage",
          "Kendall Blanton",
          "Pharoh Cooper",
          "Tyler Davis",
          "Greg Dortch",
          "Darren Fells",
          "Garrett Griffin",
          "Parker Hesse",
          "Jakob Johnson",
          "D.J. Montgomery",
          "Gunner Olszewski",
          "Curtis Samuel",
          "Willie Snead",
          "Trent Taylor",
          "Trevon Wesco",
          "Kevin White",
          "Juwann Winfree",
          "Kenny Yeboah",
          "Christian Blake",
          "Daniel Brown",
          "Dominique Dafney",
          "Reggie Gilliam",
          "Chad Henne",
          "K.J. Hill",
          "Kylin Hill",
          "Cody Hollister",
          "Tommy Hudson",
          "Trenton Irwin",
          "Jake Kumerow",
          "Gabe Nabers",
          "Colby Parkinson",
          "La'Mical Perine",
          "Kaden Smith",
          "Jeremy Sprinkle",
          "Mike Strachan",
          "Dwayne Washington",
          "Cody White",
          "Seth Williams",
          "Shane Zylstra",
          "Nick Bawden",
          "C.J. Beathard",
          "Reggie Bonnafon",
          "Ian Book",
          "Cethan Carter",
          "Davion Davis",
          "Darrynton Evans",
          "Blaine Gabbert",
          "Tyron Johnson",
          "Marcus Kemp",
          "Keith Kirkwood",
          "Patrick Laird",
          "Raheem Mostert",
          "Dazz Newsome",
          "Scottie Phillips",
          "Adam Prentice",
          "Trey Ragas",
          "Jaylen Samuels",
          "David Sills",
          "Jack Stoll",
          "Chris Streveler",
          "Tylan Wallace",
          "Derek Watt",
          "Mitchell Wilcox",
          "Cam Akers",
          "Tarik Black",
          "David Blough",
          "Miles Boykin",
          "Gary Brightwell",
          "Derek Carrier",
          "Keke Coutee",
          "Damarea Crockett",
          "Frank Darby",
          "Sam Ehlinger",
          "Ryan Fitzpatrick",
          "Jake Funk",
          "Marvin Hall",
          "Demetrius Harris",
          "Brycen Hopkins",
          "Buddy Howell",
          "Andy Isabella",
          "John Kelly",
          "Tommylee Lewis",
          "Hunter Long",
          "Anthony McFarland Jr.",
          "Kirk Merritt",
          "Jaydon Mickens",
          "Stanley Morgan Jr.",
          "Johnny Mundt",
          "Ryan Nall",
          "Jacques Patrick",
          "Kevin Rader",
          "Richard Rodgers",
          "Mekhi Sargent",
          "C.J. Saunders",
          "Luke Stocker",
          "Eric Tomlinson",
          "Tyrell Williams",
          "Easop Winston",
          "Ethan Wolf",
          "Alex Bachman",
          "Kenjon Barner",
          "Nick Bellore",
          "Kurt Benkert",
          "Nick Boyle",
          "Nathan Cottrell",
          "Chase Daniel",
          "Darrell Daniels",
          "Maurice Ffrench",
          "Daniel Helm",
          "Nate McCrary",
          "Kellen Mond",
          "Devine Ozigbo",
          "Nathan Peterman",
          "Brett Rypien",
          "Davis Webb",
          "Deon Yelder",
          "Khari Blasingame",
          "Jacob Eason",
          "Feleipe Franks",
          "Racey McMath",
          "Malik Taylor",
          "Logan Woodside",
          "Trenton Cannon",
          "John Wolford",
          "Josh Rosen",
          "Diontae Spencer"
         ],
         "type": "scatter",
         "x": [
          2,
          6,
          18,
          7,
          null,
          null,
          4,
          null,
          null,
          null,
          null,
          null,
          15,
          null,
          null,
          null,
          null,
          null,
          null,
          null,
          null,
          null,
          11,
          26,
          null,
          3,
          null,
          null,
          null,
          46,
          null,
          null,
          null,
          null,
          null,
          null,
          null,
          null,
          null,
          null,
          null,
          null,
          null,
          null,
          null,
          null,
          null,
          null,
          null,
          31,
          null,
          null,
          null,
          null,
          null,
          42,
          null,
          null,
          null,
          null,
          null,
          null,
          null,
          null,
          null,
          null,
          null,
          null,
          null,
          null,
          null,
          null,
          null,
          null,
          null,
          null,
          null,
          null,
          null,
          null,
          null,
          null,
          null,
          null,
          null,
          null,
          null,
          null,
          null,
          null,
          null,
          null,
          null,
          null,
          null,
          null,
          null,
          null,
          null,
          null,
          null,
          null,
          null,
          null,
          null,
          null,
          null,
          null,
          null,
          12,
          null,
          null,
          null,
          null,
          null,
          null,
          null,
          null,
          null,
          null,
          null,
          null,
          null,
          14,
          null,
          null,
          null,
          null,
          null,
          null,
          null,
          null,
          47,
          null,
          null,
          23,
          null,
          null,
          null,
          null,
          null,
          null,
          null,
          45,
          null,
          null,
          null,
          null,
          null,
          null,
          null,
          null,
          null,
          null,
          null,
          null,
          null,
          null,
          null,
          null,
          null,
          null,
          null,
          null,
          null,
          null,
          null,
          null,
          null,
          null,
          null,
          null,
          null,
          null,
          null,
          null,
          null,
          null,
          null,
          null,
          null,
          null,
          null,
          null,
          null,
          null,
          null,
          null,
          null,
          null,
          null,
          null,
          null,
          null,
          null,
          null,
          null,
          null,
          null,
          null,
          null,
          null,
          null,
          null,
          null,
          null,
          null,
          null,
          null,
          null,
          null,
          null,
          null,
          null,
          null,
          null,
          null,
          null,
          null,
          null,
          null,
          null,
          null,
          null,
          null,
          null,
          null,
          null,
          null,
          null,
          null,
          null,
          null,
          null,
          null,
          null,
          null,
          null,
          null,
          null,
          null,
          null,
          null,
          null,
          null,
          null,
          null,
          null,
          null,
          null,
          null,
          null,
          null,
          null,
          null,
          null,
          null,
          48,
          null,
          null,
          null,
          null,
          null,
          null,
          null,
          null,
          null,
          null,
          null,
          null,
          null,
          null,
          null,
          null,
          null,
          null,
          null,
          null,
          null,
          null,
          null,
          null,
          null,
          null,
          null,
          null,
          null,
          null,
          null,
          null,
          null,
          null,
          null,
          null,
          null,
          null,
          null,
          null,
          null,
          null,
          null,
          null,
          null,
          null,
          null,
          null,
          null,
          null,
          null,
          null,
          null,
          null,
          null,
          null,
          null,
          null,
          null,
          null,
          null,
          null,
          null,
          null,
          null,
          null,
          null,
          null,
          null,
          null,
          null,
          null,
          null,
          null,
          null,
          null,
          null,
          null,
          null,
          null,
          null,
          null,
          null,
          null,
          null,
          null,
          null,
          null,
          null,
          null,
          null,
          null,
          null,
          null,
          null,
          null,
          null,
          null,
          null,
          null,
          null,
          null,
          null,
          null,
          null,
          null,
          null,
          null,
          null,
          null,
          null,
          null,
          null,
          null,
          null,
          null,
          null,
          null,
          null,
          null,
          null,
          null,
          null,
          null,
          null,
          null,
          null,
          null,
          null,
          null,
          null,
          null,
          null,
          null,
          null,
          null,
          null,
          null,
          null,
          null,
          null,
          null,
          null,
          null,
          null,
          null,
          19,
          null,
          null,
          null,
          null,
          null,
          null,
          null,
          null,
          null,
          null,
          null,
          null,
          null,
          1,
          null,
          null,
          null,
          null,
          null,
          null,
          25,
          null,
          null,
          null,
          null,
          null,
          null,
          null,
          null,
          null,
          null,
          null,
          null,
          null,
          null,
          null,
          null,
          null,
          null,
          null,
          null,
          null,
          null,
          null,
          null,
          null,
          null,
          null,
          null,
          null,
          null,
          null,
          null,
          null,
          null,
          null,
          null,
          null,
          null,
          null,
          null,
          null,
          null,
          null,
          null,
          null,
          null,
          null,
          null,
          null,
          null,
          null,
          null,
          null,
          null,
          null,
          null,
          null,
          null,
          null,
          null,
          null,
          null,
          null,
          null,
          null,
          null,
          null,
          null,
          null,
          null,
          null,
          null,
          null,
          null,
          null,
          null,
          null,
          null,
          null,
          null,
          null,
          null,
          null,
          null,
          null,
          null,
          null,
          null,
          null,
          null,
          null,
          null,
          null,
          null,
          null,
          null,
          null,
          null,
          null,
          null,
          null,
          null,
          null,
          null,
          null,
          null,
          null,
          null,
          null,
          null,
          null,
          null,
          null,
          null,
          null,
          null,
          null,
          null,
          null,
          null,
          null,
          null,
          null,
          null,
          null,
          null,
          null,
          null,
          null,
          null,
          null,
          null,
          null,
          null,
          null,
          null,
          null,
          null,
          null,
          null,
          null,
          null,
          null,
          null,
          null,
          null,
          null,
          null,
          null,
          null,
          null,
          null,
          null,
          null,
          null,
          null,
          null,
          null,
          null,
          null,
          null,
          null,
          null,
          null,
          null,
          null,
          null,
          null,
          null,
          null,
          null,
          null,
          null,
          null,
          null,
          null,
          null,
          null,
          null,
          null,
          null,
          null,
          null,
          null,
          null,
          null,
          null,
          null,
          null,
          null,
          null,
          null,
          null,
          null,
          null,
          null
         ],
         "y": [
          333,
          295,
          262,
          403,
          274,
          381,
          375,
          194,
          224,
          222,
          246,
          221,
          362,
          227,
          171,
          221,
          189,
          332,
          186,
          330,
          183,
          205,
          321,
          195,
          171,
          169,
          168,
          192,
          314,
          167,
          312,
          188,
          187,
          187,
          131,
          183,
          127,
          156,
          154,
          300,
          300,
          177,
          152,
          175,
          151,
          172,
          172,
          116,
          145,
          115,
          145,
          144,
          114,
          167,
          142,
          142,
          109,
          139,
          109,
          162,
          137,
          107,
          137,
          135,
          135,
          158,
          133,
          131,
          153,
          152,
          126,
          149,
          147,
          92,
          146,
          268,
          258,
          257,
          243,
          240,
          228,
          225,
          223,
          222,
          218,
          203,
          199,
          195,
          181,
          181,
          167,
          157,
          157,
          152,
          143,
          134,
          127,
          125,
          125,
          124,
          122,
          118,
          118,
          118,
          118,
          117,
          117,
          116,
          114,
          113,
          113,
          109,
          108,
          108,
          107,
          106,
          105,
          104,
          103,
          103,
          103,
          103,
          103,
          101,
          100,
          99,
          97,
          95,
          94,
          94,
          94,
          94,
          92,
          92,
          92,
          91,
          91,
          91,
          91,
          90,
          90,
          90,
          88,
          86,
          86,
          86,
          86,
          85,
          85,
          85,
          85,
          85,
          84,
          84,
          84,
          84,
          83,
          83,
          83,
          82,
          82,
          82,
          82,
          81,
          79,
          79,
          79,
          79,
          77,
          77,
          77,
          76,
          75,
          75,
          73,
          73,
          73,
          72,
          72,
          71,
          70,
          70,
          69,
          66,
          66,
          66,
          65,
          65,
          64,
          64,
          64,
          63,
          62,
          61,
          61,
          61,
          61,
          60,
          60,
          59,
          59,
          59,
          58,
          58,
          57,
          57,
          57,
          56,
          56,
          56,
          56,
          55,
          55,
          55,
          55,
          54,
          54,
          52,
          52,
          52,
          52,
          51,
          51,
          51,
          51,
          50,
          50,
          49,
          49,
          49,
          49,
          49,
          48,
          47,
          46,
          46,
          46,
          46,
          46,
          45,
          45,
          45,
          45,
          45,
          44,
          44,
          44,
          43,
          43,
          43,
          43,
          43,
          42,
          42,
          42,
          41,
          41,
          41,
          41,
          41,
          40,
          40,
          40,
          39,
          39,
          39,
          39,
          39,
          39,
          39,
          39,
          38,
          38,
          38,
          37,
          37,
          37,
          37,
          37,
          36,
          36,
          36,
          36,
          36,
          36,
          36,
          35,
          35,
          35,
          35,
          35,
          34,
          34,
          34,
          34,
          34,
          34,
          33,
          33,
          33,
          33,
          33,
          33,
          33,
          32,
          31,
          31,
          31,
          30,
          29,
          29,
          29,
          28,
          28,
          28,
          27,
          27,
          27,
          27,
          27,
          27,
          26,
          25,
          25,
          25,
          24,
          24,
          24,
          24,
          24,
          24,
          23,
          23,
          23,
          23,
          23,
          23,
          23,
          23,
          22,
          22,
          22,
          22,
          22,
          21,
          21,
          21,
          20,
          20,
          20,
          20,
          20,
          19,
          19,
          19,
          19,
          18,
          18,
          18,
          18,
          18,
          18,
          17,
          17,
          17,
          17,
          17,
          17,
          16,
          16,
          16,
          16,
          16,
          16,
          16,
          15,
          15,
          15,
          15,
          15,
          15,
          15,
          15,
          14,
          14,
          14,
          14,
          14,
          13,
          13,
          13,
          13,
          13,
          13,
          13,
          13,
          12,
          12,
          12,
          12,
          12,
          12,
          11,
          11,
          11,
          11,
          11,
          11,
          11,
          11,
          11,
          11,
          11,
          11,
          11,
          11,
          10,
          10,
          10,
          10,
          10,
          10,
          10,
          10,
          10,
          10,
          10,
          9,
          9,
          9,
          9,
          9,
          9,
          9,
          9,
          8,
          8,
          8,
          8,
          8,
          8,
          8,
          8,
          8,
          7,
          7,
          7,
          7,
          7,
          7,
          6,
          6,
          6,
          6,
          6,
          6,
          6,
          6,
          6,
          6,
          6,
          5,
          5,
          5,
          5,
          5,
          5,
          5,
          5,
          4,
          4,
          4,
          4,
          4,
          4,
          4,
          4,
          4,
          4,
          4,
          4,
          4,
          4,
          4,
          4,
          4,
          4,
          4,
          3,
          3,
          3,
          3,
          3,
          3,
          3,
          3,
          3,
          3,
          3,
          3,
          3,
          3,
          3,
          3,
          3,
          3,
          3,
          3,
          3,
          2,
          2,
          2,
          2,
          2,
          2,
          2,
          2,
          2,
          2,
          2,
          2,
          2,
          2,
          2,
          2,
          2,
          2,
          2,
          2,
          2,
          2,
          2,
          2,
          1,
          1,
          1,
          1,
          1,
          1,
          1,
          1,
          1,
          1,
          1,
          1,
          1,
          1,
          1,
          1,
          1,
          1,
          1,
          1,
          1,
          1,
          1,
          1,
          1,
          1,
          1,
          1,
          1,
          1,
          1,
          1,
          1,
          1,
          1,
          1,
          null,
          null,
          null,
          null,
          null,
          null,
          null,
          null,
          null,
          null,
          null,
          null,
          null,
          null,
          null,
          null,
          null,
          -1,
          -1,
          -1,
          -1,
          -1,
          -1,
          -2,
          -2,
          -3,
          -4
         ]
        },
        {
         "mode": "markers",
         "text": [
          "Jonathan Taylor*+",
          "Cooper Kupp*+",
          "Deebo Samuel*+",
          "Josh Allen",
          "Austin Ekeler",
          "Justin Herbert*",
          "Tom Brady*",
          "Mark Andrews*+",
          "Ja'Marr Chase*",
          "Justin Jefferson*",
          "Joe Mixon*",
          "Davante Adams*+",
          "Patrick Mahomes*",
          "Najee Harris*",
          "Travis Kelce*",
          "James Conner*",
          "Mike Evans*",
          "Aaron Rodgers*+",
          "Tyreek Hill*",
          "Matthew Stafford",
          "Stefon Diggs*",
          "Ezekiel Elliott",
          "Dak Prescott",
          "Nick Chubb*",
          "Mike Williams",
          "D.K. Metcalf",
          "Tyler Lockett",
          "Damien Harris",
          "Joe Burrow",
          "Diontae Johnson*",
          "Jalen Hurts",
          "Alvin Kamara*",
          "Antonio Gibson",
          "Leonard Fournette",
          "Dalton Schultz",
          "Cordarrelle Patterson",
          "George Kittle*",
          "Hunter Renfrow*",
          "CeeDee Lamb*",
          "Kyler Murray*",
          "Kirk Cousins*",
          "Aaron Jones",
          "Keenan Allen*",
          "Derrick Henry",
          "Michael Pittman Jr.",
          "Dalvin Cook*",
          "Josh Jacobs",
          "Rob Gronkowski",
          "Tee Higgins",
          "Dawson Knox",
          "D.J. Moore",
          "Chris Godwin",
          "Hunter Henry",
          "Melvin Gordon",
          "Jaylen Waddle",
          "Brandin Cooks",
          "Dallas Goedert",
          "Darnell Mooney",
          "Kyle Pitts*",
          "Javonte Williams",
          "Amon-Ra St. Brown",
          "Zach Ertz",
          "Terry McLaurin",
          "Marquise Brown",
          "Amari Cooper",
          "Devin Singletary",
          "Adam Thielen",
          "Christian Kirk",
          "David Montgomery",
          "AJ Dillon",
          "Kendrick Bourne",
          "Darrel Williams",
          "D'Andre Swift",
          "Mike Gesicki",
          "Elijah Mitchell",
          "Ryan Tannehill",
          "Carson Wentz",
          "Derek Carr",
          "Russell Wilson*",
          "Lamar Jackson*",
          "Jimmy Garoppolo",
          "Mac Jones*",
          "Matt Ryan",
          "Taylor Heinicke",
          "Ben Roethlisberger",
          "Teddy Bridgewater",
          "Trevor Lawrence",
          "Jared Goff",
          "Baker Mayfield",
          "Tua Tagovailoa",
          "Daniel Jones",
          "Sam Darnold",
          "Davis Mills",
          "Zach Wilson",
          "James Robinson",
          "Darrell Henderson",
          "Justin Fields",
          "Myles Gaskin",
          "Sony Michel",
          "Tony Pollard",
          "DeVonta Smith",
          "A.J. Brown",
          "Michael Carter",
          "Taysom Hill",
          "Van Jefferson",
          "Tyler Boyd",
          "Jameis Winston",
          "Rashaad Penny",
          "Brandon Aiyuk",
          "Devonta Freeman",
          "Chuba Hubbard",
          "K.J. Osborn",
          "Saquon Barkley",
          "Chase Claypool",
          "Marvin Jones",
          "Marquez Callaway",
          "DeAndre Hopkins",
          "Devontae Booker",
          "A.J. Green",
          "Allen Lazard",
          "Jakobi Meyers",
          "Tim Patrick",
          "Cedrick Wilson Jr.",
          "Rhamondre Stevenson",
          "Chase Edmonds",
          "Clyde Edwards-Helaire",
          "Russell Gage",
          "Elijah Moore",
          "Mike Davis",
          "Alexander Mattison",
          "Latavius Murray",
          "Jamaal Williams",
          "Pat Freiermuth",
          "Courtland Sutton",
          "Robert Woods",
          "Gabriel Davis",
          "Noah Fant",
          "Christian McCaffrey",
          "Miles Sanders",
          "Kenneth Gainwell",
          "Emmanuel Sanders",
          "Trevor Siemian",
          "Kareem Hunt",
          "Robby Anderson",
          "Tyler Higbee",
          "Cam Newton",
          "Boston Scott",
          "Odell Beckham Jr.",
          "D'Onta Foreman",
          "D'Ernest Johnson",
          "J.D. McKissic",
          "Byron Pringle",
          "Jared Cook",
          "Andy Dalton",
          "T.J. Hockenson",
          "Kalif Raymond",
          "Brandon Bolden",
          "Tyler Huntley",
          "Ty Johnson",
          "Mecole Hardman",
          "Mark Ingram",
          "Zack Moss",
          "Tyrod Taylor",
          "Jarvis Landry",
          "Antonio Brown",
          "Rex Burkhead",
          "C.J. Uzomah",
          "Darren Waller",
          "Cole Beasley",
          "Tyler Conklin",
          "Deonte Harris",
          "Donovan Peoples-Jones",
          "Braxton Berrios+",
          "Bryan Edwards",
          "Kenyan Drake",
          "Nyheim Hines",
          "Quez Watkins",
          "Jacoby Brissett",
          "David Njoku",
          "Corey Davis",
          "Gerald Everett",
          "Nick Westbrook-Ikhine",
          "Ronald Jones II",
          "Nelson Agholor",
          "Randall Cobb",
          "Jalen Guyton",
          "Khalil Herbert",
          "Trey Lance",
          "Justin Jackson",
          "DeVante Parker",
          "Laviska Shenault Jr.",
          "DeAndre Carter",
          "Freddie Swain",
          "Jordan Howard",
          "Cole Kmet",
          "Henry Ruggs III",
          "Marquez Valdes-Scantling",
          "Alex Collins",
          "Josh Palmer",
          "Jamison Crowder",
          "Zay Jones",
          "Olamide Zaccheaus",
          "Rashod Bateman",
          "Jauan Jennings",
          "Evan Engram",
          "Michael Gallup",
          "Zach Pascal",
          "Mo Alie-Cox",
          "DeSean Jackson",
          "Samaje Perine",
          "Tre'Quan Smith",
          "Austin Hooper",
          "Duke Johnson",
          "Rondale Moore",
          "Foster Moreau",
          "Dontrell Hilliard",
          "Geno Smith",
          "Ameer Abdullah",
          "Jamal Agnew",
          "Kenny Golladay",
          "Josh Reynolds",
          "Keelan Cole",
          "Nico Collins",
          "T.Y. Hilton",
          "Drew Lock",
          "Jack Doyle",
          "Devin Duvernay*+",
          "Cameron Brate",
          "David Johnson",
          "Julio Jones",
          "Allen Robinson",
          "Laquon Treadwell",
          "Derrick Gore",
          "Jerry Jeudy",
          "Mack Hollins",
          "Travis Homer",
          "Josh Johnson",
          "Jeremy McNichols",
          "Jaret Patterson",
          "Danny Amendola",
          "Anthony Firkser",
          "Jalen Reagor",
          "Damien Williams",
          "Jeff Wilson",
          "Kyle Juszczyk*",
          "Demarcus Robinson",
          "Mike White",
          "Chris Conley",
          "Albert Okwuegbunam",
          "Darius Slayton",
          "Kadarius Toney",
          "Sammy Watkins",
          "Chris Carson",
          "Sterling Shepard",
          "James Washington",
          "Dan Arnold",
          "Harrison Bryant",
          "Tevin Coleman",
          "Phillip Lindsay",
          "Colt McCoy",
          "Peyton Barber",
          "Juwan Johnson",
          "Calvin Ridley",
          "Damiere Byrd",
          "DeeJay Dallas",
          "Ashton Dulin",
          "Donald Parham",
          "Ricky Seals-Jones",
          "Jonnu Smith",
          "Geoff Swaim",
          "Antoine Wesley",
          "Ryan Griffin",
          "Adam Humphries",
          "Hayden Hurst",
          "Josiah Deguara",
          "Marquise Goodwin",
          "Jimmy Graham",
          "Lil'Jordan Humphrey",
          "Dare Ogunbowale",
          "Giovani Bernard",
          "Matt Breida",
          "Tyler Johnson",
          "Brevin Jordan",
          "Durham Smythe",
          "Logan Thomas",
          "Adam Trautman",
          "Chris Evans",
          "Cyril Grayson",
          "Chris Moore",
          "MyCole Pruitt",
          "Chester Rogers",
          "Quintez Cephus",
          "Rashard Higgins",
          "Carlos Hyde",
          "Gardner Minshew II",
          "Kyle Rudolph",
          "Cam Sims",
          "Le'Veon Bell",
          "Demetric Felton",
          "Isaiah McKenzie",
          "Tommy Tremble",
          "Malik Turner",
          "Ke'Shawn Vaughn",
          "Ty'Son Williams",
          "Robert Tonyan",
          "John Bates",
          "Mike Glennon",
          "Brandon Zylstra",
          "John Ross",
          "Will Dissly",
          "Jakeem Grant*",
          "Case Keenum",
          "Isaiah Ford",
          "Craig Reynolds",
          "Greg Ward",
          "Salvon Ahmed",
          "Tavon Austin",
          "DJ Chark",
          "Jamycal Hasty",
          "Ray-Ray McCloud",
          "Elijhaa Penny",
          "James O'Shaughnessy",
          "Royce Freeman",
          "Trey Sermon",
          "Maxx Williams",
          "Tim Boyle",
          "Joe Flacco",
          "Kendall Hinton",
          "Cooper Rush",
          "Ihmir Smith-Marsette",
          "Brock Wright",
          "Stephen Anderson",
          "Corey Clement",
          "Tyler Kroft",
          "Jerick McKinnon",
          "Adrian Peterson",
          "Anthony Schwartz",
          "Tajae Sharpe",
          "Albert Wilson",
          "Eno Benjamin",
          "Parris Campbell",
          "Blake Jarwin",
          "Jermar Jefferson",
          "Breshad Perriman",
          "Eric Ebron",
          "Marcedes Lewis",
          "Jordan Love",
          "Malcolm Brown",
          "O.J. Howard",
          "Godwin Igwebuike",
          "James Proche",
          "JuJu Smith-Schuster",
          "Kene Nwangwu",
          "Ian Thomas",
          "Nick Vannett",
          "James White",
          "Jordan Akins",
          "Noah Brown",
          "D'Wayne Eskridge",
          "KhaDarel Hodge",
          "Mason Rudolph",
          "Mohamed Sanu",
          "Nick Foles",
          "Joe Fortson",
          "Zach Gentry",
          "Tony Jones",
          "Austin Walter",
          "Jonathan Williams",
          "Dyami Brown",
          "C.J. Ham",
          "N'Keal Harry",
          "Marcus Johnson",
          "Terrace Marshall Jr.",
          "Qadree Ollison",
          "Kristian Wilkerson",
          "Pharaoh Brown",
          "Alec Ingold",
          "Marcus Mariota",
          "Dante Pettis",
          "Larry Rountree",
          "Trent Sherfield",
          "J.J. Taylor",
          "Patrick Taylor",
          "Brandon Allen",
          "Jesper Horsted",
          "Scott Miller",
          "Ty Montgomery",
          "P.J. Walker",
          "Wayne Gallman",
          "Chris Manhertz",
          "Sean Mannion",
          "Denzel Mims",
          "Patrick Ricard*",
          "Ben Skowronek",
          "Lee Smith",
          "Kenny Stills",
          "Michael Burton",
          "Jacob Hollister",
          "Brian Hoyer",
          "Jesse James",
          "Joshua Kelley",
          "Tom Kennedy",
          "Antony Auclair",
          "Phillip Dorsett",
          "Ross Dwelley",
          "Dez Fitzpatrick",
          "Jake Fromm",
          "Kylen Granson",
          "Collin Johnson",
          "Marlon Mack",
          "Jalen Richard",
          "Eric Saubert",
          "Adam Shaheen",
          "Jeff Smith",
          "Benny Snell Jr.",
          "Equanimeous St. Brown",
          "Ryquell Armstead",
          "Blake Bell",
          "Trinity Benson",
          "Jason Cabinda",
          "Noah Gray",
          "Chris Herndon",
          "Chris Hogan",
          "Nick Mullens",
          "Shi Smith",
          "Tommy Sweeney",
          "Auden Tate",
          "Cameron Batson",
          "Josh Gordon",
          "JaQuan Hardy",
          "Deon Jackson",
          "Andy Janovich",
          "Sean McKeon",
          "Anthony Miller",
          "Keith Smith",
          "Kyle Allen",
          "Alex Armah",
          "Garrett Gilbert",
          "Tyree Jackson",
          "Chris Myarick",
          "Dezmon Patmon",
          "Drew Sample",
          "Mitchell Trubisky",
          "Preston Williams",
          "KJ Hamler",
          "Josh Oliver",
          "Andre Roberts",
          "Johnny Stanton",
          "Jonathan Ward",
          "Dede Westbrook",
          "C.J. Board",
          "Mike Boone",
          "Ja'Marcus Bradley",
          "Alex Erickson",
          "Luke Farrell",
          "Penny Hart",
          "Dax Milne",
          "Jason Moore",
          "Amari Rodgers",
          "Ito Smith",
          "Trayveon Williams",
          "Jaelon Darden",
          "Will Fuller",
          "Jason Huntley",
          "Tre' McKitty",
          "Wendell Smallwood",
          "Rodney Smith",
          "Mike Thomas",
          "Charlie Woerner",
          "JJ Arcega-Whiteside",
          "Kalen Ballage",
          "Kendall Blanton",
          "Pharoh Cooper",
          "Tyler Davis",
          "Greg Dortch",
          "Darren Fells",
          "Garrett Griffin",
          "Parker Hesse",
          "Jakob Johnson",
          "D.J. Montgomery",
          "Gunner Olszewski",
          "Curtis Samuel",
          "Willie Snead",
          "Trent Taylor",
          "Trevon Wesco",
          "Kevin White",
          "Juwann Winfree",
          "Kenny Yeboah",
          "Christian Blake",
          "Daniel Brown",
          "Dominique Dafney",
          "Reggie Gilliam",
          "Chad Henne",
          "K.J. Hill",
          "Kylin Hill",
          "Cody Hollister",
          "Tommy Hudson",
          "Trenton Irwin",
          "Jake Kumerow",
          "Gabe Nabers",
          "Colby Parkinson",
          "La'Mical Perine",
          "Kaden Smith",
          "Jeremy Sprinkle",
          "Mike Strachan",
          "Dwayne Washington",
          "Cody White",
          "Seth Williams",
          "Shane Zylstra",
          "Nick Bawden",
          "C.J. Beathard",
          "Reggie Bonnafon",
          "Ian Book",
          "Cethan Carter",
          "Davion Davis",
          "Darrynton Evans",
          "Blaine Gabbert",
          "Tyron Johnson",
          "Marcus Kemp",
          "Keith Kirkwood",
          "Patrick Laird",
          "Raheem Mostert",
          "Dazz Newsome",
          "Scottie Phillips",
          "Adam Prentice",
          "Trey Ragas",
          "Jaylen Samuels",
          "David Sills",
          "Jack Stoll",
          "Chris Streveler",
          "Tylan Wallace",
          "Derek Watt",
          "Mitchell Wilcox",
          "Cam Akers",
          "Tarik Black",
          "David Blough",
          "Miles Boykin",
          "Gary Brightwell",
          "Derek Carrier",
          "Keke Coutee",
          "Damarea Crockett",
          "Frank Darby",
          "Sam Ehlinger",
          "Ryan Fitzpatrick",
          "Jake Funk",
          "Marvin Hall",
          "Demetrius Harris",
          "Brycen Hopkins",
          "Buddy Howell",
          "Andy Isabella",
          "John Kelly",
          "Tommylee Lewis",
          "Hunter Long",
          "Anthony McFarland Jr.",
          "Kirk Merritt",
          "Jaydon Mickens",
          "Stanley Morgan Jr.",
          "Johnny Mundt",
          "Ryan Nall",
          "Jacques Patrick",
          "Kevin Rader",
          "Richard Rodgers",
          "Mekhi Sargent",
          "C.J. Saunders",
          "Luke Stocker",
          "Eric Tomlinson",
          "Tyrell Williams",
          "Easop Winston",
          "Ethan Wolf",
          "Alex Bachman",
          "Kenjon Barner",
          "Nick Bellore",
          "Kurt Benkert",
          "Nick Boyle",
          "Nathan Cottrell",
          "Chase Daniel",
          "Darrell Daniels",
          "Maurice Ffrench",
          "Daniel Helm",
          "Nate McCrary",
          "Kellen Mond",
          "Devine Ozigbo",
          "Nathan Peterman",
          "Brett Rypien",
          "Davis Webb",
          "Deon Yelder",
          "Khari Blasingame",
          "Jacob Eason",
          "Feleipe Franks",
          "Racey McMath",
          "Malik Taylor",
          "Logan Woodside",
          "Trenton Cannon",
          "John Wolford",
          "Josh Rosen",
          "Diontae Spencer"
         ],
         "type": "scatter",
         "x": [
          3,
          null,
          33,
          32,
          2,
          17,
          null,
          null,
          22,
          null,
          35,
          null,
          null,
          null,
          null,
          null,
          null,
          31,
          null,
          null,
          1,
          null,
          15,
          14,
          null,
          null,
          null,
          null,
          26,
          null,
          null,
          null,
          null,
          null,
          null,
          25,
          null,
          null,
          null,
          null,
          4,
          44,
          null,
          null,
          null,
          null,
          null,
          null,
          null,
          null,
          null,
          null,
          null,
          null,
          null,
          null,
          null,
          null,
          null,
          null,
          null,
          null,
          8,
          null,
          null,
          null,
          null,
          null,
          null,
          null,
          null,
          null,
          null,
          null,
          null,
          null,
          null,
          null,
          null,
          null,
          null,
          null,
          null,
          null,
          null,
          null,
          null,
          null,
          null,
          null,
          null,
          null,
          null,
          null,
          null,
          24,
          34,
          null,
          null,
          null,
          null,
          null,
          null,
          null,
          null,
          null,
          null,
          null,
          null,
          null,
          16,
          null,
          null,
          null,
          null,
          null,
          null,
          null,
          6,
          null,
          null,
          null,
          null,
          null,
          null,
          null,
          null,
          null,
          null,
          null,
          null,
          null,
          null,
          null,
          null,
          null,
          null,
          null,
          null,
          null,
          null,
          null,
          null,
          null,
          null,
          null,
          null,
          null,
          null,
          null,
          null,
          null,
          null,
          null,
          null,
          null,
          null,
          null,
          null,
          23,
          null,
          null,
          null,
          null,
          null,
          null,
          null,
          null,
          null,
          null,
          null,
          null,
          null,
          null,
          null,
          null,
          null,
          null,
          null,
          null,
          null,
          null,
          null,
          null,
          null,
          null,
          null,
          null,
          null,
          null,
          null,
          null,
          null,
          null,
          null,
          null,
          null,
          null,
          null,
          null,
          null,
          null,
          null,
          null,
          null,
          null,
          null,
          null,
          null,
          null,
          null,
          null,
          null,
          null,
          null,
          null,
          null,
          null,
          null,
          null,
          null,
          null,
          null,
          null,
          null,
          null,
          null,
          null,
          null,
          null,
          null,
          null,
          null,
          null,
          null,
          null,
          null,
          null,
          null,
          null,
          null,
          null,
          null,
          null,
          null,
          null,
          null,
          null,
          null,
          null,
          null,
          null,
          null,
          null,
          null,
          null,
          null,
          null,
          null,
          null,
          null,
          null,
          null,
          null,
          null,
          null,
          null,
          null,
          null,
          null,
          null,
          null,
          null,
          null,
          null,
          null,
          null,
          null,
          null,
          null,
          null,
          null,
          null,
          null,
          null,
          null,
          null,
          null,
          null,
          null,
          null,
          null,
          null,
          null,
          null,
          null,
          null,
          null,
          null,
          null,
          null,
          null,
          null,
          null,
          null,
          null,
          null,
          null,
          null,
          null,
          null,
          null,
          null,
          null,
          null,
          null,
          null,
          null,
          null,
          null,
          null,
          null,
          null,
          null,
          null,
          null,
          null,
          null,
          null,
          null,
          null,
          null,
          null,
          null,
          null,
          null,
          null,
          null,
          null,
          null,
          null,
          null,
          null,
          null,
          null,
          null,
          null,
          null,
          null,
          null,
          null,
          null,
          null,
          null,
          null,
          null,
          null,
          null,
          null,
          null,
          null,
          null,
          null,
          null,
          null,
          null,
          null,
          null,
          null,
          null,
          null,
          null,
          null,
          null,
          null,
          null,
          null,
          null,
          null,
          null,
          null,
          null,
          null,
          null,
          null,
          null,
          null,
          null,
          null,
          null,
          null,
          null,
          null,
          null,
          null,
          null,
          null,
          null,
          null,
          null,
          null,
          null,
          null,
          null,
          null,
          null,
          null,
          null,
          null,
          null,
          null,
          null,
          null,
          null,
          null,
          null,
          null,
          null,
          null,
          null,
          null,
          null,
          null,
          null,
          null,
          null,
          null,
          null,
          null,
          null,
          null,
          null,
          null,
          null,
          null,
          null,
          null,
          null,
          null,
          null,
          null,
          null,
          null,
          null,
          null,
          null,
          null,
          null,
          null,
          null,
          null,
          null,
          null,
          null,
          null,
          null,
          null,
          null,
          null,
          null,
          null,
          null,
          null,
          null,
          null,
          null,
          null,
          null,
          null,
          null,
          null,
          null,
          null,
          null,
          null,
          null,
          null,
          null,
          null,
          null,
          null,
          null,
          null,
          null,
          null,
          null,
          null,
          null,
          null,
          null,
          null,
          null,
          null,
          null,
          null,
          null,
          null,
          null,
          null,
          null,
          null,
          null,
          null,
          null,
          null,
          null,
          null,
          null,
          null,
          null,
          null,
          null,
          null,
          null,
          null,
          null,
          null,
          null,
          null,
          null,
          null,
          null,
          null,
          null,
          null,
          null,
          null,
          null,
          null,
          null,
          null,
          null,
          null,
          null,
          null,
          null,
          null,
          null,
          null,
          null,
          null,
          null,
          null,
          null,
          null,
          null,
          null,
          null,
          null,
          null,
          null,
          null,
          null,
          null,
          null,
          null,
          null,
          null,
          null,
          null,
          null,
          null,
          null,
          null,
          null,
          null,
          null,
          null,
          null,
          null,
          null,
          null,
          null,
          null,
          null,
          null,
          null,
          null,
          null,
          null,
          null,
          null,
          null,
          null,
          null,
          null,
          null,
          null,
          null,
          null,
          null,
          null,
          null,
          null,
          null,
          null,
          null,
          null,
          null,
          null,
          null,
          null,
          null,
          null,
          null,
          null,
          null,
          null,
          null,
          null,
          null,
          null,
          null,
          null,
          null,
          null,
          null,
          null,
          null,
          null
         ],
         "y": [
          333,
          295,
          262,
          403,
          274,
          381,
          375,
          194,
          224,
          222,
          246,
          221,
          362,
          227,
          171,
          221,
          189,
          332,
          186,
          330,
          183,
          205,
          321,
          195,
          171,
          169,
          168,
          192,
          314,
          167,
          312,
          188,
          187,
          187,
          131,
          183,
          127,
          156,
          154,
          300,
          300,
          177,
          152,
          175,
          151,
          172,
          172,
          116,
          145,
          115,
          145,
          144,
          114,
          167,
          142,
          142,
          109,
          139,
          109,
          162,
          137,
          107,
          137,
          135,
          135,
          158,
          133,
          131,
          153,
          152,
          126,
          149,
          147,
          92,
          146,
          268,
          258,
          257,
          243,
          240,
          228,
          225,
          223,
          222,
          218,
          203,
          199,
          195,
          181,
          181,
          167,
          157,
          157,
          152,
          143,
          134,
          127,
          125,
          125,
          124,
          122,
          118,
          118,
          118,
          118,
          117,
          117,
          116,
          114,
          113,
          113,
          109,
          108,
          108,
          107,
          106,
          105,
          104,
          103,
          103,
          103,
          103,
          103,
          101,
          100,
          99,
          97,
          95,
          94,
          94,
          94,
          94,
          92,
          92,
          92,
          91,
          91,
          91,
          91,
          90,
          90,
          90,
          88,
          86,
          86,
          86,
          86,
          85,
          85,
          85,
          85,
          85,
          84,
          84,
          84,
          84,
          83,
          83,
          83,
          82,
          82,
          82,
          82,
          81,
          79,
          79,
          79,
          79,
          77,
          77,
          77,
          76,
          75,
          75,
          73,
          73,
          73,
          72,
          72,
          71,
          70,
          70,
          69,
          66,
          66,
          66,
          65,
          65,
          64,
          64,
          64,
          63,
          62,
          61,
          61,
          61,
          61,
          60,
          60,
          59,
          59,
          59,
          58,
          58,
          57,
          57,
          57,
          56,
          56,
          56,
          56,
          55,
          55,
          55,
          55,
          54,
          54,
          52,
          52,
          52,
          52,
          51,
          51,
          51,
          51,
          50,
          50,
          49,
          49,
          49,
          49,
          49,
          48,
          47,
          46,
          46,
          46,
          46,
          46,
          45,
          45,
          45,
          45,
          45,
          44,
          44,
          44,
          43,
          43,
          43,
          43,
          43,
          42,
          42,
          42,
          41,
          41,
          41,
          41,
          41,
          40,
          40,
          40,
          39,
          39,
          39,
          39,
          39,
          39,
          39,
          39,
          38,
          38,
          38,
          37,
          37,
          37,
          37,
          37,
          36,
          36,
          36,
          36,
          36,
          36,
          36,
          35,
          35,
          35,
          35,
          35,
          34,
          34,
          34,
          34,
          34,
          34,
          33,
          33,
          33,
          33,
          33,
          33,
          33,
          32,
          31,
          31,
          31,
          30,
          29,
          29,
          29,
          28,
          28,
          28,
          27,
          27,
          27,
          27,
          27,
          27,
          26,
          25,
          25,
          25,
          24,
          24,
          24,
          24,
          24,
          24,
          23,
          23,
          23,
          23,
          23,
          23,
          23,
          23,
          22,
          22,
          22,
          22,
          22,
          21,
          21,
          21,
          20,
          20,
          20,
          20,
          20,
          19,
          19,
          19,
          19,
          18,
          18,
          18,
          18,
          18,
          18,
          17,
          17,
          17,
          17,
          17,
          17,
          16,
          16,
          16,
          16,
          16,
          16,
          16,
          15,
          15,
          15,
          15,
          15,
          15,
          15,
          15,
          14,
          14,
          14,
          14,
          14,
          13,
          13,
          13,
          13,
          13,
          13,
          13,
          13,
          12,
          12,
          12,
          12,
          12,
          12,
          11,
          11,
          11,
          11,
          11,
          11,
          11,
          11,
          11,
          11,
          11,
          11,
          11,
          11,
          10,
          10,
          10,
          10,
          10,
          10,
          10,
          10,
          10,
          10,
          10,
          9,
          9,
          9,
          9,
          9,
          9,
          9,
          9,
          8,
          8,
          8,
          8,
          8,
          8,
          8,
          8,
          8,
          7,
          7,
          7,
          7,
          7,
          7,
          6,
          6,
          6,
          6,
          6,
          6,
          6,
          6,
          6,
          6,
          6,
          5,
          5,
          5,
          5,
          5,
          5,
          5,
          5,
          4,
          4,
          4,
          4,
          4,
          4,
          4,
          4,
          4,
          4,
          4,
          4,
          4,
          4,
          4,
          4,
          4,
          4,
          4,
          3,
          3,
          3,
          3,
          3,
          3,
          3,
          3,
          3,
          3,
          3,
          3,
          3,
          3,
          3,
          3,
          3,
          3,
          3,
          3,
          3,
          2,
          2,
          2,
          2,
          2,
          2,
          2,
          2,
          2,
          2,
          2,
          2,
          2,
          2,
          2,
          2,
          2,
          2,
          2,
          2,
          2,
          2,
          2,
          2,
          1,
          1,
          1,
          1,
          1,
          1,
          1,
          1,
          1,
          1,
          1,
          1,
          1,
          1,
          1,
          1,
          1,
          1,
          1,
          1,
          1,
          1,
          1,
          1,
          1,
          1,
          1,
          1,
          1,
          1,
          1,
          1,
          1,
          1,
          1,
          1,
          null,
          null,
          null,
          null,
          null,
          null,
          null,
          null,
          null,
          null,
          null,
          null,
          null,
          null,
          null,
          null,
          null,
          -1,
          -1,
          -1,
          -1,
          -1,
          -1,
          -2,
          -2,
          -3,
          -4
         ]
        },
        {
         "mode": "markers",
         "text": [
          "Jonathan Taylor*+",
          "Cooper Kupp*+",
          "Deebo Samuel*+",
          "Josh Allen",
          "Austin Ekeler",
          "Justin Herbert*",
          "Tom Brady*",
          "Mark Andrews*+",
          "Ja'Marr Chase*",
          "Justin Jefferson*",
          "Joe Mixon*",
          "Davante Adams*+",
          "Patrick Mahomes*",
          "Najee Harris*",
          "Travis Kelce*",
          "James Conner*",
          "Mike Evans*",
          "Aaron Rodgers*+",
          "Tyreek Hill*",
          "Matthew Stafford",
          "Stefon Diggs*",
          "Ezekiel Elliott",
          "Dak Prescott",
          "Nick Chubb*",
          "Mike Williams",
          "D.K. Metcalf",
          "Tyler Lockett",
          "Damien Harris",
          "Joe Burrow",
          "Diontae Johnson*",
          "Jalen Hurts",
          "Alvin Kamara*",
          "Antonio Gibson",
          "Leonard Fournette",
          "Dalton Schultz",
          "Cordarrelle Patterson",
          "George Kittle*",
          "Hunter Renfrow*",
          "CeeDee Lamb*",
          "Kyler Murray*",
          "Kirk Cousins*",
          "Aaron Jones",
          "Keenan Allen*",
          "Derrick Henry",
          "Michael Pittman Jr.",
          "Dalvin Cook*",
          "Josh Jacobs",
          "Rob Gronkowski",
          "Tee Higgins",
          "Dawson Knox",
          "D.J. Moore",
          "Chris Godwin",
          "Hunter Henry",
          "Melvin Gordon",
          "Jaylen Waddle",
          "Brandin Cooks",
          "Dallas Goedert",
          "Darnell Mooney",
          "Kyle Pitts*",
          "Javonte Williams",
          "Amon-Ra St. Brown",
          "Zach Ertz",
          "Terry McLaurin",
          "Marquise Brown",
          "Amari Cooper",
          "Devin Singletary",
          "Adam Thielen",
          "Christian Kirk",
          "David Montgomery",
          "AJ Dillon",
          "Kendrick Bourne",
          "Darrel Williams",
          "D'Andre Swift",
          "Mike Gesicki",
          "Elijah Mitchell",
          "Ryan Tannehill",
          "Carson Wentz",
          "Derek Carr",
          "Russell Wilson*",
          "Lamar Jackson*",
          "Jimmy Garoppolo",
          "Mac Jones*",
          "Matt Ryan",
          "Taylor Heinicke",
          "Ben Roethlisberger",
          "Teddy Bridgewater",
          "Trevor Lawrence",
          "Jared Goff",
          "Baker Mayfield",
          "Tua Tagovailoa",
          "Daniel Jones",
          "Sam Darnold",
          "Davis Mills",
          "Zach Wilson",
          "James Robinson",
          "Darrell Henderson",
          "Justin Fields",
          "Myles Gaskin",
          "Sony Michel",
          "Tony Pollard",
          "DeVonta Smith",
          "A.J. Brown",
          "Michael Carter",
          "Taysom Hill",
          "Van Jefferson",
          "Tyler Boyd",
          "Jameis Winston",
          "Rashaad Penny",
          "Brandon Aiyuk",
          "Devonta Freeman",
          "Chuba Hubbard",
          "K.J. Osborn",
          "Saquon Barkley",
          "Chase Claypool",
          "Marvin Jones",
          "Marquez Callaway",
          "DeAndre Hopkins",
          "Devontae Booker",
          "A.J. Green",
          "Allen Lazard",
          "Jakobi Meyers",
          "Tim Patrick",
          "Cedrick Wilson Jr.",
          "Rhamondre Stevenson",
          "Chase Edmonds",
          "Clyde Edwards-Helaire",
          "Russell Gage",
          "Elijah Moore",
          "Mike Davis",
          "Alexander Mattison",
          "Latavius Murray",
          "Jamaal Williams",
          "Pat Freiermuth",
          "Courtland Sutton",
          "Robert Woods",
          "Gabriel Davis",
          "Noah Fant",
          "Christian McCaffrey",
          "Miles Sanders",
          "Kenneth Gainwell",
          "Emmanuel Sanders",
          "Trevor Siemian",
          "Kareem Hunt",
          "Robby Anderson",
          "Tyler Higbee",
          "Cam Newton",
          "Boston Scott",
          "Odell Beckham Jr.",
          "D'Onta Foreman",
          "D'Ernest Johnson",
          "J.D. McKissic",
          "Byron Pringle",
          "Jared Cook",
          "Andy Dalton",
          "T.J. Hockenson",
          "Kalif Raymond",
          "Brandon Bolden",
          "Tyler Huntley",
          "Ty Johnson",
          "Mecole Hardman",
          "Mark Ingram",
          "Zack Moss",
          "Tyrod Taylor",
          "Jarvis Landry",
          "Antonio Brown",
          "Rex Burkhead",
          "C.J. Uzomah",
          "Darren Waller",
          "Cole Beasley",
          "Tyler Conklin",
          "Deonte Harris",
          "Donovan Peoples-Jones",
          "Braxton Berrios+",
          "Bryan Edwards",
          "Kenyan Drake",
          "Nyheim Hines",
          "Quez Watkins",
          "Jacoby Brissett",
          "David Njoku",
          "Corey Davis",
          "Gerald Everett",
          "Nick Westbrook-Ikhine",
          "Ronald Jones II",
          "Nelson Agholor",
          "Randall Cobb",
          "Jalen Guyton",
          "Khalil Herbert",
          "Trey Lance",
          "Justin Jackson",
          "DeVante Parker",
          "Laviska Shenault Jr.",
          "DeAndre Carter",
          "Freddie Swain",
          "Jordan Howard",
          "Cole Kmet",
          "Henry Ruggs III",
          "Marquez Valdes-Scantling",
          "Alex Collins",
          "Josh Palmer",
          "Jamison Crowder",
          "Zay Jones",
          "Olamide Zaccheaus",
          "Rashod Bateman",
          "Jauan Jennings",
          "Evan Engram",
          "Michael Gallup",
          "Zach Pascal",
          "Mo Alie-Cox",
          "DeSean Jackson",
          "Samaje Perine",
          "Tre'Quan Smith",
          "Austin Hooper",
          "Duke Johnson",
          "Rondale Moore",
          "Foster Moreau",
          "Dontrell Hilliard",
          "Geno Smith",
          "Ameer Abdullah",
          "Jamal Agnew",
          "Kenny Golladay",
          "Josh Reynolds",
          "Keelan Cole",
          "Nico Collins",
          "T.Y. Hilton",
          "Drew Lock",
          "Jack Doyle",
          "Devin Duvernay*+",
          "Cameron Brate",
          "David Johnson",
          "Julio Jones",
          "Allen Robinson",
          "Laquon Treadwell",
          "Derrick Gore",
          "Jerry Jeudy",
          "Mack Hollins",
          "Travis Homer",
          "Josh Johnson",
          "Jeremy McNichols",
          "Jaret Patterson",
          "Danny Amendola",
          "Anthony Firkser",
          "Jalen Reagor",
          "Damien Williams",
          "Jeff Wilson",
          "Kyle Juszczyk*",
          "Demarcus Robinson",
          "Mike White",
          "Chris Conley",
          "Albert Okwuegbunam",
          "Darius Slayton",
          "Kadarius Toney",
          "Sammy Watkins",
          "Chris Carson",
          "Sterling Shepard",
          "James Washington",
          "Dan Arnold",
          "Harrison Bryant",
          "Tevin Coleman",
          "Phillip Lindsay",
          "Colt McCoy",
          "Peyton Barber",
          "Juwan Johnson",
          "Calvin Ridley",
          "Damiere Byrd",
          "DeeJay Dallas",
          "Ashton Dulin",
          "Donald Parham",
          "Ricky Seals-Jones",
          "Jonnu Smith",
          "Geoff Swaim",
          "Antoine Wesley",
          "Ryan Griffin",
          "Adam Humphries",
          "Hayden Hurst",
          "Josiah Deguara",
          "Marquise Goodwin",
          "Jimmy Graham",
          "Lil'Jordan Humphrey",
          "Dare Ogunbowale",
          "Giovani Bernard",
          "Matt Breida",
          "Tyler Johnson",
          "Brevin Jordan",
          "Durham Smythe",
          "Logan Thomas",
          "Adam Trautman",
          "Chris Evans",
          "Cyril Grayson",
          "Chris Moore",
          "MyCole Pruitt",
          "Chester Rogers",
          "Quintez Cephus",
          "Rashard Higgins",
          "Carlos Hyde",
          "Gardner Minshew II",
          "Kyle Rudolph",
          "Cam Sims",
          "Le'Veon Bell",
          "Demetric Felton",
          "Isaiah McKenzie",
          "Tommy Tremble",
          "Malik Turner",
          "Ke'Shawn Vaughn",
          "Ty'Son Williams",
          "Robert Tonyan",
          "John Bates",
          "Mike Glennon",
          "Brandon Zylstra",
          "John Ross",
          "Will Dissly",
          "Jakeem Grant*",
          "Case Keenum",
          "Isaiah Ford",
          "Craig Reynolds",
          "Greg Ward",
          "Salvon Ahmed",
          "Tavon Austin",
          "DJ Chark",
          "Jamycal Hasty",
          "Ray-Ray McCloud",
          "Elijhaa Penny",
          "James O'Shaughnessy",
          "Royce Freeman",
          "Trey Sermon",
          "Maxx Williams",
          "Tim Boyle",
          "Joe Flacco",
          "Kendall Hinton",
          "Cooper Rush",
          "Ihmir Smith-Marsette",
          "Brock Wright",
          "Stephen Anderson",
          "Corey Clement",
          "Tyler Kroft",
          "Jerick McKinnon",
          "Adrian Peterson",
          "Anthony Schwartz",
          "Tajae Sharpe",
          "Albert Wilson",
          "Eno Benjamin",
          "Parris Campbell",
          "Blake Jarwin",
          "Jermar Jefferson",
          "Breshad Perriman",
          "Eric Ebron",
          "Marcedes Lewis",
          "Jordan Love",
          "Malcolm Brown",
          "O.J. Howard",
          "Godwin Igwebuike",
          "James Proche",
          "JuJu Smith-Schuster",
          "Kene Nwangwu",
          "Ian Thomas",
          "Nick Vannett",
          "James White",
          "Jordan Akins",
          "Noah Brown",
          "D'Wayne Eskridge",
          "KhaDarel Hodge",
          "Mason Rudolph",
          "Mohamed Sanu",
          "Nick Foles",
          "Joe Fortson",
          "Zach Gentry",
          "Tony Jones",
          "Austin Walter",
          "Jonathan Williams",
          "Dyami Brown",
          "C.J. Ham",
          "N'Keal Harry",
          "Marcus Johnson",
          "Terrace Marshall Jr.",
          "Qadree Ollison",
          "Kristian Wilkerson",
          "Pharaoh Brown",
          "Alec Ingold",
          "Marcus Mariota",
          "Dante Pettis",
          "Larry Rountree",
          "Trent Sherfield",
          "J.J. Taylor",
          "Patrick Taylor",
          "Brandon Allen",
          "Jesper Horsted",
          "Scott Miller",
          "Ty Montgomery",
          "P.J. Walker",
          "Wayne Gallman",
          "Chris Manhertz",
          "Sean Mannion",
          "Denzel Mims",
          "Patrick Ricard*",
          "Ben Skowronek",
          "Lee Smith",
          "Kenny Stills",
          "Michael Burton",
          "Jacob Hollister",
          "Brian Hoyer",
          "Jesse James",
          "Joshua Kelley",
          "Tom Kennedy",
          "Antony Auclair",
          "Phillip Dorsett",
          "Ross Dwelley",
          "Dez Fitzpatrick",
          "Jake Fromm",
          "Kylen Granson",
          "Collin Johnson",
          "Marlon Mack",
          "Jalen Richard",
          "Eric Saubert",
          "Adam Shaheen",
          "Jeff Smith",
          "Benny Snell Jr.",
          "Equanimeous St. Brown",
          "Ryquell Armstead",
          "Blake Bell",
          "Trinity Benson",
          "Jason Cabinda",
          "Noah Gray",
          "Chris Herndon",
          "Chris Hogan",
          "Nick Mullens",
          "Shi Smith",
          "Tommy Sweeney",
          "Auden Tate",
          "Cameron Batson",
          "Josh Gordon",
          "JaQuan Hardy",
          "Deon Jackson",
          "Andy Janovich",
          "Sean McKeon",
          "Anthony Miller",
          "Keith Smith",
          "Kyle Allen",
          "Alex Armah",
          "Garrett Gilbert",
          "Tyree Jackson",
          "Chris Myarick",
          "Dezmon Patmon",
          "Drew Sample",
          "Mitchell Trubisky",
          "Preston Williams",
          "KJ Hamler",
          "Josh Oliver",
          "Andre Roberts",
          "Johnny Stanton",
          "Jonathan Ward",
          "Dede Westbrook",
          "C.J. Board",
          "Mike Boone",
          "Ja'Marcus Bradley",
          "Alex Erickson",
          "Luke Farrell",
          "Penny Hart",
          "Dax Milne",
          "Jason Moore",
          "Amari Rodgers",
          "Ito Smith",
          "Trayveon Williams",
          "Jaelon Darden",
          "Will Fuller",
          "Jason Huntley",
          "Tre' McKitty",
          "Wendell Smallwood",
          "Rodney Smith",
          "Mike Thomas",
          "Charlie Woerner",
          "JJ Arcega-Whiteside",
          "Kalen Ballage",
          "Kendall Blanton",
          "Pharoh Cooper",
          "Tyler Davis",
          "Greg Dortch",
          "Darren Fells",
          "Garrett Griffin",
          "Parker Hesse",
          "Jakob Johnson",
          "D.J. Montgomery",
          "Gunner Olszewski",
          "Curtis Samuel",
          "Willie Snead",
          "Trent Taylor",
          "Trevon Wesco",
          "Kevin White",
          "Juwann Winfree",
          "Kenny Yeboah",
          "Christian Blake",
          "Daniel Brown",
          "Dominique Dafney",
          "Reggie Gilliam",
          "Chad Henne",
          "K.J. Hill",
          "Kylin Hill",
          "Cody Hollister",
          "Tommy Hudson",
          "Trenton Irwin",
          "Jake Kumerow",
          "Gabe Nabers",
          "Colby Parkinson",
          "La'Mical Perine",
          "Kaden Smith",
          "Jeremy Sprinkle",
          "Mike Strachan",
          "Dwayne Washington",
          "Cody White",
          "Seth Williams",
          "Shane Zylstra",
          "Nick Bawden",
          "C.J. Beathard",
          "Reggie Bonnafon",
          "Ian Book",
          "Cethan Carter",
          "Davion Davis",
          "Darrynton Evans",
          "Blaine Gabbert",
          "Tyron Johnson",
          "Marcus Kemp",
          "Keith Kirkwood",
          "Patrick Laird",
          "Raheem Mostert",
          "Dazz Newsome",
          "Scottie Phillips",
          "Adam Prentice",
          "Trey Ragas",
          "Jaylen Samuels",
          "David Sills",
          "Jack Stoll",
          "Chris Streveler",
          "Tylan Wallace",
          "Derek Watt",
          "Mitchell Wilcox",
          "Cam Akers",
          "Tarik Black",
          "David Blough",
          "Miles Boykin",
          "Gary Brightwell",
          "Derek Carrier",
          "Keke Coutee",
          "Damarea Crockett",
          "Frank Darby",
          "Sam Ehlinger",
          "Ryan Fitzpatrick",
          "Jake Funk",
          "Marvin Hall",
          "Demetrius Harris",
          "Brycen Hopkins",
          "Buddy Howell",
          "Andy Isabella",
          "John Kelly",
          "Tommylee Lewis",
          "Hunter Long",
          "Anthony McFarland Jr.",
          "Kirk Merritt",
          "Jaydon Mickens",
          "Stanley Morgan Jr.",
          "Johnny Mundt",
          "Ryan Nall",
          "Jacques Patrick",
          "Kevin Rader",
          "Richard Rodgers",
          "Mekhi Sargent",
          "C.J. Saunders",
          "Luke Stocker",
          "Eric Tomlinson",
          "Tyrell Williams",
          "Easop Winston",
          "Ethan Wolf",
          "Alex Bachman",
          "Kenjon Barner",
          "Nick Bellore",
          "Kurt Benkert",
          "Nick Boyle",
          "Nathan Cottrell",
          "Chase Daniel",
          "Darrell Daniels",
          "Maurice Ffrench",
          "Daniel Helm",
          "Nate McCrary",
          "Kellen Mond",
          "Devine Ozigbo",
          "Nathan Peterman",
          "Brett Rypien",
          "Davis Webb",
          "Deon Yelder",
          "Khari Blasingame",
          "Jacob Eason",
          "Feleipe Franks",
          "Racey McMath",
          "Malik Taylor",
          "Logan Woodside",
          "Trenton Cannon",
          "John Wolford",
          "Josh Rosen",
          "Diontae Spencer"
         ],
         "type": "scatter",
         "x": [
          7,
          5,
          4,
          null,
          null,
          null,
          null,
          null,
          null,
          null,
          null,
          46,
          15,
          null,
          null,
          null,
          null,
          null,
          11,
          null,
          null,
          12,
          null,
          null,
          null,
          null,
          null,
          null,
          null,
          null,
          null,
          null,
          3,
          null,
          10,
          45,
          null,
          null,
          null,
          null,
          null,
          null,
          null,
          null,
          null,
          null,
          null,
          39,
          null,
          null,
          null,
          null,
          null,
          null,
          null,
          40,
          null,
          null,
          null,
          null,
          9,
          null,
          null,
          null,
          8,
          null,
          null,
          null,
          43,
          null,
          null,
          null,
          null,
          null,
          null,
          null,
          null,
          null,
          null,
          null,
          null,
          null,
          null,
          null,
          null,
          null,
          null,
          null,
          null,
          null,
          null,
          null,
          null,
          null,
          null,
          null,
          44,
          null,
          null,
          null,
          null,
          null,
          null,
          null,
          null,
          null,
          null,
          null,
          null,
          null,
          null,
          null,
          null,
          null,
          null,
          null,
          null,
          13,
          null,
          null,
          null,
          null,
          null,
          null,
          null,
          null,
          null,
          null,
          null,
          null,
          null,
          null,
          null,
          null,
          null,
          null,
          null,
          null,
          null,
          null,
          null,
          null,
          null,
          null,
          null,
          null,
          null,
          null,
          null,
          null,
          null,
          null,
          null,
          null,
          null,
          null,
          null,
          null,
          null,
          null,
          null,
          null,
          null,
          14,
          null,
          null,
          null,
          null,
          null,
          1,
          null,
          null,
          null,
          null,
          null,
          null,
          null,
          null,
          null,
          null,
          null,
          null,
          null,
          null,
          null,
          null,
          null,
          null,
          null,
          null,
          null,
          null,
          null,
          null,
          null,
          null,
          null,
          null,
          null,
          null,
          null,
          null,
          null,
          null,
          null,
          null,
          null,
          null,
          47,
          null,
          null,
          null,
          null,
          null,
          null,
          null,
          null,
          null,
          null,
          null,
          null,
          null,
          null,
          null,
          null,
          null,
          null,
          null,
          null,
          null,
          null,
          null,
          null,
          null,
          null,
          null,
          null,
          null,
          null,
          null,
          null,
          null,
          null,
          null,
          null,
          null,
          null,
          null,
          null,
          null,
          null,
          null,
          null,
          null,
          null,
          null,
          null,
          null,
          null,
          null,
          null,
          null,
          null,
          null,
          null,
          null,
          null,
          null,
          null,
          null,
          null,
          null,
          null,
          null,
          null,
          null,
          null,
          null,
          null,
          null,
          null,
          null,
          null,
          null,
          null,
          null,
          null,
          null,
          null,
          null,
          null,
          null,
          null,
          null,
          null,
          null,
          null,
          null,
          null,
          null,
          null,
          null,
          null,
          null,
          null,
          null,
          null,
          null,
          null,
          null,
          null,
          null,
          null,
          null,
          null,
          null,
          null,
          null,
          null,
          null,
          null,
          null,
          null,
          null,
          null,
          null,
          null,
          null,
          null,
          null,
          null,
          null,
          null,
          null,
          null,
          null,
          null,
          null,
          null,
          null,
          null,
          null,
          null,
          null,
          null,
          null,
          null,
          null,
          null,
          null,
          null,
          null,
          null,
          null,
          null,
          null,
          null,
          null,
          null,
          null,
          null,
          null,
          null,
          null,
          null,
          null,
          null,
          null,
          null,
          null,
          null,
          null,
          null,
          null,
          null,
          null,
          null,
          null,
          null,
          null,
          null,
          null,
          null,
          null,
          null,
          null,
          null,
          null,
          null,
          null,
          null,
          null,
          null,
          null,
          null,
          null,
          null,
          null,
          null,
          null,
          null,
          null,
          null,
          null,
          null,
          null,
          null,
          null,
          null,
          null,
          null,
          null,
          null,
          null,
          null,
          null,
          null,
          null,
          null,
          null,
          null,
          null,
          null,
          null,
          2,
          null,
          null,
          null,
          null,
          null,
          null,
          null,
          null,
          null,
          null,
          null,
          null,
          null,
          null,
          null,
          null,
          null,
          null,
          null,
          null,
          null,
          null,
          null,
          null,
          null,
          null,
          null,
          null,
          null,
          null,
          null,
          null,
          null,
          null,
          null,
          null,
          null,
          null,
          null,
          null,
          null,
          null,
          null,
          null,
          null,
          null,
          null,
          null,
          null,
          null,
          null,
          null,
          null,
          null,
          null,
          null,
          null,
          null,
          null,
          null,
          null,
          null,
          null,
          null,
          null,
          null,
          null,
          null,
          null,
          null,
          null,
          null,
          null,
          null,
          null,
          null,
          null,
          null,
          null,
          null,
          null,
          null,
          null,
          null,
          null,
          null,
          null,
          null,
          null,
          null,
          null,
          null,
          null,
          null,
          null,
          null,
          null,
          null,
          null,
          null,
          null,
          null,
          null,
          null,
          null,
          null,
          null,
          null,
          null,
          null,
          null,
          null,
          null,
          null,
          null,
          null,
          null,
          null,
          null,
          null,
          null,
          null,
          null,
          null,
          null,
          null,
          null,
          null,
          null,
          null,
          null,
          null,
          null,
          null,
          null,
          null,
          null,
          null,
          null,
          null,
          null,
          null,
          null,
          null,
          null,
          null,
          null,
          null,
          null,
          null,
          null,
          null,
          null
         ],
         "y": [
          333,
          295,
          262,
          403,
          274,
          381,
          375,
          194,
          224,
          222,
          246,
          221,
          362,
          227,
          171,
          221,
          189,
          332,
          186,
          330,
          183,
          205,
          321,
          195,
          171,
          169,
          168,
          192,
          314,
          167,
          312,
          188,
          187,
          187,
          131,
          183,
          127,
          156,
          154,
          300,
          300,
          177,
          152,
          175,
          151,
          172,
          172,
          116,
          145,
          115,
          145,
          144,
          114,
          167,
          142,
          142,
          109,
          139,
          109,
          162,
          137,
          107,
          137,
          135,
          135,
          158,
          133,
          131,
          153,
          152,
          126,
          149,
          147,
          92,
          146,
          268,
          258,
          257,
          243,
          240,
          228,
          225,
          223,
          222,
          218,
          203,
          199,
          195,
          181,
          181,
          167,
          157,
          157,
          152,
          143,
          134,
          127,
          125,
          125,
          124,
          122,
          118,
          118,
          118,
          118,
          117,
          117,
          116,
          114,
          113,
          113,
          109,
          108,
          108,
          107,
          106,
          105,
          104,
          103,
          103,
          103,
          103,
          103,
          101,
          100,
          99,
          97,
          95,
          94,
          94,
          94,
          94,
          92,
          92,
          92,
          91,
          91,
          91,
          91,
          90,
          90,
          90,
          88,
          86,
          86,
          86,
          86,
          85,
          85,
          85,
          85,
          85,
          84,
          84,
          84,
          84,
          83,
          83,
          83,
          82,
          82,
          82,
          82,
          81,
          79,
          79,
          79,
          79,
          77,
          77,
          77,
          76,
          75,
          75,
          73,
          73,
          73,
          72,
          72,
          71,
          70,
          70,
          69,
          66,
          66,
          66,
          65,
          65,
          64,
          64,
          64,
          63,
          62,
          61,
          61,
          61,
          61,
          60,
          60,
          59,
          59,
          59,
          58,
          58,
          57,
          57,
          57,
          56,
          56,
          56,
          56,
          55,
          55,
          55,
          55,
          54,
          54,
          52,
          52,
          52,
          52,
          51,
          51,
          51,
          51,
          50,
          50,
          49,
          49,
          49,
          49,
          49,
          48,
          47,
          46,
          46,
          46,
          46,
          46,
          45,
          45,
          45,
          45,
          45,
          44,
          44,
          44,
          43,
          43,
          43,
          43,
          43,
          42,
          42,
          42,
          41,
          41,
          41,
          41,
          41,
          40,
          40,
          40,
          39,
          39,
          39,
          39,
          39,
          39,
          39,
          39,
          38,
          38,
          38,
          37,
          37,
          37,
          37,
          37,
          36,
          36,
          36,
          36,
          36,
          36,
          36,
          35,
          35,
          35,
          35,
          35,
          34,
          34,
          34,
          34,
          34,
          34,
          33,
          33,
          33,
          33,
          33,
          33,
          33,
          32,
          31,
          31,
          31,
          30,
          29,
          29,
          29,
          28,
          28,
          28,
          27,
          27,
          27,
          27,
          27,
          27,
          26,
          25,
          25,
          25,
          24,
          24,
          24,
          24,
          24,
          24,
          23,
          23,
          23,
          23,
          23,
          23,
          23,
          23,
          22,
          22,
          22,
          22,
          22,
          21,
          21,
          21,
          20,
          20,
          20,
          20,
          20,
          19,
          19,
          19,
          19,
          18,
          18,
          18,
          18,
          18,
          18,
          17,
          17,
          17,
          17,
          17,
          17,
          16,
          16,
          16,
          16,
          16,
          16,
          16,
          15,
          15,
          15,
          15,
          15,
          15,
          15,
          15,
          14,
          14,
          14,
          14,
          14,
          13,
          13,
          13,
          13,
          13,
          13,
          13,
          13,
          12,
          12,
          12,
          12,
          12,
          12,
          11,
          11,
          11,
          11,
          11,
          11,
          11,
          11,
          11,
          11,
          11,
          11,
          11,
          11,
          10,
          10,
          10,
          10,
          10,
          10,
          10,
          10,
          10,
          10,
          10,
          9,
          9,
          9,
          9,
          9,
          9,
          9,
          9,
          8,
          8,
          8,
          8,
          8,
          8,
          8,
          8,
          8,
          7,
          7,
          7,
          7,
          7,
          7,
          6,
          6,
          6,
          6,
          6,
          6,
          6,
          6,
          6,
          6,
          6,
          5,
          5,
          5,
          5,
          5,
          5,
          5,
          5,
          4,
          4,
          4,
          4,
          4,
          4,
          4,
          4,
          4,
          4,
          4,
          4,
          4,
          4,
          4,
          4,
          4,
          4,
          4,
          3,
          3,
          3,
          3,
          3,
          3,
          3,
          3,
          3,
          3,
          3,
          3,
          3,
          3,
          3,
          3,
          3,
          3,
          3,
          3,
          3,
          2,
          2,
          2,
          2,
          2,
          2,
          2,
          2,
          2,
          2,
          2,
          2,
          2,
          2,
          2,
          2,
          2,
          2,
          2,
          2,
          2,
          2,
          2,
          2,
          1,
          1,
          1,
          1,
          1,
          1,
          1,
          1,
          1,
          1,
          1,
          1,
          1,
          1,
          1,
          1,
          1,
          1,
          1,
          1,
          1,
          1,
          1,
          1,
          1,
          1,
          1,
          1,
          1,
          1,
          1,
          1,
          1,
          1,
          1,
          1,
          null,
          null,
          null,
          null,
          null,
          null,
          null,
          null,
          null,
          null,
          null,
          null,
          null,
          null,
          null,
          null,
          null,
          -1,
          -1,
          -1,
          -1,
          -1,
          -1,
          -2,
          -2,
          -3,
          -4
         ]
        },
        {
         "mode": "markers",
         "text": [
          "Jonathan Taylor*+",
          "Cooper Kupp*+",
          "Deebo Samuel*+",
          "Josh Allen",
          "Austin Ekeler",
          "Justin Herbert*",
          "Tom Brady*",
          "Mark Andrews*+",
          "Ja'Marr Chase*",
          "Justin Jefferson*",
          "Joe Mixon*",
          "Davante Adams*+",
          "Patrick Mahomes*",
          "Najee Harris*",
          "Travis Kelce*",
          "James Conner*",
          "Mike Evans*",
          "Aaron Rodgers*+",
          "Tyreek Hill*",
          "Matthew Stafford",
          "Stefon Diggs*",
          "Ezekiel Elliott",
          "Dak Prescott",
          "Nick Chubb*",
          "Mike Williams",
          "D.K. Metcalf",
          "Tyler Lockett",
          "Damien Harris",
          "Joe Burrow",
          "Diontae Johnson*",
          "Jalen Hurts",
          "Alvin Kamara*",
          "Antonio Gibson",
          "Leonard Fournette",
          "Dalton Schultz",
          "Cordarrelle Patterson",
          "George Kittle*",
          "Hunter Renfrow*",
          "CeeDee Lamb*",
          "Kyler Murray*",
          "Kirk Cousins*",
          "Aaron Jones",
          "Keenan Allen*",
          "Derrick Henry",
          "Michael Pittman Jr.",
          "Dalvin Cook*",
          "Josh Jacobs",
          "Rob Gronkowski",
          "Tee Higgins",
          "Dawson Knox",
          "D.J. Moore",
          "Chris Godwin",
          "Hunter Henry",
          "Melvin Gordon",
          "Jaylen Waddle",
          "Brandin Cooks",
          "Dallas Goedert",
          "Darnell Mooney",
          "Kyle Pitts*",
          "Javonte Williams",
          "Amon-Ra St. Brown",
          "Zach Ertz",
          "Terry McLaurin",
          "Marquise Brown",
          "Amari Cooper",
          "Devin Singletary",
          "Adam Thielen",
          "Christian Kirk",
          "David Montgomery",
          "AJ Dillon",
          "Kendrick Bourne",
          "Darrel Williams",
          "D'Andre Swift",
          "Mike Gesicki",
          "Elijah Mitchell",
          "Ryan Tannehill",
          "Carson Wentz",
          "Derek Carr",
          "Russell Wilson*",
          "Lamar Jackson*",
          "Jimmy Garoppolo",
          "Mac Jones*",
          "Matt Ryan",
          "Taylor Heinicke",
          "Ben Roethlisberger",
          "Teddy Bridgewater",
          "Trevor Lawrence",
          "Jared Goff",
          "Baker Mayfield",
          "Tua Tagovailoa",
          "Daniel Jones",
          "Sam Darnold",
          "Davis Mills",
          "Zach Wilson",
          "James Robinson",
          "Darrell Henderson",
          "Justin Fields",
          "Myles Gaskin",
          "Sony Michel",
          "Tony Pollard",
          "DeVonta Smith",
          "A.J. Brown",
          "Michael Carter",
          "Taysom Hill",
          "Van Jefferson",
          "Tyler Boyd",
          "Jameis Winston",
          "Rashaad Penny",
          "Brandon Aiyuk",
          "Devonta Freeman",
          "Chuba Hubbard",
          "K.J. Osborn",
          "Saquon Barkley",
          "Chase Claypool",
          "Marvin Jones",
          "Marquez Callaway",
          "DeAndre Hopkins",
          "Devontae Booker",
          "A.J. Green",
          "Allen Lazard",
          "Jakobi Meyers",
          "Tim Patrick",
          "Cedrick Wilson Jr.",
          "Rhamondre Stevenson",
          "Chase Edmonds",
          "Clyde Edwards-Helaire",
          "Russell Gage",
          "Elijah Moore",
          "Mike Davis",
          "Alexander Mattison",
          "Latavius Murray",
          "Jamaal Williams",
          "Pat Freiermuth",
          "Courtland Sutton",
          "Robert Woods",
          "Gabriel Davis",
          "Noah Fant",
          "Christian McCaffrey",
          "Miles Sanders",
          "Kenneth Gainwell",
          "Emmanuel Sanders",
          "Trevor Siemian",
          "Kareem Hunt",
          "Robby Anderson",
          "Tyler Higbee",
          "Cam Newton",
          "Boston Scott",
          "Odell Beckham Jr.",
          "D'Onta Foreman",
          "D'Ernest Johnson",
          "J.D. McKissic",
          "Byron Pringle",
          "Jared Cook",
          "Andy Dalton",
          "T.J. Hockenson",
          "Kalif Raymond",
          "Brandon Bolden",
          "Tyler Huntley",
          "Ty Johnson",
          "Mecole Hardman",
          "Mark Ingram",
          "Zack Moss",
          "Tyrod Taylor",
          "Jarvis Landry",
          "Antonio Brown",
          "Rex Burkhead",
          "C.J. Uzomah",
          "Darren Waller",
          "Cole Beasley",
          "Tyler Conklin",
          "Deonte Harris",
          "Donovan Peoples-Jones",
          "Braxton Berrios+",
          "Bryan Edwards",
          "Kenyan Drake",
          "Nyheim Hines",
          "Quez Watkins",
          "Jacoby Brissett",
          "David Njoku",
          "Corey Davis",
          "Gerald Everett",
          "Nick Westbrook-Ikhine",
          "Ronald Jones II",
          "Nelson Agholor",
          "Randall Cobb",
          "Jalen Guyton",
          "Khalil Herbert",
          "Trey Lance",
          "Justin Jackson",
          "DeVante Parker",
          "Laviska Shenault Jr.",
          "DeAndre Carter",
          "Freddie Swain",
          "Jordan Howard",
          "Cole Kmet",
          "Henry Ruggs III",
          "Marquez Valdes-Scantling",
          "Alex Collins",
          "Josh Palmer",
          "Jamison Crowder",
          "Zay Jones",
          "Olamide Zaccheaus",
          "Rashod Bateman",
          "Jauan Jennings",
          "Evan Engram",
          "Michael Gallup",
          "Zach Pascal",
          "Mo Alie-Cox",
          "DeSean Jackson",
          "Samaje Perine",
          "Tre'Quan Smith",
          "Austin Hooper",
          "Duke Johnson",
          "Rondale Moore",
          "Foster Moreau",
          "Dontrell Hilliard",
          "Geno Smith",
          "Ameer Abdullah",
          "Jamal Agnew",
          "Kenny Golladay",
          "Josh Reynolds",
          "Keelan Cole",
          "Nico Collins",
          "T.Y. Hilton",
          "Drew Lock",
          "Jack Doyle",
          "Devin Duvernay*+",
          "Cameron Brate",
          "David Johnson",
          "Julio Jones",
          "Allen Robinson",
          "Laquon Treadwell",
          "Derrick Gore",
          "Jerry Jeudy",
          "Mack Hollins",
          "Travis Homer",
          "Josh Johnson",
          "Jeremy McNichols",
          "Jaret Patterson",
          "Danny Amendola",
          "Anthony Firkser",
          "Jalen Reagor",
          "Damien Williams",
          "Jeff Wilson",
          "Kyle Juszczyk*",
          "Demarcus Robinson",
          "Mike White",
          "Chris Conley",
          "Albert Okwuegbunam",
          "Darius Slayton",
          "Kadarius Toney",
          "Sammy Watkins",
          "Chris Carson",
          "Sterling Shepard",
          "James Washington",
          "Dan Arnold",
          "Harrison Bryant",
          "Tevin Coleman",
          "Phillip Lindsay",
          "Colt McCoy",
          "Peyton Barber",
          "Juwan Johnson",
          "Calvin Ridley",
          "Damiere Byrd",
          "DeeJay Dallas",
          "Ashton Dulin",
          "Donald Parham",
          "Ricky Seals-Jones",
          "Jonnu Smith",
          "Geoff Swaim",
          "Antoine Wesley",
          "Ryan Griffin",
          "Adam Humphries",
          "Hayden Hurst",
          "Josiah Deguara",
          "Marquise Goodwin",
          "Jimmy Graham",
          "Lil'Jordan Humphrey",
          "Dare Ogunbowale",
          "Giovani Bernard",
          "Matt Breida",
          "Tyler Johnson",
          "Brevin Jordan",
          "Durham Smythe",
          "Logan Thomas",
          "Adam Trautman",
          "Chris Evans",
          "Cyril Grayson",
          "Chris Moore",
          "MyCole Pruitt",
          "Chester Rogers",
          "Quintez Cephus",
          "Rashard Higgins",
          "Carlos Hyde",
          "Gardner Minshew II",
          "Kyle Rudolph",
          "Cam Sims",
          "Le'Veon Bell",
          "Demetric Felton",
          "Isaiah McKenzie",
          "Tommy Tremble",
          "Malik Turner",
          "Ke'Shawn Vaughn",
          "Ty'Son Williams",
          "Robert Tonyan",
          "John Bates",
          "Mike Glennon",
          "Brandon Zylstra",
          "John Ross",
          "Will Dissly",
          "Jakeem Grant*",
          "Case Keenum",
          "Isaiah Ford",
          "Craig Reynolds",
          "Greg Ward",
          "Salvon Ahmed",
          "Tavon Austin",
          "DJ Chark",
          "Jamycal Hasty",
          "Ray-Ray McCloud",
          "Elijhaa Penny",
          "James O'Shaughnessy",
          "Royce Freeman",
          "Trey Sermon",
          "Maxx Williams",
          "Tim Boyle",
          "Joe Flacco",
          "Kendall Hinton",
          "Cooper Rush",
          "Ihmir Smith-Marsette",
          "Brock Wright",
          "Stephen Anderson",
          "Corey Clement",
          "Tyler Kroft",
          "Jerick McKinnon",
          "Adrian Peterson",
          "Anthony Schwartz",
          "Tajae Sharpe",
          "Albert Wilson",
          "Eno Benjamin",
          "Parris Campbell",
          "Blake Jarwin",
          "Jermar Jefferson",
          "Breshad Perriman",
          "Eric Ebron",
          "Marcedes Lewis",
          "Jordan Love",
          "Malcolm Brown",
          "O.J. Howard",
          "Godwin Igwebuike",
          "James Proche",
          "JuJu Smith-Schuster",
          "Kene Nwangwu",
          "Ian Thomas",
          "Nick Vannett",
          "James White",
          "Jordan Akins",
          "Noah Brown",
          "D'Wayne Eskridge",
          "KhaDarel Hodge",
          "Mason Rudolph",
          "Mohamed Sanu",
          "Nick Foles",
          "Joe Fortson",
          "Zach Gentry",
          "Tony Jones",
          "Austin Walter",
          "Jonathan Williams",
          "Dyami Brown",
          "C.J. Ham",
          "N'Keal Harry",
          "Marcus Johnson",
          "Terrace Marshall Jr.",
          "Qadree Ollison",
          "Kristian Wilkerson",
          "Pharaoh Brown",
          "Alec Ingold",
          "Marcus Mariota",
          "Dante Pettis",
          "Larry Rountree",
          "Trent Sherfield",
          "J.J. Taylor",
          "Patrick Taylor",
          "Brandon Allen",
          "Jesper Horsted",
          "Scott Miller",
          "Ty Montgomery",
          "P.J. Walker",
          "Wayne Gallman",
          "Chris Manhertz",
          "Sean Mannion",
          "Denzel Mims",
          "Patrick Ricard*",
          "Ben Skowronek",
          "Lee Smith",
          "Kenny Stills",
          "Michael Burton",
          "Jacob Hollister",
          "Brian Hoyer",
          "Jesse James",
          "Joshua Kelley",
          "Tom Kennedy",
          "Antony Auclair",
          "Phillip Dorsett",
          "Ross Dwelley",
          "Dez Fitzpatrick",
          "Jake Fromm",
          "Kylen Granson",
          "Collin Johnson",
          "Marlon Mack",
          "Jalen Richard",
          "Eric Saubert",
          "Adam Shaheen",
          "Jeff Smith",
          "Benny Snell Jr.",
          "Equanimeous St. Brown",
          "Ryquell Armstead",
          "Blake Bell",
          "Trinity Benson",
          "Jason Cabinda",
          "Noah Gray",
          "Chris Herndon",
          "Chris Hogan",
          "Nick Mullens",
          "Shi Smith",
          "Tommy Sweeney",
          "Auden Tate",
          "Cameron Batson",
          "Josh Gordon",
          "JaQuan Hardy",
          "Deon Jackson",
          "Andy Janovich",
          "Sean McKeon",
          "Anthony Miller",
          "Keith Smith",
          "Kyle Allen",
          "Alex Armah",
          "Garrett Gilbert",
          "Tyree Jackson",
          "Chris Myarick",
          "Dezmon Patmon",
          "Drew Sample",
          "Mitchell Trubisky",
          "Preston Williams",
          "KJ Hamler",
          "Josh Oliver",
          "Andre Roberts",
          "Johnny Stanton",
          "Jonathan Ward",
          "Dede Westbrook",
          "C.J. Board",
          "Mike Boone",
          "Ja'Marcus Bradley",
          "Alex Erickson",
          "Luke Farrell",
          "Penny Hart",
          "Dax Milne",
          "Jason Moore",
          "Amari Rodgers",
          "Ito Smith",
          "Trayveon Williams",
          "Jaelon Darden",
          "Will Fuller",
          "Jason Huntley",
          "Tre' McKitty",
          "Wendell Smallwood",
          "Rodney Smith",
          "Mike Thomas",
          "Charlie Woerner",
          "JJ Arcega-Whiteside",
          "Kalen Ballage",
          "Kendall Blanton",
          "Pharoh Cooper",
          "Tyler Davis",
          "Greg Dortch",
          "Darren Fells",
          "Garrett Griffin",
          "Parker Hesse",
          "Jakob Johnson",
          "D.J. Montgomery",
          "Gunner Olszewski",
          "Curtis Samuel",
          "Willie Snead",
          "Trent Taylor",
          "Trevon Wesco",
          "Kevin White",
          "Juwann Winfree",
          "Kenny Yeboah",
          "Christian Blake",
          "Daniel Brown",
          "Dominique Dafney",
          "Reggie Gilliam",
          "Chad Henne",
          "K.J. Hill",
          "Kylin Hill",
          "Cody Hollister",
          "Tommy Hudson",
          "Trenton Irwin",
          "Jake Kumerow",
          "Gabe Nabers",
          "Colby Parkinson",
          "La'Mical Perine",
          "Kaden Smith",
          "Jeremy Sprinkle",
          "Mike Strachan",
          "Dwayne Washington",
          "Cody White",
          "Seth Williams",
          "Shane Zylstra",
          "Nick Bawden",
          "C.J. Beathard",
          "Reggie Bonnafon",
          "Ian Book",
          "Cethan Carter",
          "Davion Davis",
          "Darrynton Evans",
          "Blaine Gabbert",
          "Tyron Johnson",
          "Marcus Kemp",
          "Keith Kirkwood",
          "Patrick Laird",
          "Raheem Mostert",
          "Dazz Newsome",
          "Scottie Phillips",
          "Adam Prentice",
          "Trey Ragas",
          "Jaylen Samuels",
          "David Sills",
          "Jack Stoll",
          "Chris Streveler",
          "Tylan Wallace",
          "Derek Watt",
          "Mitchell Wilcox",
          "Cam Akers",
          "Tarik Black",
          "David Blough",
          "Miles Boykin",
          "Gary Brightwell",
          "Derek Carrier",
          "Keke Coutee",
          "Damarea Crockett",
          "Frank Darby",
          "Sam Ehlinger",
          "Ryan Fitzpatrick",
          "Jake Funk",
          "Marvin Hall",
          "Demetrius Harris",
          "Brycen Hopkins",
          "Buddy Howell",
          "Andy Isabella",
          "John Kelly",
          "Tommylee Lewis",
          "Hunter Long",
          "Anthony McFarland Jr.",
          "Kirk Merritt",
          "Jaydon Mickens",
          "Stanley Morgan Jr.",
          "Johnny Mundt",
          "Ryan Nall",
          "Jacques Patrick",
          "Kevin Rader",
          "Richard Rodgers",
          "Mekhi Sargent",
          "C.J. Saunders",
          "Luke Stocker",
          "Eric Tomlinson",
          "Tyrell Williams",
          "Easop Winston",
          "Ethan Wolf",
          "Alex Bachman",
          "Kenjon Barner",
          "Nick Bellore",
          "Kurt Benkert",
          "Nick Boyle",
          "Nathan Cottrell",
          "Chase Daniel",
          "Darrell Daniels",
          "Maurice Ffrench",
          "Daniel Helm",
          "Nate McCrary",
          "Kellen Mond",
          "Devine Ozigbo",
          "Nathan Peterman",
          "Brett Rypien",
          "Davis Webb",
          "Deon Yelder",
          "Khari Blasingame",
          "Jacob Eason",
          "Feleipe Franks",
          "Racey McMath",
          "Malik Taylor",
          "Logan Woodside",
          "Trenton Cannon",
          "John Wolford",
          "Josh Rosen",
          "Diontae Spencer"
         ],
         "type": "scatter",
         "x": [
          9,
          null,
          null,
          null,
          10,
          null,
          null,
          null,
          null,
          null,
          22,
          null,
          null,
          15,
          null,
          null,
          null,
          null,
          null,
          null,
          null,
          8,
          null,
          12,
          null,
          null,
          null,
          null,
          null,
          null,
          null,
          3,
          14,
          null,
          null,
          null,
          null,
          null,
          null,
          null,
          null,
          11,
          null,
          5,
          null,
          2,
          47,
          null,
          null,
          null,
          null,
          null,
          null,
          null,
          null,
          null,
          null,
          null,
          null,
          null,
          null,
          null,
          null,
          null,
          null,
          null,
          null,
          null,
          30,
          null,
          null,
          null,
          36,
          null,
          null,
          null,
          null,
          null,
          null,
          null,
          null,
          null,
          null,
          null,
          null,
          null,
          null,
          null,
          null,
          null,
          null,
          null,
          null,
          null,
          31,
          null,
          null,
          null,
          null,
          null,
          null,
          null,
          null,
          null,
          null,
          null,
          null,
          null,
          null,
          null,
          null,
          null,
          4,
          null,
          null,
          null,
          null,
          null,
          null,
          null,
          null,
          null,
          null,
          null,
          48,
          23,
          null,
          null,
          null,
          null,
          null,
          null,
          null,
          null,
          null,
          null,
          null,
          1,
          32,
          null,
          null,
          null,
          null,
          null,
          null,
          null,
          null,
          null,
          null,
          null,
          null,
          null,
          null,
          null,
          null,
          null,
          null,
          null,
          null,
          null,
          null,
          null,
          null,
          null,
          null,
          null,
          null,
          null,
          null,
          null,
          null,
          null,
          null,
          null,
          null,
          null,
          null,
          null,
          null,
          null,
          null,
          null,
          null,
          null,
          null,
          null,
          null,
          null,
          null,
          null,
          null,
          null,
          null,
          null,
          null,
          null,
          null,
          null,
          null,
          null,
          null,
          null,
          null,
          null,
          null,
          null,
          null,
          null,
          null,
          null,
          null,
          null,
          null,
          null,
          null,
          null,
          null,
          null,
          null,
          null,
          null,
          null,
          null,
          null,
          null,
          null,
          null,
          null,
          null,
          null,
          null,
          null,
          null,
          null,
          null,
          null,
          null,
          null,
          null,
          null,
          null,
          null,
          null,
          null,
          null,
          null,
          null,
          null,
          null,
          null,
          null,
          null,
          37,
          null,
          null,
          null,
          null,
          null,
          null,
          null,
          null,
          null,
          null,
          null,
          null,
          null,
          null,
          null,
          null,
          null,
          null,
          null,
          null,
          null,
          null,
          null,
          null,
          null,
          null,
          null,
          null,
          null,
          null,
          null,
          null,
          null,
          null,
          null,
          null,
          null,
          null,
          null,
          null,
          null,
          null,
          null,
          null,
          null,
          null,
          null,
          null,
          null,
          null,
          null,
          null,
          null,
          null,
          null,
          null,
          null,
          null,
          null,
          null,
          null,
          null,
          null,
          null,
          null,
          null,
          null,
          null,
          null,
          null,
          null,
          null,
          null,
          null,
          null,
          null,
          null,
          null,
          null,
          null,
          null,
          null,
          null,
          null,
          null,
          null,
          null,
          null,
          null,
          null,
          null,
          null,
          null,
          null,
          null,
          null,
          null,
          null,
          null,
          null,
          null,
          null,
          null,
          null,
          null,
          null,
          null,
          null,
          null,
          null,
          null,
          null,
          null,
          null,
          null,
          null,
          null,
          null,
          null,
          null,
          null,
          null,
          null,
          null,
          null,
          null,
          null,
          null,
          null,
          null,
          null,
          null,
          null,
          null,
          null,
          null,
          null,
          null,
          null,
          null,
          null,
          null,
          null,
          null,
          null,
          null,
          null,
          null,
          null,
          null,
          null,
          null,
          null,
          null,
          null,
          null,
          null,
          null,
          null,
          null,
          null,
          null,
          null,
          null,
          null,
          null,
          null,
          null,
          null,
          null,
          null,
          null,
          null,
          null,
          null,
          null,
          null,
          null,
          null,
          null,
          null,
          null,
          null,
          null,
          null,
          null,
          null,
          null,
          null,
          null,
          null,
          null,
          null,
          null,
          null,
          null,
          null,
          null,
          null,
          null,
          null,
          null,
          null,
          null,
          null,
          null,
          null,
          null,
          null,
          null,
          null,
          null,
          null,
          null,
          null,
          null,
          null,
          null,
          null,
          null,
          null,
          null,
          null,
          null,
          null,
          null,
          null,
          null,
          null,
          null,
          null,
          null,
          null,
          null,
          null,
          null,
          null,
          null,
          null,
          null,
          null,
          null,
          null,
          null,
          null,
          null,
          null,
          null,
          null,
          null,
          null,
          null,
          null,
          null,
          null,
          null,
          null,
          null,
          null,
          null,
          null,
          null,
          null,
          null,
          null,
          null,
          null,
          null,
          null,
          null,
          null,
          null,
          null,
          null,
          null,
          null,
          null,
          null,
          null,
          null,
          null,
          null,
          null,
          null,
          null,
          null,
          null,
          null,
          null,
          null,
          null,
          null,
          null,
          null,
          null,
          null,
          null,
          null,
          null,
          null,
          null,
          null,
          null,
          null,
          null,
          null,
          null,
          null,
          null,
          null,
          null,
          null,
          null,
          null,
          null,
          null,
          null,
          null,
          null,
          null,
          null,
          null,
          null,
          null,
          null,
          null,
          null,
          null,
          null,
          null,
          null,
          null,
          null,
          null,
          null,
          null,
          null,
          null,
          null,
          null,
          null,
          null,
          null
         ],
         "y": [
          333,
          295,
          262,
          403,
          274,
          381,
          375,
          194,
          224,
          222,
          246,
          221,
          362,
          227,
          171,
          221,
          189,
          332,
          186,
          330,
          183,
          205,
          321,
          195,
          171,
          169,
          168,
          192,
          314,
          167,
          312,
          188,
          187,
          187,
          131,
          183,
          127,
          156,
          154,
          300,
          300,
          177,
          152,
          175,
          151,
          172,
          172,
          116,
          145,
          115,
          145,
          144,
          114,
          167,
          142,
          142,
          109,
          139,
          109,
          162,
          137,
          107,
          137,
          135,
          135,
          158,
          133,
          131,
          153,
          152,
          126,
          149,
          147,
          92,
          146,
          268,
          258,
          257,
          243,
          240,
          228,
          225,
          223,
          222,
          218,
          203,
          199,
          195,
          181,
          181,
          167,
          157,
          157,
          152,
          143,
          134,
          127,
          125,
          125,
          124,
          122,
          118,
          118,
          118,
          118,
          117,
          117,
          116,
          114,
          113,
          113,
          109,
          108,
          108,
          107,
          106,
          105,
          104,
          103,
          103,
          103,
          103,
          103,
          101,
          100,
          99,
          97,
          95,
          94,
          94,
          94,
          94,
          92,
          92,
          92,
          91,
          91,
          91,
          91,
          90,
          90,
          90,
          88,
          86,
          86,
          86,
          86,
          85,
          85,
          85,
          85,
          85,
          84,
          84,
          84,
          84,
          83,
          83,
          83,
          82,
          82,
          82,
          82,
          81,
          79,
          79,
          79,
          79,
          77,
          77,
          77,
          76,
          75,
          75,
          73,
          73,
          73,
          72,
          72,
          71,
          70,
          70,
          69,
          66,
          66,
          66,
          65,
          65,
          64,
          64,
          64,
          63,
          62,
          61,
          61,
          61,
          61,
          60,
          60,
          59,
          59,
          59,
          58,
          58,
          57,
          57,
          57,
          56,
          56,
          56,
          56,
          55,
          55,
          55,
          55,
          54,
          54,
          52,
          52,
          52,
          52,
          51,
          51,
          51,
          51,
          50,
          50,
          49,
          49,
          49,
          49,
          49,
          48,
          47,
          46,
          46,
          46,
          46,
          46,
          45,
          45,
          45,
          45,
          45,
          44,
          44,
          44,
          43,
          43,
          43,
          43,
          43,
          42,
          42,
          42,
          41,
          41,
          41,
          41,
          41,
          40,
          40,
          40,
          39,
          39,
          39,
          39,
          39,
          39,
          39,
          39,
          38,
          38,
          38,
          37,
          37,
          37,
          37,
          37,
          36,
          36,
          36,
          36,
          36,
          36,
          36,
          35,
          35,
          35,
          35,
          35,
          34,
          34,
          34,
          34,
          34,
          34,
          33,
          33,
          33,
          33,
          33,
          33,
          33,
          32,
          31,
          31,
          31,
          30,
          29,
          29,
          29,
          28,
          28,
          28,
          27,
          27,
          27,
          27,
          27,
          27,
          26,
          25,
          25,
          25,
          24,
          24,
          24,
          24,
          24,
          24,
          23,
          23,
          23,
          23,
          23,
          23,
          23,
          23,
          22,
          22,
          22,
          22,
          22,
          21,
          21,
          21,
          20,
          20,
          20,
          20,
          20,
          19,
          19,
          19,
          19,
          18,
          18,
          18,
          18,
          18,
          18,
          17,
          17,
          17,
          17,
          17,
          17,
          16,
          16,
          16,
          16,
          16,
          16,
          16,
          15,
          15,
          15,
          15,
          15,
          15,
          15,
          15,
          14,
          14,
          14,
          14,
          14,
          13,
          13,
          13,
          13,
          13,
          13,
          13,
          13,
          12,
          12,
          12,
          12,
          12,
          12,
          11,
          11,
          11,
          11,
          11,
          11,
          11,
          11,
          11,
          11,
          11,
          11,
          11,
          11,
          10,
          10,
          10,
          10,
          10,
          10,
          10,
          10,
          10,
          10,
          10,
          9,
          9,
          9,
          9,
          9,
          9,
          9,
          9,
          8,
          8,
          8,
          8,
          8,
          8,
          8,
          8,
          8,
          7,
          7,
          7,
          7,
          7,
          7,
          6,
          6,
          6,
          6,
          6,
          6,
          6,
          6,
          6,
          6,
          6,
          5,
          5,
          5,
          5,
          5,
          5,
          5,
          5,
          4,
          4,
          4,
          4,
          4,
          4,
          4,
          4,
          4,
          4,
          4,
          4,
          4,
          4,
          4,
          4,
          4,
          4,
          4,
          3,
          3,
          3,
          3,
          3,
          3,
          3,
          3,
          3,
          3,
          3,
          3,
          3,
          3,
          3,
          3,
          3,
          3,
          3,
          3,
          3,
          2,
          2,
          2,
          2,
          2,
          2,
          2,
          2,
          2,
          2,
          2,
          2,
          2,
          2,
          2,
          2,
          2,
          2,
          2,
          2,
          2,
          2,
          2,
          2,
          1,
          1,
          1,
          1,
          1,
          1,
          1,
          1,
          1,
          1,
          1,
          1,
          1,
          1,
          1,
          1,
          1,
          1,
          1,
          1,
          1,
          1,
          1,
          1,
          1,
          1,
          1,
          1,
          1,
          1,
          1,
          1,
          1,
          1,
          1,
          1,
          null,
          null,
          null,
          null,
          null,
          null,
          null,
          null,
          null,
          null,
          null,
          null,
          null,
          null,
          null,
          null,
          null,
          -1,
          -1,
          -1,
          -1,
          -1,
          -1,
          -2,
          -2,
          -3,
          -4
         ]
        }
       ],
       "layout": {
        "template": {
         "data": {
          "bar": [
           {
            "error_x": {
             "color": "#2a3f5f"
            },
            "error_y": {
             "color": "#2a3f5f"
            },
            "marker": {
             "line": {
              "color": "#E5ECF6",
              "width": 0.5
             },
             "pattern": {
              "fillmode": "overlay",
              "size": 10,
              "solidity": 0.2
             }
            },
            "type": "bar"
           }
          ],
          "barpolar": [
           {
            "marker": {
             "line": {
              "color": "#E5ECF6",
              "width": 0.5
             },
             "pattern": {
              "fillmode": "overlay",
              "size": 10,
              "solidity": 0.2
             }
            },
            "type": "barpolar"
           }
          ],
          "carpet": [
           {
            "aaxis": {
             "endlinecolor": "#2a3f5f",
             "gridcolor": "white",
             "linecolor": "white",
             "minorgridcolor": "white",
             "startlinecolor": "#2a3f5f"
            },
            "baxis": {
             "endlinecolor": "#2a3f5f",
             "gridcolor": "white",
             "linecolor": "white",
             "minorgridcolor": "white",
             "startlinecolor": "#2a3f5f"
            },
            "type": "carpet"
           }
          ],
          "choropleth": [
           {
            "colorbar": {
             "outlinewidth": 0,
             "ticks": ""
            },
            "type": "choropleth"
           }
          ],
          "contour": [
           {
            "colorbar": {
             "outlinewidth": 0,
             "ticks": ""
            },
            "colorscale": [
             [
              0,
              "#0d0887"
             ],
             [
              0.1111111111111111,
              "#46039f"
             ],
             [
              0.2222222222222222,
              "#7201a8"
             ],
             [
              0.3333333333333333,
              "#9c179e"
             ],
             [
              0.4444444444444444,
              "#bd3786"
             ],
             [
              0.5555555555555556,
              "#d8576b"
             ],
             [
              0.6666666666666666,
              "#ed7953"
             ],
             [
              0.7777777777777778,
              "#fb9f3a"
             ],
             [
              0.8888888888888888,
              "#fdca26"
             ],
             [
              1,
              "#f0f921"
             ]
            ],
            "type": "contour"
           }
          ],
          "contourcarpet": [
           {
            "colorbar": {
             "outlinewidth": 0,
             "ticks": ""
            },
            "type": "contourcarpet"
           }
          ],
          "heatmap": [
           {
            "colorbar": {
             "outlinewidth": 0,
             "ticks": ""
            },
            "colorscale": [
             [
              0,
              "#0d0887"
             ],
             [
              0.1111111111111111,
              "#46039f"
             ],
             [
              0.2222222222222222,
              "#7201a8"
             ],
             [
              0.3333333333333333,
              "#9c179e"
             ],
             [
              0.4444444444444444,
              "#bd3786"
             ],
             [
              0.5555555555555556,
              "#d8576b"
             ],
             [
              0.6666666666666666,
              "#ed7953"
             ],
             [
              0.7777777777777778,
              "#fb9f3a"
             ],
             [
              0.8888888888888888,
              "#fdca26"
             ],
             [
              1,
              "#f0f921"
             ]
            ],
            "type": "heatmap"
           }
          ],
          "heatmapgl": [
           {
            "colorbar": {
             "outlinewidth": 0,
             "ticks": ""
            },
            "colorscale": [
             [
              0,
              "#0d0887"
             ],
             [
              0.1111111111111111,
              "#46039f"
             ],
             [
              0.2222222222222222,
              "#7201a8"
             ],
             [
              0.3333333333333333,
              "#9c179e"
             ],
             [
              0.4444444444444444,
              "#bd3786"
             ],
             [
              0.5555555555555556,
              "#d8576b"
             ],
             [
              0.6666666666666666,
              "#ed7953"
             ],
             [
              0.7777777777777778,
              "#fb9f3a"
             ],
             [
              0.8888888888888888,
              "#fdca26"
             ],
             [
              1,
              "#f0f921"
             ]
            ],
            "type": "heatmapgl"
           }
          ],
          "histogram": [
           {
            "marker": {
             "pattern": {
              "fillmode": "overlay",
              "size": 10,
              "solidity": 0.2
             }
            },
            "type": "histogram"
           }
          ],
          "histogram2d": [
           {
            "colorbar": {
             "outlinewidth": 0,
             "ticks": ""
            },
            "colorscale": [
             [
              0,
              "#0d0887"
             ],
             [
              0.1111111111111111,
              "#46039f"
             ],
             [
              0.2222222222222222,
              "#7201a8"
             ],
             [
              0.3333333333333333,
              "#9c179e"
             ],
             [
              0.4444444444444444,
              "#bd3786"
             ],
             [
              0.5555555555555556,
              "#d8576b"
             ],
             [
              0.6666666666666666,
              "#ed7953"
             ],
             [
              0.7777777777777778,
              "#fb9f3a"
             ],
             [
              0.8888888888888888,
              "#fdca26"
             ],
             [
              1,
              "#f0f921"
             ]
            ],
            "type": "histogram2d"
           }
          ],
          "histogram2dcontour": [
           {
            "colorbar": {
             "outlinewidth": 0,
             "ticks": ""
            },
            "colorscale": [
             [
              0,
              "#0d0887"
             ],
             [
              0.1111111111111111,
              "#46039f"
             ],
             [
              0.2222222222222222,
              "#7201a8"
             ],
             [
              0.3333333333333333,
              "#9c179e"
             ],
             [
              0.4444444444444444,
              "#bd3786"
             ],
             [
              0.5555555555555556,
              "#d8576b"
             ],
             [
              0.6666666666666666,
              "#ed7953"
             ],
             [
              0.7777777777777778,
              "#fb9f3a"
             ],
             [
              0.8888888888888888,
              "#fdca26"
             ],
             [
              1,
              "#f0f921"
             ]
            ],
            "type": "histogram2dcontour"
           }
          ],
          "mesh3d": [
           {
            "colorbar": {
             "outlinewidth": 0,
             "ticks": ""
            },
            "type": "mesh3d"
           }
          ],
          "parcoords": [
           {
            "line": {
             "colorbar": {
              "outlinewidth": 0,
              "ticks": ""
             }
            },
            "type": "parcoords"
           }
          ],
          "pie": [
           {
            "automargin": true,
            "type": "pie"
           }
          ],
          "scatter": [
           {
            "fillpattern": {
             "fillmode": "overlay",
             "size": 10,
             "solidity": 0.2
            },
            "type": "scatter"
           }
          ],
          "scatter3d": [
           {
            "line": {
             "colorbar": {
              "outlinewidth": 0,
              "ticks": ""
             }
            },
            "marker": {
             "colorbar": {
              "outlinewidth": 0,
              "ticks": ""
             }
            },
            "type": "scatter3d"
           }
          ],
          "scattercarpet": [
           {
            "marker": {
             "colorbar": {
              "outlinewidth": 0,
              "ticks": ""
             }
            },
            "type": "scattercarpet"
           }
          ],
          "scattergeo": [
           {
            "marker": {
             "colorbar": {
              "outlinewidth": 0,
              "ticks": ""
             }
            },
            "type": "scattergeo"
           }
          ],
          "scattergl": [
           {
            "marker": {
             "colorbar": {
              "outlinewidth": 0,
              "ticks": ""
             }
            },
            "type": "scattergl"
           }
          ],
          "scattermapbox": [
           {
            "marker": {
             "colorbar": {
              "outlinewidth": 0,
              "ticks": ""
             }
            },
            "type": "scattermapbox"
           }
          ],
          "scatterpolar": [
           {
            "marker": {
             "colorbar": {
              "outlinewidth": 0,
              "ticks": ""
             }
            },
            "type": "scatterpolar"
           }
          ],
          "scatterpolargl": [
           {
            "marker": {
             "colorbar": {
              "outlinewidth": 0,
              "ticks": ""
             }
            },
            "type": "scatterpolargl"
           }
          ],
          "scatterternary": [
           {
            "marker": {
             "colorbar": {
              "outlinewidth": 0,
              "ticks": ""
             }
            },
            "type": "scatterternary"
           }
          ],
          "surface": [
           {
            "colorbar": {
             "outlinewidth": 0,
             "ticks": ""
            },
            "colorscale": [
             [
              0,
              "#0d0887"
             ],
             [
              0.1111111111111111,
              "#46039f"
             ],
             [
              0.2222222222222222,
              "#7201a8"
             ],
             [
              0.3333333333333333,
              "#9c179e"
             ],
             [
              0.4444444444444444,
              "#bd3786"
             ],
             [
              0.5555555555555556,
              "#d8576b"
             ],
             [
              0.6666666666666666,
              "#ed7953"
             ],
             [
              0.7777777777777778,
              "#fb9f3a"
             ],
             [
              0.8888888888888888,
              "#fdca26"
             ],
             [
              1,
              "#f0f921"
             ]
            ],
            "type": "surface"
           }
          ],
          "table": [
           {
            "cells": {
             "fill": {
              "color": "#EBF0F8"
             },
             "line": {
              "color": "white"
             }
            },
            "header": {
             "fill": {
              "color": "#C8D4E3"
             },
             "line": {
              "color": "white"
             }
            },
            "type": "table"
           }
          ]
         },
         "layout": {
          "annotationdefaults": {
           "arrowcolor": "#2a3f5f",
           "arrowhead": 0,
           "arrowwidth": 1
          },
          "autotypenumbers": "strict",
          "coloraxis": {
           "colorbar": {
            "outlinewidth": 0,
            "ticks": ""
           }
          },
          "colorscale": {
           "diverging": [
            [
             0,
             "#8e0152"
            ],
            [
             0.1,
             "#c51b7d"
            ],
            [
             0.2,
             "#de77ae"
            ],
            [
             0.3,
             "#f1b6da"
            ],
            [
             0.4,
             "#fde0ef"
            ],
            [
             0.5,
             "#f7f7f7"
            ],
            [
             0.6,
             "#e6f5d0"
            ],
            [
             0.7,
             "#b8e186"
            ],
            [
             0.8,
             "#7fbc41"
            ],
            [
             0.9,
             "#4d9221"
            ],
            [
             1,
             "#276419"
            ]
           ],
           "sequential": [
            [
             0,
             "#0d0887"
            ],
            [
             0.1111111111111111,
             "#46039f"
            ],
            [
             0.2222222222222222,
             "#7201a8"
            ],
            [
             0.3333333333333333,
             "#9c179e"
            ],
            [
             0.4444444444444444,
             "#bd3786"
            ],
            [
             0.5555555555555556,
             "#d8576b"
            ],
            [
             0.6666666666666666,
             "#ed7953"
            ],
            [
             0.7777777777777778,
             "#fb9f3a"
            ],
            [
             0.8888888888888888,
             "#fdca26"
            ],
            [
             1,
             "#f0f921"
            ]
           ],
           "sequentialminus": [
            [
             0,
             "#0d0887"
            ],
            [
             0.1111111111111111,
             "#46039f"
            ],
            [
             0.2222222222222222,
             "#7201a8"
            ],
            [
             0.3333333333333333,
             "#9c179e"
            ],
            [
             0.4444444444444444,
             "#bd3786"
            ],
            [
             0.5555555555555556,
             "#d8576b"
            ],
            [
             0.6666666666666666,
             "#ed7953"
            ],
            [
             0.7777777777777778,
             "#fb9f3a"
            ],
            [
             0.8888888888888888,
             "#fdca26"
            ],
            [
             1,
             "#f0f921"
            ]
           ]
          },
          "colorway": [
           "#636efa",
           "#EF553B",
           "#00cc96",
           "#ab63fa",
           "#FFA15A",
           "#19d3f3",
           "#FF6692",
           "#B6E880",
           "#FF97FF",
           "#FECB52"
          ],
          "font": {
           "color": "#2a3f5f"
          },
          "geo": {
           "bgcolor": "white",
           "lakecolor": "white",
           "landcolor": "#E5ECF6",
           "showlakes": true,
           "showland": true,
           "subunitcolor": "white"
          },
          "hoverlabel": {
           "align": "left"
          },
          "hovermode": "closest",
          "mapbox": {
           "style": "light"
          },
          "paper_bgcolor": "white",
          "plot_bgcolor": "#E5ECF6",
          "polar": {
           "angularaxis": {
            "gridcolor": "white",
            "linecolor": "white",
            "ticks": ""
           },
           "bgcolor": "#E5ECF6",
           "radialaxis": {
            "gridcolor": "white",
            "linecolor": "white",
            "ticks": ""
           }
          },
          "scene": {
           "xaxis": {
            "backgroundcolor": "#E5ECF6",
            "gridcolor": "white",
            "gridwidth": 2,
            "linecolor": "white",
            "showbackground": true,
            "ticks": "",
            "zerolinecolor": "white"
           },
           "yaxis": {
            "backgroundcolor": "#E5ECF6",
            "gridcolor": "white",
            "gridwidth": 2,
            "linecolor": "white",
            "showbackground": true,
            "ticks": "",
            "zerolinecolor": "white"
           },
           "zaxis": {
            "backgroundcolor": "#E5ECF6",
            "gridcolor": "white",
            "gridwidth": 2,
            "linecolor": "white",
            "showbackground": true,
            "ticks": "",
            "zerolinecolor": "white"
           }
          },
          "shapedefaults": {
           "line": {
            "color": "#2a3f5f"
           }
          },
          "ternary": {
           "aaxis": {
            "gridcolor": "white",
            "linecolor": "white",
            "ticks": ""
           },
           "baxis": {
            "gridcolor": "white",
            "linecolor": "white",
            "ticks": ""
           },
           "bgcolor": "#E5ECF6",
           "caxis": {
            "gridcolor": "white",
            "linecolor": "white",
            "ticks": ""
           }
          },
          "title": {
           "x": 0.05
          },
          "xaxis": {
           "automargin": true,
           "gridcolor": "white",
           "linecolor": "white",
           "ticks": "",
           "title": {
            "standoff": 15
           },
           "zerolinecolor": "white",
           "zerolinewidth": 2
          },
          "yaxis": {
           "automargin": true,
           "gridcolor": "white",
           "linecolor": "white",
           "ticks": "",
           "title": {
            "standoff": 15
           },
           "zerolinecolor": "white",
           "zerolinewidth": 2
          }
         }
        }
       }
      },
      "text/html": [
       "<div>                            <div id=\"b1f2560c-972f-4eca-b060-88b9b38786ae\" class=\"plotly-graph-div\" style=\"height:525px; width:100%;\"></div>            <script type=\"text/javascript\">                require([\"plotly\"], function(Plotly) {                    window.PLOTLYENV=window.PLOTLYENV || {};                                    if (document.getElementById(\"b1f2560c-972f-4eca-b060-88b9b38786ae\")) {                    Plotly.newPlot(                        \"b1f2560c-972f-4eca-b060-88b9b38786ae\",                        [{\"mode\":\"markers\",\"text\":[\"Jonathan Taylor*+\",\"Cooper Kupp*+\",\"Deebo Samuel*+\",\"Josh Allen\",\"Austin Ekeler\",\"Justin Herbert*\",\"Tom Brady*\",\"Mark Andrews*+\",\"Ja'Marr Chase*\",\"Justin Jefferson*\",\"Joe Mixon*\",\"Davante Adams*+\",\"Patrick Mahomes*\",\"Najee Harris*\",\"Travis Kelce*\",\"James Conner*\",\"Mike Evans*\",\"Aaron Rodgers*+\",\"Tyreek Hill*\",\"Matthew Stafford\",\"Stefon Diggs*\",\"Ezekiel Elliott\",\"Dak Prescott\",\"Nick Chubb*\",\"Mike Williams\",\"D.K. Metcalf\",\"Tyler Lockett\",\"Damien Harris\",\"Joe Burrow\",\"Diontae Johnson*\",\"Jalen Hurts\",\"Alvin Kamara*\",\"Antonio Gibson\",\"Leonard Fournette\",\"Dalton Schultz\",\"Cordarrelle Patterson\",\"George Kittle*\",\"Hunter Renfrow*\",\"CeeDee Lamb*\",\"Kyler Murray*\",\"Kirk Cousins*\",\"Aaron Jones\",\"Keenan Allen*\",\"Derrick Henry\",\"Michael Pittman Jr.\",\"Dalvin Cook*\",\"Josh Jacobs\",\"Rob Gronkowski\",\"Tee Higgins\",\"Dawson Knox\",\"D.J. Moore\",\"Chris Godwin\",\"Hunter Henry\",\"Melvin Gordon\",\"Jaylen Waddle\",\"Brandin Cooks\",\"Dallas Goedert\",\"Darnell Mooney\",\"Kyle Pitts*\",\"Javonte Williams\",\"Amon-Ra St. Brown\",\"Zach Ertz\",\"Terry McLaurin\",\"Marquise Brown\",\"Amari Cooper\",\"Devin Singletary\",\"Adam Thielen\",\"Christian Kirk\",\"David Montgomery\",\"AJ Dillon\",\"Kendrick Bourne\",\"Darrel Williams\",\"D'Andre Swift\",\"Mike Gesicki\",\"Elijah Mitchell\",\"Ryan Tannehill\",\"Carson Wentz\",\"Derek Carr\",\"Russell Wilson*\",\"Lamar Jackson*\",\"Jimmy Garoppolo\",\"Mac Jones*\",\"Matt Ryan\",\"Taylor Heinicke\",\"Ben Roethlisberger\",\"Teddy Bridgewater\",\"Trevor Lawrence\",\"Jared Goff\",\"Baker Mayfield\",\"Tua Tagovailoa\",\"Daniel Jones\",\"Sam Darnold\",\"Davis Mills\",\"Zach Wilson\",\"James Robinson\",\"Darrell Henderson\",\"Justin Fields\",\"Myles Gaskin\",\"Sony Michel\",\"Tony Pollard\",\"DeVonta Smith\",\"A.J. Brown\",\"Michael Carter\",\"Taysom Hill\",\"Van Jefferson\",\"Tyler Boyd\",\"Jameis Winston\",\"Rashaad Penny\",\"Brandon Aiyuk\",\"Devonta Freeman\",\"Chuba Hubbard\",\"K.J. Osborn\",\"Saquon Barkley\",\"Chase Claypool\",\"Marvin Jones\",\"Marquez Callaway\",\"DeAndre Hopkins\",\"Devontae Booker\",\"A.J. Green\",\"Allen Lazard\",\"Jakobi Meyers\",\"Tim Patrick\",\"Cedrick Wilson Jr.\",\"Rhamondre Stevenson\",\"Chase Edmonds\",\"Clyde Edwards-Helaire\",\"Russell Gage\",\"Elijah Moore\",\"Mike Davis\",\"Alexander Mattison\",\"Latavius Murray\",\"Jamaal Williams\",\"Pat Freiermuth\",\"Courtland Sutton\",\"Robert Woods\",\"Gabriel Davis\",\"Noah Fant\",\"Christian McCaffrey\",\"Miles Sanders\",\"Kenneth Gainwell\",\"Emmanuel Sanders\",\"Trevor Siemian\",\"Kareem Hunt\",\"Robby Anderson\",\"Tyler Higbee\",\"Cam Newton\",\"Boston Scott\",\"Odell Beckham Jr.\",\"D'Onta Foreman\",\"D'Ernest Johnson\",\"J.D. McKissic\",\"Byron Pringle\",\"Jared Cook\",\"Andy Dalton\",\"T.J. Hockenson\",\"Kalif Raymond\",\"Brandon Bolden\",\"Tyler Huntley\",\"Ty Johnson\",\"Mecole Hardman\",\"Mark Ingram\",\"Zack Moss\",\"Tyrod Taylor\",\"Jarvis Landry\",\"Antonio Brown\",\"Rex Burkhead\",\"C.J. Uzomah\",\"Darren Waller\",\"Cole Beasley\",\"Tyler Conklin\",\"Deonte Harris\",\"Donovan Peoples-Jones\",\"Braxton Berrios+\",\"Bryan Edwards\",\"Kenyan Drake\",\"Nyheim Hines\",\"Quez Watkins\",\"Jacoby Brissett\",\"David Njoku\",\"Corey Davis\",\"Gerald Everett\",\"Nick Westbrook-Ikhine\",\"Ronald Jones II\",\"Nelson Agholor\",\"Randall Cobb\",\"Jalen Guyton\",\"Khalil Herbert\",\"Trey Lance\",\"Justin Jackson\",\"DeVante Parker\",\"Laviska Shenault Jr.\",\"DeAndre Carter\",\"Freddie Swain\",\"Jordan Howard\",\"Cole Kmet\",\"Henry Ruggs III\",\"Marquez Valdes-Scantling\",\"Alex Collins\",\"Josh Palmer\",\"Jamison Crowder\",\"Zay Jones\",\"Olamide Zaccheaus\",\"Rashod Bateman\",\"Jauan Jennings\",\"Evan Engram\",\"Michael Gallup\",\"Zach Pascal\",\"Mo Alie-Cox\",\"DeSean Jackson\",\"Samaje Perine\",\"Tre'Quan Smith\",\"Austin Hooper\",\"Duke Johnson\",\"Rondale Moore\",\"Foster Moreau\",\"Dontrell Hilliard\",\"Geno Smith\",\"Ameer Abdullah\",\"Jamal Agnew\",\"Kenny Golladay\",\"Josh Reynolds\",\"Keelan Cole\",\"Nico Collins\",\"T.Y. Hilton\",\"Drew Lock\",\"Jack Doyle\",\"Devin Duvernay*+\",\"Cameron Brate\",\"David Johnson\",\"Julio Jones\",\"Allen Robinson\",\"Laquon Treadwell\",\"Derrick Gore\",\"Jerry Jeudy\",\"Mack Hollins\",\"Travis Homer\",\"Josh Johnson\",\"Jeremy McNichols\",\"Jaret Patterson\",\"Danny Amendola\",\"Anthony Firkser\",\"Jalen Reagor\",\"Damien Williams\",\"Jeff Wilson\",\"Kyle Juszczyk*\",\"Demarcus Robinson\",\"Mike White\",\"Chris Conley\",\"Albert Okwuegbunam\",\"Darius Slayton\",\"Kadarius Toney\",\"Sammy Watkins\",\"Chris Carson\",\"Sterling Shepard\",\"James Washington\",\"Dan Arnold\",\"Harrison Bryant\",\"Tevin Coleman\",\"Phillip Lindsay\",\"Colt McCoy\",\"Peyton Barber\",\"Juwan Johnson\",\"Calvin Ridley\",\"Damiere Byrd\",\"DeeJay Dallas\",\"Ashton Dulin\",\"Donald Parham\",\"Ricky Seals-Jones\",\"Jonnu Smith\",\"Geoff Swaim\",\"Antoine Wesley\",\"Ryan Griffin\",\"Adam Humphries\",\"Hayden Hurst\",\"Josiah Deguara\",\"Marquise Goodwin\",\"Jimmy Graham\",\"Lil'Jordan Humphrey\",\"Dare Ogunbowale\",\"Giovani Bernard\",\"Matt Breida\",\"Tyler Johnson\",\"Brevin Jordan\",\"Durham Smythe\",\"Logan Thomas\",\"Adam Trautman\",\"Chris Evans\",\"Cyril Grayson\",\"Chris Moore\",\"MyCole Pruitt\",\"Chester Rogers\",\"Quintez Cephus\",\"Rashard Higgins\",\"Carlos Hyde\",\"Gardner Minshew II\",\"Kyle Rudolph\",\"Cam Sims\",\"Le'Veon Bell\",\"Demetric Felton\",\"Isaiah McKenzie\",\"Tommy Tremble\",\"Malik Turner\",\"Ke'Shawn Vaughn\",\"Ty'Son Williams\",\"Robert Tonyan\",\"John Bates\",\"Mike Glennon\",\"Brandon Zylstra\",\"John Ross\",\"Will Dissly\",\"Jakeem Grant*\",\"Case Keenum\",\"Isaiah Ford\",\"Craig Reynolds\",\"Greg Ward\",\"Salvon Ahmed\",\"Tavon Austin\",\"DJ Chark\",\"Jamycal Hasty\",\"Ray-Ray McCloud\",\"Elijhaa Penny\",\"James O'Shaughnessy\",\"Royce Freeman\",\"Trey Sermon\",\"Maxx Williams\",\"Tim Boyle\",\"Joe Flacco\",\"Kendall Hinton\",\"Cooper Rush\",\"Ihmir Smith-Marsette\",\"Brock Wright\",\"Stephen Anderson\",\"Corey Clement\",\"Tyler Kroft\",\"Jerick McKinnon\",\"Adrian Peterson\",\"Anthony Schwartz\",\"Tajae Sharpe\",\"Albert Wilson\",\"Eno Benjamin\",\"Parris Campbell\",\"Blake Jarwin\",\"Jermar Jefferson\",\"Breshad Perriman\",\"Eric Ebron\",\"Marcedes Lewis\",\"Jordan Love\",\"Malcolm Brown\",\"O.J. Howard\",\"Godwin Igwebuike\",\"James Proche\",\"JuJu Smith-Schuster\",\"Kene Nwangwu\",\"Ian Thomas\",\"Nick Vannett\",\"James White\",\"Jordan Akins\",\"Noah Brown\",\"D'Wayne Eskridge\",\"KhaDarel Hodge\",\"Mason Rudolph\",\"Mohamed Sanu\",\"Nick Foles\",\"Joe Fortson\",\"Zach Gentry\",\"Tony Jones\",\"Austin Walter\",\"Jonathan Williams\",\"Dyami Brown\",\"C.J. Ham\",\"N'Keal Harry\",\"Marcus Johnson\",\"Terrace Marshall Jr.\",\"Qadree Ollison\",\"Kristian Wilkerson\",\"Pharaoh Brown\",\"Alec Ingold\",\"Marcus Mariota\",\"Dante Pettis\",\"Larry Rountree\",\"Trent Sherfield\",\"J.J. Taylor\",\"Patrick Taylor\",\"Brandon Allen\",\"Jesper Horsted\",\"Scott Miller\",\"Ty Montgomery\",\"P.J. Walker\",\"Wayne Gallman\",\"Chris Manhertz\",\"Sean Mannion\",\"Denzel Mims\",\"Patrick Ricard*\",\"Ben Skowronek\",\"Lee Smith\",\"Kenny Stills\",\"Michael Burton\",\"Jacob Hollister\",\"Brian Hoyer\",\"Jesse James\",\"Joshua Kelley\",\"Tom Kennedy\",\"Antony Auclair\",\"Phillip Dorsett\",\"Ross Dwelley\",\"Dez Fitzpatrick\",\"Jake Fromm\",\"Kylen Granson\",\"Collin Johnson\",\"Marlon Mack\",\"Jalen Richard\",\"Eric Saubert\",\"Adam Shaheen\",\"Jeff Smith\",\"Benny Snell Jr.\",\"Equanimeous St. Brown\",\"Ryquell Armstead\",\"Blake Bell\",\"Trinity Benson\",\"Jason Cabinda\",\"Noah Gray\",\"Chris Herndon\",\"Chris Hogan\",\"Nick Mullens\",\"Shi Smith\",\"Tommy Sweeney\",\"Auden Tate\",\"Cameron Batson\",\"Josh Gordon\",\"JaQuan Hardy\",\"Deon Jackson\",\"Andy Janovich\",\"Sean McKeon\",\"Anthony Miller\",\"Keith Smith\",\"Kyle Allen\",\"Alex Armah\",\"Garrett Gilbert\",\"Tyree Jackson\",\"Chris Myarick\",\"Dezmon Patmon\",\"Drew Sample\",\"Mitchell Trubisky\",\"Preston Williams\",\"KJ Hamler\",\"Josh Oliver\",\"Andre Roberts\",\"Johnny Stanton\",\"Jonathan Ward\",\"Dede Westbrook\",\"C.J. Board\",\"Mike Boone\",\"Ja'Marcus Bradley\",\"Alex Erickson\",\"Luke Farrell\",\"Penny Hart\",\"Dax Milne\",\"Jason Moore\",\"Amari Rodgers\",\"Ito Smith\",\"Trayveon Williams\",\"Jaelon Darden\",\"Will Fuller\",\"Jason Huntley\",\"Tre' McKitty\",\"Wendell Smallwood\",\"Rodney Smith\",\"Mike Thomas\",\"Charlie Woerner\",\"JJ Arcega-Whiteside\",\"Kalen Ballage\",\"Kendall Blanton\",\"Pharoh Cooper\",\"Tyler Davis\",\"Greg Dortch\",\"Darren Fells\",\"Garrett Griffin\",\"Parker Hesse\",\"Jakob Johnson\",\"D.J. Montgomery\",\"Gunner Olszewski\",\"Curtis Samuel\",\"Willie Snead\",\"Trent Taylor\",\"Trevon Wesco\",\"Kevin White\",\"Juwann Winfree\",\"Kenny Yeboah\",\"Christian Blake\",\"Daniel Brown\",\"Dominique Dafney\",\"Reggie Gilliam\",\"Chad Henne\",\"K.J. Hill\",\"Kylin Hill\",\"Cody Hollister\",\"Tommy Hudson\",\"Trenton Irwin\",\"Jake Kumerow\",\"Gabe Nabers\",\"Colby Parkinson\",\"La'Mical Perine\",\"Kaden Smith\",\"Jeremy Sprinkle\",\"Mike Strachan\",\"Dwayne Washington\",\"Cody White\",\"Seth Williams\",\"Shane Zylstra\",\"Nick Bawden\",\"C.J. Beathard\",\"Reggie Bonnafon\",\"Ian Book\",\"Cethan Carter\",\"Davion Davis\",\"Darrynton Evans\",\"Blaine Gabbert\",\"Tyron Johnson\",\"Marcus Kemp\",\"Keith Kirkwood\",\"Patrick Laird\",\"Raheem Mostert\",\"Dazz Newsome\",\"Scottie Phillips\",\"Adam Prentice\",\"Trey Ragas\",\"Jaylen Samuels\",\"David Sills\",\"Jack Stoll\",\"Chris Streveler\",\"Tylan Wallace\",\"Derek Watt\",\"Mitchell Wilcox\",\"Cam Akers\",\"Tarik Black\",\"David Blough\",\"Miles Boykin\",\"Gary Brightwell\",\"Derek Carrier\",\"Keke Coutee\",\"Damarea Crockett\",\"Frank Darby\",\"Sam Ehlinger\",\"Ryan Fitzpatrick\",\"Jake Funk\",\"Marvin Hall\",\"Demetrius Harris\",\"Brycen Hopkins\",\"Buddy Howell\",\"Andy Isabella\",\"John Kelly\",\"Tommylee Lewis\",\"Hunter Long\",\"Anthony McFarland Jr.\",\"Kirk Merritt\",\"Jaydon Mickens\",\"Stanley Morgan Jr.\",\"Johnny Mundt\",\"Ryan Nall\",\"Jacques Patrick\",\"Kevin Rader\",\"Richard Rodgers\",\"Mekhi Sargent\",\"C.J. Saunders\",\"Luke Stocker\",\"Eric Tomlinson\",\"Tyrell Williams\",\"Easop Winston\",\"Ethan Wolf\",\"Alex Bachman\",\"Kenjon Barner\",\"Nick Bellore\",\"Kurt Benkert\",\"Nick Boyle\",\"Nathan Cottrell\",\"Chase Daniel\",\"Darrell Daniels\",\"Maurice Ffrench\",\"Daniel Helm\",\"Nate McCrary\",\"Kellen Mond\",\"Devine Ozigbo\",\"Nathan Peterman\",\"Brett Rypien\",\"Davis Webb\",\"Deon Yelder\",\"Khari Blasingame\",\"Jacob Eason\",\"Feleipe Franks\",\"Racey McMath\",\"Malik Taylor\",\"Logan Woodside\",\"Trenton Cannon\",\"John Wolford\",\"Josh Rosen\",\"Diontae Spencer\"],\"x\":[2.0,6.0,18.0,7.0,null,null,4.0,null,null,null,null,null,15.0,null,null,null,null,null,null,null,null,null,11.0,26.0,null,3.0,null,null,null,46.0,null,null,null,null,null,null,null,null,null,null,null,null,null,null,null,null,null,null,null,31.0,null,null,null,null,null,42.0,null,null,null,null,null,null,null,null,null,null,null,null,null,null,null,null,null,null,null,null,null,null,null,null,null,null,null,null,null,null,null,null,null,null,null,null,null,null,null,null,null,null,null,null,null,null,null,null,null,null,null,null,null,12.0,null,null,null,null,null,null,null,null,null,null,null,null,null,14.0,null,null,null,null,null,null,null,null,47.0,null,null,23.0,null,null,null,null,null,null,null,45.0,null,null,null,null,null,null,null,null,null,null,null,null,null,null,null,null,null,null,null,null,null,null,null,null,null,null,null,null,null,null,null,null,null,null,null,null,null,null,null,null,null,null,null,null,null,null,null,null,null,null,null,null,null,null,null,null,null,null,null,null,null,null,null,null,null,null,null,null,null,null,null,null,null,null,null,null,null,null,null,null,null,null,null,null,null,null,null,null,null,null,null,null,null,null,null,null,null,null,null,null,null,null,null,null,null,null,null,null,null,null,null,null,null,48.0,null,null,null,null,null,null,null,null,null,null,null,null,null,null,null,null,null,null,null,null,null,null,null,null,null,null,null,null,null,null,null,null,null,null,null,null,null,null,null,null,null,null,null,null,null,null,null,null,null,null,null,null,null,null,null,null,null,null,null,null,null,null,null,null,null,null,null,null,null,null,null,null,null,null,null,null,null,null,null,null,null,null,null,null,null,null,null,null,null,null,null,null,null,null,null,null,null,null,null,null,null,null,null,null,null,null,null,null,null,null,null,null,null,null,null,null,null,null,null,null,null,null,null,null,null,null,null,null,null,null,null,null,null,null,null,null,null,null,null,null,null,null,null,null,null,null,19.0,null,null,null,null,null,null,null,null,null,null,null,null,null,1.0,null,null,null,null,null,null,25.0,null,null,null,null,null,null,null,null,null,null,null,null,null,null,null,null,null,null,null,null,null,null,null,null,null,null,null,null,null,null,null,null,null,null,null,null,null,null,null,null,null,null,null,null,null,null,null,null,null,null,null,null,null,null,null,null,null,null,null,null,null,null,null,null,null,null,null,null,null,null,null,null,null,null,null,null,null,null,null,null,null,null,null,null,null,null,null,null,null,null,null,null,null,null,null,null,null,null,null,null,null,null,null,null,null,null,null,null,null,null,null,null,null,null,null,null,null,null,null,null,null,null,null,null,null,null,null,null,null,null,null,null,null,null,null,null,null,null,null,null,null,null,null,null,null,null,null,null,null,null,null,null,null,null,null,null,null,null,null,null,null,null,null,null,null,null,null,null,null,null,null,null,null,null,null,null,null,null,null,null,null,null,null,null,null,null,null,null,null,null,null,null,null,null,null,null],\"y\":[333.0,295.0,262.0,403.0,274.0,381.0,375.0,194.0,224.0,222.0,246.0,221.0,362.0,227.0,171.0,221.0,189.0,332.0,186.0,330.0,183.0,205.0,321.0,195.0,171.0,169.0,168.0,192.0,314.0,167.0,312.0,188.0,187.0,187.0,131.0,183.0,127.0,156.0,154.0,300.0,300.0,177.0,152.0,175.0,151.0,172.0,172.0,116.0,145.0,115.0,145.0,144.0,114.0,167.0,142.0,142.0,109.0,139.0,109.0,162.0,137.0,107.0,137.0,135.0,135.0,158.0,133.0,131.0,153.0,152.0,126.0,149.0,147.0,92.0,146.0,268.0,258.0,257.0,243.0,240.0,228.0,225.0,223.0,222.0,218.0,203.0,199.0,195.0,181.0,181.0,167.0,157.0,157.0,152.0,143.0,134.0,127.0,125.0,125.0,124.0,122.0,118.0,118.0,118.0,118.0,117.0,117.0,116.0,114.0,113.0,113.0,109.0,108.0,108.0,107.0,106.0,105.0,104.0,103.0,103.0,103.0,103.0,103.0,101.0,100.0,99.0,97.0,95.0,94.0,94.0,94.0,94.0,92.0,92.0,92.0,91.0,91.0,91.0,91.0,90.0,90.0,90.0,88.0,86.0,86.0,86.0,86.0,85.0,85.0,85.0,85.0,85.0,84.0,84.0,84.0,84.0,83.0,83.0,83.0,82.0,82.0,82.0,82.0,81.0,79.0,79.0,79.0,79.0,77.0,77.0,77.0,76.0,75.0,75.0,73.0,73.0,73.0,72.0,72.0,71.0,70.0,70.0,69.0,66.0,66.0,66.0,65.0,65.0,64.0,64.0,64.0,63.0,62.0,61.0,61.0,61.0,61.0,60.0,60.0,59.0,59.0,59.0,58.0,58.0,57.0,57.0,57.0,56.0,56.0,56.0,56.0,55.0,55.0,55.0,55.0,54.0,54.0,52.0,52.0,52.0,52.0,51.0,51.0,51.0,51.0,50.0,50.0,49.0,49.0,49.0,49.0,49.0,48.0,47.0,46.0,46.0,46.0,46.0,46.0,45.0,45.0,45.0,45.0,45.0,44.0,44.0,44.0,43.0,43.0,43.0,43.0,43.0,42.0,42.0,42.0,41.0,41.0,41.0,41.0,41.0,40.0,40.0,40.0,39.0,39.0,39.0,39.0,39.0,39.0,39.0,39.0,38.0,38.0,38.0,37.0,37.0,37.0,37.0,37.0,36.0,36.0,36.0,36.0,36.0,36.0,36.0,35.0,35.0,35.0,35.0,35.0,34.0,34.0,34.0,34.0,34.0,34.0,33.0,33.0,33.0,33.0,33.0,33.0,33.0,32.0,31.0,31.0,31.0,30.0,29.0,29.0,29.0,28.0,28.0,28.0,27.0,27.0,27.0,27.0,27.0,27.0,26.0,25.0,25.0,25.0,24.0,24.0,24.0,24.0,24.0,24.0,23.0,23.0,23.0,23.0,23.0,23.0,23.0,23.0,22.0,22.0,22.0,22.0,22.0,21.0,21.0,21.0,20.0,20.0,20.0,20.0,20.0,19.0,19.0,19.0,19.0,18.0,18.0,18.0,18.0,18.0,18.0,17.0,17.0,17.0,17.0,17.0,17.0,16.0,16.0,16.0,16.0,16.0,16.0,16.0,15.0,15.0,15.0,15.0,15.0,15.0,15.0,15.0,14.0,14.0,14.0,14.0,14.0,13.0,13.0,13.0,13.0,13.0,13.0,13.0,13.0,12.0,12.0,12.0,12.0,12.0,12.0,11.0,11.0,11.0,11.0,11.0,11.0,11.0,11.0,11.0,11.0,11.0,11.0,11.0,11.0,10.0,10.0,10.0,10.0,10.0,10.0,10.0,10.0,10.0,10.0,10.0,9.0,9.0,9.0,9.0,9.0,9.0,9.0,9.0,8.0,8.0,8.0,8.0,8.0,8.0,8.0,8.0,8.0,7.0,7.0,7.0,7.0,7.0,7.0,6.0,6.0,6.0,6.0,6.0,6.0,6.0,6.0,6.0,6.0,6.0,5.0,5.0,5.0,5.0,5.0,5.0,5.0,5.0,4.0,4.0,4.0,4.0,4.0,4.0,4.0,4.0,4.0,4.0,4.0,4.0,4.0,4.0,4.0,4.0,4.0,4.0,4.0,3.0,3.0,3.0,3.0,3.0,3.0,3.0,3.0,3.0,3.0,3.0,3.0,3.0,3.0,3.0,3.0,3.0,3.0,3.0,3.0,3.0,2.0,2.0,2.0,2.0,2.0,2.0,2.0,2.0,2.0,2.0,2.0,2.0,2.0,2.0,2.0,2.0,2.0,2.0,2.0,2.0,2.0,2.0,2.0,2.0,1.0,1.0,1.0,1.0,1.0,1.0,1.0,1.0,1.0,1.0,1.0,1.0,1.0,1.0,1.0,1.0,1.0,1.0,1.0,1.0,1.0,1.0,1.0,1.0,1.0,1.0,1.0,1.0,1.0,1.0,1.0,1.0,1.0,1.0,1.0,1.0,null,null,null,null,null,null,null,null,null,null,null,null,null,null,null,null,null,-1.0,-1.0,-1.0,-1.0,-1.0,-1.0,-2.0,-2.0,-3.0,-4.0],\"type\":\"scatter\"},{\"mode\":\"markers\",\"text\":[\"Jonathan Taylor*+\",\"Cooper Kupp*+\",\"Deebo Samuel*+\",\"Josh Allen\",\"Austin Ekeler\",\"Justin Herbert*\",\"Tom Brady*\",\"Mark Andrews*+\",\"Ja'Marr Chase*\",\"Justin Jefferson*\",\"Joe Mixon*\",\"Davante Adams*+\",\"Patrick Mahomes*\",\"Najee Harris*\",\"Travis Kelce*\",\"James Conner*\",\"Mike Evans*\",\"Aaron Rodgers*+\",\"Tyreek Hill*\",\"Matthew Stafford\",\"Stefon Diggs*\",\"Ezekiel Elliott\",\"Dak Prescott\",\"Nick Chubb*\",\"Mike Williams\",\"D.K. Metcalf\",\"Tyler Lockett\",\"Damien Harris\",\"Joe Burrow\",\"Diontae Johnson*\",\"Jalen Hurts\",\"Alvin Kamara*\",\"Antonio Gibson\",\"Leonard Fournette\",\"Dalton Schultz\",\"Cordarrelle Patterson\",\"George Kittle*\",\"Hunter Renfrow*\",\"CeeDee Lamb*\",\"Kyler Murray*\",\"Kirk Cousins*\",\"Aaron Jones\",\"Keenan Allen*\",\"Derrick Henry\",\"Michael Pittman Jr.\",\"Dalvin Cook*\",\"Josh Jacobs\",\"Rob Gronkowski\",\"Tee Higgins\",\"Dawson Knox\",\"D.J. Moore\",\"Chris Godwin\",\"Hunter Henry\",\"Melvin Gordon\",\"Jaylen Waddle\",\"Brandin Cooks\",\"Dallas Goedert\",\"Darnell Mooney\",\"Kyle Pitts*\",\"Javonte Williams\",\"Amon-Ra St. Brown\",\"Zach Ertz\",\"Terry McLaurin\",\"Marquise Brown\",\"Amari Cooper\",\"Devin Singletary\",\"Adam Thielen\",\"Christian Kirk\",\"David Montgomery\",\"AJ Dillon\",\"Kendrick Bourne\",\"Darrel Williams\",\"D'Andre Swift\",\"Mike Gesicki\",\"Elijah Mitchell\",\"Ryan Tannehill\",\"Carson Wentz\",\"Derek Carr\",\"Russell Wilson*\",\"Lamar Jackson*\",\"Jimmy Garoppolo\",\"Mac Jones*\",\"Matt Ryan\",\"Taylor Heinicke\",\"Ben Roethlisberger\",\"Teddy Bridgewater\",\"Trevor Lawrence\",\"Jared Goff\",\"Baker Mayfield\",\"Tua Tagovailoa\",\"Daniel Jones\",\"Sam Darnold\",\"Davis Mills\",\"Zach Wilson\",\"James Robinson\",\"Darrell Henderson\",\"Justin Fields\",\"Myles Gaskin\",\"Sony Michel\",\"Tony Pollard\",\"DeVonta Smith\",\"A.J. Brown\",\"Michael Carter\",\"Taysom Hill\",\"Van Jefferson\",\"Tyler Boyd\",\"Jameis Winston\",\"Rashaad Penny\",\"Brandon Aiyuk\",\"Devonta Freeman\",\"Chuba Hubbard\",\"K.J. Osborn\",\"Saquon Barkley\",\"Chase Claypool\",\"Marvin Jones\",\"Marquez Callaway\",\"DeAndre Hopkins\",\"Devontae Booker\",\"A.J. Green\",\"Allen Lazard\",\"Jakobi Meyers\",\"Tim Patrick\",\"Cedrick Wilson Jr.\",\"Rhamondre Stevenson\",\"Chase Edmonds\",\"Clyde Edwards-Helaire\",\"Russell Gage\",\"Elijah Moore\",\"Mike Davis\",\"Alexander Mattison\",\"Latavius Murray\",\"Jamaal Williams\",\"Pat Freiermuth\",\"Courtland Sutton\",\"Robert Woods\",\"Gabriel Davis\",\"Noah Fant\",\"Christian McCaffrey\",\"Miles Sanders\",\"Kenneth Gainwell\",\"Emmanuel Sanders\",\"Trevor Siemian\",\"Kareem Hunt\",\"Robby Anderson\",\"Tyler Higbee\",\"Cam Newton\",\"Boston Scott\",\"Odell Beckham Jr.\",\"D'Onta Foreman\",\"D'Ernest Johnson\",\"J.D. McKissic\",\"Byron Pringle\",\"Jared Cook\",\"Andy Dalton\",\"T.J. Hockenson\",\"Kalif Raymond\",\"Brandon Bolden\",\"Tyler Huntley\",\"Ty Johnson\",\"Mecole Hardman\",\"Mark Ingram\",\"Zack Moss\",\"Tyrod Taylor\",\"Jarvis Landry\",\"Antonio Brown\",\"Rex Burkhead\",\"C.J. Uzomah\",\"Darren Waller\",\"Cole Beasley\",\"Tyler Conklin\",\"Deonte Harris\",\"Donovan Peoples-Jones\",\"Braxton Berrios+\",\"Bryan Edwards\",\"Kenyan Drake\",\"Nyheim Hines\",\"Quez Watkins\",\"Jacoby Brissett\",\"David Njoku\",\"Corey Davis\",\"Gerald Everett\",\"Nick Westbrook-Ikhine\",\"Ronald Jones II\",\"Nelson Agholor\",\"Randall Cobb\",\"Jalen Guyton\",\"Khalil Herbert\",\"Trey Lance\",\"Justin Jackson\",\"DeVante Parker\",\"Laviska Shenault Jr.\",\"DeAndre Carter\",\"Freddie Swain\",\"Jordan Howard\",\"Cole Kmet\",\"Henry Ruggs III\",\"Marquez Valdes-Scantling\",\"Alex Collins\",\"Josh Palmer\",\"Jamison Crowder\",\"Zay Jones\",\"Olamide Zaccheaus\",\"Rashod Bateman\",\"Jauan Jennings\",\"Evan Engram\",\"Michael Gallup\",\"Zach Pascal\",\"Mo Alie-Cox\",\"DeSean Jackson\",\"Samaje Perine\",\"Tre'Quan Smith\",\"Austin Hooper\",\"Duke Johnson\",\"Rondale Moore\",\"Foster Moreau\",\"Dontrell Hilliard\",\"Geno Smith\",\"Ameer Abdullah\",\"Jamal Agnew\",\"Kenny Golladay\",\"Josh Reynolds\",\"Keelan Cole\",\"Nico Collins\",\"T.Y. Hilton\",\"Drew Lock\",\"Jack Doyle\",\"Devin Duvernay*+\",\"Cameron Brate\",\"David Johnson\",\"Julio Jones\",\"Allen Robinson\",\"Laquon Treadwell\",\"Derrick Gore\",\"Jerry Jeudy\",\"Mack Hollins\",\"Travis Homer\",\"Josh Johnson\",\"Jeremy McNichols\",\"Jaret Patterson\",\"Danny Amendola\",\"Anthony Firkser\",\"Jalen Reagor\",\"Damien Williams\",\"Jeff Wilson\",\"Kyle Juszczyk*\",\"Demarcus Robinson\",\"Mike White\",\"Chris Conley\",\"Albert Okwuegbunam\",\"Darius Slayton\",\"Kadarius Toney\",\"Sammy Watkins\",\"Chris Carson\",\"Sterling Shepard\",\"James Washington\",\"Dan Arnold\",\"Harrison Bryant\",\"Tevin Coleman\",\"Phillip Lindsay\",\"Colt McCoy\",\"Peyton Barber\",\"Juwan Johnson\",\"Calvin Ridley\",\"Damiere Byrd\",\"DeeJay Dallas\",\"Ashton Dulin\",\"Donald Parham\",\"Ricky Seals-Jones\",\"Jonnu Smith\",\"Geoff Swaim\",\"Antoine Wesley\",\"Ryan Griffin\",\"Adam Humphries\",\"Hayden Hurst\",\"Josiah Deguara\",\"Marquise Goodwin\",\"Jimmy Graham\",\"Lil'Jordan Humphrey\",\"Dare Ogunbowale\",\"Giovani Bernard\",\"Matt Breida\",\"Tyler Johnson\",\"Brevin Jordan\",\"Durham Smythe\",\"Logan Thomas\",\"Adam Trautman\",\"Chris Evans\",\"Cyril Grayson\",\"Chris Moore\",\"MyCole Pruitt\",\"Chester Rogers\",\"Quintez Cephus\",\"Rashard Higgins\",\"Carlos Hyde\",\"Gardner Minshew II\",\"Kyle Rudolph\",\"Cam Sims\",\"Le'Veon Bell\",\"Demetric Felton\",\"Isaiah McKenzie\",\"Tommy Tremble\",\"Malik Turner\",\"Ke'Shawn Vaughn\",\"Ty'Son Williams\",\"Robert Tonyan\",\"John Bates\",\"Mike Glennon\",\"Brandon Zylstra\",\"John Ross\",\"Will Dissly\",\"Jakeem Grant*\",\"Case Keenum\",\"Isaiah Ford\",\"Craig Reynolds\",\"Greg Ward\",\"Salvon Ahmed\",\"Tavon Austin\",\"DJ Chark\",\"Jamycal Hasty\",\"Ray-Ray McCloud\",\"Elijhaa Penny\",\"James O'Shaughnessy\",\"Royce Freeman\",\"Trey Sermon\",\"Maxx Williams\",\"Tim Boyle\",\"Joe Flacco\",\"Kendall Hinton\",\"Cooper Rush\",\"Ihmir Smith-Marsette\",\"Brock Wright\",\"Stephen Anderson\",\"Corey Clement\",\"Tyler Kroft\",\"Jerick McKinnon\",\"Adrian Peterson\",\"Anthony Schwartz\",\"Tajae Sharpe\",\"Albert Wilson\",\"Eno Benjamin\",\"Parris Campbell\",\"Blake Jarwin\",\"Jermar Jefferson\",\"Breshad Perriman\",\"Eric Ebron\",\"Marcedes Lewis\",\"Jordan Love\",\"Malcolm Brown\",\"O.J. Howard\",\"Godwin Igwebuike\",\"James Proche\",\"JuJu Smith-Schuster\",\"Kene Nwangwu\",\"Ian Thomas\",\"Nick Vannett\",\"James White\",\"Jordan Akins\",\"Noah Brown\",\"D'Wayne Eskridge\",\"KhaDarel Hodge\",\"Mason Rudolph\",\"Mohamed Sanu\",\"Nick Foles\",\"Joe Fortson\",\"Zach Gentry\",\"Tony Jones\",\"Austin Walter\",\"Jonathan Williams\",\"Dyami Brown\",\"C.J. Ham\",\"N'Keal Harry\",\"Marcus Johnson\",\"Terrace Marshall Jr.\",\"Qadree Ollison\",\"Kristian Wilkerson\",\"Pharaoh Brown\",\"Alec Ingold\",\"Marcus Mariota\",\"Dante Pettis\",\"Larry Rountree\",\"Trent Sherfield\",\"J.J. Taylor\",\"Patrick Taylor\",\"Brandon Allen\",\"Jesper Horsted\",\"Scott Miller\",\"Ty Montgomery\",\"P.J. Walker\",\"Wayne Gallman\",\"Chris Manhertz\",\"Sean Mannion\",\"Denzel Mims\",\"Patrick Ricard*\",\"Ben Skowronek\",\"Lee Smith\",\"Kenny Stills\",\"Michael Burton\",\"Jacob Hollister\",\"Brian Hoyer\",\"Jesse James\",\"Joshua Kelley\",\"Tom Kennedy\",\"Antony Auclair\",\"Phillip Dorsett\",\"Ross Dwelley\",\"Dez Fitzpatrick\",\"Jake Fromm\",\"Kylen Granson\",\"Collin Johnson\",\"Marlon Mack\",\"Jalen Richard\",\"Eric Saubert\",\"Adam Shaheen\",\"Jeff Smith\",\"Benny Snell Jr.\",\"Equanimeous St. Brown\",\"Ryquell Armstead\",\"Blake Bell\",\"Trinity Benson\",\"Jason Cabinda\",\"Noah Gray\",\"Chris Herndon\",\"Chris Hogan\",\"Nick Mullens\",\"Shi Smith\",\"Tommy Sweeney\",\"Auden Tate\",\"Cameron Batson\",\"Josh Gordon\",\"JaQuan Hardy\",\"Deon Jackson\",\"Andy Janovich\",\"Sean McKeon\",\"Anthony Miller\",\"Keith Smith\",\"Kyle Allen\",\"Alex Armah\",\"Garrett Gilbert\",\"Tyree Jackson\",\"Chris Myarick\",\"Dezmon Patmon\",\"Drew Sample\",\"Mitchell Trubisky\",\"Preston Williams\",\"KJ Hamler\",\"Josh Oliver\",\"Andre Roberts\",\"Johnny Stanton\",\"Jonathan Ward\",\"Dede Westbrook\",\"C.J. Board\",\"Mike Boone\",\"Ja'Marcus Bradley\",\"Alex Erickson\",\"Luke Farrell\",\"Penny Hart\",\"Dax Milne\",\"Jason Moore\",\"Amari Rodgers\",\"Ito Smith\",\"Trayveon Williams\",\"Jaelon Darden\",\"Will Fuller\",\"Jason Huntley\",\"Tre' McKitty\",\"Wendell Smallwood\",\"Rodney Smith\",\"Mike Thomas\",\"Charlie Woerner\",\"JJ Arcega-Whiteside\",\"Kalen Ballage\",\"Kendall Blanton\",\"Pharoh Cooper\",\"Tyler Davis\",\"Greg Dortch\",\"Darren Fells\",\"Garrett Griffin\",\"Parker Hesse\",\"Jakob Johnson\",\"D.J. Montgomery\",\"Gunner Olszewski\",\"Curtis Samuel\",\"Willie Snead\",\"Trent Taylor\",\"Trevon Wesco\",\"Kevin White\",\"Juwann Winfree\",\"Kenny Yeboah\",\"Christian Blake\",\"Daniel Brown\",\"Dominique Dafney\",\"Reggie Gilliam\",\"Chad Henne\",\"K.J. Hill\",\"Kylin Hill\",\"Cody Hollister\",\"Tommy Hudson\",\"Trenton Irwin\",\"Jake Kumerow\",\"Gabe Nabers\",\"Colby Parkinson\",\"La'Mical Perine\",\"Kaden Smith\",\"Jeremy Sprinkle\",\"Mike Strachan\",\"Dwayne Washington\",\"Cody White\",\"Seth Williams\",\"Shane Zylstra\",\"Nick Bawden\",\"C.J. Beathard\",\"Reggie Bonnafon\",\"Ian Book\",\"Cethan Carter\",\"Davion Davis\",\"Darrynton Evans\",\"Blaine Gabbert\",\"Tyron Johnson\",\"Marcus Kemp\",\"Keith Kirkwood\",\"Patrick Laird\",\"Raheem Mostert\",\"Dazz Newsome\",\"Scottie Phillips\",\"Adam Prentice\",\"Trey Ragas\",\"Jaylen Samuels\",\"David Sills\",\"Jack Stoll\",\"Chris Streveler\",\"Tylan Wallace\",\"Derek Watt\",\"Mitchell Wilcox\",\"Cam Akers\",\"Tarik Black\",\"David Blough\",\"Miles Boykin\",\"Gary Brightwell\",\"Derek Carrier\",\"Keke Coutee\",\"Damarea Crockett\",\"Frank Darby\",\"Sam Ehlinger\",\"Ryan Fitzpatrick\",\"Jake Funk\",\"Marvin Hall\",\"Demetrius Harris\",\"Brycen Hopkins\",\"Buddy Howell\",\"Andy Isabella\",\"John Kelly\",\"Tommylee Lewis\",\"Hunter Long\",\"Anthony McFarland Jr.\",\"Kirk Merritt\",\"Jaydon Mickens\",\"Stanley Morgan Jr.\",\"Johnny Mundt\",\"Ryan Nall\",\"Jacques Patrick\",\"Kevin Rader\",\"Richard Rodgers\",\"Mekhi Sargent\",\"C.J. Saunders\",\"Luke Stocker\",\"Eric Tomlinson\",\"Tyrell Williams\",\"Easop Winston\",\"Ethan Wolf\",\"Alex Bachman\",\"Kenjon Barner\",\"Nick Bellore\",\"Kurt Benkert\",\"Nick Boyle\",\"Nathan Cottrell\",\"Chase Daniel\",\"Darrell Daniels\",\"Maurice Ffrench\",\"Daniel Helm\",\"Nate McCrary\",\"Kellen Mond\",\"Devine Ozigbo\",\"Nathan Peterman\",\"Brett Rypien\",\"Davis Webb\",\"Deon Yelder\",\"Khari Blasingame\",\"Jacob Eason\",\"Feleipe Franks\",\"Racey McMath\",\"Malik Taylor\",\"Logan Woodside\",\"Trenton Cannon\",\"John Wolford\",\"Josh Rosen\",\"Diontae Spencer\"],\"x\":[3.0,null,33.0,32.0,2.0,17.0,null,null,22.0,null,35.0,null,null,null,null,null,null,31.0,null,null,1.0,null,15.0,14.0,null,null,null,null,26.0,null,null,null,null,null,null,25.0,null,null,null,null,4.0,44.0,null,null,null,null,null,null,null,null,null,null,null,null,null,null,null,null,null,null,null,null,8.0,null,null,null,null,null,null,null,null,null,null,null,null,null,null,null,null,null,null,null,null,null,null,null,null,null,null,null,null,null,null,null,null,24.0,34.0,null,null,null,null,null,null,null,null,null,null,null,null,null,16.0,null,null,null,null,null,null,null,6.0,null,null,null,null,null,null,null,null,null,null,null,null,null,null,null,null,null,null,null,null,null,null,null,null,null,null,null,null,null,null,null,null,null,null,null,null,null,null,null,null,23.0,null,null,null,null,null,null,null,null,null,null,null,null,null,null,null,null,null,null,null,null,null,null,null,null,null,null,null,null,null,null,null,null,null,null,null,null,null,null,null,null,null,null,null,null,null,null,null,null,null,null,null,null,null,null,null,null,null,null,null,null,null,null,null,null,null,null,null,null,null,null,null,null,null,null,null,null,null,null,null,null,null,null,null,null,null,null,null,null,null,null,null,null,null,null,null,null,null,null,null,null,null,null,null,null,null,null,null,null,null,null,null,null,null,null,null,null,null,null,null,null,null,null,null,null,null,null,null,null,null,null,null,null,null,null,null,null,null,null,null,null,null,null,null,null,null,null,null,null,null,null,null,null,null,null,null,null,null,null,null,null,null,null,null,null,null,null,null,null,null,null,null,null,null,null,null,null,null,null,null,null,null,null,null,null,null,null,null,null,null,null,null,null,null,null,null,null,null,null,null,null,null,null,null,null,null,null,null,null,null,null,null,null,null,null,null,null,null,null,null,null,null,null,null,null,null,null,null,null,null,null,null,null,null,null,null,null,null,null,null,null,null,null,null,null,null,null,null,null,null,null,null,null,null,null,null,null,null,null,null,null,null,null,null,null,null,null,null,null,null,null,null,null,null,null,null,null,null,null,null,null,null,null,null,null,null,null,null,null,null,null,null,null,null,null,null,null,null,null,null,null,null,null,null,null,null,null,null,null,null,null,null,null,null,null,null,null,null,null,null,null,null,null,null,null,null,null,null,null,null,null,null,null,null,null,null,null,null,null,null,null,null,null,null,null,null,null,null,null,null,null,null,null,null,null,null,null,null,null,null,null,null,null,null,null,null,null,null,null,null,null,null,null,null,null,null,null,null,null,null,null,null,null,null,null,null,null,null,null,null,null,null,null,null,null,null,null,null,null,null,null,null,null,null,null,null,null,null,null,null,null,null,null,null,null,null,null,null,null,null,null,null,null,null,null,null,null,null,null,null,null,null,null,null,null,null,null,null,null,null,null,null,null,null,null,null,null,null,null,null,null,null,null,null,null,null,null,null,null,null,null],\"y\":[333.0,295.0,262.0,403.0,274.0,381.0,375.0,194.0,224.0,222.0,246.0,221.0,362.0,227.0,171.0,221.0,189.0,332.0,186.0,330.0,183.0,205.0,321.0,195.0,171.0,169.0,168.0,192.0,314.0,167.0,312.0,188.0,187.0,187.0,131.0,183.0,127.0,156.0,154.0,300.0,300.0,177.0,152.0,175.0,151.0,172.0,172.0,116.0,145.0,115.0,145.0,144.0,114.0,167.0,142.0,142.0,109.0,139.0,109.0,162.0,137.0,107.0,137.0,135.0,135.0,158.0,133.0,131.0,153.0,152.0,126.0,149.0,147.0,92.0,146.0,268.0,258.0,257.0,243.0,240.0,228.0,225.0,223.0,222.0,218.0,203.0,199.0,195.0,181.0,181.0,167.0,157.0,157.0,152.0,143.0,134.0,127.0,125.0,125.0,124.0,122.0,118.0,118.0,118.0,118.0,117.0,117.0,116.0,114.0,113.0,113.0,109.0,108.0,108.0,107.0,106.0,105.0,104.0,103.0,103.0,103.0,103.0,103.0,101.0,100.0,99.0,97.0,95.0,94.0,94.0,94.0,94.0,92.0,92.0,92.0,91.0,91.0,91.0,91.0,90.0,90.0,90.0,88.0,86.0,86.0,86.0,86.0,85.0,85.0,85.0,85.0,85.0,84.0,84.0,84.0,84.0,83.0,83.0,83.0,82.0,82.0,82.0,82.0,81.0,79.0,79.0,79.0,79.0,77.0,77.0,77.0,76.0,75.0,75.0,73.0,73.0,73.0,72.0,72.0,71.0,70.0,70.0,69.0,66.0,66.0,66.0,65.0,65.0,64.0,64.0,64.0,63.0,62.0,61.0,61.0,61.0,61.0,60.0,60.0,59.0,59.0,59.0,58.0,58.0,57.0,57.0,57.0,56.0,56.0,56.0,56.0,55.0,55.0,55.0,55.0,54.0,54.0,52.0,52.0,52.0,52.0,51.0,51.0,51.0,51.0,50.0,50.0,49.0,49.0,49.0,49.0,49.0,48.0,47.0,46.0,46.0,46.0,46.0,46.0,45.0,45.0,45.0,45.0,45.0,44.0,44.0,44.0,43.0,43.0,43.0,43.0,43.0,42.0,42.0,42.0,41.0,41.0,41.0,41.0,41.0,40.0,40.0,40.0,39.0,39.0,39.0,39.0,39.0,39.0,39.0,39.0,38.0,38.0,38.0,37.0,37.0,37.0,37.0,37.0,36.0,36.0,36.0,36.0,36.0,36.0,36.0,35.0,35.0,35.0,35.0,35.0,34.0,34.0,34.0,34.0,34.0,34.0,33.0,33.0,33.0,33.0,33.0,33.0,33.0,32.0,31.0,31.0,31.0,30.0,29.0,29.0,29.0,28.0,28.0,28.0,27.0,27.0,27.0,27.0,27.0,27.0,26.0,25.0,25.0,25.0,24.0,24.0,24.0,24.0,24.0,24.0,23.0,23.0,23.0,23.0,23.0,23.0,23.0,23.0,22.0,22.0,22.0,22.0,22.0,21.0,21.0,21.0,20.0,20.0,20.0,20.0,20.0,19.0,19.0,19.0,19.0,18.0,18.0,18.0,18.0,18.0,18.0,17.0,17.0,17.0,17.0,17.0,17.0,16.0,16.0,16.0,16.0,16.0,16.0,16.0,15.0,15.0,15.0,15.0,15.0,15.0,15.0,15.0,14.0,14.0,14.0,14.0,14.0,13.0,13.0,13.0,13.0,13.0,13.0,13.0,13.0,12.0,12.0,12.0,12.0,12.0,12.0,11.0,11.0,11.0,11.0,11.0,11.0,11.0,11.0,11.0,11.0,11.0,11.0,11.0,11.0,10.0,10.0,10.0,10.0,10.0,10.0,10.0,10.0,10.0,10.0,10.0,9.0,9.0,9.0,9.0,9.0,9.0,9.0,9.0,8.0,8.0,8.0,8.0,8.0,8.0,8.0,8.0,8.0,7.0,7.0,7.0,7.0,7.0,7.0,6.0,6.0,6.0,6.0,6.0,6.0,6.0,6.0,6.0,6.0,6.0,5.0,5.0,5.0,5.0,5.0,5.0,5.0,5.0,4.0,4.0,4.0,4.0,4.0,4.0,4.0,4.0,4.0,4.0,4.0,4.0,4.0,4.0,4.0,4.0,4.0,4.0,4.0,3.0,3.0,3.0,3.0,3.0,3.0,3.0,3.0,3.0,3.0,3.0,3.0,3.0,3.0,3.0,3.0,3.0,3.0,3.0,3.0,3.0,2.0,2.0,2.0,2.0,2.0,2.0,2.0,2.0,2.0,2.0,2.0,2.0,2.0,2.0,2.0,2.0,2.0,2.0,2.0,2.0,2.0,2.0,2.0,2.0,1.0,1.0,1.0,1.0,1.0,1.0,1.0,1.0,1.0,1.0,1.0,1.0,1.0,1.0,1.0,1.0,1.0,1.0,1.0,1.0,1.0,1.0,1.0,1.0,1.0,1.0,1.0,1.0,1.0,1.0,1.0,1.0,1.0,1.0,1.0,1.0,null,null,null,null,null,null,null,null,null,null,null,null,null,null,null,null,null,-1.0,-1.0,-1.0,-1.0,-1.0,-1.0,-2.0,-2.0,-3.0,-4.0],\"type\":\"scatter\"},{\"mode\":\"markers\",\"text\":[\"Jonathan Taylor*+\",\"Cooper Kupp*+\",\"Deebo Samuel*+\",\"Josh Allen\",\"Austin Ekeler\",\"Justin Herbert*\",\"Tom Brady*\",\"Mark Andrews*+\",\"Ja'Marr Chase*\",\"Justin Jefferson*\",\"Joe Mixon*\",\"Davante Adams*+\",\"Patrick Mahomes*\",\"Najee Harris*\",\"Travis Kelce*\",\"James Conner*\",\"Mike Evans*\",\"Aaron Rodgers*+\",\"Tyreek Hill*\",\"Matthew Stafford\",\"Stefon Diggs*\",\"Ezekiel Elliott\",\"Dak Prescott\",\"Nick Chubb*\",\"Mike Williams\",\"D.K. Metcalf\",\"Tyler Lockett\",\"Damien Harris\",\"Joe Burrow\",\"Diontae Johnson*\",\"Jalen Hurts\",\"Alvin Kamara*\",\"Antonio Gibson\",\"Leonard Fournette\",\"Dalton Schultz\",\"Cordarrelle Patterson\",\"George Kittle*\",\"Hunter Renfrow*\",\"CeeDee Lamb*\",\"Kyler Murray*\",\"Kirk Cousins*\",\"Aaron Jones\",\"Keenan Allen*\",\"Derrick Henry\",\"Michael Pittman Jr.\",\"Dalvin Cook*\",\"Josh Jacobs\",\"Rob Gronkowski\",\"Tee Higgins\",\"Dawson Knox\",\"D.J. Moore\",\"Chris Godwin\",\"Hunter Henry\",\"Melvin Gordon\",\"Jaylen Waddle\",\"Brandin Cooks\",\"Dallas Goedert\",\"Darnell Mooney\",\"Kyle Pitts*\",\"Javonte Williams\",\"Amon-Ra St. Brown\",\"Zach Ertz\",\"Terry McLaurin\",\"Marquise Brown\",\"Amari Cooper\",\"Devin Singletary\",\"Adam Thielen\",\"Christian Kirk\",\"David Montgomery\",\"AJ Dillon\",\"Kendrick Bourne\",\"Darrel Williams\",\"D'Andre Swift\",\"Mike Gesicki\",\"Elijah Mitchell\",\"Ryan Tannehill\",\"Carson Wentz\",\"Derek Carr\",\"Russell Wilson*\",\"Lamar Jackson*\",\"Jimmy Garoppolo\",\"Mac Jones*\",\"Matt Ryan\",\"Taylor Heinicke\",\"Ben Roethlisberger\",\"Teddy Bridgewater\",\"Trevor Lawrence\",\"Jared Goff\",\"Baker Mayfield\",\"Tua Tagovailoa\",\"Daniel Jones\",\"Sam Darnold\",\"Davis Mills\",\"Zach Wilson\",\"James Robinson\",\"Darrell Henderson\",\"Justin Fields\",\"Myles Gaskin\",\"Sony Michel\",\"Tony Pollard\",\"DeVonta Smith\",\"A.J. Brown\",\"Michael Carter\",\"Taysom Hill\",\"Van Jefferson\",\"Tyler Boyd\",\"Jameis Winston\",\"Rashaad Penny\",\"Brandon Aiyuk\",\"Devonta Freeman\",\"Chuba Hubbard\",\"K.J. Osborn\",\"Saquon Barkley\",\"Chase Claypool\",\"Marvin Jones\",\"Marquez Callaway\",\"DeAndre Hopkins\",\"Devontae Booker\",\"A.J. Green\",\"Allen Lazard\",\"Jakobi Meyers\",\"Tim Patrick\",\"Cedrick Wilson Jr.\",\"Rhamondre Stevenson\",\"Chase Edmonds\",\"Clyde Edwards-Helaire\",\"Russell Gage\",\"Elijah Moore\",\"Mike Davis\",\"Alexander Mattison\",\"Latavius Murray\",\"Jamaal Williams\",\"Pat Freiermuth\",\"Courtland Sutton\",\"Robert Woods\",\"Gabriel Davis\",\"Noah Fant\",\"Christian McCaffrey\",\"Miles Sanders\",\"Kenneth Gainwell\",\"Emmanuel Sanders\",\"Trevor Siemian\",\"Kareem Hunt\",\"Robby Anderson\",\"Tyler Higbee\",\"Cam Newton\",\"Boston Scott\",\"Odell Beckham Jr.\",\"D'Onta Foreman\",\"D'Ernest Johnson\",\"J.D. McKissic\",\"Byron Pringle\",\"Jared Cook\",\"Andy Dalton\",\"T.J. Hockenson\",\"Kalif Raymond\",\"Brandon Bolden\",\"Tyler Huntley\",\"Ty Johnson\",\"Mecole Hardman\",\"Mark Ingram\",\"Zack Moss\",\"Tyrod Taylor\",\"Jarvis Landry\",\"Antonio Brown\",\"Rex Burkhead\",\"C.J. Uzomah\",\"Darren Waller\",\"Cole Beasley\",\"Tyler Conklin\",\"Deonte Harris\",\"Donovan Peoples-Jones\",\"Braxton Berrios+\",\"Bryan Edwards\",\"Kenyan Drake\",\"Nyheim Hines\",\"Quez Watkins\",\"Jacoby Brissett\",\"David Njoku\",\"Corey Davis\",\"Gerald Everett\",\"Nick Westbrook-Ikhine\",\"Ronald Jones II\",\"Nelson Agholor\",\"Randall Cobb\",\"Jalen Guyton\",\"Khalil Herbert\",\"Trey Lance\",\"Justin Jackson\",\"DeVante Parker\",\"Laviska Shenault Jr.\",\"DeAndre Carter\",\"Freddie Swain\",\"Jordan Howard\",\"Cole Kmet\",\"Henry Ruggs III\",\"Marquez Valdes-Scantling\",\"Alex Collins\",\"Josh Palmer\",\"Jamison Crowder\",\"Zay Jones\",\"Olamide Zaccheaus\",\"Rashod Bateman\",\"Jauan Jennings\",\"Evan Engram\",\"Michael Gallup\",\"Zach Pascal\",\"Mo Alie-Cox\",\"DeSean Jackson\",\"Samaje Perine\",\"Tre'Quan Smith\",\"Austin Hooper\",\"Duke Johnson\",\"Rondale Moore\",\"Foster Moreau\",\"Dontrell Hilliard\",\"Geno Smith\",\"Ameer Abdullah\",\"Jamal Agnew\",\"Kenny Golladay\",\"Josh Reynolds\",\"Keelan Cole\",\"Nico Collins\",\"T.Y. Hilton\",\"Drew Lock\",\"Jack Doyle\",\"Devin Duvernay*+\",\"Cameron Brate\",\"David Johnson\",\"Julio Jones\",\"Allen Robinson\",\"Laquon Treadwell\",\"Derrick Gore\",\"Jerry Jeudy\",\"Mack Hollins\",\"Travis Homer\",\"Josh Johnson\",\"Jeremy McNichols\",\"Jaret Patterson\",\"Danny Amendola\",\"Anthony Firkser\",\"Jalen Reagor\",\"Damien Williams\",\"Jeff Wilson\",\"Kyle Juszczyk*\",\"Demarcus Robinson\",\"Mike White\",\"Chris Conley\",\"Albert Okwuegbunam\",\"Darius Slayton\",\"Kadarius Toney\",\"Sammy Watkins\",\"Chris Carson\",\"Sterling Shepard\",\"James Washington\",\"Dan Arnold\",\"Harrison Bryant\",\"Tevin Coleman\",\"Phillip Lindsay\",\"Colt McCoy\",\"Peyton Barber\",\"Juwan Johnson\",\"Calvin Ridley\",\"Damiere Byrd\",\"DeeJay Dallas\",\"Ashton Dulin\",\"Donald Parham\",\"Ricky Seals-Jones\",\"Jonnu Smith\",\"Geoff Swaim\",\"Antoine Wesley\",\"Ryan Griffin\",\"Adam Humphries\",\"Hayden Hurst\",\"Josiah Deguara\",\"Marquise Goodwin\",\"Jimmy Graham\",\"Lil'Jordan Humphrey\",\"Dare Ogunbowale\",\"Giovani Bernard\",\"Matt Breida\",\"Tyler Johnson\",\"Brevin Jordan\",\"Durham Smythe\",\"Logan Thomas\",\"Adam Trautman\",\"Chris Evans\",\"Cyril Grayson\",\"Chris Moore\",\"MyCole Pruitt\",\"Chester Rogers\",\"Quintez Cephus\",\"Rashard Higgins\",\"Carlos Hyde\",\"Gardner Minshew II\",\"Kyle Rudolph\",\"Cam Sims\",\"Le'Veon Bell\",\"Demetric Felton\",\"Isaiah McKenzie\",\"Tommy Tremble\",\"Malik Turner\",\"Ke'Shawn Vaughn\",\"Ty'Son Williams\",\"Robert Tonyan\",\"John Bates\",\"Mike Glennon\",\"Brandon Zylstra\",\"John Ross\",\"Will Dissly\",\"Jakeem Grant*\",\"Case Keenum\",\"Isaiah Ford\",\"Craig Reynolds\",\"Greg Ward\",\"Salvon Ahmed\",\"Tavon Austin\",\"DJ Chark\",\"Jamycal Hasty\",\"Ray-Ray McCloud\",\"Elijhaa Penny\",\"James O'Shaughnessy\",\"Royce Freeman\",\"Trey Sermon\",\"Maxx Williams\",\"Tim Boyle\",\"Joe Flacco\",\"Kendall Hinton\",\"Cooper Rush\",\"Ihmir Smith-Marsette\",\"Brock Wright\",\"Stephen Anderson\",\"Corey Clement\",\"Tyler Kroft\",\"Jerick McKinnon\",\"Adrian Peterson\",\"Anthony Schwartz\",\"Tajae Sharpe\",\"Albert Wilson\",\"Eno Benjamin\",\"Parris Campbell\",\"Blake Jarwin\",\"Jermar Jefferson\",\"Breshad Perriman\",\"Eric Ebron\",\"Marcedes Lewis\",\"Jordan Love\",\"Malcolm Brown\",\"O.J. Howard\",\"Godwin Igwebuike\",\"James Proche\",\"JuJu Smith-Schuster\",\"Kene Nwangwu\",\"Ian Thomas\",\"Nick Vannett\",\"James White\",\"Jordan Akins\",\"Noah Brown\",\"D'Wayne Eskridge\",\"KhaDarel Hodge\",\"Mason Rudolph\",\"Mohamed Sanu\",\"Nick Foles\",\"Joe Fortson\",\"Zach Gentry\",\"Tony Jones\",\"Austin Walter\",\"Jonathan Williams\",\"Dyami Brown\",\"C.J. Ham\",\"N'Keal Harry\",\"Marcus Johnson\",\"Terrace Marshall Jr.\",\"Qadree Ollison\",\"Kristian Wilkerson\",\"Pharaoh Brown\",\"Alec Ingold\",\"Marcus Mariota\",\"Dante Pettis\",\"Larry Rountree\",\"Trent Sherfield\",\"J.J. Taylor\",\"Patrick Taylor\",\"Brandon Allen\",\"Jesper Horsted\",\"Scott Miller\",\"Ty Montgomery\",\"P.J. Walker\",\"Wayne Gallman\",\"Chris Manhertz\",\"Sean Mannion\",\"Denzel Mims\",\"Patrick Ricard*\",\"Ben Skowronek\",\"Lee Smith\",\"Kenny Stills\",\"Michael Burton\",\"Jacob Hollister\",\"Brian Hoyer\",\"Jesse James\",\"Joshua Kelley\",\"Tom Kennedy\",\"Antony Auclair\",\"Phillip Dorsett\",\"Ross Dwelley\",\"Dez Fitzpatrick\",\"Jake Fromm\",\"Kylen Granson\",\"Collin Johnson\",\"Marlon Mack\",\"Jalen Richard\",\"Eric Saubert\",\"Adam Shaheen\",\"Jeff Smith\",\"Benny Snell Jr.\",\"Equanimeous St. Brown\",\"Ryquell Armstead\",\"Blake Bell\",\"Trinity Benson\",\"Jason Cabinda\",\"Noah Gray\",\"Chris Herndon\",\"Chris Hogan\",\"Nick Mullens\",\"Shi Smith\",\"Tommy Sweeney\",\"Auden Tate\",\"Cameron Batson\",\"Josh Gordon\",\"JaQuan Hardy\",\"Deon Jackson\",\"Andy Janovich\",\"Sean McKeon\",\"Anthony Miller\",\"Keith Smith\",\"Kyle Allen\",\"Alex Armah\",\"Garrett Gilbert\",\"Tyree Jackson\",\"Chris Myarick\",\"Dezmon Patmon\",\"Drew Sample\",\"Mitchell Trubisky\",\"Preston Williams\",\"KJ Hamler\",\"Josh Oliver\",\"Andre Roberts\",\"Johnny Stanton\",\"Jonathan Ward\",\"Dede Westbrook\",\"C.J. Board\",\"Mike Boone\",\"Ja'Marcus Bradley\",\"Alex Erickson\",\"Luke Farrell\",\"Penny Hart\",\"Dax Milne\",\"Jason Moore\",\"Amari Rodgers\",\"Ito Smith\",\"Trayveon Williams\",\"Jaelon Darden\",\"Will Fuller\",\"Jason Huntley\",\"Tre' McKitty\",\"Wendell Smallwood\",\"Rodney Smith\",\"Mike Thomas\",\"Charlie Woerner\",\"JJ Arcega-Whiteside\",\"Kalen Ballage\",\"Kendall Blanton\",\"Pharoh Cooper\",\"Tyler Davis\",\"Greg Dortch\",\"Darren Fells\",\"Garrett Griffin\",\"Parker Hesse\",\"Jakob Johnson\",\"D.J. Montgomery\",\"Gunner Olszewski\",\"Curtis Samuel\",\"Willie Snead\",\"Trent Taylor\",\"Trevon Wesco\",\"Kevin White\",\"Juwann Winfree\",\"Kenny Yeboah\",\"Christian Blake\",\"Daniel Brown\",\"Dominique Dafney\",\"Reggie Gilliam\",\"Chad Henne\",\"K.J. Hill\",\"Kylin Hill\",\"Cody Hollister\",\"Tommy Hudson\",\"Trenton Irwin\",\"Jake Kumerow\",\"Gabe Nabers\",\"Colby Parkinson\",\"La'Mical Perine\",\"Kaden Smith\",\"Jeremy Sprinkle\",\"Mike Strachan\",\"Dwayne Washington\",\"Cody White\",\"Seth Williams\",\"Shane Zylstra\",\"Nick Bawden\",\"C.J. Beathard\",\"Reggie Bonnafon\",\"Ian Book\",\"Cethan Carter\",\"Davion Davis\",\"Darrynton Evans\",\"Blaine Gabbert\",\"Tyron Johnson\",\"Marcus Kemp\",\"Keith Kirkwood\",\"Patrick Laird\",\"Raheem Mostert\",\"Dazz Newsome\",\"Scottie Phillips\",\"Adam Prentice\",\"Trey Ragas\",\"Jaylen Samuels\",\"David Sills\",\"Jack Stoll\",\"Chris Streveler\",\"Tylan Wallace\",\"Derek Watt\",\"Mitchell Wilcox\",\"Cam Akers\",\"Tarik Black\",\"David Blough\",\"Miles Boykin\",\"Gary Brightwell\",\"Derek Carrier\",\"Keke Coutee\",\"Damarea Crockett\",\"Frank Darby\",\"Sam Ehlinger\",\"Ryan Fitzpatrick\",\"Jake Funk\",\"Marvin Hall\",\"Demetrius Harris\",\"Brycen Hopkins\",\"Buddy Howell\",\"Andy Isabella\",\"John Kelly\",\"Tommylee Lewis\",\"Hunter Long\",\"Anthony McFarland Jr.\",\"Kirk Merritt\",\"Jaydon Mickens\",\"Stanley Morgan Jr.\",\"Johnny Mundt\",\"Ryan Nall\",\"Jacques Patrick\",\"Kevin Rader\",\"Richard Rodgers\",\"Mekhi Sargent\",\"C.J. Saunders\",\"Luke Stocker\",\"Eric Tomlinson\",\"Tyrell Williams\",\"Easop Winston\",\"Ethan Wolf\",\"Alex Bachman\",\"Kenjon Barner\",\"Nick Bellore\",\"Kurt Benkert\",\"Nick Boyle\",\"Nathan Cottrell\",\"Chase Daniel\",\"Darrell Daniels\",\"Maurice Ffrench\",\"Daniel Helm\",\"Nate McCrary\",\"Kellen Mond\",\"Devine Ozigbo\",\"Nathan Peterman\",\"Brett Rypien\",\"Davis Webb\",\"Deon Yelder\",\"Khari Blasingame\",\"Jacob Eason\",\"Feleipe Franks\",\"Racey McMath\",\"Malik Taylor\",\"Logan Woodside\",\"Trenton Cannon\",\"John Wolford\",\"Josh Rosen\",\"Diontae Spencer\"],\"x\":[7.0,5.0,4.0,null,null,null,null,null,null,null,null,46.0,15.0,null,null,null,null,null,11.0,null,null,12.0,null,null,null,null,null,null,null,null,null,null,3.0,null,10.0,45.0,null,null,null,null,null,null,null,null,null,null,null,39.0,null,null,null,null,null,null,null,40.0,null,null,null,null,9.0,null,null,null,8.0,null,null,null,43.0,null,null,null,null,null,null,null,null,null,null,null,null,null,null,null,null,null,null,null,null,null,null,null,null,null,null,null,44.0,null,null,null,null,null,null,null,null,null,null,null,null,null,null,null,null,null,null,null,null,13.0,null,null,null,null,null,null,null,null,null,null,null,null,null,null,null,null,null,null,null,null,null,null,null,null,null,null,null,null,null,null,null,null,null,null,null,null,null,null,null,null,null,null,null,null,null,14.0,null,null,null,null,null,1.0,null,null,null,null,null,null,null,null,null,null,null,null,null,null,null,null,null,null,null,null,null,null,null,null,null,null,null,null,null,null,null,null,null,null,null,null,null,null,47.0,null,null,null,null,null,null,null,null,null,null,null,null,null,null,null,null,null,null,null,null,null,null,null,null,null,null,null,null,null,null,null,null,null,null,null,null,null,null,null,null,null,null,null,null,null,null,null,null,null,null,null,null,null,null,null,null,null,null,null,null,null,null,null,null,null,null,null,null,null,null,null,null,null,null,null,null,null,null,null,null,null,null,null,null,null,null,null,null,null,null,null,null,null,null,null,null,null,null,null,null,null,null,null,null,null,null,null,null,null,null,null,null,null,null,null,null,null,null,null,null,null,null,null,null,null,null,null,null,null,null,null,null,null,null,null,null,null,null,null,null,null,null,null,null,null,null,null,null,null,null,null,null,null,null,null,null,null,null,null,null,null,null,null,null,null,null,null,null,null,null,null,null,null,null,null,null,null,null,null,null,null,null,null,null,null,null,null,null,null,null,null,null,null,null,null,null,null,null,null,null,null,null,null,null,null,null,null,null,null,null,null,null,null,null,null,2.0,null,null,null,null,null,null,null,null,null,null,null,null,null,null,null,null,null,null,null,null,null,null,null,null,null,null,null,null,null,null,null,null,null,null,null,null,null,null,null,null,null,null,null,null,null,null,null,null,null,null,null,null,null,null,null,null,null,null,null,null,null,null,null,null,null,null,null,null,null,null,null,null,null,null,null,null,null,null,null,null,null,null,null,null,null,null,null,null,null,null,null,null,null,null,null,null,null,null,null,null,null,null,null,null,null,null,null,null,null,null,null,null,null,null,null,null,null,null,null,null,null,null,null,null,null,null,null,null,null,null,null,null,null,null,null,null,null,null,null,null,null,null,null,null,null,null,null,null,null,null,null,null,null],\"y\":[333.0,295.0,262.0,403.0,274.0,381.0,375.0,194.0,224.0,222.0,246.0,221.0,362.0,227.0,171.0,221.0,189.0,332.0,186.0,330.0,183.0,205.0,321.0,195.0,171.0,169.0,168.0,192.0,314.0,167.0,312.0,188.0,187.0,187.0,131.0,183.0,127.0,156.0,154.0,300.0,300.0,177.0,152.0,175.0,151.0,172.0,172.0,116.0,145.0,115.0,145.0,144.0,114.0,167.0,142.0,142.0,109.0,139.0,109.0,162.0,137.0,107.0,137.0,135.0,135.0,158.0,133.0,131.0,153.0,152.0,126.0,149.0,147.0,92.0,146.0,268.0,258.0,257.0,243.0,240.0,228.0,225.0,223.0,222.0,218.0,203.0,199.0,195.0,181.0,181.0,167.0,157.0,157.0,152.0,143.0,134.0,127.0,125.0,125.0,124.0,122.0,118.0,118.0,118.0,118.0,117.0,117.0,116.0,114.0,113.0,113.0,109.0,108.0,108.0,107.0,106.0,105.0,104.0,103.0,103.0,103.0,103.0,103.0,101.0,100.0,99.0,97.0,95.0,94.0,94.0,94.0,94.0,92.0,92.0,92.0,91.0,91.0,91.0,91.0,90.0,90.0,90.0,88.0,86.0,86.0,86.0,86.0,85.0,85.0,85.0,85.0,85.0,84.0,84.0,84.0,84.0,83.0,83.0,83.0,82.0,82.0,82.0,82.0,81.0,79.0,79.0,79.0,79.0,77.0,77.0,77.0,76.0,75.0,75.0,73.0,73.0,73.0,72.0,72.0,71.0,70.0,70.0,69.0,66.0,66.0,66.0,65.0,65.0,64.0,64.0,64.0,63.0,62.0,61.0,61.0,61.0,61.0,60.0,60.0,59.0,59.0,59.0,58.0,58.0,57.0,57.0,57.0,56.0,56.0,56.0,56.0,55.0,55.0,55.0,55.0,54.0,54.0,52.0,52.0,52.0,52.0,51.0,51.0,51.0,51.0,50.0,50.0,49.0,49.0,49.0,49.0,49.0,48.0,47.0,46.0,46.0,46.0,46.0,46.0,45.0,45.0,45.0,45.0,45.0,44.0,44.0,44.0,43.0,43.0,43.0,43.0,43.0,42.0,42.0,42.0,41.0,41.0,41.0,41.0,41.0,40.0,40.0,40.0,39.0,39.0,39.0,39.0,39.0,39.0,39.0,39.0,38.0,38.0,38.0,37.0,37.0,37.0,37.0,37.0,36.0,36.0,36.0,36.0,36.0,36.0,36.0,35.0,35.0,35.0,35.0,35.0,34.0,34.0,34.0,34.0,34.0,34.0,33.0,33.0,33.0,33.0,33.0,33.0,33.0,32.0,31.0,31.0,31.0,30.0,29.0,29.0,29.0,28.0,28.0,28.0,27.0,27.0,27.0,27.0,27.0,27.0,26.0,25.0,25.0,25.0,24.0,24.0,24.0,24.0,24.0,24.0,23.0,23.0,23.0,23.0,23.0,23.0,23.0,23.0,22.0,22.0,22.0,22.0,22.0,21.0,21.0,21.0,20.0,20.0,20.0,20.0,20.0,19.0,19.0,19.0,19.0,18.0,18.0,18.0,18.0,18.0,18.0,17.0,17.0,17.0,17.0,17.0,17.0,16.0,16.0,16.0,16.0,16.0,16.0,16.0,15.0,15.0,15.0,15.0,15.0,15.0,15.0,15.0,14.0,14.0,14.0,14.0,14.0,13.0,13.0,13.0,13.0,13.0,13.0,13.0,13.0,12.0,12.0,12.0,12.0,12.0,12.0,11.0,11.0,11.0,11.0,11.0,11.0,11.0,11.0,11.0,11.0,11.0,11.0,11.0,11.0,10.0,10.0,10.0,10.0,10.0,10.0,10.0,10.0,10.0,10.0,10.0,9.0,9.0,9.0,9.0,9.0,9.0,9.0,9.0,8.0,8.0,8.0,8.0,8.0,8.0,8.0,8.0,8.0,7.0,7.0,7.0,7.0,7.0,7.0,6.0,6.0,6.0,6.0,6.0,6.0,6.0,6.0,6.0,6.0,6.0,5.0,5.0,5.0,5.0,5.0,5.0,5.0,5.0,4.0,4.0,4.0,4.0,4.0,4.0,4.0,4.0,4.0,4.0,4.0,4.0,4.0,4.0,4.0,4.0,4.0,4.0,4.0,3.0,3.0,3.0,3.0,3.0,3.0,3.0,3.0,3.0,3.0,3.0,3.0,3.0,3.0,3.0,3.0,3.0,3.0,3.0,3.0,3.0,2.0,2.0,2.0,2.0,2.0,2.0,2.0,2.0,2.0,2.0,2.0,2.0,2.0,2.0,2.0,2.0,2.0,2.0,2.0,2.0,2.0,2.0,2.0,2.0,1.0,1.0,1.0,1.0,1.0,1.0,1.0,1.0,1.0,1.0,1.0,1.0,1.0,1.0,1.0,1.0,1.0,1.0,1.0,1.0,1.0,1.0,1.0,1.0,1.0,1.0,1.0,1.0,1.0,1.0,1.0,1.0,1.0,1.0,1.0,1.0,null,null,null,null,null,null,null,null,null,null,null,null,null,null,null,null,null,-1.0,-1.0,-1.0,-1.0,-1.0,-1.0,-2.0,-2.0,-3.0,-4.0],\"type\":\"scatter\"},{\"mode\":\"markers\",\"text\":[\"Jonathan Taylor*+\",\"Cooper Kupp*+\",\"Deebo Samuel*+\",\"Josh Allen\",\"Austin Ekeler\",\"Justin Herbert*\",\"Tom Brady*\",\"Mark Andrews*+\",\"Ja'Marr Chase*\",\"Justin Jefferson*\",\"Joe Mixon*\",\"Davante Adams*+\",\"Patrick Mahomes*\",\"Najee Harris*\",\"Travis Kelce*\",\"James Conner*\",\"Mike Evans*\",\"Aaron Rodgers*+\",\"Tyreek Hill*\",\"Matthew Stafford\",\"Stefon Diggs*\",\"Ezekiel Elliott\",\"Dak Prescott\",\"Nick Chubb*\",\"Mike Williams\",\"D.K. Metcalf\",\"Tyler Lockett\",\"Damien Harris\",\"Joe Burrow\",\"Diontae Johnson*\",\"Jalen Hurts\",\"Alvin Kamara*\",\"Antonio Gibson\",\"Leonard Fournette\",\"Dalton Schultz\",\"Cordarrelle Patterson\",\"George Kittle*\",\"Hunter Renfrow*\",\"CeeDee Lamb*\",\"Kyler Murray*\",\"Kirk Cousins*\",\"Aaron Jones\",\"Keenan Allen*\",\"Derrick Henry\",\"Michael Pittman Jr.\",\"Dalvin Cook*\",\"Josh Jacobs\",\"Rob Gronkowski\",\"Tee Higgins\",\"Dawson Knox\",\"D.J. Moore\",\"Chris Godwin\",\"Hunter Henry\",\"Melvin Gordon\",\"Jaylen Waddle\",\"Brandin Cooks\",\"Dallas Goedert\",\"Darnell Mooney\",\"Kyle Pitts*\",\"Javonte Williams\",\"Amon-Ra St. Brown\",\"Zach Ertz\",\"Terry McLaurin\",\"Marquise Brown\",\"Amari Cooper\",\"Devin Singletary\",\"Adam Thielen\",\"Christian Kirk\",\"David Montgomery\",\"AJ Dillon\",\"Kendrick Bourne\",\"Darrel Williams\",\"D'Andre Swift\",\"Mike Gesicki\",\"Elijah Mitchell\",\"Ryan Tannehill\",\"Carson Wentz\",\"Derek Carr\",\"Russell Wilson*\",\"Lamar Jackson*\",\"Jimmy Garoppolo\",\"Mac Jones*\",\"Matt Ryan\",\"Taylor Heinicke\",\"Ben Roethlisberger\",\"Teddy Bridgewater\",\"Trevor Lawrence\",\"Jared Goff\",\"Baker Mayfield\",\"Tua Tagovailoa\",\"Daniel Jones\",\"Sam Darnold\",\"Davis Mills\",\"Zach Wilson\",\"James Robinson\",\"Darrell Henderson\",\"Justin Fields\",\"Myles Gaskin\",\"Sony Michel\",\"Tony Pollard\",\"DeVonta Smith\",\"A.J. Brown\",\"Michael Carter\",\"Taysom Hill\",\"Van Jefferson\",\"Tyler Boyd\",\"Jameis Winston\",\"Rashaad Penny\",\"Brandon Aiyuk\",\"Devonta Freeman\",\"Chuba Hubbard\",\"K.J. Osborn\",\"Saquon Barkley\",\"Chase Claypool\",\"Marvin Jones\",\"Marquez Callaway\",\"DeAndre Hopkins\",\"Devontae Booker\",\"A.J. Green\",\"Allen Lazard\",\"Jakobi Meyers\",\"Tim Patrick\",\"Cedrick Wilson Jr.\",\"Rhamondre Stevenson\",\"Chase Edmonds\",\"Clyde Edwards-Helaire\",\"Russell Gage\",\"Elijah Moore\",\"Mike Davis\",\"Alexander Mattison\",\"Latavius Murray\",\"Jamaal Williams\",\"Pat Freiermuth\",\"Courtland Sutton\",\"Robert Woods\",\"Gabriel Davis\",\"Noah Fant\",\"Christian McCaffrey\",\"Miles Sanders\",\"Kenneth Gainwell\",\"Emmanuel Sanders\",\"Trevor Siemian\",\"Kareem Hunt\",\"Robby Anderson\",\"Tyler Higbee\",\"Cam Newton\",\"Boston Scott\",\"Odell Beckham Jr.\",\"D'Onta Foreman\",\"D'Ernest Johnson\",\"J.D. McKissic\",\"Byron Pringle\",\"Jared Cook\",\"Andy Dalton\",\"T.J. Hockenson\",\"Kalif Raymond\",\"Brandon Bolden\",\"Tyler Huntley\",\"Ty Johnson\",\"Mecole Hardman\",\"Mark Ingram\",\"Zack Moss\",\"Tyrod Taylor\",\"Jarvis Landry\",\"Antonio Brown\",\"Rex Burkhead\",\"C.J. Uzomah\",\"Darren Waller\",\"Cole Beasley\",\"Tyler Conklin\",\"Deonte Harris\",\"Donovan Peoples-Jones\",\"Braxton Berrios+\",\"Bryan Edwards\",\"Kenyan Drake\",\"Nyheim Hines\",\"Quez Watkins\",\"Jacoby Brissett\",\"David Njoku\",\"Corey Davis\",\"Gerald Everett\",\"Nick Westbrook-Ikhine\",\"Ronald Jones II\",\"Nelson Agholor\",\"Randall Cobb\",\"Jalen Guyton\",\"Khalil Herbert\",\"Trey Lance\",\"Justin Jackson\",\"DeVante Parker\",\"Laviska Shenault Jr.\",\"DeAndre Carter\",\"Freddie Swain\",\"Jordan Howard\",\"Cole Kmet\",\"Henry Ruggs III\",\"Marquez Valdes-Scantling\",\"Alex Collins\",\"Josh Palmer\",\"Jamison Crowder\",\"Zay Jones\",\"Olamide Zaccheaus\",\"Rashod Bateman\",\"Jauan Jennings\",\"Evan Engram\",\"Michael Gallup\",\"Zach Pascal\",\"Mo Alie-Cox\",\"DeSean Jackson\",\"Samaje Perine\",\"Tre'Quan Smith\",\"Austin Hooper\",\"Duke Johnson\",\"Rondale Moore\",\"Foster Moreau\",\"Dontrell Hilliard\",\"Geno Smith\",\"Ameer Abdullah\",\"Jamal Agnew\",\"Kenny Golladay\",\"Josh Reynolds\",\"Keelan Cole\",\"Nico Collins\",\"T.Y. Hilton\",\"Drew Lock\",\"Jack Doyle\",\"Devin Duvernay*+\",\"Cameron Brate\",\"David Johnson\",\"Julio Jones\",\"Allen Robinson\",\"Laquon Treadwell\",\"Derrick Gore\",\"Jerry Jeudy\",\"Mack Hollins\",\"Travis Homer\",\"Josh Johnson\",\"Jeremy McNichols\",\"Jaret Patterson\",\"Danny Amendola\",\"Anthony Firkser\",\"Jalen Reagor\",\"Damien Williams\",\"Jeff Wilson\",\"Kyle Juszczyk*\",\"Demarcus Robinson\",\"Mike White\",\"Chris Conley\",\"Albert Okwuegbunam\",\"Darius Slayton\",\"Kadarius Toney\",\"Sammy Watkins\",\"Chris Carson\",\"Sterling Shepard\",\"James Washington\",\"Dan Arnold\",\"Harrison Bryant\",\"Tevin Coleman\",\"Phillip Lindsay\",\"Colt McCoy\",\"Peyton Barber\",\"Juwan Johnson\",\"Calvin Ridley\",\"Damiere Byrd\",\"DeeJay Dallas\",\"Ashton Dulin\",\"Donald Parham\",\"Ricky Seals-Jones\",\"Jonnu Smith\",\"Geoff Swaim\",\"Antoine Wesley\",\"Ryan Griffin\",\"Adam Humphries\",\"Hayden Hurst\",\"Josiah Deguara\",\"Marquise Goodwin\",\"Jimmy Graham\",\"Lil'Jordan Humphrey\",\"Dare Ogunbowale\",\"Giovani Bernard\",\"Matt Breida\",\"Tyler Johnson\",\"Brevin Jordan\",\"Durham Smythe\",\"Logan Thomas\",\"Adam Trautman\",\"Chris Evans\",\"Cyril Grayson\",\"Chris Moore\",\"MyCole Pruitt\",\"Chester Rogers\",\"Quintez Cephus\",\"Rashard Higgins\",\"Carlos Hyde\",\"Gardner Minshew II\",\"Kyle Rudolph\",\"Cam Sims\",\"Le'Veon Bell\",\"Demetric Felton\",\"Isaiah McKenzie\",\"Tommy Tremble\",\"Malik Turner\",\"Ke'Shawn Vaughn\",\"Ty'Son Williams\",\"Robert Tonyan\",\"John Bates\",\"Mike Glennon\",\"Brandon Zylstra\",\"John Ross\",\"Will Dissly\",\"Jakeem Grant*\",\"Case Keenum\",\"Isaiah Ford\",\"Craig Reynolds\",\"Greg Ward\",\"Salvon Ahmed\",\"Tavon Austin\",\"DJ Chark\",\"Jamycal Hasty\",\"Ray-Ray McCloud\",\"Elijhaa Penny\",\"James O'Shaughnessy\",\"Royce Freeman\",\"Trey Sermon\",\"Maxx Williams\",\"Tim Boyle\",\"Joe Flacco\",\"Kendall Hinton\",\"Cooper Rush\",\"Ihmir Smith-Marsette\",\"Brock Wright\",\"Stephen Anderson\",\"Corey Clement\",\"Tyler Kroft\",\"Jerick McKinnon\",\"Adrian Peterson\",\"Anthony Schwartz\",\"Tajae Sharpe\",\"Albert Wilson\",\"Eno Benjamin\",\"Parris Campbell\",\"Blake Jarwin\",\"Jermar Jefferson\",\"Breshad Perriman\",\"Eric Ebron\",\"Marcedes Lewis\",\"Jordan Love\",\"Malcolm Brown\",\"O.J. Howard\",\"Godwin Igwebuike\",\"James Proche\",\"JuJu Smith-Schuster\",\"Kene Nwangwu\",\"Ian Thomas\",\"Nick Vannett\",\"James White\",\"Jordan Akins\",\"Noah Brown\",\"D'Wayne Eskridge\",\"KhaDarel Hodge\",\"Mason Rudolph\",\"Mohamed Sanu\",\"Nick Foles\",\"Joe Fortson\",\"Zach Gentry\",\"Tony Jones\",\"Austin Walter\",\"Jonathan Williams\",\"Dyami Brown\",\"C.J. Ham\",\"N'Keal Harry\",\"Marcus Johnson\",\"Terrace Marshall Jr.\",\"Qadree Ollison\",\"Kristian Wilkerson\",\"Pharaoh Brown\",\"Alec Ingold\",\"Marcus Mariota\",\"Dante Pettis\",\"Larry Rountree\",\"Trent Sherfield\",\"J.J. Taylor\",\"Patrick Taylor\",\"Brandon Allen\",\"Jesper Horsted\",\"Scott Miller\",\"Ty Montgomery\",\"P.J. Walker\",\"Wayne Gallman\",\"Chris Manhertz\",\"Sean Mannion\",\"Denzel Mims\",\"Patrick Ricard*\",\"Ben Skowronek\",\"Lee Smith\",\"Kenny Stills\",\"Michael Burton\",\"Jacob Hollister\",\"Brian Hoyer\",\"Jesse James\",\"Joshua Kelley\",\"Tom Kennedy\",\"Antony Auclair\",\"Phillip Dorsett\",\"Ross Dwelley\",\"Dez Fitzpatrick\",\"Jake Fromm\",\"Kylen Granson\",\"Collin Johnson\",\"Marlon Mack\",\"Jalen Richard\",\"Eric Saubert\",\"Adam Shaheen\",\"Jeff Smith\",\"Benny Snell Jr.\",\"Equanimeous St. Brown\",\"Ryquell Armstead\",\"Blake Bell\",\"Trinity Benson\",\"Jason Cabinda\",\"Noah Gray\",\"Chris Herndon\",\"Chris Hogan\",\"Nick Mullens\",\"Shi Smith\",\"Tommy Sweeney\",\"Auden Tate\",\"Cameron Batson\",\"Josh Gordon\",\"JaQuan Hardy\",\"Deon Jackson\",\"Andy Janovich\",\"Sean McKeon\",\"Anthony Miller\",\"Keith Smith\",\"Kyle Allen\",\"Alex Armah\",\"Garrett Gilbert\",\"Tyree Jackson\",\"Chris Myarick\",\"Dezmon Patmon\",\"Drew Sample\",\"Mitchell Trubisky\",\"Preston Williams\",\"KJ Hamler\",\"Josh Oliver\",\"Andre Roberts\",\"Johnny Stanton\",\"Jonathan Ward\",\"Dede Westbrook\",\"C.J. Board\",\"Mike Boone\",\"Ja'Marcus Bradley\",\"Alex Erickson\",\"Luke Farrell\",\"Penny Hart\",\"Dax Milne\",\"Jason Moore\",\"Amari Rodgers\",\"Ito Smith\",\"Trayveon Williams\",\"Jaelon Darden\",\"Will Fuller\",\"Jason Huntley\",\"Tre' McKitty\",\"Wendell Smallwood\",\"Rodney Smith\",\"Mike Thomas\",\"Charlie Woerner\",\"JJ Arcega-Whiteside\",\"Kalen Ballage\",\"Kendall Blanton\",\"Pharoh Cooper\",\"Tyler Davis\",\"Greg Dortch\",\"Darren Fells\",\"Garrett Griffin\",\"Parker Hesse\",\"Jakob Johnson\",\"D.J. Montgomery\",\"Gunner Olszewski\",\"Curtis Samuel\",\"Willie Snead\",\"Trent Taylor\",\"Trevon Wesco\",\"Kevin White\",\"Juwann Winfree\",\"Kenny Yeboah\",\"Christian Blake\",\"Daniel Brown\",\"Dominique Dafney\",\"Reggie Gilliam\",\"Chad Henne\",\"K.J. Hill\",\"Kylin Hill\",\"Cody Hollister\",\"Tommy Hudson\",\"Trenton Irwin\",\"Jake Kumerow\",\"Gabe Nabers\",\"Colby Parkinson\",\"La'Mical Perine\",\"Kaden Smith\",\"Jeremy Sprinkle\",\"Mike Strachan\",\"Dwayne Washington\",\"Cody White\",\"Seth Williams\",\"Shane Zylstra\",\"Nick Bawden\",\"C.J. Beathard\",\"Reggie Bonnafon\",\"Ian Book\",\"Cethan Carter\",\"Davion Davis\",\"Darrynton Evans\",\"Blaine Gabbert\",\"Tyron Johnson\",\"Marcus Kemp\",\"Keith Kirkwood\",\"Patrick Laird\",\"Raheem Mostert\",\"Dazz Newsome\",\"Scottie Phillips\",\"Adam Prentice\",\"Trey Ragas\",\"Jaylen Samuels\",\"David Sills\",\"Jack Stoll\",\"Chris Streveler\",\"Tylan Wallace\",\"Derek Watt\",\"Mitchell Wilcox\",\"Cam Akers\",\"Tarik Black\",\"David Blough\",\"Miles Boykin\",\"Gary Brightwell\",\"Derek Carrier\",\"Keke Coutee\",\"Damarea Crockett\",\"Frank Darby\",\"Sam Ehlinger\",\"Ryan Fitzpatrick\",\"Jake Funk\",\"Marvin Hall\",\"Demetrius Harris\",\"Brycen Hopkins\",\"Buddy Howell\",\"Andy Isabella\",\"John Kelly\",\"Tommylee Lewis\",\"Hunter Long\",\"Anthony McFarland Jr.\",\"Kirk Merritt\",\"Jaydon Mickens\",\"Stanley Morgan Jr.\",\"Johnny Mundt\",\"Ryan Nall\",\"Jacques Patrick\",\"Kevin Rader\",\"Richard Rodgers\",\"Mekhi Sargent\",\"C.J. Saunders\",\"Luke Stocker\",\"Eric Tomlinson\",\"Tyrell Williams\",\"Easop Winston\",\"Ethan Wolf\",\"Alex Bachman\",\"Kenjon Barner\",\"Nick Bellore\",\"Kurt Benkert\",\"Nick Boyle\",\"Nathan Cottrell\",\"Chase Daniel\",\"Darrell Daniels\",\"Maurice Ffrench\",\"Daniel Helm\",\"Nate McCrary\",\"Kellen Mond\",\"Devine Ozigbo\",\"Nathan Peterman\",\"Brett Rypien\",\"Davis Webb\",\"Deon Yelder\",\"Khari Blasingame\",\"Jacob Eason\",\"Feleipe Franks\",\"Racey McMath\",\"Malik Taylor\",\"Logan Woodside\",\"Trenton Cannon\",\"John Wolford\",\"Josh Rosen\",\"Diontae Spencer\"],\"x\":[9.0,null,null,null,10.0,null,null,null,null,null,22.0,null,null,15.0,null,null,null,null,null,null,null,8.0,null,12.0,null,null,null,null,null,null,null,3.0,14.0,null,null,null,null,null,null,null,null,11.0,null,5.0,null,2.0,47.0,null,null,null,null,null,null,null,null,null,null,null,null,null,null,null,null,null,null,null,null,null,30.0,null,null,null,36.0,null,null,null,null,null,null,null,null,null,null,null,null,null,null,null,null,null,null,null,null,null,31.0,null,null,null,null,null,null,null,null,null,null,null,null,null,null,null,null,null,4.0,null,null,null,null,null,null,null,null,null,null,null,48.0,23.0,null,null,null,null,null,null,null,null,null,null,null,1.0,32.0,null,null,null,null,null,null,null,null,null,null,null,null,null,null,null,null,null,null,null,null,null,null,null,null,null,null,null,null,null,null,null,null,null,null,null,null,null,null,null,null,null,null,null,null,null,null,null,null,null,null,null,null,null,null,null,null,null,null,null,null,null,null,null,null,null,null,null,null,null,null,null,null,null,null,null,null,null,null,null,null,null,null,null,null,null,null,null,null,null,null,null,null,null,null,null,null,null,null,null,null,null,null,null,null,null,null,null,null,null,null,null,null,null,37.0,null,null,null,null,null,null,null,null,null,null,null,null,null,null,null,null,null,null,null,null,null,null,null,null,null,null,null,null,null,null,null,null,null,null,null,null,null,null,null,null,null,null,null,null,null,null,null,null,null,null,null,null,null,null,null,null,null,null,null,null,null,null,null,null,null,null,null,null,null,null,null,null,null,null,null,null,null,null,null,null,null,null,null,null,null,null,null,null,null,null,null,null,null,null,null,null,null,null,null,null,null,null,null,null,null,null,null,null,null,null,null,null,null,null,null,null,null,null,null,null,null,null,null,null,null,null,null,null,null,null,null,null,null,null,null,null,null,null,null,null,null,null,null,null,null,null,null,null,null,null,null,null,null,null,null,null,null,null,null,null,null,null,null,null,null,null,null,null,null,null,null,null,null,null,null,null,null,null,null,null,null,null,null,null,null,null,null,null,null,null,null,null,null,null,null,null,null,null,null,null,null,null,null,null,null,null,null,null,null,null,null,null,null,null,null,null,null,null,null,null,null,null,null,null,null,null,null,null,null,null,null,null,null,null,null,null,null,null,null,null,null,null,null,null,null,null,null,null,null,null,null,null,null,null,null,null,null,null,null,null,null,null,null,null,null,null,null,null,null,null,null,null,null,null,null,null,null,null,null,null,null,null,null,null,null,null,null,null,null,null,null,null,null,null,null,null,null,null,null,null,null,null,null,null,null,null,null,null,null,null,null,null,null,null,null,null,null,null,null,null,null,null,null,null,null,null,null,null,null,null,null,null,null,null,null,null,null,null,null,null,null,null,null],\"y\":[333.0,295.0,262.0,403.0,274.0,381.0,375.0,194.0,224.0,222.0,246.0,221.0,362.0,227.0,171.0,221.0,189.0,332.0,186.0,330.0,183.0,205.0,321.0,195.0,171.0,169.0,168.0,192.0,314.0,167.0,312.0,188.0,187.0,187.0,131.0,183.0,127.0,156.0,154.0,300.0,300.0,177.0,152.0,175.0,151.0,172.0,172.0,116.0,145.0,115.0,145.0,144.0,114.0,167.0,142.0,142.0,109.0,139.0,109.0,162.0,137.0,107.0,137.0,135.0,135.0,158.0,133.0,131.0,153.0,152.0,126.0,149.0,147.0,92.0,146.0,268.0,258.0,257.0,243.0,240.0,228.0,225.0,223.0,222.0,218.0,203.0,199.0,195.0,181.0,181.0,167.0,157.0,157.0,152.0,143.0,134.0,127.0,125.0,125.0,124.0,122.0,118.0,118.0,118.0,118.0,117.0,117.0,116.0,114.0,113.0,113.0,109.0,108.0,108.0,107.0,106.0,105.0,104.0,103.0,103.0,103.0,103.0,103.0,101.0,100.0,99.0,97.0,95.0,94.0,94.0,94.0,94.0,92.0,92.0,92.0,91.0,91.0,91.0,91.0,90.0,90.0,90.0,88.0,86.0,86.0,86.0,86.0,85.0,85.0,85.0,85.0,85.0,84.0,84.0,84.0,84.0,83.0,83.0,83.0,82.0,82.0,82.0,82.0,81.0,79.0,79.0,79.0,79.0,77.0,77.0,77.0,76.0,75.0,75.0,73.0,73.0,73.0,72.0,72.0,71.0,70.0,70.0,69.0,66.0,66.0,66.0,65.0,65.0,64.0,64.0,64.0,63.0,62.0,61.0,61.0,61.0,61.0,60.0,60.0,59.0,59.0,59.0,58.0,58.0,57.0,57.0,57.0,56.0,56.0,56.0,56.0,55.0,55.0,55.0,55.0,54.0,54.0,52.0,52.0,52.0,52.0,51.0,51.0,51.0,51.0,50.0,50.0,49.0,49.0,49.0,49.0,49.0,48.0,47.0,46.0,46.0,46.0,46.0,46.0,45.0,45.0,45.0,45.0,45.0,44.0,44.0,44.0,43.0,43.0,43.0,43.0,43.0,42.0,42.0,42.0,41.0,41.0,41.0,41.0,41.0,40.0,40.0,40.0,39.0,39.0,39.0,39.0,39.0,39.0,39.0,39.0,38.0,38.0,38.0,37.0,37.0,37.0,37.0,37.0,36.0,36.0,36.0,36.0,36.0,36.0,36.0,35.0,35.0,35.0,35.0,35.0,34.0,34.0,34.0,34.0,34.0,34.0,33.0,33.0,33.0,33.0,33.0,33.0,33.0,32.0,31.0,31.0,31.0,30.0,29.0,29.0,29.0,28.0,28.0,28.0,27.0,27.0,27.0,27.0,27.0,27.0,26.0,25.0,25.0,25.0,24.0,24.0,24.0,24.0,24.0,24.0,23.0,23.0,23.0,23.0,23.0,23.0,23.0,23.0,22.0,22.0,22.0,22.0,22.0,21.0,21.0,21.0,20.0,20.0,20.0,20.0,20.0,19.0,19.0,19.0,19.0,18.0,18.0,18.0,18.0,18.0,18.0,17.0,17.0,17.0,17.0,17.0,17.0,16.0,16.0,16.0,16.0,16.0,16.0,16.0,15.0,15.0,15.0,15.0,15.0,15.0,15.0,15.0,14.0,14.0,14.0,14.0,14.0,13.0,13.0,13.0,13.0,13.0,13.0,13.0,13.0,12.0,12.0,12.0,12.0,12.0,12.0,11.0,11.0,11.0,11.0,11.0,11.0,11.0,11.0,11.0,11.0,11.0,11.0,11.0,11.0,10.0,10.0,10.0,10.0,10.0,10.0,10.0,10.0,10.0,10.0,10.0,9.0,9.0,9.0,9.0,9.0,9.0,9.0,9.0,8.0,8.0,8.0,8.0,8.0,8.0,8.0,8.0,8.0,7.0,7.0,7.0,7.0,7.0,7.0,6.0,6.0,6.0,6.0,6.0,6.0,6.0,6.0,6.0,6.0,6.0,5.0,5.0,5.0,5.0,5.0,5.0,5.0,5.0,4.0,4.0,4.0,4.0,4.0,4.0,4.0,4.0,4.0,4.0,4.0,4.0,4.0,4.0,4.0,4.0,4.0,4.0,4.0,3.0,3.0,3.0,3.0,3.0,3.0,3.0,3.0,3.0,3.0,3.0,3.0,3.0,3.0,3.0,3.0,3.0,3.0,3.0,3.0,3.0,2.0,2.0,2.0,2.0,2.0,2.0,2.0,2.0,2.0,2.0,2.0,2.0,2.0,2.0,2.0,2.0,2.0,2.0,2.0,2.0,2.0,2.0,2.0,2.0,1.0,1.0,1.0,1.0,1.0,1.0,1.0,1.0,1.0,1.0,1.0,1.0,1.0,1.0,1.0,1.0,1.0,1.0,1.0,1.0,1.0,1.0,1.0,1.0,1.0,1.0,1.0,1.0,1.0,1.0,1.0,1.0,1.0,1.0,1.0,1.0,null,null,null,null,null,null,null,null,null,null,null,null,null,null,null,null,null,-1.0,-1.0,-1.0,-1.0,-1.0,-1.0,-2.0,-2.0,-3.0,-4.0],\"type\":\"scatter\"}],                        {\"template\":{\"data\":{\"histogram2dcontour\":[{\"type\":\"histogram2dcontour\",\"colorbar\":{\"outlinewidth\":0,\"ticks\":\"\"},\"colorscale\":[[0.0,\"#0d0887\"],[0.1111111111111111,\"#46039f\"],[0.2222222222222222,\"#7201a8\"],[0.3333333333333333,\"#9c179e\"],[0.4444444444444444,\"#bd3786\"],[0.5555555555555556,\"#d8576b\"],[0.6666666666666666,\"#ed7953\"],[0.7777777777777778,\"#fb9f3a\"],[0.8888888888888888,\"#fdca26\"],[1.0,\"#f0f921\"]]}],\"choropleth\":[{\"type\":\"choropleth\",\"colorbar\":{\"outlinewidth\":0,\"ticks\":\"\"}}],\"histogram2d\":[{\"type\":\"histogram2d\",\"colorbar\":{\"outlinewidth\":0,\"ticks\":\"\"},\"colorscale\":[[0.0,\"#0d0887\"],[0.1111111111111111,\"#46039f\"],[0.2222222222222222,\"#7201a8\"],[0.3333333333333333,\"#9c179e\"],[0.4444444444444444,\"#bd3786\"],[0.5555555555555556,\"#d8576b\"],[0.6666666666666666,\"#ed7953\"],[0.7777777777777778,\"#fb9f3a\"],[0.8888888888888888,\"#fdca26\"],[1.0,\"#f0f921\"]]}],\"heatmap\":[{\"type\":\"heatmap\",\"colorbar\":{\"outlinewidth\":0,\"ticks\":\"\"},\"colorscale\":[[0.0,\"#0d0887\"],[0.1111111111111111,\"#46039f\"],[0.2222222222222222,\"#7201a8\"],[0.3333333333333333,\"#9c179e\"],[0.4444444444444444,\"#bd3786\"],[0.5555555555555556,\"#d8576b\"],[0.6666666666666666,\"#ed7953\"],[0.7777777777777778,\"#fb9f3a\"],[0.8888888888888888,\"#fdca26\"],[1.0,\"#f0f921\"]]}],\"heatmapgl\":[{\"type\":\"heatmapgl\",\"colorbar\":{\"outlinewidth\":0,\"ticks\":\"\"},\"colorscale\":[[0.0,\"#0d0887\"],[0.1111111111111111,\"#46039f\"],[0.2222222222222222,\"#7201a8\"],[0.3333333333333333,\"#9c179e\"],[0.4444444444444444,\"#bd3786\"],[0.5555555555555556,\"#d8576b\"],[0.6666666666666666,\"#ed7953\"],[0.7777777777777778,\"#fb9f3a\"],[0.8888888888888888,\"#fdca26\"],[1.0,\"#f0f921\"]]}],\"contourcarpet\":[{\"type\":\"contourcarpet\",\"colorbar\":{\"outlinewidth\":0,\"ticks\":\"\"}}],\"contour\":[{\"type\":\"contour\",\"colorbar\":{\"outlinewidth\":0,\"ticks\":\"\"},\"colorscale\":[[0.0,\"#0d0887\"],[0.1111111111111111,\"#46039f\"],[0.2222222222222222,\"#7201a8\"],[0.3333333333333333,\"#9c179e\"],[0.4444444444444444,\"#bd3786\"],[0.5555555555555556,\"#d8576b\"],[0.6666666666666666,\"#ed7953\"],[0.7777777777777778,\"#fb9f3a\"],[0.8888888888888888,\"#fdca26\"],[1.0,\"#f0f921\"]]}],\"surface\":[{\"type\":\"surface\",\"colorbar\":{\"outlinewidth\":0,\"ticks\":\"\"},\"colorscale\":[[0.0,\"#0d0887\"],[0.1111111111111111,\"#46039f\"],[0.2222222222222222,\"#7201a8\"],[0.3333333333333333,\"#9c179e\"],[0.4444444444444444,\"#bd3786\"],[0.5555555555555556,\"#d8576b\"],[0.6666666666666666,\"#ed7953\"],[0.7777777777777778,\"#fb9f3a\"],[0.8888888888888888,\"#fdca26\"],[1.0,\"#f0f921\"]]}],\"mesh3d\":[{\"type\":\"mesh3d\",\"colorbar\":{\"outlinewidth\":0,\"ticks\":\"\"}}],\"scatter\":[{\"fillpattern\":{\"fillmode\":\"overlay\",\"size\":10,\"solidity\":0.2},\"type\":\"scatter\"}],\"parcoords\":[{\"type\":\"parcoords\",\"line\":{\"colorbar\":{\"outlinewidth\":0,\"ticks\":\"\"}}}],\"scatterpolargl\":[{\"type\":\"scatterpolargl\",\"marker\":{\"colorbar\":{\"outlinewidth\":0,\"ticks\":\"\"}}}],\"bar\":[{\"error_x\":{\"color\":\"#2a3f5f\"},\"error_y\":{\"color\":\"#2a3f5f\"},\"marker\":{\"line\":{\"color\":\"#E5ECF6\",\"width\":0.5},\"pattern\":{\"fillmode\":\"overlay\",\"size\":10,\"solidity\":0.2}},\"type\":\"bar\"}],\"scattergeo\":[{\"type\":\"scattergeo\",\"marker\":{\"colorbar\":{\"outlinewidth\":0,\"ticks\":\"\"}}}],\"scatterpolar\":[{\"type\":\"scatterpolar\",\"marker\":{\"colorbar\":{\"outlinewidth\":0,\"ticks\":\"\"}}}],\"histogram\":[{\"marker\":{\"pattern\":{\"fillmode\":\"overlay\",\"size\":10,\"solidity\":0.2}},\"type\":\"histogram\"}],\"scattergl\":[{\"type\":\"scattergl\",\"marker\":{\"colorbar\":{\"outlinewidth\":0,\"ticks\":\"\"}}}],\"scatter3d\":[{\"type\":\"scatter3d\",\"line\":{\"colorbar\":{\"outlinewidth\":0,\"ticks\":\"\"}},\"marker\":{\"colorbar\":{\"outlinewidth\":0,\"ticks\":\"\"}}}],\"scattermapbox\":[{\"type\":\"scattermapbox\",\"marker\":{\"colorbar\":{\"outlinewidth\":0,\"ticks\":\"\"}}}],\"scatterternary\":[{\"type\":\"scatterternary\",\"marker\":{\"colorbar\":{\"outlinewidth\":0,\"ticks\":\"\"}}}],\"scattercarpet\":[{\"type\":\"scattercarpet\",\"marker\":{\"colorbar\":{\"outlinewidth\":0,\"ticks\":\"\"}}}],\"carpet\":[{\"aaxis\":{\"endlinecolor\":\"#2a3f5f\",\"gridcolor\":\"white\",\"linecolor\":\"white\",\"minorgridcolor\":\"white\",\"startlinecolor\":\"#2a3f5f\"},\"baxis\":{\"endlinecolor\":\"#2a3f5f\",\"gridcolor\":\"white\",\"linecolor\":\"white\",\"minorgridcolor\":\"white\",\"startlinecolor\":\"#2a3f5f\"},\"type\":\"carpet\"}],\"table\":[{\"cells\":{\"fill\":{\"color\":\"#EBF0F8\"},\"line\":{\"color\":\"white\"}},\"header\":{\"fill\":{\"color\":\"#C8D4E3\"},\"line\":{\"color\":\"white\"}},\"type\":\"table\"}],\"barpolar\":[{\"marker\":{\"line\":{\"color\":\"#E5ECF6\",\"width\":0.5},\"pattern\":{\"fillmode\":\"overlay\",\"size\":10,\"solidity\":0.2}},\"type\":\"barpolar\"}],\"pie\":[{\"automargin\":true,\"type\":\"pie\"}]},\"layout\":{\"autotypenumbers\":\"strict\",\"colorway\":[\"#636efa\",\"#EF553B\",\"#00cc96\",\"#ab63fa\",\"#FFA15A\",\"#19d3f3\",\"#FF6692\",\"#B6E880\",\"#FF97FF\",\"#FECB52\"],\"font\":{\"color\":\"#2a3f5f\"},\"hovermode\":\"closest\",\"hoverlabel\":{\"align\":\"left\"},\"paper_bgcolor\":\"white\",\"plot_bgcolor\":\"#E5ECF6\",\"polar\":{\"bgcolor\":\"#E5ECF6\",\"angularaxis\":{\"gridcolor\":\"white\",\"linecolor\":\"white\",\"ticks\":\"\"},\"radialaxis\":{\"gridcolor\":\"white\",\"linecolor\":\"white\",\"ticks\":\"\"}},\"ternary\":{\"bgcolor\":\"#E5ECF6\",\"aaxis\":{\"gridcolor\":\"white\",\"linecolor\":\"white\",\"ticks\":\"\"},\"baxis\":{\"gridcolor\":\"white\",\"linecolor\":\"white\",\"ticks\":\"\"},\"caxis\":{\"gridcolor\":\"white\",\"linecolor\":\"white\",\"ticks\":\"\"}},\"coloraxis\":{\"colorbar\":{\"outlinewidth\":0,\"ticks\":\"\"}},\"colorscale\":{\"sequential\":[[0.0,\"#0d0887\"],[0.1111111111111111,\"#46039f\"],[0.2222222222222222,\"#7201a8\"],[0.3333333333333333,\"#9c179e\"],[0.4444444444444444,\"#bd3786\"],[0.5555555555555556,\"#d8576b\"],[0.6666666666666666,\"#ed7953\"],[0.7777777777777778,\"#fb9f3a\"],[0.8888888888888888,\"#fdca26\"],[1.0,\"#f0f921\"]],\"sequentialminus\":[[0.0,\"#0d0887\"],[0.1111111111111111,\"#46039f\"],[0.2222222222222222,\"#7201a8\"],[0.3333333333333333,\"#9c179e\"],[0.4444444444444444,\"#bd3786\"],[0.5555555555555556,\"#d8576b\"],[0.6666666666666666,\"#ed7953\"],[0.7777777777777778,\"#fb9f3a\"],[0.8888888888888888,\"#fdca26\"],[1.0,\"#f0f921\"]],\"diverging\":[[0,\"#8e0152\"],[0.1,\"#c51b7d\"],[0.2,\"#de77ae\"],[0.3,\"#f1b6da\"],[0.4,\"#fde0ef\"],[0.5,\"#f7f7f7\"],[0.6,\"#e6f5d0\"],[0.7,\"#b8e186\"],[0.8,\"#7fbc41\"],[0.9,\"#4d9221\"],[1,\"#276419\"]]},\"xaxis\":{\"gridcolor\":\"white\",\"linecolor\":\"white\",\"ticks\":\"\",\"title\":{\"standoff\":15},\"zerolinecolor\":\"white\",\"automargin\":true,\"zerolinewidth\":2},\"yaxis\":{\"gridcolor\":\"white\",\"linecolor\":\"white\",\"ticks\":\"\",\"title\":{\"standoff\":15},\"zerolinecolor\":\"white\",\"automargin\":true,\"zerolinewidth\":2},\"scene\":{\"xaxis\":{\"backgroundcolor\":\"#E5ECF6\",\"gridcolor\":\"white\",\"linecolor\":\"white\",\"showbackground\":true,\"ticks\":\"\",\"zerolinecolor\":\"white\",\"gridwidth\":2},\"yaxis\":{\"backgroundcolor\":\"#E5ECF6\",\"gridcolor\":\"white\",\"linecolor\":\"white\",\"showbackground\":true,\"ticks\":\"\",\"zerolinecolor\":\"white\",\"gridwidth\":2},\"zaxis\":{\"backgroundcolor\":\"#E5ECF6\",\"gridcolor\":\"white\",\"linecolor\":\"white\",\"showbackground\":true,\"ticks\":\"\",\"zerolinecolor\":\"white\",\"gridwidth\":2}},\"shapedefaults\":{\"line\":{\"color\":\"#2a3f5f\"}},\"annotationdefaults\":{\"arrowcolor\":\"#2a3f5f\",\"arrowhead\":0,\"arrowwidth\":1},\"geo\":{\"bgcolor\":\"white\",\"landcolor\":\"#E5ECF6\",\"subunitcolor\":\"white\",\"showland\":true,\"showlakes\":true,\"lakecolor\":\"white\"},\"title\":{\"x\":0.05},\"mapbox\":{\"style\":\"light\"}}}},                        {\"responsive\": true}                    ).then(function(){\n",
       "                            \n",
       "var gd = document.getElementById('b1f2560c-972f-4eca-b060-88b9b38786ae');\n",
       "var x = new MutationObserver(function (mutations, observer) {{\n",
       "        var display = window.getComputedStyle(gd).display;\n",
       "        if (!display || display === 'none') {{\n",
       "            console.log([gd, 'removed!']);\n",
       "            Plotly.purge(gd);\n",
       "            observer.disconnect();\n",
       "        }}\n",
       "}});\n",
       "\n",
       "// Listen for the removal of the full notebook cells\n",
       "var notebookContainer = gd.closest('#notebook-container');\n",
       "if (notebookContainer) {{\n",
       "    x.observe(notebookContainer, {childList: true});\n",
       "}}\n",
       "\n",
       "// Listen for the clearing of the current output cell\n",
       "var outputEl = gd.closest('.output');\n",
       "if (outputEl) {{\n",
       "    x.observe(outputEl, {childList: true});\n",
       "}}\n",
       "\n",
       "                        })                };                });            </script>        </div>"
      ]
     },
     "metadata": {},
     "output_type": "display_data"
    }
   ],
   "source": [
    "fig = go.Figure()\n",
    "fig.add_trace(go.Scatter(x=data18[\"ADP\"], y=data[\"FantasyPoints\"], mode='markers', text=data[\"Player\"]))\n",
    "fig.add_trace(go.Scatter(x=data19[\"ADP\"], y=data[\"FantasyPoints\"], mode='markers', text=data[\"Player\"]))\n",
    "fig.add_trace(go.Scatter(x=data20[\"ADP\"], y=data[\"FantasyPoints\"], mode='markers', text=data[\"Player\"]))\n",
    "fig.add_trace(go.Scatter(x=data21[\"ADP\"], y=data[\"FantasyPoints\"], mode='markers', text=data[\"Player\"]))\n",
    "fig.show()\n",
    "#px.scatter(data, x=\"ADP\", y=\"FantasyPoints\", color=\"Pos\", text=\"Player\").show()"
   ]
  },
  {
   "cell_type": "code",
   "execution_count": 322,
   "id": "0bfdf376",
   "metadata": {},
   "outputs": [
    {
     "name": "stderr",
     "output_type": "stream",
     "text": [
      "/var/folders/zd/hd98t63j70j07gdtg557z0980000gp/T/ipykernel_90727/1516717767.py:2: SettingWithCopyWarning:\n",
      "\n",
      "\n",
      "A value is trying to be set on a copy of a slice from a DataFrame.\n",
      "Try using .loc[row_indexer,col_indexer] = value instead\n",
      "\n",
      "See the caveats in the documentation: https://pandas.pydata.org/pandas-docs/stable/user_guide/indexing.html#returning-a-view-versus-a-copy\n",
      "\n",
      "/var/folders/zd/hd98t63j70j07gdtg557z0980000gp/T/ipykernel_90727/3051587024.py:8: SettingWithCopyWarning:\n",
      "\n",
      "\n",
      "A value is trying to be set on a copy of a slice from a DataFrame.\n",
      "Try using .loc[row_indexer,col_indexer] = value instead\n",
      "\n",
      "See the caveats in the documentation: https://pandas.pydata.org/pandas-docs/stable/user_guide/indexing.html#returning-a-view-versus-a-copy\n",
      "\n"
     ]
    },
    {
     "data": {
      "application/vnd.plotly.v1+json": {
       "config": {
        "plotlyServerURL": "https://plot.ly"
       },
       "data": [
        {
         "customdata": [
          [
           "Tyreek Hill",
           2018
          ],
          [
           "Antonio Brown",
           2018
          ],
          [
           "Davante Adams",
           2018
          ],
          [
           "DeAndre Hopkins",
           2018
          ],
          [
           "Julio Jones",
           2018
          ],
          [
           "Mike Evans",
           2018
          ],
          [
           "Adam Thielen",
           2018
          ],
          [
           "Michael Thomas",
           2018
          ],
          [
           "JuJu Smith-Schuster",
           2018
          ],
          [
           "Robert Woods",
           2018
          ],
          [
           "Tyler Lockett",
           2018
          ],
          [
           "Stefon Diggs",
           2018
          ],
          [
           "Brandin Cooks",
           2018
          ],
          [
           "Keenan Allen",
           2018
          ],
          [
           "T.Y. Hilton",
           2018
          ],
          [
           "Odell Beckham",
           2018
          ],
          [
           "Calvin Ridley",
           2018
          ],
          [
           "Amari Cooper",
           2018
          ],
          [
           "Mike Williams",
           2018
          ],
          [
           "Kenny Golladay",
           2018
          ],
          [
           "Jarvis Landry",
           2018
          ],
          [
           "Emmanuel Sanders",
           2018
          ],
          [
           "Chris Godwin",
           2018
          ],
          [
           "Alshon Jeffery",
           2018
          ],
          [
           "Corey Davis",
           2018
          ],
          [
           "Larry Fitzgerald",
           2018
          ],
          [
           "Mohamed Sanu",
           2018
          ],
          [
           "DeSean Jackson",
           2018
          ],
          [
           "Golden Tate",
           2018
          ],
          [
           "A.J. Green",
           2018
          ],
          [
           "John Brown",
           2018
          ],
          [
           "D.J. Moore",
           2018
          ],
          [
           "Josh Gordon",
           2018
          ],
          [
           "Allen Robinson",
           2018
          ],
          [
           "Demaryius Thomas",
           2018
          ],
          [
           "Courtland Sutton",
           2018
          ],
          [
           "Doug Baldwin",
           2018
          ],
          [
           "Anthony Miller",
           2018
          ],
          [
           "Cole Beasley",
           2018
          ],
          [
           "Donte Moncrief",
           2018
          ],
          [
           "Marvin Jones",
           2018
          ],
          [
           "Christian Kirk",
           2018
          ],
          [
           "Michael Crabtree",
           2018
          ],
          [
           "Sammy Watkins",
           2018
          ],
          [
           "Chris Hogan",
           2018
          ],
          [
           "Danny Amendola",
           2018
          ],
          [
           "Michael Gallup",
           2018
          ],
          [
           "Marquise Goodwin",
           2018
          ],
          [
           "John Ross",
           2018
          ],
          [
           "Keelan Cole",
           2018
          ],
          [
           "Taywan Taylor",
           2018
          ],
          [
           "Quincy Enunwa",
           2018
          ],
          [
           "Ty Montgomery",
           2018
          ],
          [
           "Allen Hurns",
           2018
          ],
          [
           "Ryan Grant",
           2018
          ],
          [
           "Paul Richardson",
           2018
          ],
          [
           "Ted Ginn",
           2018
          ],
          [
           "Tavon Austin",
           2018
          ],
          [
           "James Washington",
           2018
          ],
          [
           "Martavis Bryant",
           2018
          ],
          [
           "Cameron Meredith",
           2018
          ],
          [
           "Rishard Matthews",
           2018
          ],
          [
           "Michael Thomas",
           2019
          ],
          [
           "Chris Godwin",
           2019
          ],
          [
           "Kenny Golladay",
           2019
          ],
          [
           "Cooper Kupp",
           2019
          ],
          [
           "Julio Jones",
           2019
          ],
          [
           "DeVante Parker",
           2019
          ],
          [
           "Amari Cooper",
           2019
          ],
          [
           "Mike Evans",
           2019
          ],
          [
           "A.J. Brown",
           2019
          ],
          [
           "DeAndre Hopkins",
           2019
          ],
          [
           "Keenan Allen",
           2019
          ],
          [
           "Allen Robinson",
           2019
          ],
          [
           "Julian Edelman",
           2019
          ],
          [
           "Tyler Lockett",
           2019
          ],
          [
           "DJ Chark",
           2019
          ],
          [
           "Stefon Diggs",
           2019
          ],
          [
           "John Brown",
           2019
          ],
          [
           "D.J. Moore",
           2019
          ],
          [
           "Robert Woods",
           2019
          ],
          [
           "Calvin Ridley",
           2019
          ],
          [
           "Terry McLaurin",
           2019
          ],
          [
           "Tyler Boyd",
           2019
          ],
          [
           "Deebo Samuel",
           2019
          ],
          [
           "Tyreek Hill",
           2019
          ],
          [
           "Davante Adams",
           2019
          ],
          [
           "D.K. Metcalf",
           2019
          ],
          [
           "Odell Beckham",
           2019
          ],
          [
           "Cole Beasley",
           2019
          ],
          [
           "Mike Williams",
           2019
          ],
          [
           "Robby Anderson",
           2019
          ],
          [
           "Chris Conley",
           2019
          ],
          [
           "Golden Tate",
           2019
          ],
          [
           "Tyrell Williams",
           2019
          ],
          [
           "Marquise Brown",
           2019
          ],
          [
           "Mecole Hardman",
           2019
          ],
          [
           "Sammy Watkins",
           2019
          ],
          [
           "Hunter Renfrow",
           2019
          ],
          [
           "Sterling Shepard",
           2019
          ],
          [
           "Adam Thielen",
           2019
          ],
          [
           "T.Y. Hilton",
           2019
          ],
          [
           "Kenny Stills",
           2019
          ],
          [
           "Alshon Jeffery",
           2019
          ],
          [
           "Brandin Cooks",
           2019
          ],
          [
           "Anthony Miller",
           2019
          ],
          [
           "JuJu Smith-Schuster",
           2019
          ],
          [
           "Mohamed Sanu",
           2019
          ],
          [
           "Taylor Gabriel",
           2019
          ],
          [
           "Ted Ginn",
           2019
          ],
          [
           "Tre'Quan Smith",
           2019
          ],
          [
           "Adam Humphries",
           2019
          ],
          [
           "Josh Gordon",
           2019
          ],
          [
           "Albert Wilson",
           2019
          ],
          [
           "Geronimo Allison",
           2019
          ],
          [
           "Paul Richardson",
           2019
          ],
          [
           "DaeSean Hamilton",
           2019
          ],
          [
           "Keke Coutee",
           2019
          ],
          [
           "DeSean Jackson",
           2019
          ],
          [
           "Trey Quinn",
           2019
          ],
          [
           "Dante Pettis",
           2019
          ],
          [
           "Antonio Brown",
           2019
          ],
          [
           "Devin Funchess",
           2019
          ],
          [
           "Donte Moncrief",
           2019
          ],
          [
           "Davante Adams",
           2020
          ],
          [
           "Tyreek Hill",
           2020
          ],
          [
           "Stefon Diggs",
           2020
          ],
          [
           "Calvin Ridley",
           2020
          ],
          [
           "D.K. Metcalf",
           2020
          ],
          [
           "Justin Jefferson",
           2020
          ],
          [
           "Adam Thielen",
           2020
          ],
          [
           "Mike Evans",
           2020
          ],
          [
           "A.J. Brown",
           2020
          ],
          [
           "DeAndre Hopkins",
           2020
          ],
          [
           "Tyler Lockett",
           2020
          ],
          [
           "Allen Robinson",
           2020
          ],
          [
           "Robert Woods",
           2020
          ],
          [
           "Chase Claypool",
           2020
          ],
          [
           "D.J. Moore",
           2020
          ],
          [
           "Keenan Allen",
           2020
          ],
          [
           "Amari Cooper",
           2020
          ],
          [
           "CeeDee Lamb",
           2020
          ],
          [
           "JuJu Smith-Schuster",
           2020
          ],
          [
           "Terry McLaurin",
           2020
          ],
          [
           "Will Fuller",
           2020
          ],
          [
           "Curtis Samuel",
           2020
          ],
          [
           "Tee Higgins",
           2020
          ],
          [
           "Cole Beasley",
           2020
          ],
          [
           "Chris Godwin",
           2020
          ],
          [
           "Brandon Aiyuk",
           2020
          ],
          [
           "Cooper Kupp",
           2020
          ],
          [
           "Jarvis Landry",
           2020
          ],
          [
           "Tyler Boyd",
           2020
          ],
          [
           "Michael Gallup",
           2020
          ],
          [
           "Russell Gage",
           2020
          ],
          [
           "T.Y. Hilton",
           2020
          ],
          [
           "Jerry Jeudy",
           2020
          ],
          [
           "Mike Williams",
           2020
          ],
          [
           "DeVante Parker",
           2020
          ],
          [
           "DJ Chark",
           2020
          ],
          [
           "Laviska Shenault Jr.",
           2020
          ],
          [
           "Julio Jones",
           2020
          ],
          [
           "Mecole Hardman",
           2020
          ],
          [
           "Breshad Perriman",
           2020
          ],
          [
           "James Washington",
           2020
          ],
          [
           "Allen Lazard",
           2020
          ],
          [
           "Odell Beckham Jr.",
           2020
          ],
          [
           "A.J. Green",
           2020
          ],
          [
           "Randall Cobb",
           2020
          ],
          [
           "Anthony Miller",
           2020
          ],
          [
           "Michael Pittman Jr.",
           2020
          ],
          [
           "Henry Ruggs III",
           2020
          ],
          [
           "Jalen Reagor",
           2020
          ],
          [
           "Sammy Watkins",
           2020
          ],
          [
           "Larry Fitzgerald",
           2020
          ],
          [
           "Kenny Golladay",
           2020
          ],
          [
           "Michael Thomas",
           2020
          ],
          [
           "N'Keal Harry",
           2020
          ],
          [
           "Denzel Mims",
           2020
          ],
          [
           "DeSean Jackson",
           2020
          ],
          [
           "Steven Sims",
           2020
          ],
          [
           "Van Jefferson",
           2020
          ],
          [
           "Bryan Edwards",
           2020
          ],
          [
           "Alshon Jeffery",
           2020
          ],
          [
           "Parris Campbell",
           2020
          ],
          [
           "Courtland Sutton",
           2020
          ],
          [
           "Cooper Kupp*+",
           2021
          ],
          [
           "Justin Jefferson*",
           2021
          ],
          [
           "Davante Adams*+",
           2021
          ],
          [
           "Mike Evans*",
           2021
          ],
          [
           "Tyreek Hill*",
           2021
          ],
          [
           "Stefon Diggs*",
           2021
          ],
          [
           "D.K. Metcalf",
           2021
          ],
          [
           "Tyler Lockett",
           2021
          ],
          [
           "Diontae Johnson*",
           2021
          ],
          [
           "CeeDee Lamb*",
           2021
          ],
          [
           "Keenan Allen*",
           2021
          ],
          [
           "Michael Pittman Jr.",
           2021
          ],
          [
           "Tee Higgins",
           2021
          ],
          [
           "D.J. Moore",
           2021
          ],
          [
           "Chris Godwin",
           2021
          ],
          [
           "Jaylen Waddle",
           2021
          ],
          [
           "Brandin Cooks",
           2021
          ],
          [
           "Darnell Mooney",
           2021
          ],
          [
           "Amon-Ra St. Brown",
           2021
          ],
          [
           "Terry McLaurin",
           2021
          ],
          [
           "Amari Cooper",
           2021
          ],
          [
           "Adam Thielen",
           2021
          ],
          [
           "A.J. Brown",
           2021
          ],
          [
           "Brandon Aiyuk",
           2021
          ],
          [
           "Chase Claypool",
           2021
          ],
          [
           "Marquez Callaway",
           2021
          ],
          [
           "DeAndre Hopkins",
           2021
          ],
          [
           "A.J. Green",
           2021
          ],
          [
           "Jakobi Meyers",
           2021
          ],
          [
           "Russell Gage",
           2021
          ],
          [
           "Elijah Moore",
           2021
          ],
          [
           "Courtland Sutton",
           2021
          ],
          [
           "Robert Woods",
           2021
          ],
          [
           "Gabriel Davis",
           2021
          ],
          [
           "Emmanuel Sanders",
           2021
          ],
          [
           "Robby Anderson",
           2021
          ],
          [
           "Odell Beckham Jr.",
           2021
          ],
          [
           "Mecole Hardman",
           2021
          ],
          [
           "Antonio Brown",
           2021
          ],
          [
           "Cole Beasley",
           2021
          ],
          [
           "Bryan Edwards",
           2021
          ],
          [
           "Nelson Agholor",
           2021
          ],
          [
           "Randall Cobb",
           2021
          ],
          [
           "DeVante Parker",
           2021
          ],
          [
           "Henry Ruggs III",
           2021
          ],
          [
           "Jamison Crowder",
           2021
          ],
          [
           "Rashod Bateman",
           2021
          ],
          [
           "DeSean Jackson",
           2021
          ],
          [
           "Tre'Quan Smith",
           2021
          ],
          [
           "Rondale Moore",
           2021
          ],
          [
           "Kenny Golladay",
           2021
          ],
          [
           "Nico Collins",
           2021
          ],
          [
           "Julio Jones",
           2021
          ],
          [
           "Allen Robinson",
           2021
          ],
          [
           "Jerry Jeudy",
           2021
          ],
          [
           "Jalen Reagor",
           2021
          ],
          [
           "Sammy Watkins",
           2021
          ],
          [
           "Sterling Shepard",
           2021
          ],
          [
           "Calvin Ridley",
           2021
          ],
          [
           "Parris Campbell",
           2021
          ],
          [
           "JuJu Smith-Schuster",
           2021
          ],
          [
           "Terrace Marshall Jr.",
           2021
          ],
          [
           "Tarik Black",
           2021
          ],
          [
           "Tyrell Williams",
           2021
          ]
         ],
         "hovertemplate": "ADP=%{x}<br>normFP=%{y}<br>Player=%{customdata[0]}<br>Year=%{customdata[1]}<br>labels=%{marker.color}<extra></extra>",
         "legendgroup": "",
         "marker": {
          "color": [
           1,
           5,
           5,
           5,
           5,
           5,
           1,
           5,
           6,
           6,
           7,
           1,
           1,
           5,
           5,
           5,
           2,
           1,
           2,
           7,
           1,
           6,
           2,
           1,
           6,
           5,
           7,
           7,
           1,
           5,
           2,
           7,
           1,
           1,
           1,
           2,
           1,
           2,
           3,
           2,
           1,
           4,
           6,
           6,
           6,
           7,
           7,
           6,
           2,
           7,
           4,
           4,
           2,
           7,
           4,
           7,
           3,
           3,
           2,
           3,
           7,
           7,
           5,
           1,
           1,
           1,
           5,
           8,
           5,
           5,
           0,
           5,
           5,
           6,
           1,
           1,
           8,
           1,
           2,
           6,
           1,
           6,
           8,
           6,
           8,
           5,
           5,
           2,
           5,
           8,
           6,
           6,
           4,
           2,
           6,
           4,
           8,
           6,
           4,
           6,
           5,
           1,
           0,
           1,
           1,
           2,
           5,
           2,
           8,
           8,
           0,
           2,
           6,
           2,
           2,
           2,
           2,
           7,
           2,
           8,
           7,
           5,
           8,
           7,
           5,
           5,
           6,
           1,
           6,
           2,
           5,
           5,
           1,
           5,
           1,
           5,
           1,
           8,
           5,
           6,
           5,
           7,
           1,
           6,
           6,
           2,
           8,
           0,
           5,
           4,
           1,
           6,
           6,
           6,
           0,
           6,
           7,
           7,
           6,
           6,
           8,
           5,
           2,
           7,
           0,
           4,
           1,
           6,
           4,
           2,
           4,
           7,
           4,
           4,
           4,
           5,
           5,
           2,
           4,
           7,
           4,
           8,
           8,
           4,
           4,
           1,
           1,
           5,
           5,
           1,
           5,
           5,
           5,
           1,
           1,
           5,
           5,
           7,
           1,
           1,
           1,
           7,
           6,
           2,
           4,
           5,
           1,
           1,
           5,
           1,
           6,
           2,
           5,
           4,
           2,
           4,
           2,
           6,
           1,
           4,
           4,
           6,
           6,
           2,
           7,
           2,
           4,
           4,
           4,
           2,
           7,
           4,
           0,
           9,
           0,
           4,
           6,
           8,
           1,
           5,
           6,
           2,
           0,
           4,
           5,
           2,
           6,
           4,
           0,
           2
          ],
          "coloraxis": "coloraxis",
          "symbol": "circle"
         },
         "mode": "markers",
         "name": "",
         "orientation": "v",
         "showlegend": false,
         "type": "scatter",
         "x": [
          33,
          5,
          20,
          9,
          8,
          22,
          29,
          16,
          54,
          55,
          110,
          30,
          44,
          13,
          28,
          10,
          131,
          38,
          140,
          106,
          40,
          57,
          129,
          43,
          67,
          27,
          109,
          113,
          37,
          17,
          137,
          115,
          39,
          36,
          34,
          139,
          35,
          138,
          363,
          141,
          41,
          166,
          56,
          69,
          53,
          111,
          112,
          68,
          130,
          107,
          167,
          162,
          122,
          104,
          160,
          105,
          364,
          414,
          132,
          365,
          108,
          114,
          7,
          47,
          40,
          42,
          10,
          177,
          21,
          19,
          214,
          5,
          20,
          49,
          39,
          46,
          180,
          37,
          123,
          51,
          38,
          54,
          175,
          52,
          179,
          11,
          9,
          122,
          12,
          176,
          50,
          75,
          163,
          126,
          53,
          162,
          181,
          74,
          161,
          56,
          28,
          41,
          213,
          48,
          36,
          139,
          13,
          128,
          198,
          196,
          215,
          121,
          55,
          127,
          130,
          129,
          140,
          110,
          120,
          197,
          108,
          27,
          178,
          109,
          16,
          18,
          65,
          32,
          55,
          127,
          26,
          22,
          33,
          19,
          37,
          27,
          36,
          196,
          25,
          51,
          28,
          109,
          29,
          50,
          66,
          125,
          194,
          215,
          21,
          145,
          38,
          53,
          62,
          64,
          214,
          52,
          102,
          108,
          61,
          54,
          197,
          17,
          124,
          107,
          213,
          152,
          30,
          63,
          147,
          126,
          151,
          101,
          150,
          146,
          149,
          24,
          6,
          123,
          154,
          106,
          153,
          195,
          198,
          148,
          144,
          31,
          41,
          21,
          7,
          34,
          13,
          16,
          19,
          39,
          42,
          28,
          26,
          117,
          46,
          44,
          40,
          95,
          66,
          127,
          164,
          25,
          35,
          38,
          20,
          45,
          65,
          121,
          17,
          160,
          118,
          150,
          129,
          59,
          33,
          162,
          163,
          57,
          56,
          126,
          93,
          119,
          159,
          153,
          161,
          120,
          96,
          152,
          213,
          302,
          215,
          154,
          55,
          193,
          43,
          27,
          64,
          122,
          214,
          151,
          18,
          128,
          58,
          155,
          239,
          125
         ],
         "xaxis": "x",
         "y": [
          0.8756006406833956,
          0.8641217298451681,
          0.8745328350240257,
          0.890282968499733,
          0.8699946609717031,
          0.7592098238120661,
          0.8150026695141485,
          0.8422317138280833,
          0.7872397223705287,
          0.7090229578216765,
          0.5883609183128671,
          0.705552589428724,
          0.6492258408969567,
          0.6890016017084891,
          0.6380138814735717,
          0.6148958889482113,
          0.5520555258942872,
          0.5752802989855846,
          0.47570742124933274,
          0.5528563801388147,
          0.5742658836091831,
          0.5291510945008009,
          0.4890549919914575,
          0.49466097170315004,
          0.4901227976508275,
          0.49033635878270154,
          0.4815803523758676,
          0.4038974906567005,
          0.4829151094500801,
          0.398825413774693,
          0.38414308595835556,
          0.4191137213027229,
          0.3702616123865456,
          0.40923651895355045,
          0.41831286705819537,
          0.3638547784303257,
          0.3785371062466631,
          0.32092899092365185,
          0.40096102509343295,
          0.34917245061398827,
          0.30912973838761343,
          0.32968499733048584,
          0.35424452749599566,
          0.3072610784837159,
          0.28350240256273357,
          0.34014949279231177,
          0.25547250400427124,
          0.23331553657234383,
          0.22664175120128136,
          0.2378537106246663,
          0.2338494394020288,
          0.23198077949813134,
          0.19033635878270153,
          0.16417512012813668,
          0.198611852642819,
          0.1577682861719167,
          0.13481046449546183,
          0.10544580886278697,
          0.11665776828617191,
          0.12253069941270688,
          0.06513614522156967,
          0.019754404698344902,
          1,
          0.7317138280832889,
          0.6620395088093967,
          0.7221035771489589,
          0.7317138280832889,
          0.6572343833422316,
          0.6580352375867592,
          0.6158569140416443,
          0.5795515216230646,
          0.7115323011211959,
          0.698077949813134,
          0.680459156433529,
          0.6788040576615055,
          0.6278697277095568,
          0.597437266417512,
          0.5662039508809397,
          0.5868126001067805,
          0.6153230112119594,
          0.6217298451681794,
          0.5205552589428724,
          0.512279765082755,
          0.5950347036839295,
          0.499466097170315,
          0.502669514148425,
          0.5624666310731447,
          0.49412706887346497,
          0.5373731980779498,
          0.4826481580352376,
          0.4305926321409502,
          0.42792311799252536,
          0.4124399359316604,
          0.4063000533902829,
          0.38200747463961554,
          0.39081687132941806,
          0.30298985584623594,
          0.36438868126001067,
          0.3563801388147357,
          0.3731980779498131,
          0.30539241857981847,
          0.3339562199679658,
          0.32060864922584087,
          0.32621462893753334,
          0.3136679124399359,
          0.34036305392418575,
          0.3021890016017085,
          0.3312867058195408,
          0.24105712760277628,
          0.22931126534970628,
          0.19060331019754406,
          0.23091297383876133,
          0.19674319273892144,
          0.2386545648691938,
          0.19594233849439402,
          0.17218366257341164,
          0.17004805125467165,
          0.14095034703683929,
          0.098505072076882,
          0.13294180459156432,
          0.09220501868659903,
          0.04297917778964229,
          0.016550987720234916,
          0.01548318206086492,
          0.6486919380672718,
          0.6460224239188467,
          0.5392418579818473,
          0.5125467164975974,
          0.5018686599038975,
          0.4965296316070475,
          0.48051254671649757,
          0.4778430325680726,
          0.4751735184196476,
          0.46182594767752266,
          0.4404698344901228,
          0.4297917778964228,
          0.4137746930058729,
          0.4084356647090229,
          0.389749065670048,
          0.38707955152162304,
          0.38707955152162304,
          0.38441003737319807,
          0.36572343833422316,
          0.36572343833422316,
          0.3630539241857982,
          0.36038441003737315,
          0.34169781099839824,
          0.3363587827015483,
          0.3363587827015483,
          0.3336892685531233,
          0.3123331553657234,
          0.30966364121729845,
          0.30432461292044843,
          0.30432461292044843,
          0.29097704217832354,
          0.28830752802989856,
          0.28296849973304855,
          0.28296849973304855,
          0.2749599572877736,
          0.26962092899092366,
          0.26428190069407365,
          0.25360384410037373,
          0.23224773091297382,
          0.18419647624132407,
          0.18419647624132407,
          0.17351841964762413,
          0.17084890549919912,
          0.17084890549919912,
          0.16550987720234916,
          0.16017084890549918,
          0.1575013347570742,
          0.15483182060864922,
          0.14949279231179924,
          0.1334757074212493,
          0.12546716497597438,
          0.12279765082754938,
          0.1174586225306994,
          0.10945008008542445,
          0.10144153764014949,
          0.08275493860117458,
          0.08008542445274959,
          0.07474639615589962,
          0.06673785371062466,
          0.04805125467164976,
          0.02402562733582488,
          0.018686599038974905,
          0.787506673785371,
          0.592632140950347,
          0.589962626801922,
          0.5045381740523225,
          0.4965296316070475,
          0.4885210891617725,
          0.4511478910838227,
          0.4484783769353977,
          0.44580886278697274,
          0.4111051788574479,
          0.40576615056059795,
          0.40309663641217297,
          0.38707955152162304,
          0.38707955152162304,
          0.38441003737319807,
          0.3790710090763481,
          0.3790710090763481,
          0.3710624666310731,
          0.36572343833422316,
          0.36572343833422316,
          0.36038441003737315,
          0.3550453817405232,
          0.3150026695141484,
          0.30432461292044843,
          0.28830752802989856,
          0.28296849973304855,
          0.2802989855846236,
          0.2749599572877736,
          0.2749599572877736,
          0.2589428723972237,
          0.25360384410037373,
          0.24559530165509877,
          0.24559530165509877,
          0.24292578750667376,
          0.24025627335824878,
          0.22957821676454884,
          0.22690870261612386,
          0.2189001601708489,
          0.21089161772557394,
          0.20555258942872395,
          0.200213561131874,
          0.1761879337960491,
          0.1761879337960491,
          0.17084890549919912,
          0.1628403630539242,
          0.1575013347570742,
          0.15483182060864922,
          0.14949279231179924,
          0.14949279231179924,
          0.14682327816337426,
          0.1388147357180993,
          0.13614522156967432,
          0.13080619327282433,
          0.13080619327282433,
          0.12546716497597438,
          0.12012813667912439,
          0.11478910838227442,
          0.11211959423384943,
          0.10678056593699946,
          0.0587293112653497,
          0.05339028296849973,
          0.04271222637479978,
          0.0026695141484249863,
          0.0026695141484249863
         ],
         "yaxis": "y"
        }
       ],
       "layout": {
        "coloraxis": {
         "colorbar": {
          "title": {
           "text": "labels"
          }
         },
         "colorscale": [
          [
           0,
           "#0d0887"
          ],
          [
           0.1111111111111111,
           "#46039f"
          ],
          [
           0.2222222222222222,
           "#7201a8"
          ],
          [
           0.3333333333333333,
           "#9c179e"
          ],
          [
           0.4444444444444444,
           "#bd3786"
          ],
          [
           0.5555555555555556,
           "#d8576b"
          ],
          [
           0.6666666666666666,
           "#ed7953"
          ],
          [
           0.7777777777777778,
           "#fb9f3a"
          ],
          [
           0.8888888888888888,
           "#fdca26"
          ],
          [
           1,
           "#f0f921"
          ]
         ]
        },
        "font": {
         "color": "LightSeaGreen",
         "family": "sans serif",
         "size": 18
        },
        "legend": {
         "tracegroupgap": 0
        },
        "margin": {
         "t": 60
        },
        "template": {
         "data": {
          "bar": [
           {
            "error_x": {
             "color": "#2a3f5f"
            },
            "error_y": {
             "color": "#2a3f5f"
            },
            "marker": {
             "line": {
              "color": "#E5ECF6",
              "width": 0.5
             },
             "pattern": {
              "fillmode": "overlay",
              "size": 10,
              "solidity": 0.2
             }
            },
            "type": "bar"
           }
          ],
          "barpolar": [
           {
            "marker": {
             "line": {
              "color": "#E5ECF6",
              "width": 0.5
             },
             "pattern": {
              "fillmode": "overlay",
              "size": 10,
              "solidity": 0.2
             }
            },
            "type": "barpolar"
           }
          ],
          "carpet": [
           {
            "aaxis": {
             "endlinecolor": "#2a3f5f",
             "gridcolor": "white",
             "linecolor": "white",
             "minorgridcolor": "white",
             "startlinecolor": "#2a3f5f"
            },
            "baxis": {
             "endlinecolor": "#2a3f5f",
             "gridcolor": "white",
             "linecolor": "white",
             "minorgridcolor": "white",
             "startlinecolor": "#2a3f5f"
            },
            "type": "carpet"
           }
          ],
          "choropleth": [
           {
            "colorbar": {
             "outlinewidth": 0,
             "ticks": ""
            },
            "type": "choropleth"
           }
          ],
          "contour": [
           {
            "colorbar": {
             "outlinewidth": 0,
             "ticks": ""
            },
            "colorscale": [
             [
              0,
              "#0d0887"
             ],
             [
              0.1111111111111111,
              "#46039f"
             ],
             [
              0.2222222222222222,
              "#7201a8"
             ],
             [
              0.3333333333333333,
              "#9c179e"
             ],
             [
              0.4444444444444444,
              "#bd3786"
             ],
             [
              0.5555555555555556,
              "#d8576b"
             ],
             [
              0.6666666666666666,
              "#ed7953"
             ],
             [
              0.7777777777777778,
              "#fb9f3a"
             ],
             [
              0.8888888888888888,
              "#fdca26"
             ],
             [
              1,
              "#f0f921"
             ]
            ],
            "type": "contour"
           }
          ],
          "contourcarpet": [
           {
            "colorbar": {
             "outlinewidth": 0,
             "ticks": ""
            },
            "type": "contourcarpet"
           }
          ],
          "heatmap": [
           {
            "colorbar": {
             "outlinewidth": 0,
             "ticks": ""
            },
            "colorscale": [
             [
              0,
              "#0d0887"
             ],
             [
              0.1111111111111111,
              "#46039f"
             ],
             [
              0.2222222222222222,
              "#7201a8"
             ],
             [
              0.3333333333333333,
              "#9c179e"
             ],
             [
              0.4444444444444444,
              "#bd3786"
             ],
             [
              0.5555555555555556,
              "#d8576b"
             ],
             [
              0.6666666666666666,
              "#ed7953"
             ],
             [
              0.7777777777777778,
              "#fb9f3a"
             ],
             [
              0.8888888888888888,
              "#fdca26"
             ],
             [
              1,
              "#f0f921"
             ]
            ],
            "type": "heatmap"
           }
          ],
          "heatmapgl": [
           {
            "colorbar": {
             "outlinewidth": 0,
             "ticks": ""
            },
            "colorscale": [
             [
              0,
              "#0d0887"
             ],
             [
              0.1111111111111111,
              "#46039f"
             ],
             [
              0.2222222222222222,
              "#7201a8"
             ],
             [
              0.3333333333333333,
              "#9c179e"
             ],
             [
              0.4444444444444444,
              "#bd3786"
             ],
             [
              0.5555555555555556,
              "#d8576b"
             ],
             [
              0.6666666666666666,
              "#ed7953"
             ],
             [
              0.7777777777777778,
              "#fb9f3a"
             ],
             [
              0.8888888888888888,
              "#fdca26"
             ],
             [
              1,
              "#f0f921"
             ]
            ],
            "type": "heatmapgl"
           }
          ],
          "histogram": [
           {
            "marker": {
             "pattern": {
              "fillmode": "overlay",
              "size": 10,
              "solidity": 0.2
             }
            },
            "type": "histogram"
           }
          ],
          "histogram2d": [
           {
            "colorbar": {
             "outlinewidth": 0,
             "ticks": ""
            },
            "colorscale": [
             [
              0,
              "#0d0887"
             ],
             [
              0.1111111111111111,
              "#46039f"
             ],
             [
              0.2222222222222222,
              "#7201a8"
             ],
             [
              0.3333333333333333,
              "#9c179e"
             ],
             [
              0.4444444444444444,
              "#bd3786"
             ],
             [
              0.5555555555555556,
              "#d8576b"
             ],
             [
              0.6666666666666666,
              "#ed7953"
             ],
             [
              0.7777777777777778,
              "#fb9f3a"
             ],
             [
              0.8888888888888888,
              "#fdca26"
             ],
             [
              1,
              "#f0f921"
             ]
            ],
            "type": "histogram2d"
           }
          ],
          "histogram2dcontour": [
           {
            "colorbar": {
             "outlinewidth": 0,
             "ticks": ""
            },
            "colorscale": [
             [
              0,
              "#0d0887"
             ],
             [
              0.1111111111111111,
              "#46039f"
             ],
             [
              0.2222222222222222,
              "#7201a8"
             ],
             [
              0.3333333333333333,
              "#9c179e"
             ],
             [
              0.4444444444444444,
              "#bd3786"
             ],
             [
              0.5555555555555556,
              "#d8576b"
             ],
             [
              0.6666666666666666,
              "#ed7953"
             ],
             [
              0.7777777777777778,
              "#fb9f3a"
             ],
             [
              0.8888888888888888,
              "#fdca26"
             ],
             [
              1,
              "#f0f921"
             ]
            ],
            "type": "histogram2dcontour"
           }
          ],
          "mesh3d": [
           {
            "colorbar": {
             "outlinewidth": 0,
             "ticks": ""
            },
            "type": "mesh3d"
           }
          ],
          "parcoords": [
           {
            "line": {
             "colorbar": {
              "outlinewidth": 0,
              "ticks": ""
             }
            },
            "type": "parcoords"
           }
          ],
          "pie": [
           {
            "automargin": true,
            "type": "pie"
           }
          ],
          "scatter": [
           {
            "fillpattern": {
             "fillmode": "overlay",
             "size": 10,
             "solidity": 0.2
            },
            "type": "scatter"
           }
          ],
          "scatter3d": [
           {
            "line": {
             "colorbar": {
              "outlinewidth": 0,
              "ticks": ""
             }
            },
            "marker": {
             "colorbar": {
              "outlinewidth": 0,
              "ticks": ""
             }
            },
            "type": "scatter3d"
           }
          ],
          "scattercarpet": [
           {
            "marker": {
             "colorbar": {
              "outlinewidth": 0,
              "ticks": ""
             }
            },
            "type": "scattercarpet"
           }
          ],
          "scattergeo": [
           {
            "marker": {
             "colorbar": {
              "outlinewidth": 0,
              "ticks": ""
             }
            },
            "type": "scattergeo"
           }
          ],
          "scattergl": [
           {
            "marker": {
             "colorbar": {
              "outlinewidth": 0,
              "ticks": ""
             }
            },
            "type": "scattergl"
           }
          ],
          "scattermapbox": [
           {
            "marker": {
             "colorbar": {
              "outlinewidth": 0,
              "ticks": ""
             }
            },
            "type": "scattermapbox"
           }
          ],
          "scatterpolar": [
           {
            "marker": {
             "colorbar": {
              "outlinewidth": 0,
              "ticks": ""
             }
            },
            "type": "scatterpolar"
           }
          ],
          "scatterpolargl": [
           {
            "marker": {
             "colorbar": {
              "outlinewidth": 0,
              "ticks": ""
             }
            },
            "type": "scatterpolargl"
           }
          ],
          "scatterternary": [
           {
            "marker": {
             "colorbar": {
              "outlinewidth": 0,
              "ticks": ""
             }
            },
            "type": "scatterternary"
           }
          ],
          "surface": [
           {
            "colorbar": {
             "outlinewidth": 0,
             "ticks": ""
            },
            "colorscale": [
             [
              0,
              "#0d0887"
             ],
             [
              0.1111111111111111,
              "#46039f"
             ],
             [
              0.2222222222222222,
              "#7201a8"
             ],
             [
              0.3333333333333333,
              "#9c179e"
             ],
             [
              0.4444444444444444,
              "#bd3786"
             ],
             [
              0.5555555555555556,
              "#d8576b"
             ],
             [
              0.6666666666666666,
              "#ed7953"
             ],
             [
              0.7777777777777778,
              "#fb9f3a"
             ],
             [
              0.8888888888888888,
              "#fdca26"
             ],
             [
              1,
              "#f0f921"
             ]
            ],
            "type": "surface"
           }
          ],
          "table": [
           {
            "cells": {
             "fill": {
              "color": "#EBF0F8"
             },
             "line": {
              "color": "white"
             }
            },
            "header": {
             "fill": {
              "color": "#C8D4E3"
             },
             "line": {
              "color": "white"
             }
            },
            "type": "table"
           }
          ]
         },
         "layout": {
          "annotationdefaults": {
           "arrowcolor": "#2a3f5f",
           "arrowhead": 0,
           "arrowwidth": 1
          },
          "autotypenumbers": "strict",
          "coloraxis": {
           "colorbar": {
            "outlinewidth": 0,
            "ticks": ""
           }
          },
          "colorscale": {
           "diverging": [
            [
             0,
             "#8e0152"
            ],
            [
             0.1,
             "#c51b7d"
            ],
            [
             0.2,
             "#de77ae"
            ],
            [
             0.3,
             "#f1b6da"
            ],
            [
             0.4,
             "#fde0ef"
            ],
            [
             0.5,
             "#f7f7f7"
            ],
            [
             0.6,
             "#e6f5d0"
            ],
            [
             0.7,
             "#b8e186"
            ],
            [
             0.8,
             "#7fbc41"
            ],
            [
             0.9,
             "#4d9221"
            ],
            [
             1,
             "#276419"
            ]
           ],
           "sequential": [
            [
             0,
             "#0d0887"
            ],
            [
             0.1111111111111111,
             "#46039f"
            ],
            [
             0.2222222222222222,
             "#7201a8"
            ],
            [
             0.3333333333333333,
             "#9c179e"
            ],
            [
             0.4444444444444444,
             "#bd3786"
            ],
            [
             0.5555555555555556,
             "#d8576b"
            ],
            [
             0.6666666666666666,
             "#ed7953"
            ],
            [
             0.7777777777777778,
             "#fb9f3a"
            ],
            [
             0.8888888888888888,
             "#fdca26"
            ],
            [
             1,
             "#f0f921"
            ]
           ],
           "sequentialminus": [
            [
             0,
             "#0d0887"
            ],
            [
             0.1111111111111111,
             "#46039f"
            ],
            [
             0.2222222222222222,
             "#7201a8"
            ],
            [
             0.3333333333333333,
             "#9c179e"
            ],
            [
             0.4444444444444444,
             "#bd3786"
            ],
            [
             0.5555555555555556,
             "#d8576b"
            ],
            [
             0.6666666666666666,
             "#ed7953"
            ],
            [
             0.7777777777777778,
             "#fb9f3a"
            ],
            [
             0.8888888888888888,
             "#fdca26"
            ],
            [
             1,
             "#f0f921"
            ]
           ]
          },
          "colorway": [
           "#636efa",
           "#EF553B",
           "#00cc96",
           "#ab63fa",
           "#FFA15A",
           "#19d3f3",
           "#FF6692",
           "#B6E880",
           "#FF97FF",
           "#FECB52"
          ],
          "font": {
           "color": "#2a3f5f"
          },
          "geo": {
           "bgcolor": "white",
           "lakecolor": "white",
           "landcolor": "#E5ECF6",
           "showlakes": true,
           "showland": true,
           "subunitcolor": "white"
          },
          "hoverlabel": {
           "align": "left"
          },
          "hovermode": "closest",
          "mapbox": {
           "style": "light"
          },
          "paper_bgcolor": "white",
          "plot_bgcolor": "#E5ECF6",
          "polar": {
           "angularaxis": {
            "gridcolor": "white",
            "linecolor": "white",
            "ticks": ""
           },
           "bgcolor": "#E5ECF6",
           "radialaxis": {
            "gridcolor": "white",
            "linecolor": "white",
            "ticks": ""
           }
          },
          "scene": {
           "xaxis": {
            "backgroundcolor": "#E5ECF6",
            "gridcolor": "white",
            "gridwidth": 2,
            "linecolor": "white",
            "showbackground": true,
            "ticks": "",
            "zerolinecolor": "white"
           },
           "yaxis": {
            "backgroundcolor": "#E5ECF6",
            "gridcolor": "white",
            "gridwidth": 2,
            "linecolor": "white",
            "showbackground": true,
            "ticks": "",
            "zerolinecolor": "white"
           },
           "zaxis": {
            "backgroundcolor": "#E5ECF6",
            "gridcolor": "white",
            "gridwidth": 2,
            "linecolor": "white",
            "showbackground": true,
            "ticks": "",
            "zerolinecolor": "white"
           }
          },
          "shapedefaults": {
           "line": {
            "color": "#2a3f5f"
           }
          },
          "ternary": {
           "aaxis": {
            "gridcolor": "white",
            "linecolor": "white",
            "ticks": ""
           },
           "baxis": {
            "gridcolor": "white",
            "linecolor": "white",
            "ticks": ""
           },
           "bgcolor": "#E5ECF6",
           "caxis": {
            "gridcolor": "white",
            "linecolor": "white",
            "ticks": ""
           }
          },
          "title": {
           "x": 0.05
          },
          "xaxis": {
           "automargin": true,
           "gridcolor": "white",
           "linecolor": "white",
           "ticks": "",
           "title": {
            "standoff": 15
           },
           "zerolinecolor": "white",
           "zerolinewidth": 2
          },
          "yaxis": {
           "automargin": true,
           "gridcolor": "white",
           "linecolor": "white",
           "ticks": "",
           "title": {
            "standoff": 15
           },
           "zerolinecolor": "white",
           "zerolinewidth": 2
          }
         }
        },
        "xaxis": {
         "anchor": "y",
         "domain": [
          0,
          1
         ],
         "title": {
          "text": "ADP"
         }
        },
        "yaxis": {
         "anchor": "x",
         "domain": [
          0,
          1
         ],
         "title": {
          "text": "normFP"
         }
        }
       }
      },
      "text/html": [
       "<div>                            <div id=\"88d35fa3-841e-49bc-bc3e-c860cd0fb862\" class=\"plotly-graph-div\" style=\"height:525px; width:100%;\"></div>            <script type=\"text/javascript\">                require([\"plotly\"], function(Plotly) {                    window.PLOTLYENV=window.PLOTLYENV || {};                                    if (document.getElementById(\"88d35fa3-841e-49bc-bc3e-c860cd0fb862\")) {                    Plotly.newPlot(                        \"88d35fa3-841e-49bc-bc3e-c860cd0fb862\",                        [{\"customdata\":[[\"Tyreek Hill\",2018],[\"Antonio Brown\",2018],[\"Davante Adams\",2018],[\"DeAndre Hopkins\",2018],[\"Julio Jones\",2018],[\"Mike Evans\",2018],[\"Adam Thielen\",2018],[\"Michael Thomas\",2018],[\"JuJu Smith-Schuster\",2018],[\"Robert Woods\",2018],[\"Tyler Lockett\",2018],[\"Stefon Diggs\",2018],[\"Brandin Cooks\",2018],[\"Keenan Allen\",2018],[\"T.Y. Hilton\",2018],[\"Odell Beckham\",2018],[\"Calvin Ridley\",2018],[\"Amari Cooper\",2018],[\"Mike Williams\",2018],[\"Kenny Golladay\",2018],[\"Jarvis Landry\",2018],[\"Emmanuel Sanders\",2018],[\"Chris Godwin\",2018],[\"Alshon Jeffery\",2018],[\"Corey Davis\",2018],[\"Larry Fitzgerald\",2018],[\"Mohamed Sanu\",2018],[\"DeSean Jackson\",2018],[\"Golden Tate\",2018],[\"A.J. Green\",2018],[\"John Brown\",2018],[\"D.J. Moore\",2018],[\"Josh Gordon\",2018],[\"Allen Robinson\",2018],[\"Demaryius Thomas\",2018],[\"Courtland Sutton\",2018],[\"Doug Baldwin\",2018],[\"Anthony Miller\",2018],[\"Cole Beasley\",2018],[\"Donte Moncrief\",2018],[\"Marvin Jones\",2018],[\"Christian Kirk\",2018],[\"Michael Crabtree\",2018],[\"Sammy Watkins\",2018],[\"Chris Hogan\",2018],[\"Danny Amendola\",2018],[\"Michael Gallup\",2018],[\"Marquise Goodwin\",2018],[\"John Ross\",2018],[\"Keelan Cole\",2018],[\"Taywan Taylor\",2018],[\"Quincy Enunwa\",2018],[\"Ty Montgomery\",2018],[\"Allen Hurns\",2018],[\"Ryan Grant\",2018],[\"Paul Richardson\",2018],[\"Ted Ginn\",2018],[\"Tavon Austin\",2018],[\"James Washington\",2018],[\"Martavis Bryant\",2018],[\"Cameron Meredith\",2018],[\"Rishard Matthews\",2018],[\"Michael Thomas\",2019],[\"Chris Godwin\",2019],[\"Kenny Golladay\",2019],[\"Cooper Kupp\",2019],[\"Julio Jones\",2019],[\"DeVante Parker\",2019],[\"Amari Cooper\",2019],[\"Mike Evans\",2019],[\"A.J. Brown\",2019],[\"DeAndre Hopkins\",2019],[\"Keenan Allen\",2019],[\"Allen Robinson\",2019],[\"Julian Edelman\",2019],[\"Tyler Lockett\",2019],[\"DJ Chark\",2019],[\"Stefon Diggs\",2019],[\"John Brown\",2019],[\"D.J. Moore\",2019],[\"Robert Woods\",2019],[\"Calvin Ridley\",2019],[\"Terry McLaurin\",2019],[\"Tyler Boyd\",2019],[\"Deebo Samuel\",2019],[\"Tyreek Hill\",2019],[\"Davante Adams\",2019],[\"D.K. Metcalf\",2019],[\"Odell Beckham\",2019],[\"Cole Beasley\",2019],[\"Mike Williams\",2019],[\"Robby Anderson\",2019],[\"Chris Conley\",2019],[\"Golden Tate\",2019],[\"Tyrell Williams\",2019],[\"Marquise Brown\",2019],[\"Mecole Hardman\",2019],[\"Sammy Watkins\",2019],[\"Hunter Renfrow\",2019],[\"Sterling Shepard\",2019],[\"Adam Thielen\",2019],[\"T.Y. Hilton\",2019],[\"Kenny Stills\",2019],[\"Alshon Jeffery\",2019],[\"Brandin Cooks\",2019],[\"Anthony Miller\",2019],[\"JuJu Smith-Schuster\",2019],[\"Mohamed Sanu\",2019],[\"Taylor Gabriel\",2019],[\"Ted Ginn\",2019],[\"Tre'Quan Smith\",2019],[\"Adam Humphries\",2019],[\"Josh Gordon\",2019],[\"Albert Wilson\",2019],[\"Geronimo Allison\",2019],[\"Paul Richardson\",2019],[\"DaeSean Hamilton\",2019],[\"Keke Coutee\",2019],[\"DeSean Jackson\",2019],[\"Trey Quinn\",2019],[\"Dante Pettis\",2019],[\"Antonio Brown\",2019],[\"Devin Funchess\",2019],[\"Donte Moncrief\",2019],[\"Davante Adams\",2020],[\"Tyreek Hill\",2020],[\"Stefon Diggs\",2020],[\"Calvin Ridley\",2020],[\"D.K. Metcalf\",2020],[\"Justin Jefferson\",2020],[\"Adam Thielen\",2020],[\"Mike Evans\",2020],[\"A.J. Brown\",2020],[\"DeAndre Hopkins\",2020],[\"Tyler Lockett\",2020],[\"Allen Robinson\",2020],[\"Robert Woods\",2020],[\"Chase Claypool\",2020],[\"D.J. Moore\",2020],[\"Keenan Allen\",2020],[\"Amari Cooper\",2020],[\"CeeDee Lamb\",2020],[\"JuJu Smith-Schuster\",2020],[\"Terry McLaurin\",2020],[\"Will Fuller\",2020],[\"Curtis Samuel\",2020],[\"Tee Higgins\",2020],[\"Cole Beasley\",2020],[\"Chris Godwin\",2020],[\"Brandon Aiyuk\",2020],[\"Cooper Kupp\",2020],[\"Jarvis Landry\",2020],[\"Tyler Boyd\",2020],[\"Michael Gallup\",2020],[\"Russell Gage\",2020],[\"T.Y. Hilton\",2020],[\"Jerry Jeudy\",2020],[\"Mike Williams\",2020],[\"DeVante Parker\",2020],[\"DJ Chark\",2020],[\"Laviska Shenault Jr.\",2020],[\"Julio Jones\",2020],[\"Mecole Hardman\",2020],[\"Breshad Perriman\",2020],[\"James Washington\",2020],[\"Allen Lazard\",2020],[\"Odell Beckham Jr.\",2020],[\"A.J. Green\",2020],[\"Randall Cobb\",2020],[\"Anthony Miller\",2020],[\"Michael Pittman Jr.\",2020],[\"Henry Ruggs III\",2020],[\"Jalen Reagor\",2020],[\"Sammy Watkins\",2020],[\"Larry Fitzgerald\",2020],[\"Kenny Golladay\",2020],[\"Michael Thomas\",2020],[\"N'Keal Harry\",2020],[\"Denzel Mims\",2020],[\"DeSean Jackson\",2020],[\"Steven Sims\",2020],[\"Van Jefferson\",2020],[\"Bryan Edwards\",2020],[\"Alshon Jeffery\",2020],[\"Parris Campbell\",2020],[\"Courtland Sutton\",2020],[\"Cooper Kupp*+\",2021],[\"Justin Jefferson*\",2021],[\"Davante Adams*+\",2021],[\"Mike Evans*\",2021],[\"Tyreek Hill*\",2021],[\"Stefon Diggs*\",2021],[\"D.K. Metcalf\",2021],[\"Tyler Lockett\",2021],[\"Diontae Johnson*\",2021],[\"CeeDee Lamb*\",2021],[\"Keenan Allen*\",2021],[\"Michael Pittman Jr.\",2021],[\"Tee Higgins\",2021],[\"D.J. Moore\",2021],[\"Chris Godwin\",2021],[\"Jaylen Waddle\",2021],[\"Brandin Cooks\",2021],[\"Darnell Mooney\",2021],[\"Amon-Ra St. Brown\",2021],[\"Terry McLaurin\",2021],[\"Amari Cooper\",2021],[\"Adam Thielen\",2021],[\"A.J. Brown\",2021],[\"Brandon Aiyuk\",2021],[\"Chase Claypool\",2021],[\"Marquez Callaway\",2021],[\"DeAndre Hopkins\",2021],[\"A.J. Green\",2021],[\"Jakobi Meyers\",2021],[\"Russell Gage\",2021],[\"Elijah Moore\",2021],[\"Courtland Sutton\",2021],[\"Robert Woods\",2021],[\"Gabriel Davis\",2021],[\"Emmanuel Sanders\",2021],[\"Robby Anderson\",2021],[\"Odell Beckham Jr.\",2021],[\"Mecole Hardman\",2021],[\"Antonio Brown\",2021],[\"Cole Beasley\",2021],[\"Bryan Edwards\",2021],[\"Nelson Agholor\",2021],[\"Randall Cobb\",2021],[\"DeVante Parker\",2021],[\"Henry Ruggs III\",2021],[\"Jamison Crowder\",2021],[\"Rashod Bateman\",2021],[\"DeSean Jackson\",2021],[\"Tre'Quan Smith\",2021],[\"Rondale Moore\",2021],[\"Kenny Golladay\",2021],[\"Nico Collins\",2021],[\"Julio Jones\",2021],[\"Allen Robinson\",2021],[\"Jerry Jeudy\",2021],[\"Jalen Reagor\",2021],[\"Sammy Watkins\",2021],[\"Sterling Shepard\",2021],[\"Calvin Ridley\",2021],[\"Parris Campbell\",2021],[\"JuJu Smith-Schuster\",2021],[\"Terrace Marshall Jr.\",2021],[\"Tarik Black\",2021],[\"Tyrell Williams\",2021]],\"hovertemplate\":\"ADP=%{x}<br>normFP=%{y}<br>Player=%{customdata[0]}<br>Year=%{customdata[1]}<br>labels=%{marker.color}<extra></extra>\",\"legendgroup\":\"\",\"marker\":{\"color\":[1,5,5,5,5,5,1,5,6,6,7,1,1,5,5,5,2,1,2,7,1,6,2,1,6,5,7,7,1,5,2,7,1,1,1,2,1,2,3,2,1,4,6,6,6,7,7,6,2,7,4,4,2,7,4,7,3,3,2,3,7,7,5,1,1,1,5,8,5,5,0,5,5,6,1,1,8,1,2,6,1,6,8,6,8,5,5,2,5,8,6,6,4,2,6,4,8,6,4,6,5,1,0,1,1,2,5,2,8,8,0,2,6,2,2,2,2,7,2,8,7,5,8,7,5,5,6,1,6,2,5,5,1,5,1,5,1,8,5,6,5,7,1,6,6,2,8,0,5,4,1,6,6,6,0,6,7,7,6,6,8,5,2,7,0,4,1,6,4,2,4,7,4,4,4,5,5,2,4,7,4,8,8,4,4,1,1,5,5,1,5,5,5,1,1,5,5,7,1,1,1,7,6,2,4,5,1,1,5,1,6,2,5,4,2,4,2,6,1,4,4,6,6,2,7,2,4,4,4,2,7,4,0,9,0,4,6,8,1,5,6,2,0,4,5,2,6,4,0,2],\"coloraxis\":\"coloraxis\",\"symbol\":\"circle\"},\"mode\":\"markers\",\"name\":\"\",\"orientation\":\"v\",\"showlegend\":false,\"x\":[33.0,5.0,20.0,9.0,8.0,22.0,29.0,16.0,54.0,55.0,110.0,30.0,44.0,13.0,28.0,10.0,131.0,38.0,140.0,106.0,40.0,57.0,129.0,43.0,67.0,27.0,109.0,113.0,37.0,17.0,137.0,115.0,39.0,36.0,34.0,139.0,35.0,138.0,363.0,141.0,41.0,166.0,56.0,69.0,53.0,111.0,112.0,68.0,130.0,107.0,167.0,162.0,122.0,104.0,160.0,105.0,364.0,414.0,132.0,365.0,108.0,114.0,7.0,47.0,40.0,42.0,10.0,177.0,21.0,19.0,214.0,5.0,20.0,49.0,39.0,46.0,180.0,37.0,123.0,51.0,38.0,54.0,175.0,52.0,179.0,11.0,9.0,122.0,12.0,176.0,50.0,75.0,163.0,126.0,53.0,162.0,181.0,74.0,161.0,56.0,28.0,41.0,213.0,48.0,36.0,139.0,13.0,128.0,198.0,196.0,215.0,121.0,55.0,127.0,130.0,129.0,140.0,110.0,120.0,197.0,108.0,27.0,178.0,109.0,16.0,18.0,65.0,32.0,55.0,127.0,26.0,22.0,33.0,19.0,37.0,27.0,36.0,196.0,25.0,51.0,28.0,109.0,29.0,50.0,66.0,125.0,194.0,215.0,21.0,145.0,38.0,53.0,62.0,64.0,214.0,52.0,102.0,108.0,61.0,54.0,197.0,17.0,124.0,107.0,213.0,152.0,30.0,63.0,147.0,126.0,151.0,101.0,150.0,146.0,149.0,24.0,6.0,123.0,154.0,106.0,153.0,195.0,198.0,148.0,144.0,31.0,41.0,21.0,7.0,34.0,13.0,16.0,19.0,39.0,42.0,28.0,26.0,117.0,46.0,44.0,40.0,95.0,66.0,127.0,164.0,25.0,35.0,38.0,20.0,45.0,65.0,121.0,17.0,160.0,118.0,150.0,129.0,59.0,33.0,162.0,163.0,57.0,56.0,126.0,93.0,119.0,159.0,153.0,161.0,120.0,96.0,152.0,213.0,302.0,215.0,154.0,55.0,193.0,43.0,27.0,64.0,122.0,214.0,151.0,18.0,128.0,58.0,155.0,239.0,125.0],\"xaxis\":\"x\",\"y\":[0.8756006406833956,0.8641217298451681,0.8745328350240257,0.890282968499733,0.8699946609717031,0.7592098238120661,0.8150026695141485,0.8422317138280833,0.7872397223705287,0.7090229578216765,0.5883609183128671,0.705552589428724,0.6492258408969567,0.6890016017084891,0.6380138814735717,0.6148958889482113,0.5520555258942872,0.5752802989855846,0.47570742124933274,0.5528563801388147,0.5742658836091831,0.5291510945008009,0.4890549919914575,0.49466097170315004,0.4901227976508275,0.49033635878270154,0.4815803523758676,0.4038974906567005,0.4829151094500801,0.398825413774693,0.38414308595835556,0.4191137213027229,0.3702616123865456,0.40923651895355045,0.41831286705819537,0.3638547784303257,0.3785371062466631,0.32092899092365185,0.40096102509343295,0.34917245061398827,0.30912973838761343,0.32968499733048584,0.35424452749599566,0.3072610784837159,0.28350240256273357,0.34014949279231177,0.25547250400427124,0.23331553657234383,0.22664175120128136,0.2378537106246663,0.2338494394020288,0.23198077949813134,0.19033635878270153,0.16417512012813668,0.198611852642819,0.1577682861719167,0.13481046449546183,0.10544580886278697,0.11665776828617191,0.12253069941270688,0.06513614522156967,0.019754404698344902,1.0,0.7317138280832889,0.6620395088093967,0.7221035771489589,0.7317138280832889,0.6572343833422316,0.6580352375867592,0.6158569140416443,0.5795515216230646,0.7115323011211959,0.698077949813134,0.680459156433529,0.6788040576615055,0.6278697277095568,0.597437266417512,0.5662039508809397,0.5868126001067805,0.6153230112119594,0.6217298451681794,0.5205552589428724,0.512279765082755,0.5950347036839295,0.499466097170315,0.502669514148425,0.5624666310731447,0.49412706887346497,0.5373731980779498,0.4826481580352376,0.4305926321409502,0.42792311799252536,0.4124399359316604,0.4063000533902829,0.38200747463961554,0.39081687132941806,0.30298985584623594,0.36438868126001067,0.3563801388147357,0.3731980779498131,0.30539241857981847,0.3339562199679658,0.32060864922584087,0.32621462893753334,0.3136679124399359,0.34036305392418575,0.3021890016017085,0.3312867058195408,0.24105712760277628,0.22931126534970628,0.19060331019754406,0.23091297383876133,0.19674319273892144,0.2386545648691938,0.19594233849439402,0.17218366257341164,0.17004805125467165,0.14095034703683929,0.098505072076882,0.13294180459156432,0.09220501868659903,0.04297917778964229,0.016550987720234916,0.01548318206086492,0.6486919380672718,0.6460224239188467,0.5392418579818473,0.5125467164975974,0.5018686599038975,0.4965296316070475,0.48051254671649757,0.4778430325680726,0.4751735184196476,0.46182594767752266,0.4404698344901228,0.4297917778964228,0.4137746930058729,0.4084356647090229,0.389749065670048,0.38707955152162304,0.38707955152162304,0.38441003737319807,0.36572343833422316,0.36572343833422316,0.3630539241857982,0.36038441003737315,0.34169781099839824,0.3363587827015483,0.3363587827015483,0.3336892685531233,0.3123331553657234,0.30966364121729845,0.30432461292044843,0.30432461292044843,0.29097704217832354,0.28830752802989856,0.28296849973304855,0.28296849973304855,0.2749599572877736,0.26962092899092366,0.26428190069407365,0.25360384410037373,0.23224773091297382,0.18419647624132407,0.18419647624132407,0.17351841964762413,0.17084890549919912,0.17084890549919912,0.16550987720234916,0.16017084890549918,0.1575013347570742,0.15483182060864922,0.14949279231179924,0.1334757074212493,0.12546716497597438,0.12279765082754938,0.1174586225306994,0.10945008008542445,0.10144153764014949,0.08275493860117458,0.08008542445274959,0.07474639615589962,0.06673785371062466,0.04805125467164976,0.02402562733582488,0.018686599038974905,0.787506673785371,0.592632140950347,0.589962626801922,0.5045381740523225,0.4965296316070475,0.4885210891617725,0.4511478910838227,0.4484783769353977,0.44580886278697274,0.4111051788574479,0.40576615056059795,0.40309663641217297,0.38707955152162304,0.38707955152162304,0.38441003737319807,0.3790710090763481,0.3790710090763481,0.3710624666310731,0.36572343833422316,0.36572343833422316,0.36038441003737315,0.3550453817405232,0.3150026695141484,0.30432461292044843,0.28830752802989856,0.28296849973304855,0.2802989855846236,0.2749599572877736,0.2749599572877736,0.2589428723972237,0.25360384410037373,0.24559530165509877,0.24559530165509877,0.24292578750667376,0.24025627335824878,0.22957821676454884,0.22690870261612386,0.2189001601708489,0.21089161772557394,0.20555258942872395,0.200213561131874,0.1761879337960491,0.1761879337960491,0.17084890549919912,0.1628403630539242,0.1575013347570742,0.15483182060864922,0.14949279231179924,0.14949279231179924,0.14682327816337426,0.1388147357180993,0.13614522156967432,0.13080619327282433,0.13080619327282433,0.12546716497597438,0.12012813667912439,0.11478910838227442,0.11211959423384943,0.10678056593699946,0.0587293112653497,0.05339028296849973,0.04271222637479978,0.0026695141484249863,0.0026695141484249863],\"yaxis\":\"y\",\"type\":\"scatter\"}],                        {\"template\":{\"data\":{\"histogram2dcontour\":[{\"type\":\"histogram2dcontour\",\"colorbar\":{\"outlinewidth\":0,\"ticks\":\"\"},\"colorscale\":[[0.0,\"#0d0887\"],[0.1111111111111111,\"#46039f\"],[0.2222222222222222,\"#7201a8\"],[0.3333333333333333,\"#9c179e\"],[0.4444444444444444,\"#bd3786\"],[0.5555555555555556,\"#d8576b\"],[0.6666666666666666,\"#ed7953\"],[0.7777777777777778,\"#fb9f3a\"],[0.8888888888888888,\"#fdca26\"],[1.0,\"#f0f921\"]]}],\"choropleth\":[{\"type\":\"choropleth\",\"colorbar\":{\"outlinewidth\":0,\"ticks\":\"\"}}],\"histogram2d\":[{\"type\":\"histogram2d\",\"colorbar\":{\"outlinewidth\":0,\"ticks\":\"\"},\"colorscale\":[[0.0,\"#0d0887\"],[0.1111111111111111,\"#46039f\"],[0.2222222222222222,\"#7201a8\"],[0.3333333333333333,\"#9c179e\"],[0.4444444444444444,\"#bd3786\"],[0.5555555555555556,\"#d8576b\"],[0.6666666666666666,\"#ed7953\"],[0.7777777777777778,\"#fb9f3a\"],[0.8888888888888888,\"#fdca26\"],[1.0,\"#f0f921\"]]}],\"heatmap\":[{\"type\":\"heatmap\",\"colorbar\":{\"outlinewidth\":0,\"ticks\":\"\"},\"colorscale\":[[0.0,\"#0d0887\"],[0.1111111111111111,\"#46039f\"],[0.2222222222222222,\"#7201a8\"],[0.3333333333333333,\"#9c179e\"],[0.4444444444444444,\"#bd3786\"],[0.5555555555555556,\"#d8576b\"],[0.6666666666666666,\"#ed7953\"],[0.7777777777777778,\"#fb9f3a\"],[0.8888888888888888,\"#fdca26\"],[1.0,\"#f0f921\"]]}],\"heatmapgl\":[{\"type\":\"heatmapgl\",\"colorbar\":{\"outlinewidth\":0,\"ticks\":\"\"},\"colorscale\":[[0.0,\"#0d0887\"],[0.1111111111111111,\"#46039f\"],[0.2222222222222222,\"#7201a8\"],[0.3333333333333333,\"#9c179e\"],[0.4444444444444444,\"#bd3786\"],[0.5555555555555556,\"#d8576b\"],[0.6666666666666666,\"#ed7953\"],[0.7777777777777778,\"#fb9f3a\"],[0.8888888888888888,\"#fdca26\"],[1.0,\"#f0f921\"]]}],\"contourcarpet\":[{\"type\":\"contourcarpet\",\"colorbar\":{\"outlinewidth\":0,\"ticks\":\"\"}}],\"contour\":[{\"type\":\"contour\",\"colorbar\":{\"outlinewidth\":0,\"ticks\":\"\"},\"colorscale\":[[0.0,\"#0d0887\"],[0.1111111111111111,\"#46039f\"],[0.2222222222222222,\"#7201a8\"],[0.3333333333333333,\"#9c179e\"],[0.4444444444444444,\"#bd3786\"],[0.5555555555555556,\"#d8576b\"],[0.6666666666666666,\"#ed7953\"],[0.7777777777777778,\"#fb9f3a\"],[0.8888888888888888,\"#fdca26\"],[1.0,\"#f0f921\"]]}],\"surface\":[{\"type\":\"surface\",\"colorbar\":{\"outlinewidth\":0,\"ticks\":\"\"},\"colorscale\":[[0.0,\"#0d0887\"],[0.1111111111111111,\"#46039f\"],[0.2222222222222222,\"#7201a8\"],[0.3333333333333333,\"#9c179e\"],[0.4444444444444444,\"#bd3786\"],[0.5555555555555556,\"#d8576b\"],[0.6666666666666666,\"#ed7953\"],[0.7777777777777778,\"#fb9f3a\"],[0.8888888888888888,\"#fdca26\"],[1.0,\"#f0f921\"]]}],\"mesh3d\":[{\"type\":\"mesh3d\",\"colorbar\":{\"outlinewidth\":0,\"ticks\":\"\"}}],\"scatter\":[{\"fillpattern\":{\"fillmode\":\"overlay\",\"size\":10,\"solidity\":0.2},\"type\":\"scatter\"}],\"parcoords\":[{\"type\":\"parcoords\",\"line\":{\"colorbar\":{\"outlinewidth\":0,\"ticks\":\"\"}}}],\"scatterpolargl\":[{\"type\":\"scatterpolargl\",\"marker\":{\"colorbar\":{\"outlinewidth\":0,\"ticks\":\"\"}}}],\"bar\":[{\"error_x\":{\"color\":\"#2a3f5f\"},\"error_y\":{\"color\":\"#2a3f5f\"},\"marker\":{\"line\":{\"color\":\"#E5ECF6\",\"width\":0.5},\"pattern\":{\"fillmode\":\"overlay\",\"size\":10,\"solidity\":0.2}},\"type\":\"bar\"}],\"scattergeo\":[{\"type\":\"scattergeo\",\"marker\":{\"colorbar\":{\"outlinewidth\":0,\"ticks\":\"\"}}}],\"scatterpolar\":[{\"type\":\"scatterpolar\",\"marker\":{\"colorbar\":{\"outlinewidth\":0,\"ticks\":\"\"}}}],\"histogram\":[{\"marker\":{\"pattern\":{\"fillmode\":\"overlay\",\"size\":10,\"solidity\":0.2}},\"type\":\"histogram\"}],\"scattergl\":[{\"type\":\"scattergl\",\"marker\":{\"colorbar\":{\"outlinewidth\":0,\"ticks\":\"\"}}}],\"scatter3d\":[{\"type\":\"scatter3d\",\"line\":{\"colorbar\":{\"outlinewidth\":0,\"ticks\":\"\"}},\"marker\":{\"colorbar\":{\"outlinewidth\":0,\"ticks\":\"\"}}}],\"scattermapbox\":[{\"type\":\"scattermapbox\",\"marker\":{\"colorbar\":{\"outlinewidth\":0,\"ticks\":\"\"}}}],\"scatterternary\":[{\"type\":\"scatterternary\",\"marker\":{\"colorbar\":{\"outlinewidth\":0,\"ticks\":\"\"}}}],\"scattercarpet\":[{\"type\":\"scattercarpet\",\"marker\":{\"colorbar\":{\"outlinewidth\":0,\"ticks\":\"\"}}}],\"carpet\":[{\"aaxis\":{\"endlinecolor\":\"#2a3f5f\",\"gridcolor\":\"white\",\"linecolor\":\"white\",\"minorgridcolor\":\"white\",\"startlinecolor\":\"#2a3f5f\"},\"baxis\":{\"endlinecolor\":\"#2a3f5f\",\"gridcolor\":\"white\",\"linecolor\":\"white\",\"minorgridcolor\":\"white\",\"startlinecolor\":\"#2a3f5f\"},\"type\":\"carpet\"}],\"table\":[{\"cells\":{\"fill\":{\"color\":\"#EBF0F8\"},\"line\":{\"color\":\"white\"}},\"header\":{\"fill\":{\"color\":\"#C8D4E3\"},\"line\":{\"color\":\"white\"}},\"type\":\"table\"}],\"barpolar\":[{\"marker\":{\"line\":{\"color\":\"#E5ECF6\",\"width\":0.5},\"pattern\":{\"fillmode\":\"overlay\",\"size\":10,\"solidity\":0.2}},\"type\":\"barpolar\"}],\"pie\":[{\"automargin\":true,\"type\":\"pie\"}]},\"layout\":{\"autotypenumbers\":\"strict\",\"colorway\":[\"#636efa\",\"#EF553B\",\"#00cc96\",\"#ab63fa\",\"#FFA15A\",\"#19d3f3\",\"#FF6692\",\"#B6E880\",\"#FF97FF\",\"#FECB52\"],\"font\":{\"color\":\"#2a3f5f\"},\"hovermode\":\"closest\",\"hoverlabel\":{\"align\":\"left\"},\"paper_bgcolor\":\"white\",\"plot_bgcolor\":\"#E5ECF6\",\"polar\":{\"bgcolor\":\"#E5ECF6\",\"angularaxis\":{\"gridcolor\":\"white\",\"linecolor\":\"white\",\"ticks\":\"\"},\"radialaxis\":{\"gridcolor\":\"white\",\"linecolor\":\"white\",\"ticks\":\"\"}},\"ternary\":{\"bgcolor\":\"#E5ECF6\",\"aaxis\":{\"gridcolor\":\"white\",\"linecolor\":\"white\",\"ticks\":\"\"},\"baxis\":{\"gridcolor\":\"white\",\"linecolor\":\"white\",\"ticks\":\"\"},\"caxis\":{\"gridcolor\":\"white\",\"linecolor\":\"white\",\"ticks\":\"\"}},\"coloraxis\":{\"colorbar\":{\"outlinewidth\":0,\"ticks\":\"\"}},\"colorscale\":{\"sequential\":[[0.0,\"#0d0887\"],[0.1111111111111111,\"#46039f\"],[0.2222222222222222,\"#7201a8\"],[0.3333333333333333,\"#9c179e\"],[0.4444444444444444,\"#bd3786\"],[0.5555555555555556,\"#d8576b\"],[0.6666666666666666,\"#ed7953\"],[0.7777777777777778,\"#fb9f3a\"],[0.8888888888888888,\"#fdca26\"],[1.0,\"#f0f921\"]],\"sequentialminus\":[[0.0,\"#0d0887\"],[0.1111111111111111,\"#46039f\"],[0.2222222222222222,\"#7201a8\"],[0.3333333333333333,\"#9c179e\"],[0.4444444444444444,\"#bd3786\"],[0.5555555555555556,\"#d8576b\"],[0.6666666666666666,\"#ed7953\"],[0.7777777777777778,\"#fb9f3a\"],[0.8888888888888888,\"#fdca26\"],[1.0,\"#f0f921\"]],\"diverging\":[[0,\"#8e0152\"],[0.1,\"#c51b7d\"],[0.2,\"#de77ae\"],[0.3,\"#f1b6da\"],[0.4,\"#fde0ef\"],[0.5,\"#f7f7f7\"],[0.6,\"#e6f5d0\"],[0.7,\"#b8e186\"],[0.8,\"#7fbc41\"],[0.9,\"#4d9221\"],[1,\"#276419\"]]},\"xaxis\":{\"gridcolor\":\"white\",\"linecolor\":\"white\",\"ticks\":\"\",\"title\":{\"standoff\":15},\"zerolinecolor\":\"white\",\"automargin\":true,\"zerolinewidth\":2},\"yaxis\":{\"gridcolor\":\"white\",\"linecolor\":\"white\",\"ticks\":\"\",\"title\":{\"standoff\":15},\"zerolinecolor\":\"white\",\"automargin\":true,\"zerolinewidth\":2},\"scene\":{\"xaxis\":{\"backgroundcolor\":\"#E5ECF6\",\"gridcolor\":\"white\",\"linecolor\":\"white\",\"showbackground\":true,\"ticks\":\"\",\"zerolinecolor\":\"white\",\"gridwidth\":2},\"yaxis\":{\"backgroundcolor\":\"#E5ECF6\",\"gridcolor\":\"white\",\"linecolor\":\"white\",\"showbackground\":true,\"ticks\":\"\",\"zerolinecolor\":\"white\",\"gridwidth\":2},\"zaxis\":{\"backgroundcolor\":\"#E5ECF6\",\"gridcolor\":\"white\",\"linecolor\":\"white\",\"showbackground\":true,\"ticks\":\"\",\"zerolinecolor\":\"white\",\"gridwidth\":2}},\"shapedefaults\":{\"line\":{\"color\":\"#2a3f5f\"}},\"annotationdefaults\":{\"arrowcolor\":\"#2a3f5f\",\"arrowhead\":0,\"arrowwidth\":1},\"geo\":{\"bgcolor\":\"white\",\"landcolor\":\"#E5ECF6\",\"subunitcolor\":\"white\",\"showland\":true,\"showlakes\":true,\"lakecolor\":\"white\"},\"title\":{\"x\":0.05},\"mapbox\":{\"style\":\"light\"}}},\"xaxis\":{\"anchor\":\"y\",\"domain\":[0.0,1.0],\"title\":{\"text\":\"ADP\"}},\"yaxis\":{\"anchor\":\"x\",\"domain\":[0.0,1.0],\"title\":{\"text\":\"normFP\"}},\"coloraxis\":{\"colorbar\":{\"title\":{\"text\":\"labels\"}},\"colorscale\":[[0.0,\"#0d0887\"],[0.1111111111111111,\"#46039f\"],[0.2222222222222222,\"#7201a8\"],[0.3333333333333333,\"#9c179e\"],[0.4444444444444444,\"#bd3786\"],[0.5555555555555556,\"#d8576b\"],[0.6666666666666666,\"#ed7953\"],[0.7777777777777778,\"#fb9f3a\"],[0.8888888888888888,\"#fdca26\"],[1.0,\"#f0f921\"]]},\"legend\":{\"tracegroupgap\":0},\"margin\":{\"t\":60},\"font\":{\"family\":\"sans serif\",\"size\":18,\"color\":\"LightSeaGreen\"}},                        {\"responsive\": true}                    ).then(function(){\n",
       "                            \n",
       "var gd = document.getElementById('88d35fa3-841e-49bc-bc3e-c860cd0fb862');\n",
       "var x = new MutationObserver(function (mutations, observer) {{\n",
       "        var display = window.getComputedStyle(gd).display;\n",
       "        if (!display || display === 'none') {{\n",
       "            console.log([gd, 'removed!']);\n",
       "            Plotly.purge(gd);\n",
       "            observer.disconnect();\n",
       "        }}\n",
       "}});\n",
       "\n",
       "// Listen for the removal of the full notebook cells\n",
       "var notebookContainer = gd.closest('#notebook-container');\n",
       "if (notebookContainer) {{\n",
       "    x.observe(notebookContainer, {childList: true});\n",
       "}}\n",
       "\n",
       "// Listen for the clearing of the current output cell\n",
       "var outputEl = gd.closest('.output');\n",
       "if (outputEl) {{\n",
       "    x.observe(outputEl, {childList: true});\n",
       "}}\n",
       "\n",
       "                        })                };                });            </script>        </div>"
      ]
     },
     "metadata": {},
     "output_type": "display_data"
    }
   ],
   "source": [
    "rbs = aggData[aggData[\"Pos\"] == \"WR\"]\n",
    "rbs[\"normFP\"] = rbs[\"FantasyPoints\"] / rbs[\"FantasyPoints\"].max()\n",
    "plotKmeans(rbs, y=\"normFP\", clusters=10)\n",
    "\n"
   ]
  },
  {
   "cell_type": "code",
   "execution_count": 304,
   "id": "b76630fb",
   "metadata": {
    "scrolled": false
   },
   "outputs": [
    {
     "data": {
      "application/vnd.plotly.v1+json": {
       "config": {
        "plotlyServerURL": "https://plot.ly"
       },
       "data": [
        {
         "customdata": [
          [
           "Todd Gurley"
          ],
          [
           "Saquon Barkley"
          ],
          [
           "Christian McCaffrey"
          ],
          [
           "Alvin Kamara"
          ],
          [
           "Ezekiel Elliott"
          ],
          [
           "Melvin Gordon"
          ],
          [
           "James Conner"
          ],
          [
           "Kareem Hunt"
          ],
          [
           "Joe Mixon"
          ],
          [
           "David Johnson"
          ],
          [
           "James White"
          ],
          [
           "Derrick Henry"
          ],
          [
           "Chris Carson"
          ],
          [
           "Nick Chubb"
          ],
          [
           "Adrian Peterson"
          ],
          [
           "Tarik Cohen"
          ],
          [
           "Tevin Coleman"
          ],
          [
           "Marlon Mack"
          ],
          [
           "Jordan Howard"
          ],
          [
           "Kenyan Drake"
          ],
          [
           "Lamar Miller"
          ],
          [
           "Aaron Jones"
          ],
          [
           "Matt Breida"
          ],
          [
           "Sony Michel"
          ],
          [
           "Peyton Barber"
          ],
          [
           "Austin Ekeler"
          ],
          [
           "Mark Ingram"
          ],
          [
           "Isaiah Crowell"
          ],
          [
           "T.J. Yeldon"
          ],
          [
           "Dalvin Cook"
          ],
          [
           "Latavius Murray"
          ],
          [
           "Kerryon Johnson"
          ],
          [
           "Dion Lewis"
          ],
          [
           "Doug Martin"
          ],
          [
           "Leonard Fournette"
          ],
          [
           "Nyheim Hines"
          ],
          [
           "Alex Collins"
          ],
          [
           "LeSean McCoy"
          ],
          [
           "Frank Gore"
          ],
          [
           "Carlos Hyde"
          ],
          [
           "Royce Freeman"
          ],
          [
           "Jamaal Williams"
          ],
          [
           "Duke Johnson"
          ],
          [
           "LeGarrette Blount"
          ],
          [
           "Alfred Blue"
          ],
          [
           "Elijah McGuire"
          ],
          [
           "Chris Ivory"
          ],
          [
           "Marshawn Lynch"
          ],
          [
           "C.J. Anderson"
          ],
          [
           "Giovani Bernard"
          ],
          [
           "Rashaad Penny"
          ],
          [
           "Javorius Allen"
          ],
          [
           "Corey Clement"
          ],
          [
           "Spencer Ware"
          ],
          [
           "Theo Riddick"
          ],
          [
           "Chris Thompson"
          ],
          [
           "Devontae Booker"
          ],
          [
           "Bilal Powell"
          ],
          [
           "Kenneth Dixon"
          ],
          [
           "Darren Sproles"
          ],
          [
           "Jacquizz Rodgers"
          ],
          [
           "Jordan Wilkins"
          ],
          [
           "Chase Edmonds"
          ],
          [
           "Jay Ajayi"
          ],
          [
           "Rex Burkhead"
          ],
          [
           "Wayne Gallman"
          ],
          [
           "Rod Smith"
          ],
          [
           "Ronald Jones"
          ],
          [
           "Corey Grant"
          ],
          [
           "John Kelly"
          ],
          [
           "D'Onta Foreman"
          ],
          [
           "Devonta Freeman"
          ],
          [
           "Mark Walton"
          ],
          [
           "Samaje Perine"
          ],
          [
           "Jeremy Hill"
          ],
          [
           "C.J. Prosise"
          ],
          [
           "Jonathan Stewart"
          ],
          [
           "Robert Kelley"
          ],
          [
           "Christine Michael"
          ],
          [
           "Jonathan Williams"
          ],
          [
           "Christian McCaffrey"
          ],
          [
           "Derrick Henry"
          ],
          [
           "Aaron Jones"
          ],
          [
           "Ezekiel Elliott"
          ],
          [
           "Dalvin Cook"
          ],
          [
           "Nick Chubb"
          ],
          [
           "Austin Ekeler"
          ],
          [
           "Mark Ingram"
          ],
          [
           "Chris Carson"
          ],
          [
           "Saquon Barkley"
          ],
          [
           "Joe Mixon"
          ],
          [
           "Todd Gurley"
          ],
          [
           "Leonard Fournette"
          ],
          [
           "Josh Jacobs"
          ],
          [
           "Miles Sanders"
          ],
          [
           "Alvin Kamara"
          ],
          [
           "Marlon Mack"
          ],
          [
           "Kenyan Drake"
          ],
          [
           "Phillip Lindsay"
          ],
          [
           "Le'Veon Bell"
          ],
          [
           "David Montgomery"
          ],
          [
           "Carlos Hyde"
          ],
          [
           "Sony Michel"
          ],
          [
           "Devonta Freeman"
          ],
          [
           "Melvin Gordon"
          ],
          [
           "Ronald Jones"
          ],
          [
           "Adrian Peterson"
          ],
          [
           "James White"
          ],
          [
           "Latavius Murray"
          ],
          [
           "Devin Singletary"
          ],
          [
           "Tevin Coleman"
          ],
          [
           "James Conner"
          ],
          [
           "Damien Williams"
          ],
          [
           "Duke Johnson"
          ],
          [
           "Jamaal Williams"
          ],
          [
           "David Johnson"
          ],
          [
           "Peyton Barber"
          ],
          [
           "Jordan Howard"
          ],
          [
           "Royce Freeman"
          ],
          [
           "LeSean McCoy"
          ],
          [
           "Gus Edwards"
          ],
          [
           "Tarik Cohen"
          ],
          [
           "Matt Breida"
          ],
          [
           "Frank Gore"
          ],
          [
           "Kerryon Johnson"
          ],
          [
           "Rex Burkhead"
          ],
          [
           "Nyheim Hines"
          ],
          [
           "Tony Pollard"
          ],
          [
           "Chase Edmonds"
          ],
          [
           "Rashaad Penny"
          ],
          [
           "Kareem Hunt"
          ],
          [
           "Alexander Mattison"
          ],
          [
           "Malcolm Brown"
          ],
          [
           "Jaylen Samuels"
          ],
          [
           "Benny Snell"
          ],
          [
           "Chris Thompson"
          ],
          [
           "Derrius Guice"
          ],
          [
           "Jalen Richard"
          ],
          [
           "Justice Hill"
          ],
          [
           "Dion Lewis"
          ],
          [
           "Dare Ogunbowale"
          ],
          [
           "Kalen Ballage"
          ],
          [
           "Giovani Bernard"
          ],
          [
           "Ryquell Armstead"
          ],
          [
           "Wayne Gallman"
          ],
          [
           "Ty Johnson"
          ],
          [
           "Qadree Ollison"
          ],
          [
           "Mark Walton"
          ],
          [
           "Dontrell Hilliard"
          ],
          [
           "Bilal Powell"
          ],
          [
           "Ito Smith"
          ],
          [
           "Darwin Thompson"
          ],
          [
           "Justin Jackson"
          ],
          [
           "Ty Montgomery"
          ],
          [
           "C.J. Prosise"
          ],
          [
           "Darrell Henderson"
          ],
          [
           "T.J. Yeldon"
          ],
          [
           "Darren Sproles"
          ],
          [
           "Devontae Booker"
          ],
          [
           "Mike Davis"
          ],
          [
           "Devine Ozigbo"
          ],
          [
           "C.J. Anderson"
          ],
          [
           "Damien Harris"
          ],
          [
           "Jordan Scarlett"
          ],
          [
           "Dexter Williams"
          ],
          [
           "Derrick Henry"
          ],
          [
           "Alvin Kamara"
          ],
          [
           "Dalvin Cook"
          ],
          [
           "Jonathan Taylor"
          ],
          [
           "Aaron Jones"
          ],
          [
           "David Montgomery"
          ],
          [
           "James Robinson"
          ],
          [
           "Josh Jacobs"
          ],
          [
           "Nick Chubb"
          ],
          [
           "Kareem Hunt"
          ],
          [
           "Ezekiel Elliott"
          ],
          [
           "Kenyan Drake"
          ],
          [
           "Melvin Gordon"
          ],
          [
           "Antonio Gibson"
          ],
          [
           "Ronald Jones II"
          ],
          [
           "Chris Carson"
          ],
          [
           "J.K. Dobbins"
          ],
          [
           "Mike Davis"
          ],
          [
           "David Johnson"
          ],
          [
           "D'Andre Swift"
          ],
          [
           "Miles Sanders"
          ],
          [
           "Clyde Edwards-Helaire"
          ],
          [
           "Todd Gurley"
          ],
          [
           "Nyheim Hines"
          ],
          [
           "James Conner"
          ],
          [
           "Gus Edwards"
          ],
          [
           "Wayne Gallman"
          ],
          [
           "Chase Edmonds"
          ],
          [
           "Darrell Henderson"
          ],
          [
           "Latavius Murray"
          ],
          [
           "Adrian Peterson"
          ],
          [
           "Giovani Bernard"
          ],
          [
           "Austin Ekeler"
          ],
          [
           "J.D. McKissic"
          ],
          [
           "Devin Singletary"
          ],
          [
           "Leonard Fournette"
          ],
          [
           "Jamaal Williams"
          ],
          [
           "Jerick McKinnon"
          ],
          [
           "Tony Pollard"
          ],
          [
           "Cam Akers"
          ],
          [
           "Zack Moss"
          ],
          [
           "Malcolm Brown"
          ],
          [
           "Damien Harris"
          ],
          [
           "Frank Gore"
          ],
          [
           "Raheem Mostert"
          ],
          [
           "Rex Burkhead"
          ],
          [
           "Joe Mixon"
          ],
          [
           "Alexander Mattison"
          ],
          [
           "Christian McCaffrey"
          ],
          [
           "Boston Scott"
          ],
          [
           "Brian Hill"
          ],
          [
           "Carlos Hyde"
          ],
          [
           "Sony Michel"
          ],
          [
           "James White"
          ],
          [
           "Benny Snell Jr."
          ],
          [
           "Le'Veon Bell"
          ],
          [
           "Phillip Lindsay"
          ],
          [
           "Joshua Kelley"
          ],
          [
           "Duke Johnson"
          ],
          [
           "Kerryon Johnson"
          ],
          [
           "Peyton Barber"
          ],
          [
           "Mark Ingram"
          ],
          [
           "Justin Jackson"
          ],
          [
           "La'Mical Perine"
          ],
          [
           "Ito Smith"
          ],
          [
           "AJ Dillon"
          ],
          [
           "Dion Lewis"
          ],
          [
           "Darrel Williams"
          ],
          [
           "Matt Breida"
          ],
          [
           "Jalen Richard"
          ],
          [
           "Jordan Howard"
          ],
          [
           "Devonta Freeman"
          ],
          [
           "Chris Thompson"
          ],
          [
           "Ke'Shawn Vaughn"
          ],
          [
           "Anthony McFarland Jr."
          ],
          [
           "Darrynton Evans"
          ],
          [
           "LeSean McCoy"
          ],
          [
           "Tarik Cohen"
          ],
          [
           "Saquon Barkley"
          ],
          [
           "Tevin Coleman"
          ],
          [
           "Jaylen Samuels"
          ],
          [
           "Marlon Mack"
          ],
          [
           "Devine Ozigbo"
          ],
          [
           "Rashaad Penny"
          ],
          [
           "Jonathan Taylor*+"
          ],
          [
           "Austin Ekeler"
          ],
          [
           "Joe Mixon*"
          ],
          [
           "Najee Harris*"
          ],
          [
           "James Conner*"
          ],
          [
           "Ezekiel Elliott"
          ],
          [
           "Nick Chubb*"
          ],
          [
           "Damien Harris"
          ],
          [
           "Alvin Kamara*"
          ],
          [
           "Antonio Gibson"
          ],
          [
           "Leonard Fournette"
          ],
          [
           "Cordarrelle Patterson"
          ],
          [
           "Aaron Jones"
          ],
          [
           "Derrick Henry"
          ],
          [
           "Dalvin Cook*"
          ],
          [
           "Josh Jacobs"
          ],
          [
           "Melvin Gordon"
          ],
          [
           "Javonte Williams"
          ],
          [
           "Devin Singletary"
          ],
          [
           "David Montgomery"
          ],
          [
           "AJ Dillon"
          ],
          [
           "Darrel Williams"
          ],
          [
           "D'Andre Swift"
          ],
          [
           "Elijah Mitchell"
          ],
          [
           "James Robinson"
          ],
          [
           "Darrell Henderson"
          ],
          [
           "Myles Gaskin"
          ],
          [
           "Sony Michel"
          ],
          [
           "Tony Pollard"
          ],
          [
           "Michael Carter"
          ],
          [
           "Rashaad Penny"
          ],
          [
           "Chuba Hubbard"
          ],
          [
           "Saquon Barkley"
          ],
          [
           "Devontae Booker"
          ],
          [
           "Rhamondre Stevenson"
          ],
          [
           "Chase Edmonds"
          ],
          [
           "Clyde Edwards-Helaire"
          ],
          [
           "Mike Davis"
          ],
          [
           "Alexander Mattison"
          ],
          [
           "Jamaal Williams"
          ],
          [
           "Christian McCaffrey"
          ],
          [
           "Miles Sanders"
          ],
          [
           "Kenneth Gainwell"
          ],
          [
           "Kareem Hunt"
          ],
          [
           "Boston Scott"
          ],
          [
           "J.D. McKissic"
          ],
          [
           "Ty Johnson"
          ],
          [
           "Mark Ingram"
          ],
          [
           "Zack Moss"
          ],
          [
           "Kenyan Drake"
          ],
          [
           "Nyheim Hines"
          ],
          [
           "Ronald Jones II"
          ],
          [
           "Justin Jackson"
          ],
          [
           "Alex Collins"
          ],
          [
           "Samaje Perine"
          ],
          [
           "David Johnson"
          ],
          [
           "Jeremy McNichols"
          ],
          [
           "Jaret Patterson"
          ],
          [
           "Damien Williams"
          ],
          [
           "Kyle Juszczyk*"
          ],
          [
           "Chris Carson"
          ],
          [
           "Tevin Coleman"
          ],
          [
           "Phillip Lindsay"
          ],
          [
           "DeeJay Dallas"
          ],
          [
           "Dare Ogunbowale"
          ],
          [
           "Giovani Bernard"
          ],
          [
           "Chris Evans"
          ],
          [
           "Carlos Hyde"
          ],
          [
           "Le'Veon Bell"
          ],
          [
           "Ty'Son Williams"
          ],
          [
           "Salvon Ahmed"
          ],
          [
           "Trey Sermon"
          ],
          [
           "Jerick McKinnon"
          ],
          [
           "Malcolm Brown"
          ],
          [
           "James White"
          ],
          [
           "Tony Jones"
          ],
          [
           "Wayne Gallman"
          ],
          [
           "Joshua Kelley"
          ],
          [
           "Marlon Mack"
          ],
          [
           "Benny Snell Jr."
          ],
          [
           "Dwayne Washington"
          ],
          [
           "Darrynton Evans"
          ],
          [
           "Raheem Mostert"
          ],
          [
           "Anthony McFarland Jr."
          ]
         ],
         "hovertemplate": "ADP=%{x}<br>FantasyPoints=%{y}<br>Player=%{customdata[0]}<br>labels=%{marker.color}<extra></extra>",
         "legendgroup": "",
         "marker": {
          "color": [
           2,
           2,
           2,
           2,
           2,
           2,
           1,
           2,
           2,
           2,
           2,
           4,
           4,
           3,
           4,
           4,
           4,
           4,
           4,
           4,
           4,
           4,
           4,
           4,
           4,
           1,
           4,
           4,
           1,
           4,
           0,
           4,
           4,
           0,
           4,
           4,
           4,
           4,
           1,
           0,
           4,
           0,
           4,
           1,
           1,
           1,
           1,
           0,
           0,
           0,
           0,
           3,
           0,
           1,
           0,
           0,
           0,
           0,
           3,
           1,
           1,
           0,
           1,
           0,
           0,
           1,
           1,
           0,
           1,
           1,
           1,
           0,
           1,
           3,
           0,
           1,
           1,
           3,
           3,
           1,
           2,
           2,
           2,
           2,
           2,
           2,
           2,
           2,
           2,
           2,
           2,
           4,
           2,
           4,
           4,
           2,
           4,
           4,
           4,
           4,
           4,
           3,
           4,
           4,
           4,
           4,
           3,
           4,
           4,
           4,
           4,
           4,
           4,
           4,
           3,
           4,
           0,
           0,
           4,
           0,
           3,
           4,
           0,
           3,
           4,
           3,
           0,
           3,
           3,
           0,
           3,
           3,
           3,
           3,
           3,
           3,
           0,
           0,
           3,
           0,
           3,
           0,
           0,
           3,
           3,
           3,
           3,
           3,
           3,
           3,
           3,
           3,
           3,
           3,
           3,
           0,
           3,
           3,
           3,
           3,
           3,
           3,
           3,
           3,
           3,
           2,
           2,
           2,
           4,
           4,
           4,
           4,
           4,
           4,
           4,
           4,
           4,
           4,
           4,
           4,
           4,
           4,
           3,
           4,
           4,
           4,
           4,
           4,
           0,
           4,
           3,
           3,
           0,
           0,
           0,
           3,
           3,
           4,
           3,
           4,
           0,
           3,
           0,
           0,
           0,
           0,
           3,
           0,
           3,
           0,
           3,
           4,
           0,
           4,
           0,
           3,
           3,
           0,
           0,
           0,
           0,
           0,
           0,
           0,
           0,
           3,
           0,
           0,
           3,
           3,
           0,
           3,
           0,
           0,
           3,
           0,
           3,
           0,
           3,
           3,
           0,
           3,
           0,
           0,
           0,
           3,
           0,
           3,
           3,
           2,
           2,
           2,
           2,
           4,
           4,
           4,
           4,
           4,
           4,
           4,
           3,
           4,
           4,
           4,
           4,
           4,
           4,
           4,
           4,
           4,
           3,
           4,
           3,
           4,
           4,
           4,
           4,
           0,
           0,
           3,
           3,
           4,
           3,
           0,
           4,
           4,
           0,
           0,
           0,
           4,
           4,
           3,
           0,
           3,
           0,
           3,
           3,
           0,
           0,
           0,
           0,
           3,
           3,
           3,
           0,
           3,
           3,
           3,
           3,
           0,
           0,
           0,
           3,
           3,
           0,
           3,
           0,
           3,
           0,
           3,
           0,
           3,
           0,
           0,
           0,
           3,
           3,
           3,
           3,
           3,
           3,
           0,
           3
          ],
          "coloraxis": "coloraxis",
          "symbol": "circle"
         },
         "mode": "markers",
         "name": "",
         "orientation": "v",
         "showlegend": false,
         "type": "scatter",
         "x": [
          2,
          6,
          18,
          7,
          4,
          15,
          359,
          11,
          26,
          3,
          98,
          46,
          85,
          193,
          121,
          86,
          63,
          124,
          31,
          42,
          51,
          147,
          149,
          96,
          99,
          355,
          52,
          62,
          356,
          12,
          155,
          87,
          50,
          148,
          14,
          157,
          47,
          23,
          386,
          74,
          45,
          97,
          60,
          351,
          392,
          358,
          354,
          49,
          164,
          123,
          88,
          200,
          156,
          357,
          125,
          73,
          144,
          154,
          165,
          352,
          427,
          142,
          353,
          48,
          61,
          388,
          389,
          89,
          400,
          390,
          385,
          19,
          426,
          195,
          143,
          415,
          387,
          194,
          199,
          391,
          3,
          33,
          32,
          2,
          17,
          22,
          83,
          35,
          31,
          1,
          15,
          14,
          26,
          25,
          64,
          4,
          44,
          59,
          61,
          8,
          60,
          194,
          45,
          24,
          34,
          137,
          203,
          57,
          101,
          70,
          63,
          16,
          69,
          58,
          200,
          6,
          102,
          104,
          85,
          100,
          209,
          82,
          84,
          174,
          23,
          240,
          103,
          204,
          201,
          86,
          185,
          235,
          205,
          170,
          250,
          171,
          62,
          105,
          172,
          135,
          186,
          138,
          136,
          188,
          264,
          202,
          278,
          242,
          206,
          277,
          208,
          187,
          173,
          184,
          265,
          106,
          237,
          236,
          238,
          195,
          276,
          207,
          199,
          239,
          241,
          7,
          5,
          4,
          46,
          15,
          58,
          139,
          11,
          12,
          49,
          3,
          10,
          45,
          56,
          71,
          39,
          90,
          264,
          40,
          84,
          9,
          8,
          43,
          132,
          44,
          240,
          276,
          130,
          92,
          128,
          208,
          203,
          13,
          241,
          57,
          72,
          202,
          155,
          129,
          48,
          91,
          206,
          160,
          242,
          59,
          209,
          14,
          105,
          1,
          141,
          204,
          200,
          140,
          87,
          157,
          47,
          86,
          156,
          103,
          85,
          278,
          70,
          142,
          236,
          239,
          159,
          277,
          158,
          89,
          207,
          88,
          238,
          131,
          237,
          235,
          143,
          201,
          60,
          2,
          104,
          250,
          133,
          199,
          265,
          9,
          10,
          22,
          15,
          99,
          8,
          12,
          70,
          3,
          14,
          98,
          209,
          11,
          5,
          2,
          47,
          100,
          51,
          104,
          30,
          101,
          202,
          36,
          236,
          31,
          69,
          53,
          94,
          139,
          111,
          198,
          201,
          4,
          197,
          156,
          48,
          23,
          54,
          140,
          102,
          1,
          32,
          207,
          52,
          206,
          137,
          203,
          195,
          103,
          97,
          110,
          112,
          199,
          235,
          210,
          123,
          265,
          208,
          200,
          242,
          37,
          157,
          136,
          277,
          264,
          142,
          241,
          158,
          194,
          88,
          204,
          113,
          237,
          141,
          124,
          138,
          196,
          238,
          205,
          278,
          276,
          240,
          87,
          250
         ],
         "xaxis": "x",
         "y": [
          366.1,
          383.8,
          385.5,
          348.2,
          329.1,
          271.5,
          276,
          230.2,
          243.4,
          244.6,
          276.6,
          201.36,
          201.4,
          194.5,
          189,
          233.94000000000003,
          193.6,
          174.1,
          180,
          206.2,
          172.6,
          171.4,
          162.5,
          139.1,
          150.3,
          168.8,
          142.5,
          140.7,
          173.1,
          152,
          129.9,
          139.39999999999998,
          160.7,
          119.9,
          120.4,
          160.9,
          108.6,
          127.2,
          102.6,
          98.4,
          101.3,
          112.4,
          128,
          86.5,
          97.3,
          85.9,
          78,
          79,
          67.4,
          95.9,
          70.4,
          93.6,
          79.1,
          79,
          116.5,
          91.6,
          87.8,
          60.3,
          54.4,
          61,
          83,
          60.1,
          63.1,
          41.4,
          49.7,
          44.5,
          33.7,
          20.700000000000006,
          19.7,
          12.1,
          10.7,
          14.1,
          12.5,
          6.7,
          4.1,
          4.9,
          1.7,
          0.8,
          0.9,
          1.1,
          469.2,
          294.6,
          314.8,
          311.7,
          292.4,
          255.2,
          309,
          238.5,
          232.6,
          244.1,
          225.4,
          217.4,
          259.4,
          191.6,
          216.7,
          248.52,
          179.29999999999995,
          212.2,
          197.7,
          213,
          170.4,
          153.2,
          152.6,
          197.6,
          180.8,
          166.3,
          147,
          198.2,
          157.2,
          147.9,
          135.4,
          145.5,
          141.1,
          154,
          146.3,
          141.5,
          114.5,
          111.4,
          142.2,
          118.6,
          92.6,
          163.9,
          103.3,
          94.9,
          85,
          101.1,
          105.9,
          87.2,
          82.8,
          75.3,
          101.4,
          68.4,
          59.1,
          104.4,
          57.9,
          93.6,
          57.4,
          82.8,
          49.5,
          66.3,
          75.3,
          51.8,
          68.4,
          51.2,
          48.2,
          60.2,
          30.7,
          42,
          38.1,
          33.2,
          36.3,
          32.1,
          31.2,
          32.3,
          28.8,
          22.4,
          29.7,
          15,
          12.6,
          11.9,
          8,
          4.3,
          1.2,
          0.9,
          1.1,
          314,
          295,
          294,
          217,
          212,
          211,
          201,
          198,
          192,
          181,
          172,
          167,
          166,
          166,
          158,
          151,
          151,
          148,
          147,
          144,
          142,
          140,
          138,
          130,
          130,
          119,
          116,
          115,
          114,
          113,
          113,
          111,
          111,
          111,
          106,
          96,
          96,
          93,
          93,
          91,
          88,
          86,
          86,
          84,
          84,
          83,
          79,
          74,
          73,
          71,
          70,
          69,
          68,
          68,
          65,
          59,
          59,
          58,
          56,
          53,
          51,
          47,
          46,
          42,
          40,
          38,
          38,
          37,
          33,
          32,
          30,
          29,
          23,
          18,
          17,
          14,
          13,
          12,
          9,
          9,
          7,
          6,
          4,
          3,
          333,
          274,
          246,
          227,
          221,
          205,
          195,
          192,
          188,
          187,
          187,
          183,
          177,
          175,
          172,
          172,
          167,
          162,
          158,
          153,
          152,
          149,
          147,
          146,
          143,
          134,
          125,
          125,
          124,
          118,
          116,
          113,
          108,
          104,
          101,
          100,
          99,
          94,
          94,
          94,
          91,
          91,
          90,
          88,
          86,
          85,
          83,
          82,
          82,
          73,
          73,
          69,
          64,
          60,
          56,
          49,
          46,
          46,
          45,
          44,
          42,
          41,
          41,
          39,
          37,
          36,
          35,
          34,
          33,
          33,
          27,
          25,
          23,
          20,
          19,
          17,
          13,
          12,
          11,
          11,
          3,
          2,
          2,
          1
         ],
         "yaxis": "y"
        }
       ],
       "layout": {
        "coloraxis": {
         "colorbar": {
          "title": {
           "text": "labels"
          }
         },
         "colorscale": [
          [
           0,
           "#0d0887"
          ],
          [
           0.1111111111111111,
           "#46039f"
          ],
          [
           0.2222222222222222,
           "#7201a8"
          ],
          [
           0.3333333333333333,
           "#9c179e"
          ],
          [
           0.4444444444444444,
           "#bd3786"
          ],
          [
           0.5555555555555556,
           "#d8576b"
          ],
          [
           0.6666666666666666,
           "#ed7953"
          ],
          [
           0.7777777777777778,
           "#fb9f3a"
          ],
          [
           0.8888888888888888,
           "#fdca26"
          ],
          [
           1,
           "#f0f921"
          ]
         ]
        },
        "font": {
         "color": "LightSeaGreen",
         "family": "sans serif",
         "size": 18
        },
        "legend": {
         "tracegroupgap": 0
        },
        "margin": {
         "t": 60
        },
        "template": {
         "data": {
          "bar": [
           {
            "error_x": {
             "color": "#2a3f5f"
            },
            "error_y": {
             "color": "#2a3f5f"
            },
            "marker": {
             "line": {
              "color": "#E5ECF6",
              "width": 0.5
             },
             "pattern": {
              "fillmode": "overlay",
              "size": 10,
              "solidity": 0.2
             }
            },
            "type": "bar"
           }
          ],
          "barpolar": [
           {
            "marker": {
             "line": {
              "color": "#E5ECF6",
              "width": 0.5
             },
             "pattern": {
              "fillmode": "overlay",
              "size": 10,
              "solidity": 0.2
             }
            },
            "type": "barpolar"
           }
          ],
          "carpet": [
           {
            "aaxis": {
             "endlinecolor": "#2a3f5f",
             "gridcolor": "white",
             "linecolor": "white",
             "minorgridcolor": "white",
             "startlinecolor": "#2a3f5f"
            },
            "baxis": {
             "endlinecolor": "#2a3f5f",
             "gridcolor": "white",
             "linecolor": "white",
             "minorgridcolor": "white",
             "startlinecolor": "#2a3f5f"
            },
            "type": "carpet"
           }
          ],
          "choropleth": [
           {
            "colorbar": {
             "outlinewidth": 0,
             "ticks": ""
            },
            "type": "choropleth"
           }
          ],
          "contour": [
           {
            "colorbar": {
             "outlinewidth": 0,
             "ticks": ""
            },
            "colorscale": [
             [
              0,
              "#0d0887"
             ],
             [
              0.1111111111111111,
              "#46039f"
             ],
             [
              0.2222222222222222,
              "#7201a8"
             ],
             [
              0.3333333333333333,
              "#9c179e"
             ],
             [
              0.4444444444444444,
              "#bd3786"
             ],
             [
              0.5555555555555556,
              "#d8576b"
             ],
             [
              0.6666666666666666,
              "#ed7953"
             ],
             [
              0.7777777777777778,
              "#fb9f3a"
             ],
             [
              0.8888888888888888,
              "#fdca26"
             ],
             [
              1,
              "#f0f921"
             ]
            ],
            "type": "contour"
           }
          ],
          "contourcarpet": [
           {
            "colorbar": {
             "outlinewidth": 0,
             "ticks": ""
            },
            "type": "contourcarpet"
           }
          ],
          "heatmap": [
           {
            "colorbar": {
             "outlinewidth": 0,
             "ticks": ""
            },
            "colorscale": [
             [
              0,
              "#0d0887"
             ],
             [
              0.1111111111111111,
              "#46039f"
             ],
             [
              0.2222222222222222,
              "#7201a8"
             ],
             [
              0.3333333333333333,
              "#9c179e"
             ],
             [
              0.4444444444444444,
              "#bd3786"
             ],
             [
              0.5555555555555556,
              "#d8576b"
             ],
             [
              0.6666666666666666,
              "#ed7953"
             ],
             [
              0.7777777777777778,
              "#fb9f3a"
             ],
             [
              0.8888888888888888,
              "#fdca26"
             ],
             [
              1,
              "#f0f921"
             ]
            ],
            "type": "heatmap"
           }
          ],
          "heatmapgl": [
           {
            "colorbar": {
             "outlinewidth": 0,
             "ticks": ""
            },
            "colorscale": [
             [
              0,
              "#0d0887"
             ],
             [
              0.1111111111111111,
              "#46039f"
             ],
             [
              0.2222222222222222,
              "#7201a8"
             ],
             [
              0.3333333333333333,
              "#9c179e"
             ],
             [
              0.4444444444444444,
              "#bd3786"
             ],
             [
              0.5555555555555556,
              "#d8576b"
             ],
             [
              0.6666666666666666,
              "#ed7953"
             ],
             [
              0.7777777777777778,
              "#fb9f3a"
             ],
             [
              0.8888888888888888,
              "#fdca26"
             ],
             [
              1,
              "#f0f921"
             ]
            ],
            "type": "heatmapgl"
           }
          ],
          "histogram": [
           {
            "marker": {
             "pattern": {
              "fillmode": "overlay",
              "size": 10,
              "solidity": 0.2
             }
            },
            "type": "histogram"
           }
          ],
          "histogram2d": [
           {
            "colorbar": {
             "outlinewidth": 0,
             "ticks": ""
            },
            "colorscale": [
             [
              0,
              "#0d0887"
             ],
             [
              0.1111111111111111,
              "#46039f"
             ],
             [
              0.2222222222222222,
              "#7201a8"
             ],
             [
              0.3333333333333333,
              "#9c179e"
             ],
             [
              0.4444444444444444,
              "#bd3786"
             ],
             [
              0.5555555555555556,
              "#d8576b"
             ],
             [
              0.6666666666666666,
              "#ed7953"
             ],
             [
              0.7777777777777778,
              "#fb9f3a"
             ],
             [
              0.8888888888888888,
              "#fdca26"
             ],
             [
              1,
              "#f0f921"
             ]
            ],
            "type": "histogram2d"
           }
          ],
          "histogram2dcontour": [
           {
            "colorbar": {
             "outlinewidth": 0,
             "ticks": ""
            },
            "colorscale": [
             [
              0,
              "#0d0887"
             ],
             [
              0.1111111111111111,
              "#46039f"
             ],
             [
              0.2222222222222222,
              "#7201a8"
             ],
             [
              0.3333333333333333,
              "#9c179e"
             ],
             [
              0.4444444444444444,
              "#bd3786"
             ],
             [
              0.5555555555555556,
              "#d8576b"
             ],
             [
              0.6666666666666666,
              "#ed7953"
             ],
             [
              0.7777777777777778,
              "#fb9f3a"
             ],
             [
              0.8888888888888888,
              "#fdca26"
             ],
             [
              1,
              "#f0f921"
             ]
            ],
            "type": "histogram2dcontour"
           }
          ],
          "mesh3d": [
           {
            "colorbar": {
             "outlinewidth": 0,
             "ticks": ""
            },
            "type": "mesh3d"
           }
          ],
          "parcoords": [
           {
            "line": {
             "colorbar": {
              "outlinewidth": 0,
              "ticks": ""
             }
            },
            "type": "parcoords"
           }
          ],
          "pie": [
           {
            "automargin": true,
            "type": "pie"
           }
          ],
          "scatter": [
           {
            "fillpattern": {
             "fillmode": "overlay",
             "size": 10,
             "solidity": 0.2
            },
            "type": "scatter"
           }
          ],
          "scatter3d": [
           {
            "line": {
             "colorbar": {
              "outlinewidth": 0,
              "ticks": ""
             }
            },
            "marker": {
             "colorbar": {
              "outlinewidth": 0,
              "ticks": ""
             }
            },
            "type": "scatter3d"
           }
          ],
          "scattercarpet": [
           {
            "marker": {
             "colorbar": {
              "outlinewidth": 0,
              "ticks": ""
             }
            },
            "type": "scattercarpet"
           }
          ],
          "scattergeo": [
           {
            "marker": {
             "colorbar": {
              "outlinewidth": 0,
              "ticks": ""
             }
            },
            "type": "scattergeo"
           }
          ],
          "scattergl": [
           {
            "marker": {
             "colorbar": {
              "outlinewidth": 0,
              "ticks": ""
             }
            },
            "type": "scattergl"
           }
          ],
          "scattermapbox": [
           {
            "marker": {
             "colorbar": {
              "outlinewidth": 0,
              "ticks": ""
             }
            },
            "type": "scattermapbox"
           }
          ],
          "scatterpolar": [
           {
            "marker": {
             "colorbar": {
              "outlinewidth": 0,
              "ticks": ""
             }
            },
            "type": "scatterpolar"
           }
          ],
          "scatterpolargl": [
           {
            "marker": {
             "colorbar": {
              "outlinewidth": 0,
              "ticks": ""
             }
            },
            "type": "scatterpolargl"
           }
          ],
          "scatterternary": [
           {
            "marker": {
             "colorbar": {
              "outlinewidth": 0,
              "ticks": ""
             }
            },
            "type": "scatterternary"
           }
          ],
          "surface": [
           {
            "colorbar": {
             "outlinewidth": 0,
             "ticks": ""
            },
            "colorscale": [
             [
              0,
              "#0d0887"
             ],
             [
              0.1111111111111111,
              "#46039f"
             ],
             [
              0.2222222222222222,
              "#7201a8"
             ],
             [
              0.3333333333333333,
              "#9c179e"
             ],
             [
              0.4444444444444444,
              "#bd3786"
             ],
             [
              0.5555555555555556,
              "#d8576b"
             ],
             [
              0.6666666666666666,
              "#ed7953"
             ],
             [
              0.7777777777777778,
              "#fb9f3a"
             ],
             [
              0.8888888888888888,
              "#fdca26"
             ],
             [
              1,
              "#f0f921"
             ]
            ],
            "type": "surface"
           }
          ],
          "table": [
           {
            "cells": {
             "fill": {
              "color": "#EBF0F8"
             },
             "line": {
              "color": "white"
             }
            },
            "header": {
             "fill": {
              "color": "#C8D4E3"
             },
             "line": {
              "color": "white"
             }
            },
            "type": "table"
           }
          ]
         },
         "layout": {
          "annotationdefaults": {
           "arrowcolor": "#2a3f5f",
           "arrowhead": 0,
           "arrowwidth": 1
          },
          "autotypenumbers": "strict",
          "coloraxis": {
           "colorbar": {
            "outlinewidth": 0,
            "ticks": ""
           }
          },
          "colorscale": {
           "diverging": [
            [
             0,
             "#8e0152"
            ],
            [
             0.1,
             "#c51b7d"
            ],
            [
             0.2,
             "#de77ae"
            ],
            [
             0.3,
             "#f1b6da"
            ],
            [
             0.4,
             "#fde0ef"
            ],
            [
             0.5,
             "#f7f7f7"
            ],
            [
             0.6,
             "#e6f5d0"
            ],
            [
             0.7,
             "#b8e186"
            ],
            [
             0.8,
             "#7fbc41"
            ],
            [
             0.9,
             "#4d9221"
            ],
            [
             1,
             "#276419"
            ]
           ],
           "sequential": [
            [
             0,
             "#0d0887"
            ],
            [
             0.1111111111111111,
             "#46039f"
            ],
            [
             0.2222222222222222,
             "#7201a8"
            ],
            [
             0.3333333333333333,
             "#9c179e"
            ],
            [
             0.4444444444444444,
             "#bd3786"
            ],
            [
             0.5555555555555556,
             "#d8576b"
            ],
            [
             0.6666666666666666,
             "#ed7953"
            ],
            [
             0.7777777777777778,
             "#fb9f3a"
            ],
            [
             0.8888888888888888,
             "#fdca26"
            ],
            [
             1,
             "#f0f921"
            ]
           ],
           "sequentialminus": [
            [
             0,
             "#0d0887"
            ],
            [
             0.1111111111111111,
             "#46039f"
            ],
            [
             0.2222222222222222,
             "#7201a8"
            ],
            [
             0.3333333333333333,
             "#9c179e"
            ],
            [
             0.4444444444444444,
             "#bd3786"
            ],
            [
             0.5555555555555556,
             "#d8576b"
            ],
            [
             0.6666666666666666,
             "#ed7953"
            ],
            [
             0.7777777777777778,
             "#fb9f3a"
            ],
            [
             0.8888888888888888,
             "#fdca26"
            ],
            [
             1,
             "#f0f921"
            ]
           ]
          },
          "colorway": [
           "#636efa",
           "#EF553B",
           "#00cc96",
           "#ab63fa",
           "#FFA15A",
           "#19d3f3",
           "#FF6692",
           "#B6E880",
           "#FF97FF",
           "#FECB52"
          ],
          "font": {
           "color": "#2a3f5f"
          },
          "geo": {
           "bgcolor": "white",
           "lakecolor": "white",
           "landcolor": "#E5ECF6",
           "showlakes": true,
           "showland": true,
           "subunitcolor": "white"
          },
          "hoverlabel": {
           "align": "left"
          },
          "hovermode": "closest",
          "mapbox": {
           "style": "light"
          },
          "paper_bgcolor": "white",
          "plot_bgcolor": "#E5ECF6",
          "polar": {
           "angularaxis": {
            "gridcolor": "white",
            "linecolor": "white",
            "ticks": ""
           },
           "bgcolor": "#E5ECF6",
           "radialaxis": {
            "gridcolor": "white",
            "linecolor": "white",
            "ticks": ""
           }
          },
          "scene": {
           "xaxis": {
            "backgroundcolor": "#E5ECF6",
            "gridcolor": "white",
            "gridwidth": 2,
            "linecolor": "white",
            "showbackground": true,
            "ticks": "",
            "zerolinecolor": "white"
           },
           "yaxis": {
            "backgroundcolor": "#E5ECF6",
            "gridcolor": "white",
            "gridwidth": 2,
            "linecolor": "white",
            "showbackground": true,
            "ticks": "",
            "zerolinecolor": "white"
           },
           "zaxis": {
            "backgroundcolor": "#E5ECF6",
            "gridcolor": "white",
            "gridwidth": 2,
            "linecolor": "white",
            "showbackground": true,
            "ticks": "",
            "zerolinecolor": "white"
           }
          },
          "shapedefaults": {
           "line": {
            "color": "#2a3f5f"
           }
          },
          "ternary": {
           "aaxis": {
            "gridcolor": "white",
            "linecolor": "white",
            "ticks": ""
           },
           "baxis": {
            "gridcolor": "white",
            "linecolor": "white",
            "ticks": ""
           },
           "bgcolor": "#E5ECF6",
           "caxis": {
            "gridcolor": "white",
            "linecolor": "white",
            "ticks": ""
           }
          },
          "title": {
           "x": 0.05
          },
          "xaxis": {
           "automargin": true,
           "gridcolor": "white",
           "linecolor": "white",
           "ticks": "",
           "title": {
            "standoff": 15
           },
           "zerolinecolor": "white",
           "zerolinewidth": 2
          },
          "yaxis": {
           "automargin": true,
           "gridcolor": "white",
           "linecolor": "white",
           "ticks": "",
           "title": {
            "standoff": 15
           },
           "zerolinecolor": "white",
           "zerolinewidth": 2
          }
         }
        },
        "xaxis": {
         "anchor": "y",
         "domain": [
          0,
          1
         ],
         "title": {
          "text": "ADP"
         }
        },
        "yaxis": {
         "anchor": "x",
         "domain": [
          0,
          1
         ],
         "title": {
          "text": "FantasyPoints"
         }
        }
       }
      },
      "text/html": [
       "<div>                            <div id=\"7ed16d96-dd10-4514-8891-ae6c13652d1f\" class=\"plotly-graph-div\" style=\"height:525px; width:100%;\"></div>            <script type=\"text/javascript\">                require([\"plotly\"], function(Plotly) {                    window.PLOTLYENV=window.PLOTLYENV || {};                                    if (document.getElementById(\"7ed16d96-dd10-4514-8891-ae6c13652d1f\")) {                    Plotly.newPlot(                        \"7ed16d96-dd10-4514-8891-ae6c13652d1f\",                        [{\"customdata\":[[\"Todd Gurley\"],[\"Saquon Barkley\"],[\"Christian McCaffrey\"],[\"Alvin Kamara\"],[\"Ezekiel Elliott\"],[\"Melvin Gordon\"],[\"James Conner\"],[\"Kareem Hunt\"],[\"Joe Mixon\"],[\"David Johnson\"],[\"James White\"],[\"Derrick Henry\"],[\"Chris Carson\"],[\"Nick Chubb\"],[\"Adrian Peterson\"],[\"Tarik Cohen\"],[\"Tevin Coleman\"],[\"Marlon Mack\"],[\"Jordan Howard\"],[\"Kenyan Drake\"],[\"Lamar Miller\"],[\"Aaron Jones\"],[\"Matt Breida\"],[\"Sony Michel\"],[\"Peyton Barber\"],[\"Austin Ekeler\"],[\"Mark Ingram\"],[\"Isaiah Crowell\"],[\"T.J. Yeldon\"],[\"Dalvin Cook\"],[\"Latavius Murray\"],[\"Kerryon Johnson\"],[\"Dion Lewis\"],[\"Doug Martin\"],[\"Leonard Fournette\"],[\"Nyheim Hines\"],[\"Alex Collins\"],[\"LeSean McCoy\"],[\"Frank Gore\"],[\"Carlos Hyde\"],[\"Royce Freeman\"],[\"Jamaal Williams\"],[\"Duke Johnson\"],[\"LeGarrette Blount\"],[\"Alfred Blue\"],[\"Elijah McGuire\"],[\"Chris Ivory\"],[\"Marshawn Lynch\"],[\"C.J. Anderson\"],[\"Giovani Bernard\"],[\"Rashaad Penny\"],[\"Javorius Allen\"],[\"Corey Clement\"],[\"Spencer Ware\"],[\"Theo Riddick\"],[\"Chris Thompson\"],[\"Devontae Booker\"],[\"Bilal Powell\"],[\"Kenneth Dixon\"],[\"Darren Sproles\"],[\"Jacquizz Rodgers\"],[\"Jordan Wilkins\"],[\"Chase Edmonds\"],[\"Jay Ajayi\"],[\"Rex Burkhead\"],[\"Wayne Gallman\"],[\"Rod Smith\"],[\"Ronald Jones\"],[\"Corey Grant\"],[\"John Kelly\"],[\"D'Onta Foreman\"],[\"Devonta Freeman\"],[\"Mark Walton\"],[\"Samaje Perine\"],[\"Jeremy Hill\"],[\"C.J. Prosise\"],[\"Jonathan Stewart\"],[\"Robert Kelley\"],[\"Christine Michael\"],[\"Jonathan Williams\"],[\"Christian McCaffrey\"],[\"Derrick Henry\"],[\"Aaron Jones\"],[\"Ezekiel Elliott\"],[\"Dalvin Cook\"],[\"Nick Chubb\"],[\"Austin Ekeler\"],[\"Mark Ingram\"],[\"Chris Carson\"],[\"Saquon Barkley\"],[\"Joe Mixon\"],[\"Todd Gurley\"],[\"Leonard Fournette\"],[\"Josh Jacobs\"],[\"Miles Sanders\"],[\"Alvin Kamara\"],[\"Marlon Mack\"],[\"Kenyan Drake\"],[\"Phillip Lindsay\"],[\"Le'Veon Bell\"],[\"David Montgomery\"],[\"Carlos Hyde\"],[\"Sony Michel\"],[\"Devonta Freeman\"],[\"Melvin Gordon\"],[\"Ronald Jones\"],[\"Adrian Peterson\"],[\"James White\"],[\"Latavius Murray\"],[\"Devin Singletary\"],[\"Tevin Coleman\"],[\"James Conner\"],[\"Damien Williams\"],[\"Duke Johnson\"],[\"Jamaal Williams\"],[\"David Johnson\"],[\"Peyton Barber\"],[\"Jordan Howard\"],[\"Royce Freeman\"],[\"LeSean McCoy\"],[\"Gus Edwards\"],[\"Tarik Cohen\"],[\"Matt Breida\"],[\"Frank Gore\"],[\"Kerryon Johnson\"],[\"Rex Burkhead\"],[\"Nyheim Hines\"],[\"Tony Pollard\"],[\"Chase Edmonds\"],[\"Rashaad Penny\"],[\"Kareem Hunt\"],[\"Alexander Mattison\"],[\"Malcolm Brown\"],[\"Jaylen Samuels\"],[\"Benny Snell\"],[\"Chris Thompson\"],[\"Derrius Guice\"],[\"Jalen Richard\"],[\"Justice Hill\"],[\"Dion Lewis\"],[\"Dare Ogunbowale\"],[\"Kalen Ballage\"],[\"Giovani Bernard\"],[\"Ryquell Armstead\"],[\"Wayne Gallman\"],[\"Ty Johnson\"],[\"Qadree Ollison\"],[\"Mark Walton\"],[\"Dontrell Hilliard\"],[\"Bilal Powell\"],[\"Ito Smith\"],[\"Darwin Thompson\"],[\"Justin Jackson\"],[\"Ty Montgomery\"],[\"C.J. Prosise\"],[\"Darrell Henderson\"],[\"T.J. Yeldon\"],[\"Darren Sproles\"],[\"Devontae Booker\"],[\"Mike Davis\"],[\"Devine Ozigbo\"],[\"C.J. Anderson\"],[\"Damien Harris\"],[\"Jordan Scarlett\"],[\"Dexter Williams\"],[\"Derrick Henry\"],[\"Alvin Kamara\"],[\"Dalvin Cook\"],[\"Jonathan Taylor\"],[\"Aaron Jones\"],[\"David Montgomery\"],[\"James Robinson\"],[\"Josh Jacobs\"],[\"Nick Chubb\"],[\"Kareem Hunt\"],[\"Ezekiel Elliott\"],[\"Kenyan Drake\"],[\"Melvin Gordon\"],[\"Antonio Gibson\"],[\"Ronald Jones II\"],[\"Chris Carson\"],[\"J.K. Dobbins\"],[\"Mike Davis\"],[\"David Johnson\"],[\"D'Andre Swift\"],[\"Miles Sanders\"],[\"Clyde Edwards-Helaire\"],[\"Todd Gurley\"],[\"Nyheim Hines\"],[\"James Conner\"],[\"Gus Edwards\"],[\"Wayne Gallman\"],[\"Chase Edmonds\"],[\"Darrell Henderson\"],[\"Latavius Murray\"],[\"Adrian Peterson\"],[\"Giovani Bernard\"],[\"Austin Ekeler\"],[\"J.D. McKissic\"],[\"Devin Singletary\"],[\"Leonard Fournette\"],[\"Jamaal Williams\"],[\"Jerick McKinnon\"],[\"Tony Pollard\"],[\"Cam Akers\"],[\"Zack Moss\"],[\"Malcolm Brown\"],[\"Damien Harris\"],[\"Frank Gore\"],[\"Raheem Mostert\"],[\"Rex Burkhead\"],[\"Joe Mixon\"],[\"Alexander Mattison\"],[\"Christian McCaffrey\"],[\"Boston Scott\"],[\"Brian Hill\"],[\"Carlos Hyde\"],[\"Sony Michel\"],[\"James White\"],[\"Benny Snell Jr.\"],[\"Le'Veon Bell\"],[\"Phillip Lindsay\"],[\"Joshua Kelley\"],[\"Duke Johnson\"],[\"Kerryon Johnson\"],[\"Peyton Barber\"],[\"Mark Ingram\"],[\"Justin Jackson\"],[\"La'Mical Perine\"],[\"Ito Smith\"],[\"AJ Dillon\"],[\"Dion Lewis\"],[\"Darrel Williams\"],[\"Matt Breida\"],[\"Jalen Richard\"],[\"Jordan Howard\"],[\"Devonta Freeman\"],[\"Chris Thompson\"],[\"Ke'Shawn Vaughn\"],[\"Anthony McFarland Jr.\"],[\"Darrynton Evans\"],[\"LeSean McCoy\"],[\"Tarik Cohen\"],[\"Saquon Barkley\"],[\"Tevin Coleman\"],[\"Jaylen Samuels\"],[\"Marlon Mack\"],[\"Devine Ozigbo\"],[\"Rashaad Penny\"],[\"Jonathan Taylor*+\"],[\"Austin Ekeler\"],[\"Joe Mixon*\"],[\"Najee Harris*\"],[\"James Conner*\"],[\"Ezekiel Elliott\"],[\"Nick Chubb*\"],[\"Damien Harris\"],[\"Alvin Kamara*\"],[\"Antonio Gibson\"],[\"Leonard Fournette\"],[\"Cordarrelle Patterson\"],[\"Aaron Jones\"],[\"Derrick Henry\"],[\"Dalvin Cook*\"],[\"Josh Jacobs\"],[\"Melvin Gordon\"],[\"Javonte Williams\"],[\"Devin Singletary\"],[\"David Montgomery\"],[\"AJ Dillon\"],[\"Darrel Williams\"],[\"D'Andre Swift\"],[\"Elijah Mitchell\"],[\"James Robinson\"],[\"Darrell Henderson\"],[\"Myles Gaskin\"],[\"Sony Michel\"],[\"Tony Pollard\"],[\"Michael Carter\"],[\"Rashaad Penny\"],[\"Chuba Hubbard\"],[\"Saquon Barkley\"],[\"Devontae Booker\"],[\"Rhamondre Stevenson\"],[\"Chase Edmonds\"],[\"Clyde Edwards-Helaire\"],[\"Mike Davis\"],[\"Alexander Mattison\"],[\"Jamaal Williams\"],[\"Christian McCaffrey\"],[\"Miles Sanders\"],[\"Kenneth Gainwell\"],[\"Kareem Hunt\"],[\"Boston Scott\"],[\"J.D. McKissic\"],[\"Ty Johnson\"],[\"Mark Ingram\"],[\"Zack Moss\"],[\"Kenyan Drake\"],[\"Nyheim Hines\"],[\"Ronald Jones II\"],[\"Justin Jackson\"],[\"Alex Collins\"],[\"Samaje Perine\"],[\"David Johnson\"],[\"Jeremy McNichols\"],[\"Jaret Patterson\"],[\"Damien Williams\"],[\"Kyle Juszczyk*\"],[\"Chris Carson\"],[\"Tevin Coleman\"],[\"Phillip Lindsay\"],[\"DeeJay Dallas\"],[\"Dare Ogunbowale\"],[\"Giovani Bernard\"],[\"Chris Evans\"],[\"Carlos Hyde\"],[\"Le'Veon Bell\"],[\"Ty'Son Williams\"],[\"Salvon Ahmed\"],[\"Trey Sermon\"],[\"Jerick McKinnon\"],[\"Malcolm Brown\"],[\"James White\"],[\"Tony Jones\"],[\"Wayne Gallman\"],[\"Joshua Kelley\"],[\"Marlon Mack\"],[\"Benny Snell Jr.\"],[\"Dwayne Washington\"],[\"Darrynton Evans\"],[\"Raheem Mostert\"],[\"Anthony McFarland Jr.\"]],\"hovertemplate\":\"ADP=%{x}<br>FantasyPoints=%{y}<br>Player=%{customdata[0]}<br>labels=%{marker.color}<extra></extra>\",\"legendgroup\":\"\",\"marker\":{\"color\":[2,2,2,2,2,2,1,2,2,2,2,4,4,3,4,4,4,4,4,4,4,4,4,4,4,1,4,4,1,4,0,4,4,0,4,4,4,4,1,0,4,0,4,1,1,1,1,0,0,0,0,3,0,1,0,0,0,0,3,1,1,0,1,0,0,1,1,0,1,1,1,0,1,3,0,1,1,3,3,1,2,2,2,2,2,2,2,2,2,2,2,4,2,4,4,2,4,4,4,4,4,3,4,4,4,4,3,4,4,4,4,4,4,4,3,4,0,0,4,0,3,4,0,3,4,3,0,3,3,0,3,3,3,3,3,3,0,0,3,0,3,0,0,3,3,3,3,3,3,3,3,3,3,3,3,0,3,3,3,3,3,3,3,3,3,2,2,2,4,4,4,4,4,4,4,4,4,4,4,4,4,4,3,4,4,4,4,4,0,4,3,3,0,0,0,3,3,4,3,4,0,3,0,0,0,0,3,0,3,0,3,4,0,4,0,3,3,0,0,0,0,0,0,0,0,3,0,0,3,3,0,3,0,0,3,0,3,0,3,3,0,3,0,0,0,3,0,3,3,2,2,2,2,4,4,4,4,4,4,4,3,4,4,4,4,4,4,4,4,4,3,4,3,4,4,4,4,0,0,3,3,4,3,0,4,4,0,0,0,4,4,3,0,3,0,3,3,0,0,0,0,3,3,3,0,3,3,3,3,0,0,0,3,3,0,3,0,3,0,3,0,3,0,0,0,3,3,3,3,3,3,0,3],\"coloraxis\":\"coloraxis\",\"symbol\":\"circle\"},\"mode\":\"markers\",\"name\":\"\",\"orientation\":\"v\",\"showlegend\":false,\"x\":[2.0,6.0,18.0,7.0,4.0,15.0,359.0,11.0,26.0,3.0,98.0,46.0,85.0,193.0,121.0,86.0,63.0,124.0,31.0,42.0,51.0,147.0,149.0,96.0,99.0,355.0,52.0,62.0,356.0,12.0,155.0,87.0,50.0,148.0,14.0,157.0,47.0,23.0,386.0,74.0,45.0,97.0,60.0,351.0,392.0,358.0,354.0,49.0,164.0,123.0,88.0,200.0,156.0,357.0,125.0,73.0,144.0,154.0,165.0,352.0,427.0,142.0,353.0,48.0,61.0,388.0,389.0,89.0,400.0,390.0,385.0,19.0,426.0,195.0,143.0,415.0,387.0,194.0,199.0,391.0,3.0,33.0,32.0,2.0,17.0,22.0,83.0,35.0,31.0,1.0,15.0,14.0,26.0,25.0,64.0,4.0,44.0,59.0,61.0,8.0,60.0,194.0,45.0,24.0,34.0,137.0,203.0,57.0,101.0,70.0,63.0,16.0,69.0,58.0,200.0,6.0,102.0,104.0,85.0,100.0,209.0,82.0,84.0,174.0,23.0,240.0,103.0,204.0,201.0,86.0,185.0,235.0,205.0,170.0,250.0,171.0,62.0,105.0,172.0,135.0,186.0,138.0,136.0,188.0,264.0,202.0,278.0,242.0,206.0,277.0,208.0,187.0,173.0,184.0,265.0,106.0,237.0,236.0,238.0,195.0,276.0,207.0,199.0,239.0,241.0,7.0,5.0,4.0,46.0,15.0,58.0,139.0,11.0,12.0,49.0,3.0,10.0,45.0,56.0,71.0,39.0,90.0,264.0,40.0,84.0,9.0,8.0,43.0,132.0,44.0,240.0,276.0,130.0,92.0,128.0,208.0,203.0,13.0,241.0,57.0,72.0,202.0,155.0,129.0,48.0,91.0,206.0,160.0,242.0,59.0,209.0,14.0,105.0,1.0,141.0,204.0,200.0,140.0,87.0,157.0,47.0,86.0,156.0,103.0,85.0,278.0,70.0,142.0,236.0,239.0,159.0,277.0,158.0,89.0,207.0,88.0,238.0,131.0,237.0,235.0,143.0,201.0,60.0,2.0,104.0,250.0,133.0,199.0,265.0,9.0,10.0,22.0,15.0,99.0,8.0,12.0,70.0,3.0,14.0,98.0,209.0,11.0,5.0,2.0,47.0,100.0,51.0,104.0,30.0,101.0,202.0,36.0,236.0,31.0,69.0,53.0,94.0,139.0,111.0,198.0,201.0,4.0,197.0,156.0,48.0,23.0,54.0,140.0,102.0,1.0,32.0,207.0,52.0,206.0,137.0,203.0,195.0,103.0,97.0,110.0,112.0,199.0,235.0,210.0,123.0,265.0,208.0,200.0,242.0,37.0,157.0,136.0,277.0,264.0,142.0,241.0,158.0,194.0,88.0,204.0,113.0,237.0,141.0,124.0,138.0,196.0,238.0,205.0,278.0,276.0,240.0,87.0,250.0],\"xaxis\":\"x\",\"y\":[366.1,383.8,385.5,348.2,329.1,271.5,276.0,230.2,243.4,244.6,276.6,201.36,201.4,194.5,189.0,233.94000000000003,193.6,174.1,180.0,206.2,172.6,171.4,162.5,139.1,150.3,168.8,142.5,140.7,173.1,152.0,129.9,139.39999999999998,160.7,119.9,120.4,160.9,108.6,127.2,102.6,98.4,101.3,112.4,128.0,86.5,97.3,85.9,78.0,79.0,67.4,95.9,70.4,93.6,79.1,79.0,116.5,91.6,87.8,60.3,54.4,61.0,83.0,60.1,63.1,41.4,49.7,44.5,33.7,20.700000000000006,19.7,12.1,10.7,14.1,12.5,6.7,4.1,4.9,1.7,0.8,0.9,1.1,469.2,294.6,314.8,311.7,292.4,255.2,309.0,238.5,232.6,244.1,225.4,217.4,259.4,191.6,216.7,248.52,179.29999999999995,212.2,197.7,213.0,170.4,153.2,152.6,197.6,180.8,166.3,147.0,198.2,157.2,147.9,135.4,145.5,141.1,154.0,146.3,141.5,114.5,111.4,142.2,118.6,92.6,163.9,103.3,94.9,85.0,101.1,105.9,87.2,82.8,75.3,101.4,68.4,59.1,104.4,57.9,93.6,57.4,82.8,49.5,66.3,75.3,51.8,68.4,51.2,48.2,60.2,30.7,42.0,38.1,33.2,36.3,32.1,31.2,32.3,28.8,22.4,29.7,15.0,12.6,11.9,8.0,4.3,1.2,0.9,1.1,314.0,295.0,294.0,217.0,212.0,211.0,201.0,198.0,192.0,181.0,172.0,167.0,166.0,166.0,158.0,151.0,151.0,148.0,147.0,144.0,142.0,140.0,138.0,130.0,130.0,119.0,116.0,115.0,114.0,113.0,113.0,111.0,111.0,111.0,106.0,96.0,96.0,93.0,93.0,91.0,88.0,86.0,86.0,84.0,84.0,83.0,79.0,74.0,73.0,71.0,70.0,69.0,68.0,68.0,65.0,59.0,59.0,58.0,56.0,53.0,51.0,47.0,46.0,42.0,40.0,38.0,38.0,37.0,33.0,32.0,30.0,29.0,23.0,18.0,17.0,14.0,13.0,12.0,9.0,9.0,7.0,6.0,4.0,3.0,333.0,274.0,246.0,227.0,221.0,205.0,195.0,192.0,188.0,187.0,187.0,183.0,177.0,175.0,172.0,172.0,167.0,162.0,158.0,153.0,152.0,149.0,147.0,146.0,143.0,134.0,125.0,125.0,124.0,118.0,116.0,113.0,108.0,104.0,101.0,100.0,99.0,94.0,94.0,94.0,91.0,91.0,90.0,88.0,86.0,85.0,83.0,82.0,82.0,73.0,73.0,69.0,64.0,60.0,56.0,49.0,46.0,46.0,45.0,44.0,42.0,41.0,41.0,39.0,37.0,36.0,35.0,34.0,33.0,33.0,27.0,25.0,23.0,20.0,19.0,17.0,13.0,12.0,11.0,11.0,3.0,2.0,2.0,1.0],\"yaxis\":\"y\",\"type\":\"scatter\"}],                        {\"template\":{\"data\":{\"histogram2dcontour\":[{\"type\":\"histogram2dcontour\",\"colorbar\":{\"outlinewidth\":0,\"ticks\":\"\"},\"colorscale\":[[0.0,\"#0d0887\"],[0.1111111111111111,\"#46039f\"],[0.2222222222222222,\"#7201a8\"],[0.3333333333333333,\"#9c179e\"],[0.4444444444444444,\"#bd3786\"],[0.5555555555555556,\"#d8576b\"],[0.6666666666666666,\"#ed7953\"],[0.7777777777777778,\"#fb9f3a\"],[0.8888888888888888,\"#fdca26\"],[1.0,\"#f0f921\"]]}],\"choropleth\":[{\"type\":\"choropleth\",\"colorbar\":{\"outlinewidth\":0,\"ticks\":\"\"}}],\"histogram2d\":[{\"type\":\"histogram2d\",\"colorbar\":{\"outlinewidth\":0,\"ticks\":\"\"},\"colorscale\":[[0.0,\"#0d0887\"],[0.1111111111111111,\"#46039f\"],[0.2222222222222222,\"#7201a8\"],[0.3333333333333333,\"#9c179e\"],[0.4444444444444444,\"#bd3786\"],[0.5555555555555556,\"#d8576b\"],[0.6666666666666666,\"#ed7953\"],[0.7777777777777778,\"#fb9f3a\"],[0.8888888888888888,\"#fdca26\"],[1.0,\"#f0f921\"]]}],\"heatmap\":[{\"type\":\"heatmap\",\"colorbar\":{\"outlinewidth\":0,\"ticks\":\"\"},\"colorscale\":[[0.0,\"#0d0887\"],[0.1111111111111111,\"#46039f\"],[0.2222222222222222,\"#7201a8\"],[0.3333333333333333,\"#9c179e\"],[0.4444444444444444,\"#bd3786\"],[0.5555555555555556,\"#d8576b\"],[0.6666666666666666,\"#ed7953\"],[0.7777777777777778,\"#fb9f3a\"],[0.8888888888888888,\"#fdca26\"],[1.0,\"#f0f921\"]]}],\"heatmapgl\":[{\"type\":\"heatmapgl\",\"colorbar\":{\"outlinewidth\":0,\"ticks\":\"\"},\"colorscale\":[[0.0,\"#0d0887\"],[0.1111111111111111,\"#46039f\"],[0.2222222222222222,\"#7201a8\"],[0.3333333333333333,\"#9c179e\"],[0.4444444444444444,\"#bd3786\"],[0.5555555555555556,\"#d8576b\"],[0.6666666666666666,\"#ed7953\"],[0.7777777777777778,\"#fb9f3a\"],[0.8888888888888888,\"#fdca26\"],[1.0,\"#f0f921\"]]}],\"contourcarpet\":[{\"type\":\"contourcarpet\",\"colorbar\":{\"outlinewidth\":0,\"ticks\":\"\"}}],\"contour\":[{\"type\":\"contour\",\"colorbar\":{\"outlinewidth\":0,\"ticks\":\"\"},\"colorscale\":[[0.0,\"#0d0887\"],[0.1111111111111111,\"#46039f\"],[0.2222222222222222,\"#7201a8\"],[0.3333333333333333,\"#9c179e\"],[0.4444444444444444,\"#bd3786\"],[0.5555555555555556,\"#d8576b\"],[0.6666666666666666,\"#ed7953\"],[0.7777777777777778,\"#fb9f3a\"],[0.8888888888888888,\"#fdca26\"],[1.0,\"#f0f921\"]]}],\"surface\":[{\"type\":\"surface\",\"colorbar\":{\"outlinewidth\":0,\"ticks\":\"\"},\"colorscale\":[[0.0,\"#0d0887\"],[0.1111111111111111,\"#46039f\"],[0.2222222222222222,\"#7201a8\"],[0.3333333333333333,\"#9c179e\"],[0.4444444444444444,\"#bd3786\"],[0.5555555555555556,\"#d8576b\"],[0.6666666666666666,\"#ed7953\"],[0.7777777777777778,\"#fb9f3a\"],[0.8888888888888888,\"#fdca26\"],[1.0,\"#f0f921\"]]}],\"mesh3d\":[{\"type\":\"mesh3d\",\"colorbar\":{\"outlinewidth\":0,\"ticks\":\"\"}}],\"scatter\":[{\"fillpattern\":{\"fillmode\":\"overlay\",\"size\":10,\"solidity\":0.2},\"type\":\"scatter\"}],\"parcoords\":[{\"type\":\"parcoords\",\"line\":{\"colorbar\":{\"outlinewidth\":0,\"ticks\":\"\"}}}],\"scatterpolargl\":[{\"type\":\"scatterpolargl\",\"marker\":{\"colorbar\":{\"outlinewidth\":0,\"ticks\":\"\"}}}],\"bar\":[{\"error_x\":{\"color\":\"#2a3f5f\"},\"error_y\":{\"color\":\"#2a3f5f\"},\"marker\":{\"line\":{\"color\":\"#E5ECF6\",\"width\":0.5},\"pattern\":{\"fillmode\":\"overlay\",\"size\":10,\"solidity\":0.2}},\"type\":\"bar\"}],\"scattergeo\":[{\"type\":\"scattergeo\",\"marker\":{\"colorbar\":{\"outlinewidth\":0,\"ticks\":\"\"}}}],\"scatterpolar\":[{\"type\":\"scatterpolar\",\"marker\":{\"colorbar\":{\"outlinewidth\":0,\"ticks\":\"\"}}}],\"histogram\":[{\"marker\":{\"pattern\":{\"fillmode\":\"overlay\",\"size\":10,\"solidity\":0.2}},\"type\":\"histogram\"}],\"scattergl\":[{\"type\":\"scattergl\",\"marker\":{\"colorbar\":{\"outlinewidth\":0,\"ticks\":\"\"}}}],\"scatter3d\":[{\"type\":\"scatter3d\",\"line\":{\"colorbar\":{\"outlinewidth\":0,\"ticks\":\"\"}},\"marker\":{\"colorbar\":{\"outlinewidth\":0,\"ticks\":\"\"}}}],\"scattermapbox\":[{\"type\":\"scattermapbox\",\"marker\":{\"colorbar\":{\"outlinewidth\":0,\"ticks\":\"\"}}}],\"scatterternary\":[{\"type\":\"scatterternary\",\"marker\":{\"colorbar\":{\"outlinewidth\":0,\"ticks\":\"\"}}}],\"scattercarpet\":[{\"type\":\"scattercarpet\",\"marker\":{\"colorbar\":{\"outlinewidth\":0,\"ticks\":\"\"}}}],\"carpet\":[{\"aaxis\":{\"endlinecolor\":\"#2a3f5f\",\"gridcolor\":\"white\",\"linecolor\":\"white\",\"minorgridcolor\":\"white\",\"startlinecolor\":\"#2a3f5f\"},\"baxis\":{\"endlinecolor\":\"#2a3f5f\",\"gridcolor\":\"white\",\"linecolor\":\"white\",\"minorgridcolor\":\"white\",\"startlinecolor\":\"#2a3f5f\"},\"type\":\"carpet\"}],\"table\":[{\"cells\":{\"fill\":{\"color\":\"#EBF0F8\"},\"line\":{\"color\":\"white\"}},\"header\":{\"fill\":{\"color\":\"#C8D4E3\"},\"line\":{\"color\":\"white\"}},\"type\":\"table\"}],\"barpolar\":[{\"marker\":{\"line\":{\"color\":\"#E5ECF6\",\"width\":0.5},\"pattern\":{\"fillmode\":\"overlay\",\"size\":10,\"solidity\":0.2}},\"type\":\"barpolar\"}],\"pie\":[{\"automargin\":true,\"type\":\"pie\"}]},\"layout\":{\"autotypenumbers\":\"strict\",\"colorway\":[\"#636efa\",\"#EF553B\",\"#00cc96\",\"#ab63fa\",\"#FFA15A\",\"#19d3f3\",\"#FF6692\",\"#B6E880\",\"#FF97FF\",\"#FECB52\"],\"font\":{\"color\":\"#2a3f5f\"},\"hovermode\":\"closest\",\"hoverlabel\":{\"align\":\"left\"},\"paper_bgcolor\":\"white\",\"plot_bgcolor\":\"#E5ECF6\",\"polar\":{\"bgcolor\":\"#E5ECF6\",\"angularaxis\":{\"gridcolor\":\"white\",\"linecolor\":\"white\",\"ticks\":\"\"},\"radialaxis\":{\"gridcolor\":\"white\",\"linecolor\":\"white\",\"ticks\":\"\"}},\"ternary\":{\"bgcolor\":\"#E5ECF6\",\"aaxis\":{\"gridcolor\":\"white\",\"linecolor\":\"white\",\"ticks\":\"\"},\"baxis\":{\"gridcolor\":\"white\",\"linecolor\":\"white\",\"ticks\":\"\"},\"caxis\":{\"gridcolor\":\"white\",\"linecolor\":\"white\",\"ticks\":\"\"}},\"coloraxis\":{\"colorbar\":{\"outlinewidth\":0,\"ticks\":\"\"}},\"colorscale\":{\"sequential\":[[0.0,\"#0d0887\"],[0.1111111111111111,\"#46039f\"],[0.2222222222222222,\"#7201a8\"],[0.3333333333333333,\"#9c179e\"],[0.4444444444444444,\"#bd3786\"],[0.5555555555555556,\"#d8576b\"],[0.6666666666666666,\"#ed7953\"],[0.7777777777777778,\"#fb9f3a\"],[0.8888888888888888,\"#fdca26\"],[1.0,\"#f0f921\"]],\"sequentialminus\":[[0.0,\"#0d0887\"],[0.1111111111111111,\"#46039f\"],[0.2222222222222222,\"#7201a8\"],[0.3333333333333333,\"#9c179e\"],[0.4444444444444444,\"#bd3786\"],[0.5555555555555556,\"#d8576b\"],[0.6666666666666666,\"#ed7953\"],[0.7777777777777778,\"#fb9f3a\"],[0.8888888888888888,\"#fdca26\"],[1.0,\"#f0f921\"]],\"diverging\":[[0,\"#8e0152\"],[0.1,\"#c51b7d\"],[0.2,\"#de77ae\"],[0.3,\"#f1b6da\"],[0.4,\"#fde0ef\"],[0.5,\"#f7f7f7\"],[0.6,\"#e6f5d0\"],[0.7,\"#b8e186\"],[0.8,\"#7fbc41\"],[0.9,\"#4d9221\"],[1,\"#276419\"]]},\"xaxis\":{\"gridcolor\":\"white\",\"linecolor\":\"white\",\"ticks\":\"\",\"title\":{\"standoff\":15},\"zerolinecolor\":\"white\",\"automargin\":true,\"zerolinewidth\":2},\"yaxis\":{\"gridcolor\":\"white\",\"linecolor\":\"white\",\"ticks\":\"\",\"title\":{\"standoff\":15},\"zerolinecolor\":\"white\",\"automargin\":true,\"zerolinewidth\":2},\"scene\":{\"xaxis\":{\"backgroundcolor\":\"#E5ECF6\",\"gridcolor\":\"white\",\"linecolor\":\"white\",\"showbackground\":true,\"ticks\":\"\",\"zerolinecolor\":\"white\",\"gridwidth\":2},\"yaxis\":{\"backgroundcolor\":\"#E5ECF6\",\"gridcolor\":\"white\",\"linecolor\":\"white\",\"showbackground\":true,\"ticks\":\"\",\"zerolinecolor\":\"white\",\"gridwidth\":2},\"zaxis\":{\"backgroundcolor\":\"#E5ECF6\",\"gridcolor\":\"white\",\"linecolor\":\"white\",\"showbackground\":true,\"ticks\":\"\",\"zerolinecolor\":\"white\",\"gridwidth\":2}},\"shapedefaults\":{\"line\":{\"color\":\"#2a3f5f\"}},\"annotationdefaults\":{\"arrowcolor\":\"#2a3f5f\",\"arrowhead\":0,\"arrowwidth\":1},\"geo\":{\"bgcolor\":\"white\",\"landcolor\":\"#E5ECF6\",\"subunitcolor\":\"white\",\"showland\":true,\"showlakes\":true,\"lakecolor\":\"white\"},\"title\":{\"x\":0.05},\"mapbox\":{\"style\":\"light\"}}},\"xaxis\":{\"anchor\":\"y\",\"domain\":[0.0,1.0],\"title\":{\"text\":\"ADP\"}},\"yaxis\":{\"anchor\":\"x\",\"domain\":[0.0,1.0],\"title\":{\"text\":\"FantasyPoints\"}},\"coloraxis\":{\"colorbar\":{\"title\":{\"text\":\"labels\"}},\"colorscale\":[[0.0,\"#0d0887\"],[0.1111111111111111,\"#46039f\"],[0.2222222222222222,\"#7201a8\"],[0.3333333333333333,\"#9c179e\"],[0.4444444444444444,\"#bd3786\"],[0.5555555555555556,\"#d8576b\"],[0.6666666666666666,\"#ed7953\"],[0.7777777777777778,\"#fb9f3a\"],[0.8888888888888888,\"#fdca26\"],[1.0,\"#f0f921\"]]},\"legend\":{\"tracegroupgap\":0},\"margin\":{\"t\":60},\"font\":{\"family\":\"sans serif\",\"size\":18,\"color\":\"LightSeaGreen\"}},                        {\"responsive\": true}                    ).then(function(){\n",
       "                            \n",
       "var gd = document.getElementById('7ed16d96-dd10-4514-8891-ae6c13652d1f');\n",
       "var x = new MutationObserver(function (mutations, observer) {{\n",
       "        var display = window.getComputedStyle(gd).display;\n",
       "        if (!display || display === 'none') {{\n",
       "            console.log([gd, 'removed!']);\n",
       "            Plotly.purge(gd);\n",
       "            observer.disconnect();\n",
       "        }}\n",
       "}});\n",
       "\n",
       "// Listen for the removal of the full notebook cells\n",
       "var notebookContainer = gd.closest('#notebook-container');\n",
       "if (notebookContainer) {{\n",
       "    x.observe(notebookContainer, {childList: true});\n",
       "}}\n",
       "\n",
       "// Listen for the clearing of the current output cell\n",
       "var outputEl = gd.closest('.output');\n",
       "if (outputEl) {{\n",
       "    x.observe(outputEl, {childList: true});\n",
       "}}\n",
       "\n",
       "                        })                };                });            </script>        </div>"
      ]
     },
     "metadata": {},
     "output_type": "display_data"
    },
    {
     "data": {
      "application/vnd.plotly.v1+json": {
       "config": {
        "plotlyServerURL": "https://plot.ly"
       },
       "data": [
        {
         "customdata": [
          [
           "Tyreek Hill"
          ],
          [
           "Antonio Brown"
          ],
          [
           "Davante Adams"
          ],
          [
           "DeAndre Hopkins"
          ],
          [
           "Julio Jones"
          ],
          [
           "Mike Evans"
          ],
          [
           "Adam Thielen"
          ],
          [
           "Michael Thomas"
          ],
          [
           "JuJu Smith-Schuster"
          ],
          [
           "Robert Woods"
          ],
          [
           "Tyler Lockett"
          ],
          [
           "Stefon Diggs"
          ],
          [
           "Brandin Cooks"
          ],
          [
           "Keenan Allen"
          ],
          [
           "T.Y. Hilton"
          ],
          [
           "Odell Beckham"
          ],
          [
           "Calvin Ridley"
          ],
          [
           "Amari Cooper"
          ],
          [
           "Mike Williams"
          ],
          [
           "Kenny Golladay"
          ],
          [
           "Jarvis Landry"
          ],
          [
           "Emmanuel Sanders"
          ],
          [
           "Chris Godwin"
          ],
          [
           "Alshon Jeffery"
          ],
          [
           "Corey Davis"
          ],
          [
           "Larry Fitzgerald"
          ],
          [
           "Mohamed Sanu"
          ],
          [
           "DeSean Jackson"
          ],
          [
           "Golden Tate"
          ],
          [
           "A.J. Green"
          ],
          [
           "John Brown"
          ],
          [
           "D.J. Moore"
          ],
          [
           "Josh Gordon"
          ],
          [
           "Allen Robinson"
          ],
          [
           "Demaryius Thomas"
          ],
          [
           "Courtland Sutton"
          ],
          [
           "Doug Baldwin"
          ],
          [
           "Anthony Miller"
          ],
          [
           "Cole Beasley"
          ],
          [
           "Donte Moncrief"
          ],
          [
           "Marvin Jones"
          ],
          [
           "Christian Kirk"
          ],
          [
           "Michael Crabtree"
          ],
          [
           "Sammy Watkins"
          ],
          [
           "Chris Hogan"
          ],
          [
           "Danny Amendola"
          ],
          [
           "Michael Gallup"
          ],
          [
           "Marquise Goodwin"
          ],
          [
           "John Ross"
          ],
          [
           "Keelan Cole"
          ],
          [
           "Taywan Taylor"
          ],
          [
           "Quincy Enunwa"
          ],
          [
           "Ty Montgomery"
          ],
          [
           "Allen Hurns"
          ],
          [
           "Ryan Grant"
          ],
          [
           "Paul Richardson"
          ],
          [
           "Ted Ginn"
          ],
          [
           "Tavon Austin"
          ],
          [
           "James Washington"
          ],
          [
           "Martavis Bryant"
          ],
          [
           "Cameron Meredith"
          ],
          [
           "Rishard Matthews"
          ],
          [
           "Michael Thomas"
          ],
          [
           "Chris Godwin"
          ],
          [
           "Kenny Golladay"
          ],
          [
           "Cooper Kupp"
          ],
          [
           "Julio Jones"
          ],
          [
           "DeVante Parker"
          ],
          [
           "Amari Cooper"
          ],
          [
           "Mike Evans"
          ],
          [
           "A.J. Brown"
          ],
          [
           "DeAndre Hopkins"
          ],
          [
           "Keenan Allen"
          ],
          [
           "Allen Robinson"
          ],
          [
           "Julian Edelman"
          ],
          [
           "Tyler Lockett"
          ],
          [
           "DJ Chark"
          ],
          [
           "Stefon Diggs"
          ],
          [
           "John Brown"
          ],
          [
           "D.J. Moore"
          ],
          [
           "Robert Woods"
          ],
          [
           "Calvin Ridley"
          ],
          [
           "Terry McLaurin"
          ],
          [
           "Tyler Boyd"
          ],
          [
           "Deebo Samuel"
          ],
          [
           "Tyreek Hill"
          ],
          [
           "Davante Adams"
          ],
          [
           "D.K. Metcalf"
          ],
          [
           "Odell Beckham"
          ],
          [
           "Cole Beasley"
          ],
          [
           "Mike Williams"
          ],
          [
           "Robby Anderson"
          ],
          [
           "Chris Conley"
          ],
          [
           "Golden Tate"
          ],
          [
           "Tyrell Williams"
          ],
          [
           "Marquise Brown"
          ],
          [
           "Mecole Hardman"
          ],
          [
           "Sammy Watkins"
          ],
          [
           "Hunter Renfrow"
          ],
          [
           "Sterling Shepard"
          ],
          [
           "Adam Thielen"
          ],
          [
           "T.Y. Hilton"
          ],
          [
           "Kenny Stills"
          ],
          [
           "Alshon Jeffery"
          ],
          [
           "Brandin Cooks"
          ],
          [
           "Anthony Miller"
          ],
          [
           "JuJu Smith-Schuster"
          ],
          [
           "Mohamed Sanu"
          ],
          [
           "Taylor Gabriel"
          ],
          [
           "Ted Ginn"
          ],
          [
           "Tre'Quan Smith"
          ],
          [
           "Adam Humphries"
          ],
          [
           "Josh Gordon"
          ],
          [
           "Albert Wilson"
          ],
          [
           "Geronimo Allison"
          ],
          [
           "Paul Richardson"
          ],
          [
           "DaeSean Hamilton"
          ],
          [
           "Keke Coutee"
          ],
          [
           "DeSean Jackson"
          ],
          [
           "Trey Quinn"
          ],
          [
           "Dante Pettis"
          ],
          [
           "Antonio Brown"
          ],
          [
           "Devin Funchess"
          ],
          [
           "Donte Moncrief"
          ],
          [
           "Davante Adams"
          ],
          [
           "Tyreek Hill"
          ],
          [
           "Stefon Diggs"
          ],
          [
           "Calvin Ridley"
          ],
          [
           "D.K. Metcalf"
          ],
          [
           "Justin Jefferson"
          ],
          [
           "Adam Thielen"
          ],
          [
           "Mike Evans"
          ],
          [
           "A.J. Brown"
          ],
          [
           "DeAndre Hopkins"
          ],
          [
           "Tyler Lockett"
          ],
          [
           "Allen Robinson"
          ],
          [
           "Robert Woods"
          ],
          [
           "Chase Claypool"
          ],
          [
           "D.J. Moore"
          ],
          [
           "Keenan Allen"
          ],
          [
           "Amari Cooper"
          ],
          [
           "CeeDee Lamb"
          ],
          [
           "JuJu Smith-Schuster"
          ],
          [
           "Terry McLaurin"
          ],
          [
           "Will Fuller"
          ],
          [
           "Curtis Samuel"
          ],
          [
           "Tee Higgins"
          ],
          [
           "Cole Beasley"
          ],
          [
           "Chris Godwin"
          ],
          [
           "Brandon Aiyuk"
          ],
          [
           "Cooper Kupp"
          ],
          [
           "Jarvis Landry"
          ],
          [
           "Tyler Boyd"
          ],
          [
           "Michael Gallup"
          ],
          [
           "Russell Gage"
          ],
          [
           "T.Y. Hilton"
          ],
          [
           "Jerry Jeudy"
          ],
          [
           "Mike Williams"
          ],
          [
           "DeVante Parker"
          ],
          [
           "DJ Chark"
          ],
          [
           "Laviska Shenault Jr."
          ],
          [
           "Julio Jones"
          ],
          [
           "Mecole Hardman"
          ],
          [
           "Breshad Perriman"
          ],
          [
           "James Washington"
          ],
          [
           "Allen Lazard"
          ],
          [
           "Odell Beckham Jr."
          ],
          [
           "A.J. Green"
          ],
          [
           "Randall Cobb"
          ],
          [
           "Anthony Miller"
          ],
          [
           "Michael Pittman Jr."
          ],
          [
           "Henry Ruggs III"
          ],
          [
           "Jalen Reagor"
          ],
          [
           "Sammy Watkins"
          ],
          [
           "Larry Fitzgerald"
          ],
          [
           "Kenny Golladay"
          ],
          [
           "Michael Thomas"
          ],
          [
           "N'Keal Harry"
          ],
          [
           "Denzel Mims"
          ],
          [
           "DeSean Jackson"
          ],
          [
           "Steven Sims"
          ],
          [
           "Van Jefferson"
          ],
          [
           "Bryan Edwards"
          ],
          [
           "Alshon Jeffery"
          ],
          [
           "Parris Campbell"
          ],
          [
           "Courtland Sutton"
          ],
          [
           "Cooper Kupp*+"
          ],
          [
           "Justin Jefferson*"
          ],
          [
           "Davante Adams*+"
          ],
          [
           "Mike Evans*"
          ],
          [
           "Tyreek Hill*"
          ],
          [
           "Stefon Diggs*"
          ],
          [
           "D.K. Metcalf"
          ],
          [
           "Tyler Lockett"
          ],
          [
           "Diontae Johnson*"
          ],
          [
           "CeeDee Lamb*"
          ],
          [
           "Keenan Allen*"
          ],
          [
           "Michael Pittman Jr."
          ],
          [
           "Tee Higgins"
          ],
          [
           "D.J. Moore"
          ],
          [
           "Chris Godwin"
          ],
          [
           "Jaylen Waddle"
          ],
          [
           "Brandin Cooks"
          ],
          [
           "Darnell Mooney"
          ],
          [
           "Amon-Ra St. Brown"
          ],
          [
           "Terry McLaurin"
          ],
          [
           "Amari Cooper"
          ],
          [
           "Adam Thielen"
          ],
          [
           "A.J. Brown"
          ],
          [
           "Brandon Aiyuk"
          ],
          [
           "Chase Claypool"
          ],
          [
           "Marquez Callaway"
          ],
          [
           "DeAndre Hopkins"
          ],
          [
           "A.J. Green"
          ],
          [
           "Jakobi Meyers"
          ],
          [
           "Russell Gage"
          ],
          [
           "Elijah Moore"
          ],
          [
           "Courtland Sutton"
          ],
          [
           "Robert Woods"
          ],
          [
           "Gabriel Davis"
          ],
          [
           "Emmanuel Sanders"
          ],
          [
           "Robby Anderson"
          ],
          [
           "Odell Beckham Jr."
          ],
          [
           "Mecole Hardman"
          ],
          [
           "Antonio Brown"
          ],
          [
           "Cole Beasley"
          ],
          [
           "Bryan Edwards"
          ],
          [
           "Nelson Agholor"
          ],
          [
           "Randall Cobb"
          ],
          [
           "DeVante Parker"
          ],
          [
           "Henry Ruggs III"
          ],
          [
           "Jamison Crowder"
          ],
          [
           "Rashod Bateman"
          ],
          [
           "DeSean Jackson"
          ],
          [
           "Tre'Quan Smith"
          ],
          [
           "Rondale Moore"
          ],
          [
           "Kenny Golladay"
          ],
          [
           "Nico Collins"
          ],
          [
           "Julio Jones"
          ],
          [
           "Allen Robinson"
          ],
          [
           "Jerry Jeudy"
          ],
          [
           "Jalen Reagor"
          ],
          [
           "Sammy Watkins"
          ],
          [
           "Sterling Shepard"
          ],
          [
           "Calvin Ridley"
          ],
          [
           "Parris Campbell"
          ],
          [
           "JuJu Smith-Schuster"
          ],
          [
           "Terrace Marshall Jr."
          ],
          [
           "Tarik Black"
          ],
          [
           "Tyrell Williams"
          ]
         ],
         "hovertemplate": "ADP=%{x}<br>FantasyPoints=%{y}<br>Player=%{customdata[0]}<br>labels=%{marker.color}<extra></extra>",
         "legendgroup": "",
         "marker": {
          "color": [
           3,
           3,
           3,
           3,
           3,
           3,
           3,
           3,
           3,
           3,
           2,
           3,
           3,
           3,
           3,
           3,
           2,
           3,
           2,
           2,
           3,
           3,
           2,
           1,
           1,
           1,
           2,
           2,
           1,
           1,
           2,
           2,
           1,
           1,
           1,
           2,
           1,
           2,
           4,
           2,
           1,
           2,
           1,
           1,
           1,
           2,
           0,
           1,
           0,
           0,
           0,
           0,
           0,
           0,
           0,
           0,
           4,
           4,
           0,
           4,
           0,
           0,
           3,
           3,
           3,
           3,
           3,
           2,
           3,
           3,
           2,
           3,
           3,
           3,
           3,
           3,
           2,
           3,
           2,
           3,
           3,
           1,
           2,
           3,
           2,
           1,
           3,
           2,
           3,
           2,
           1,
           1,
           2,
           2,
           1,
           2,
           2,
           1,
           2,
           1,
           1,
           1,
           2,
           1,
           1,
           2,
           1,
           2,
           0,
           0,
           0,
           0,
           1,
           0,
           0,
           0,
           0,
           0,
           0,
           0,
           0,
           1,
           0,
           0,
           3,
           3,
           3,
           1,
           1,
           2,
           1,
           1,
           1,
           1,
           1,
           1,
           1,
           2,
           1,
           1,
           1,
           2,
           1,
           1,
           1,
           2,
           2,
           2,
           1,
           2,
           1,
           1,
           1,
           1,
           2,
           1,
           0,
           0,
           1,
           1,
           0,
           1,
           0,
           0,
           0,
           0,
           1,
           1,
           0,
           0,
           0,
           0,
           0,
           0,
           0,
           1,
           1,
           0,
           0,
           0,
           0,
           0,
           0,
           0,
           0,
           0,
           3,
           3,
           3,
           1,
           1,
           1,
           1,
           1,
           1,
           1,
           1,
           2,
           1,
           1,
           1,
           1,
           1,
           2,
           2,
           1,
           1,
           1,
           1,
           1,
           1,
           0,
           1,
           0,
           0,
           0,
           0,
           1,
           1,
           0,
           0,
           1,
           1,
           0,
           0,
           0,
           0,
           0,
           0,
           0,
           0,
           0,
           0,
           4,
           0,
           0,
           1,
           0,
           1,
           1,
           0,
           0,
           0,
           0,
           1,
           0,
           0,
           0,
           0,
           0
          ],
          "coloraxis": "coloraxis",
          "symbol": "circle"
         },
         "mode": "markers",
         "name": "",
         "orientation": "v",
         "showlegend": false,
         "type": "scatter",
         "x": [
          33,
          5,
          20,
          9,
          8,
          22,
          29,
          16,
          54,
          55,
          110,
          30,
          44,
          13,
          28,
          10,
          131,
          38,
          140,
          106,
          40,
          57,
          129,
          43,
          67,
          27,
          109,
          113,
          37,
          17,
          137,
          115,
          39,
          36,
          34,
          139,
          35,
          138,
          363,
          141,
          41,
          166,
          56,
          69,
          53,
          111,
          112,
          68,
          130,
          107,
          167,
          162,
          122,
          104,
          160,
          105,
          364,
          414,
          132,
          365,
          108,
          114,
          7,
          47,
          40,
          42,
          10,
          177,
          21,
          19,
          214,
          5,
          20,
          49,
          39,
          46,
          180,
          37,
          123,
          51,
          38,
          54,
          175,
          52,
          179,
          11,
          9,
          122,
          12,
          176,
          50,
          75,
          163,
          126,
          53,
          162,
          181,
          74,
          161,
          56,
          28,
          41,
          213,
          48,
          36,
          139,
          13,
          128,
          198,
          196,
          215,
          121,
          55,
          127,
          130,
          129,
          140,
          110,
          120,
          197,
          108,
          27,
          178,
          109,
          16,
          18,
          65,
          32,
          55,
          127,
          26,
          22,
          33,
          19,
          37,
          27,
          36,
          196,
          25,
          51,
          28,
          109,
          29,
          50,
          66,
          125,
          194,
          215,
          21,
          145,
          38,
          53,
          62,
          64,
          214,
          52,
          102,
          108,
          61,
          54,
          197,
          17,
          124,
          107,
          213,
          152,
          30,
          63,
          147,
          126,
          151,
          101,
          150,
          146,
          149,
          24,
          6,
          123,
          154,
          106,
          153,
          195,
          198,
          148,
          144,
          31,
          41,
          21,
          7,
          34,
          13,
          16,
          19,
          39,
          42,
          28,
          26,
          117,
          46,
          44,
          40,
          95,
          66,
          127,
          164,
          25,
          35,
          38,
          20,
          45,
          65,
          121,
          17,
          160,
          118,
          150,
          129,
          59,
          33,
          162,
          163,
          57,
          56,
          126,
          93,
          119,
          159,
          153,
          161,
          120,
          96,
          152,
          213,
          302,
          215,
          154,
          55,
          193,
          43,
          27,
          64,
          122,
          214,
          151,
          18,
          128,
          58,
          155,
          239,
          125
         ],
         "xaxis": "x",
         "y": [
          328,
          323.7,
          327.6,
          333.5,
          325.9,
          284.4,
          305.3,
          315.5,
          294.9000000000001,
          265.6,
          220.4,
          264.3,
          243.2,
          258.1,
          239,
          230.34,
          206.8,
          215.5,
          178.20000000000005,
          207.1,
          215.12,
          198.22000000000003,
          183.2,
          185.3,
          183.6,
          183.68,
          180.4,
          151.3,
          180.9,
          149.4,
          143.9,
          157,
          138.7,
          153.3,
          156.7,
          136.3,
          141.8,
          120.22,
          150.2,
          130.8,
          115.8,
          123.5,
          132.7,
          115.1,
          106.2,
          127.42,
          95.7,
          87.4,
          84.9,
          89.1,
          87.6,
          86.9,
          71.3,
          61.5,
          74.4,
          59.1,
          50.5,
          39.5,
          43.7,
          45.9,
          24.4,
          7.4,
          374.6,
          274.1,
          248,
          270.5,
          274.1,
          246.2,
          246.5,
          230.7,
          217.1,
          266.54,
          261.5,
          254.9,
          254.28,
          235.2,
          223.8,
          212.1,
          219.82,
          230.5,
          232.9,
          195,
          191.9,
          222.9,
          187.1,
          188.3,
          210.7,
          185.1,
          201.3,
          180.8,
          161.29999999999995,
          160.3,
          154.5,
          152.2,
          143.1,
          146.4,
          113.5,
          136.5,
          133.5,
          139.79999999999998,
          114.4,
          125.1,
          120.1,
          122.2,
          117.5,
          127.5,
          113.2,
          124.1,
          90.3,
          85.89999999999998,
          71.4,
          86.5,
          73.69999999999997,
          89.4,
          73.4,
          64.5,
          63.7,
          52.8,
          36.9,
          49.8,
          34.54,
          16.1,
          6.2,
          5.8,
          243,
          242,
          202,
          192,
          188,
          186,
          180,
          179,
          178,
          173,
          165,
          161,
          155,
          153,
          146,
          145,
          145,
          144,
          137,
          137,
          136,
          135,
          128,
          126,
          126,
          125,
          117,
          116,
          114,
          114,
          109,
          108,
          106,
          106,
          103,
          101,
          99,
          95,
          87,
          69,
          69,
          65,
          64,
          64,
          62,
          60,
          59,
          58,
          56,
          50,
          47,
          46,
          44,
          41,
          38,
          31,
          30,
          28,
          25,
          18,
          9,
          7,
          295,
          222,
          221,
          189,
          186,
          183,
          169,
          168,
          167,
          154,
          152,
          151,
          145,
          145,
          144,
          142,
          142,
          139,
          137,
          137,
          135,
          133,
          118,
          114,
          108,
          106,
          105,
          103,
          103,
          97,
          95,
          92,
          92,
          91,
          90,
          86,
          85,
          82,
          79,
          77,
          75,
          66,
          66,
          64,
          61,
          59,
          58,
          56,
          56,
          55,
          52,
          51,
          49,
          49,
          47,
          45,
          43,
          42,
          40,
          22,
          20,
          16,
          1,
          1
         ],
         "yaxis": "y"
        }
       ],
       "layout": {
        "coloraxis": {
         "colorbar": {
          "title": {
           "text": "labels"
          }
         },
         "colorscale": [
          [
           0,
           "#0d0887"
          ],
          [
           0.1111111111111111,
           "#46039f"
          ],
          [
           0.2222222222222222,
           "#7201a8"
          ],
          [
           0.3333333333333333,
           "#9c179e"
          ],
          [
           0.4444444444444444,
           "#bd3786"
          ],
          [
           0.5555555555555556,
           "#d8576b"
          ],
          [
           0.6666666666666666,
           "#ed7953"
          ],
          [
           0.7777777777777778,
           "#fb9f3a"
          ],
          [
           0.8888888888888888,
           "#fdca26"
          ],
          [
           1,
           "#f0f921"
          ]
         ]
        },
        "font": {
         "color": "LightSeaGreen",
         "family": "sans serif",
         "size": 18
        },
        "legend": {
         "tracegroupgap": 0
        },
        "margin": {
         "t": 60
        },
        "template": {
         "data": {
          "bar": [
           {
            "error_x": {
             "color": "#2a3f5f"
            },
            "error_y": {
             "color": "#2a3f5f"
            },
            "marker": {
             "line": {
              "color": "#E5ECF6",
              "width": 0.5
             },
             "pattern": {
              "fillmode": "overlay",
              "size": 10,
              "solidity": 0.2
             }
            },
            "type": "bar"
           }
          ],
          "barpolar": [
           {
            "marker": {
             "line": {
              "color": "#E5ECF6",
              "width": 0.5
             },
             "pattern": {
              "fillmode": "overlay",
              "size": 10,
              "solidity": 0.2
             }
            },
            "type": "barpolar"
           }
          ],
          "carpet": [
           {
            "aaxis": {
             "endlinecolor": "#2a3f5f",
             "gridcolor": "white",
             "linecolor": "white",
             "minorgridcolor": "white",
             "startlinecolor": "#2a3f5f"
            },
            "baxis": {
             "endlinecolor": "#2a3f5f",
             "gridcolor": "white",
             "linecolor": "white",
             "minorgridcolor": "white",
             "startlinecolor": "#2a3f5f"
            },
            "type": "carpet"
           }
          ],
          "choropleth": [
           {
            "colorbar": {
             "outlinewidth": 0,
             "ticks": ""
            },
            "type": "choropleth"
           }
          ],
          "contour": [
           {
            "colorbar": {
             "outlinewidth": 0,
             "ticks": ""
            },
            "colorscale": [
             [
              0,
              "#0d0887"
             ],
             [
              0.1111111111111111,
              "#46039f"
             ],
             [
              0.2222222222222222,
              "#7201a8"
             ],
             [
              0.3333333333333333,
              "#9c179e"
             ],
             [
              0.4444444444444444,
              "#bd3786"
             ],
             [
              0.5555555555555556,
              "#d8576b"
             ],
             [
              0.6666666666666666,
              "#ed7953"
             ],
             [
              0.7777777777777778,
              "#fb9f3a"
             ],
             [
              0.8888888888888888,
              "#fdca26"
             ],
             [
              1,
              "#f0f921"
             ]
            ],
            "type": "contour"
           }
          ],
          "contourcarpet": [
           {
            "colorbar": {
             "outlinewidth": 0,
             "ticks": ""
            },
            "type": "contourcarpet"
           }
          ],
          "heatmap": [
           {
            "colorbar": {
             "outlinewidth": 0,
             "ticks": ""
            },
            "colorscale": [
             [
              0,
              "#0d0887"
             ],
             [
              0.1111111111111111,
              "#46039f"
             ],
             [
              0.2222222222222222,
              "#7201a8"
             ],
             [
              0.3333333333333333,
              "#9c179e"
             ],
             [
              0.4444444444444444,
              "#bd3786"
             ],
             [
              0.5555555555555556,
              "#d8576b"
             ],
             [
              0.6666666666666666,
              "#ed7953"
             ],
             [
              0.7777777777777778,
              "#fb9f3a"
             ],
             [
              0.8888888888888888,
              "#fdca26"
             ],
             [
              1,
              "#f0f921"
             ]
            ],
            "type": "heatmap"
           }
          ],
          "heatmapgl": [
           {
            "colorbar": {
             "outlinewidth": 0,
             "ticks": ""
            },
            "colorscale": [
             [
              0,
              "#0d0887"
             ],
             [
              0.1111111111111111,
              "#46039f"
             ],
             [
              0.2222222222222222,
              "#7201a8"
             ],
             [
              0.3333333333333333,
              "#9c179e"
             ],
             [
              0.4444444444444444,
              "#bd3786"
             ],
             [
              0.5555555555555556,
              "#d8576b"
             ],
             [
              0.6666666666666666,
              "#ed7953"
             ],
             [
              0.7777777777777778,
              "#fb9f3a"
             ],
             [
              0.8888888888888888,
              "#fdca26"
             ],
             [
              1,
              "#f0f921"
             ]
            ],
            "type": "heatmapgl"
           }
          ],
          "histogram": [
           {
            "marker": {
             "pattern": {
              "fillmode": "overlay",
              "size": 10,
              "solidity": 0.2
             }
            },
            "type": "histogram"
           }
          ],
          "histogram2d": [
           {
            "colorbar": {
             "outlinewidth": 0,
             "ticks": ""
            },
            "colorscale": [
             [
              0,
              "#0d0887"
             ],
             [
              0.1111111111111111,
              "#46039f"
             ],
             [
              0.2222222222222222,
              "#7201a8"
             ],
             [
              0.3333333333333333,
              "#9c179e"
             ],
             [
              0.4444444444444444,
              "#bd3786"
             ],
             [
              0.5555555555555556,
              "#d8576b"
             ],
             [
              0.6666666666666666,
              "#ed7953"
             ],
             [
              0.7777777777777778,
              "#fb9f3a"
             ],
             [
              0.8888888888888888,
              "#fdca26"
             ],
             [
              1,
              "#f0f921"
             ]
            ],
            "type": "histogram2d"
           }
          ],
          "histogram2dcontour": [
           {
            "colorbar": {
             "outlinewidth": 0,
             "ticks": ""
            },
            "colorscale": [
             [
              0,
              "#0d0887"
             ],
             [
              0.1111111111111111,
              "#46039f"
             ],
             [
              0.2222222222222222,
              "#7201a8"
             ],
             [
              0.3333333333333333,
              "#9c179e"
             ],
             [
              0.4444444444444444,
              "#bd3786"
             ],
             [
              0.5555555555555556,
              "#d8576b"
             ],
             [
              0.6666666666666666,
              "#ed7953"
             ],
             [
              0.7777777777777778,
              "#fb9f3a"
             ],
             [
              0.8888888888888888,
              "#fdca26"
             ],
             [
              1,
              "#f0f921"
             ]
            ],
            "type": "histogram2dcontour"
           }
          ],
          "mesh3d": [
           {
            "colorbar": {
             "outlinewidth": 0,
             "ticks": ""
            },
            "type": "mesh3d"
           }
          ],
          "parcoords": [
           {
            "line": {
             "colorbar": {
              "outlinewidth": 0,
              "ticks": ""
             }
            },
            "type": "parcoords"
           }
          ],
          "pie": [
           {
            "automargin": true,
            "type": "pie"
           }
          ],
          "scatter": [
           {
            "fillpattern": {
             "fillmode": "overlay",
             "size": 10,
             "solidity": 0.2
            },
            "type": "scatter"
           }
          ],
          "scatter3d": [
           {
            "line": {
             "colorbar": {
              "outlinewidth": 0,
              "ticks": ""
             }
            },
            "marker": {
             "colorbar": {
              "outlinewidth": 0,
              "ticks": ""
             }
            },
            "type": "scatter3d"
           }
          ],
          "scattercarpet": [
           {
            "marker": {
             "colorbar": {
              "outlinewidth": 0,
              "ticks": ""
             }
            },
            "type": "scattercarpet"
           }
          ],
          "scattergeo": [
           {
            "marker": {
             "colorbar": {
              "outlinewidth": 0,
              "ticks": ""
             }
            },
            "type": "scattergeo"
           }
          ],
          "scattergl": [
           {
            "marker": {
             "colorbar": {
              "outlinewidth": 0,
              "ticks": ""
             }
            },
            "type": "scattergl"
           }
          ],
          "scattermapbox": [
           {
            "marker": {
             "colorbar": {
              "outlinewidth": 0,
              "ticks": ""
             }
            },
            "type": "scattermapbox"
           }
          ],
          "scatterpolar": [
           {
            "marker": {
             "colorbar": {
              "outlinewidth": 0,
              "ticks": ""
             }
            },
            "type": "scatterpolar"
           }
          ],
          "scatterpolargl": [
           {
            "marker": {
             "colorbar": {
              "outlinewidth": 0,
              "ticks": ""
             }
            },
            "type": "scatterpolargl"
           }
          ],
          "scatterternary": [
           {
            "marker": {
             "colorbar": {
              "outlinewidth": 0,
              "ticks": ""
             }
            },
            "type": "scatterternary"
           }
          ],
          "surface": [
           {
            "colorbar": {
             "outlinewidth": 0,
             "ticks": ""
            },
            "colorscale": [
             [
              0,
              "#0d0887"
             ],
             [
              0.1111111111111111,
              "#46039f"
             ],
             [
              0.2222222222222222,
              "#7201a8"
             ],
             [
              0.3333333333333333,
              "#9c179e"
             ],
             [
              0.4444444444444444,
              "#bd3786"
             ],
             [
              0.5555555555555556,
              "#d8576b"
             ],
             [
              0.6666666666666666,
              "#ed7953"
             ],
             [
              0.7777777777777778,
              "#fb9f3a"
             ],
             [
              0.8888888888888888,
              "#fdca26"
             ],
             [
              1,
              "#f0f921"
             ]
            ],
            "type": "surface"
           }
          ],
          "table": [
           {
            "cells": {
             "fill": {
              "color": "#EBF0F8"
             },
             "line": {
              "color": "white"
             }
            },
            "header": {
             "fill": {
              "color": "#C8D4E3"
             },
             "line": {
              "color": "white"
             }
            },
            "type": "table"
           }
          ]
         },
         "layout": {
          "annotationdefaults": {
           "arrowcolor": "#2a3f5f",
           "arrowhead": 0,
           "arrowwidth": 1
          },
          "autotypenumbers": "strict",
          "coloraxis": {
           "colorbar": {
            "outlinewidth": 0,
            "ticks": ""
           }
          },
          "colorscale": {
           "diverging": [
            [
             0,
             "#8e0152"
            ],
            [
             0.1,
             "#c51b7d"
            ],
            [
             0.2,
             "#de77ae"
            ],
            [
             0.3,
             "#f1b6da"
            ],
            [
             0.4,
             "#fde0ef"
            ],
            [
             0.5,
             "#f7f7f7"
            ],
            [
             0.6,
             "#e6f5d0"
            ],
            [
             0.7,
             "#b8e186"
            ],
            [
             0.8,
             "#7fbc41"
            ],
            [
             0.9,
             "#4d9221"
            ],
            [
             1,
             "#276419"
            ]
           ],
           "sequential": [
            [
             0,
             "#0d0887"
            ],
            [
             0.1111111111111111,
             "#46039f"
            ],
            [
             0.2222222222222222,
             "#7201a8"
            ],
            [
             0.3333333333333333,
             "#9c179e"
            ],
            [
             0.4444444444444444,
             "#bd3786"
            ],
            [
             0.5555555555555556,
             "#d8576b"
            ],
            [
             0.6666666666666666,
             "#ed7953"
            ],
            [
             0.7777777777777778,
             "#fb9f3a"
            ],
            [
             0.8888888888888888,
             "#fdca26"
            ],
            [
             1,
             "#f0f921"
            ]
           ],
           "sequentialminus": [
            [
             0,
             "#0d0887"
            ],
            [
             0.1111111111111111,
             "#46039f"
            ],
            [
             0.2222222222222222,
             "#7201a8"
            ],
            [
             0.3333333333333333,
             "#9c179e"
            ],
            [
             0.4444444444444444,
             "#bd3786"
            ],
            [
             0.5555555555555556,
             "#d8576b"
            ],
            [
             0.6666666666666666,
             "#ed7953"
            ],
            [
             0.7777777777777778,
             "#fb9f3a"
            ],
            [
             0.8888888888888888,
             "#fdca26"
            ],
            [
             1,
             "#f0f921"
            ]
           ]
          },
          "colorway": [
           "#636efa",
           "#EF553B",
           "#00cc96",
           "#ab63fa",
           "#FFA15A",
           "#19d3f3",
           "#FF6692",
           "#B6E880",
           "#FF97FF",
           "#FECB52"
          ],
          "font": {
           "color": "#2a3f5f"
          },
          "geo": {
           "bgcolor": "white",
           "lakecolor": "white",
           "landcolor": "#E5ECF6",
           "showlakes": true,
           "showland": true,
           "subunitcolor": "white"
          },
          "hoverlabel": {
           "align": "left"
          },
          "hovermode": "closest",
          "mapbox": {
           "style": "light"
          },
          "paper_bgcolor": "white",
          "plot_bgcolor": "#E5ECF6",
          "polar": {
           "angularaxis": {
            "gridcolor": "white",
            "linecolor": "white",
            "ticks": ""
           },
           "bgcolor": "#E5ECF6",
           "radialaxis": {
            "gridcolor": "white",
            "linecolor": "white",
            "ticks": ""
           }
          },
          "scene": {
           "xaxis": {
            "backgroundcolor": "#E5ECF6",
            "gridcolor": "white",
            "gridwidth": 2,
            "linecolor": "white",
            "showbackground": true,
            "ticks": "",
            "zerolinecolor": "white"
           },
           "yaxis": {
            "backgroundcolor": "#E5ECF6",
            "gridcolor": "white",
            "gridwidth": 2,
            "linecolor": "white",
            "showbackground": true,
            "ticks": "",
            "zerolinecolor": "white"
           },
           "zaxis": {
            "backgroundcolor": "#E5ECF6",
            "gridcolor": "white",
            "gridwidth": 2,
            "linecolor": "white",
            "showbackground": true,
            "ticks": "",
            "zerolinecolor": "white"
           }
          },
          "shapedefaults": {
           "line": {
            "color": "#2a3f5f"
           }
          },
          "ternary": {
           "aaxis": {
            "gridcolor": "white",
            "linecolor": "white",
            "ticks": ""
           },
           "baxis": {
            "gridcolor": "white",
            "linecolor": "white",
            "ticks": ""
           },
           "bgcolor": "#E5ECF6",
           "caxis": {
            "gridcolor": "white",
            "linecolor": "white",
            "ticks": ""
           }
          },
          "title": {
           "x": 0.05
          },
          "xaxis": {
           "automargin": true,
           "gridcolor": "white",
           "linecolor": "white",
           "ticks": "",
           "title": {
            "standoff": 15
           },
           "zerolinecolor": "white",
           "zerolinewidth": 2
          },
          "yaxis": {
           "automargin": true,
           "gridcolor": "white",
           "linecolor": "white",
           "ticks": "",
           "title": {
            "standoff": 15
           },
           "zerolinecolor": "white",
           "zerolinewidth": 2
          }
         }
        },
        "xaxis": {
         "anchor": "y",
         "domain": [
          0,
          1
         ],
         "title": {
          "text": "ADP"
         }
        },
        "yaxis": {
         "anchor": "x",
         "domain": [
          0,
          1
         ],
         "title": {
          "text": "FantasyPoints"
         }
        }
       }
      },
      "text/html": [
       "<div>                            <div id=\"aec8f27e-4cb2-4c4b-9a3a-1309981a7660\" class=\"plotly-graph-div\" style=\"height:525px; width:100%;\"></div>            <script type=\"text/javascript\">                require([\"plotly\"], function(Plotly) {                    window.PLOTLYENV=window.PLOTLYENV || {};                                    if (document.getElementById(\"aec8f27e-4cb2-4c4b-9a3a-1309981a7660\")) {                    Plotly.newPlot(                        \"aec8f27e-4cb2-4c4b-9a3a-1309981a7660\",                        [{\"customdata\":[[\"Tyreek Hill\"],[\"Antonio Brown\"],[\"Davante Adams\"],[\"DeAndre Hopkins\"],[\"Julio Jones\"],[\"Mike Evans\"],[\"Adam Thielen\"],[\"Michael Thomas\"],[\"JuJu Smith-Schuster\"],[\"Robert Woods\"],[\"Tyler Lockett\"],[\"Stefon Diggs\"],[\"Brandin Cooks\"],[\"Keenan Allen\"],[\"T.Y. Hilton\"],[\"Odell Beckham\"],[\"Calvin Ridley\"],[\"Amari Cooper\"],[\"Mike Williams\"],[\"Kenny Golladay\"],[\"Jarvis Landry\"],[\"Emmanuel Sanders\"],[\"Chris Godwin\"],[\"Alshon Jeffery\"],[\"Corey Davis\"],[\"Larry Fitzgerald\"],[\"Mohamed Sanu\"],[\"DeSean Jackson\"],[\"Golden Tate\"],[\"A.J. Green\"],[\"John Brown\"],[\"D.J. Moore\"],[\"Josh Gordon\"],[\"Allen Robinson\"],[\"Demaryius Thomas\"],[\"Courtland Sutton\"],[\"Doug Baldwin\"],[\"Anthony Miller\"],[\"Cole Beasley\"],[\"Donte Moncrief\"],[\"Marvin Jones\"],[\"Christian Kirk\"],[\"Michael Crabtree\"],[\"Sammy Watkins\"],[\"Chris Hogan\"],[\"Danny Amendola\"],[\"Michael Gallup\"],[\"Marquise Goodwin\"],[\"John Ross\"],[\"Keelan Cole\"],[\"Taywan Taylor\"],[\"Quincy Enunwa\"],[\"Ty Montgomery\"],[\"Allen Hurns\"],[\"Ryan Grant\"],[\"Paul Richardson\"],[\"Ted Ginn\"],[\"Tavon Austin\"],[\"James Washington\"],[\"Martavis Bryant\"],[\"Cameron Meredith\"],[\"Rishard Matthews\"],[\"Michael Thomas\"],[\"Chris Godwin\"],[\"Kenny Golladay\"],[\"Cooper Kupp\"],[\"Julio Jones\"],[\"DeVante Parker\"],[\"Amari Cooper\"],[\"Mike Evans\"],[\"A.J. Brown\"],[\"DeAndre Hopkins\"],[\"Keenan Allen\"],[\"Allen Robinson\"],[\"Julian Edelman\"],[\"Tyler Lockett\"],[\"DJ Chark\"],[\"Stefon Diggs\"],[\"John Brown\"],[\"D.J. Moore\"],[\"Robert Woods\"],[\"Calvin Ridley\"],[\"Terry McLaurin\"],[\"Tyler Boyd\"],[\"Deebo Samuel\"],[\"Tyreek Hill\"],[\"Davante Adams\"],[\"D.K. Metcalf\"],[\"Odell Beckham\"],[\"Cole Beasley\"],[\"Mike Williams\"],[\"Robby Anderson\"],[\"Chris Conley\"],[\"Golden Tate\"],[\"Tyrell Williams\"],[\"Marquise Brown\"],[\"Mecole Hardman\"],[\"Sammy Watkins\"],[\"Hunter Renfrow\"],[\"Sterling Shepard\"],[\"Adam Thielen\"],[\"T.Y. Hilton\"],[\"Kenny Stills\"],[\"Alshon Jeffery\"],[\"Brandin Cooks\"],[\"Anthony Miller\"],[\"JuJu Smith-Schuster\"],[\"Mohamed Sanu\"],[\"Taylor Gabriel\"],[\"Ted Ginn\"],[\"Tre'Quan Smith\"],[\"Adam Humphries\"],[\"Josh Gordon\"],[\"Albert Wilson\"],[\"Geronimo Allison\"],[\"Paul Richardson\"],[\"DaeSean Hamilton\"],[\"Keke Coutee\"],[\"DeSean Jackson\"],[\"Trey Quinn\"],[\"Dante Pettis\"],[\"Antonio Brown\"],[\"Devin Funchess\"],[\"Donte Moncrief\"],[\"Davante Adams\"],[\"Tyreek Hill\"],[\"Stefon Diggs\"],[\"Calvin Ridley\"],[\"D.K. Metcalf\"],[\"Justin Jefferson\"],[\"Adam Thielen\"],[\"Mike Evans\"],[\"A.J. Brown\"],[\"DeAndre Hopkins\"],[\"Tyler Lockett\"],[\"Allen Robinson\"],[\"Robert Woods\"],[\"Chase Claypool\"],[\"D.J. Moore\"],[\"Keenan Allen\"],[\"Amari Cooper\"],[\"CeeDee Lamb\"],[\"JuJu Smith-Schuster\"],[\"Terry McLaurin\"],[\"Will Fuller\"],[\"Curtis Samuel\"],[\"Tee Higgins\"],[\"Cole Beasley\"],[\"Chris Godwin\"],[\"Brandon Aiyuk\"],[\"Cooper Kupp\"],[\"Jarvis Landry\"],[\"Tyler Boyd\"],[\"Michael Gallup\"],[\"Russell Gage\"],[\"T.Y. Hilton\"],[\"Jerry Jeudy\"],[\"Mike Williams\"],[\"DeVante Parker\"],[\"DJ Chark\"],[\"Laviska Shenault Jr.\"],[\"Julio Jones\"],[\"Mecole Hardman\"],[\"Breshad Perriman\"],[\"James Washington\"],[\"Allen Lazard\"],[\"Odell Beckham Jr.\"],[\"A.J. Green\"],[\"Randall Cobb\"],[\"Anthony Miller\"],[\"Michael Pittman Jr.\"],[\"Henry Ruggs III\"],[\"Jalen Reagor\"],[\"Sammy Watkins\"],[\"Larry Fitzgerald\"],[\"Kenny Golladay\"],[\"Michael Thomas\"],[\"N'Keal Harry\"],[\"Denzel Mims\"],[\"DeSean Jackson\"],[\"Steven Sims\"],[\"Van Jefferson\"],[\"Bryan Edwards\"],[\"Alshon Jeffery\"],[\"Parris Campbell\"],[\"Courtland Sutton\"],[\"Cooper Kupp*+\"],[\"Justin Jefferson*\"],[\"Davante Adams*+\"],[\"Mike Evans*\"],[\"Tyreek Hill*\"],[\"Stefon Diggs*\"],[\"D.K. Metcalf\"],[\"Tyler Lockett\"],[\"Diontae Johnson*\"],[\"CeeDee Lamb*\"],[\"Keenan Allen*\"],[\"Michael Pittman Jr.\"],[\"Tee Higgins\"],[\"D.J. Moore\"],[\"Chris Godwin\"],[\"Jaylen Waddle\"],[\"Brandin Cooks\"],[\"Darnell Mooney\"],[\"Amon-Ra St. Brown\"],[\"Terry McLaurin\"],[\"Amari Cooper\"],[\"Adam Thielen\"],[\"A.J. Brown\"],[\"Brandon Aiyuk\"],[\"Chase Claypool\"],[\"Marquez Callaway\"],[\"DeAndre Hopkins\"],[\"A.J. Green\"],[\"Jakobi Meyers\"],[\"Russell Gage\"],[\"Elijah Moore\"],[\"Courtland Sutton\"],[\"Robert Woods\"],[\"Gabriel Davis\"],[\"Emmanuel Sanders\"],[\"Robby Anderson\"],[\"Odell Beckham Jr.\"],[\"Mecole Hardman\"],[\"Antonio Brown\"],[\"Cole Beasley\"],[\"Bryan Edwards\"],[\"Nelson Agholor\"],[\"Randall Cobb\"],[\"DeVante Parker\"],[\"Henry Ruggs III\"],[\"Jamison Crowder\"],[\"Rashod Bateman\"],[\"DeSean Jackson\"],[\"Tre'Quan Smith\"],[\"Rondale Moore\"],[\"Kenny Golladay\"],[\"Nico Collins\"],[\"Julio Jones\"],[\"Allen Robinson\"],[\"Jerry Jeudy\"],[\"Jalen Reagor\"],[\"Sammy Watkins\"],[\"Sterling Shepard\"],[\"Calvin Ridley\"],[\"Parris Campbell\"],[\"JuJu Smith-Schuster\"],[\"Terrace Marshall Jr.\"],[\"Tarik Black\"],[\"Tyrell Williams\"]],\"hovertemplate\":\"ADP=%{x}<br>FantasyPoints=%{y}<br>Player=%{customdata[0]}<br>labels=%{marker.color}<extra></extra>\",\"legendgroup\":\"\",\"marker\":{\"color\":[3,3,3,3,3,3,3,3,3,3,2,3,3,3,3,3,2,3,2,2,3,3,2,1,1,1,2,2,1,1,2,2,1,1,1,2,1,2,4,2,1,2,1,1,1,2,0,1,0,0,0,0,0,0,0,0,4,4,0,4,0,0,3,3,3,3,3,2,3,3,2,3,3,3,3,3,2,3,2,3,3,1,2,3,2,1,3,2,3,2,1,1,2,2,1,2,2,1,2,1,1,1,2,1,1,2,1,2,0,0,0,0,1,0,0,0,0,0,0,0,0,1,0,0,3,3,3,1,1,2,1,1,1,1,1,1,1,2,1,1,1,2,1,1,1,2,2,2,1,2,1,1,1,1,2,1,0,0,1,1,0,1,0,0,0,0,1,1,0,0,0,0,0,0,0,1,1,0,0,0,0,0,0,0,0,0,3,3,3,1,1,1,1,1,1,1,1,2,1,1,1,1,1,2,2,1,1,1,1,1,1,0,1,0,0,0,0,1,1,0,0,1,1,0,0,0,0,0,0,0,0,0,0,4,0,0,1,0,1,1,0,0,0,0,1,0,0,0,0,0],\"coloraxis\":\"coloraxis\",\"symbol\":\"circle\"},\"mode\":\"markers\",\"name\":\"\",\"orientation\":\"v\",\"showlegend\":false,\"x\":[33.0,5.0,20.0,9.0,8.0,22.0,29.0,16.0,54.0,55.0,110.0,30.0,44.0,13.0,28.0,10.0,131.0,38.0,140.0,106.0,40.0,57.0,129.0,43.0,67.0,27.0,109.0,113.0,37.0,17.0,137.0,115.0,39.0,36.0,34.0,139.0,35.0,138.0,363.0,141.0,41.0,166.0,56.0,69.0,53.0,111.0,112.0,68.0,130.0,107.0,167.0,162.0,122.0,104.0,160.0,105.0,364.0,414.0,132.0,365.0,108.0,114.0,7.0,47.0,40.0,42.0,10.0,177.0,21.0,19.0,214.0,5.0,20.0,49.0,39.0,46.0,180.0,37.0,123.0,51.0,38.0,54.0,175.0,52.0,179.0,11.0,9.0,122.0,12.0,176.0,50.0,75.0,163.0,126.0,53.0,162.0,181.0,74.0,161.0,56.0,28.0,41.0,213.0,48.0,36.0,139.0,13.0,128.0,198.0,196.0,215.0,121.0,55.0,127.0,130.0,129.0,140.0,110.0,120.0,197.0,108.0,27.0,178.0,109.0,16.0,18.0,65.0,32.0,55.0,127.0,26.0,22.0,33.0,19.0,37.0,27.0,36.0,196.0,25.0,51.0,28.0,109.0,29.0,50.0,66.0,125.0,194.0,215.0,21.0,145.0,38.0,53.0,62.0,64.0,214.0,52.0,102.0,108.0,61.0,54.0,197.0,17.0,124.0,107.0,213.0,152.0,30.0,63.0,147.0,126.0,151.0,101.0,150.0,146.0,149.0,24.0,6.0,123.0,154.0,106.0,153.0,195.0,198.0,148.0,144.0,31.0,41.0,21.0,7.0,34.0,13.0,16.0,19.0,39.0,42.0,28.0,26.0,117.0,46.0,44.0,40.0,95.0,66.0,127.0,164.0,25.0,35.0,38.0,20.0,45.0,65.0,121.0,17.0,160.0,118.0,150.0,129.0,59.0,33.0,162.0,163.0,57.0,56.0,126.0,93.0,119.0,159.0,153.0,161.0,120.0,96.0,152.0,213.0,302.0,215.0,154.0,55.0,193.0,43.0,27.0,64.0,122.0,214.0,151.0,18.0,128.0,58.0,155.0,239.0,125.0],\"xaxis\":\"x\",\"y\":[328.0,323.7,327.6,333.5,325.9,284.4,305.3,315.5,294.9000000000001,265.6,220.4,264.3,243.2,258.1,239.0,230.34,206.8,215.5,178.20000000000005,207.1,215.12,198.22000000000003,183.2,185.3,183.6,183.68,180.4,151.3,180.9,149.4,143.9,157.0,138.7,153.3,156.7,136.3,141.8,120.22,150.2,130.8,115.8,123.5,132.7,115.1,106.2,127.42,95.7,87.4,84.9,89.1,87.6,86.9,71.3,61.5,74.4,59.1,50.5,39.5,43.7,45.9,24.4,7.4,374.6,274.1,248.0,270.5,274.1,246.2,246.5,230.7,217.1,266.54,261.5,254.9,254.28,235.2,223.8,212.1,219.82,230.5,232.9,195.0,191.9,222.9,187.1,188.3,210.7,185.1,201.3,180.8,161.29999999999995,160.3,154.5,152.2,143.1,146.4,113.5,136.5,133.5,139.79999999999998,114.4,125.1,120.1,122.2,117.5,127.5,113.2,124.1,90.3,85.89999999999998,71.4,86.5,73.69999999999997,89.4,73.4,64.5,63.7,52.8,36.9,49.8,34.54,16.1,6.2,5.8,243.0,242.0,202.0,192.0,188.0,186.0,180.0,179.0,178.0,173.0,165.0,161.0,155.0,153.0,146.0,145.0,145.0,144.0,137.0,137.0,136.0,135.0,128.0,126.0,126.0,125.0,117.0,116.0,114.0,114.0,109.0,108.0,106.0,106.0,103.0,101.0,99.0,95.0,87.0,69.0,69.0,65.0,64.0,64.0,62.0,60.0,59.0,58.0,56.0,50.0,47.0,46.0,44.0,41.0,38.0,31.0,30.0,28.0,25.0,18.0,9.0,7.0,295.0,222.0,221.0,189.0,186.0,183.0,169.0,168.0,167.0,154.0,152.0,151.0,145.0,145.0,144.0,142.0,142.0,139.0,137.0,137.0,135.0,133.0,118.0,114.0,108.0,106.0,105.0,103.0,103.0,97.0,95.0,92.0,92.0,91.0,90.0,86.0,85.0,82.0,79.0,77.0,75.0,66.0,66.0,64.0,61.0,59.0,58.0,56.0,56.0,55.0,52.0,51.0,49.0,49.0,47.0,45.0,43.0,42.0,40.0,22.0,20.0,16.0,1.0,1.0],\"yaxis\":\"y\",\"type\":\"scatter\"}],                        {\"template\":{\"data\":{\"histogram2dcontour\":[{\"type\":\"histogram2dcontour\",\"colorbar\":{\"outlinewidth\":0,\"ticks\":\"\"},\"colorscale\":[[0.0,\"#0d0887\"],[0.1111111111111111,\"#46039f\"],[0.2222222222222222,\"#7201a8\"],[0.3333333333333333,\"#9c179e\"],[0.4444444444444444,\"#bd3786\"],[0.5555555555555556,\"#d8576b\"],[0.6666666666666666,\"#ed7953\"],[0.7777777777777778,\"#fb9f3a\"],[0.8888888888888888,\"#fdca26\"],[1.0,\"#f0f921\"]]}],\"choropleth\":[{\"type\":\"choropleth\",\"colorbar\":{\"outlinewidth\":0,\"ticks\":\"\"}}],\"histogram2d\":[{\"type\":\"histogram2d\",\"colorbar\":{\"outlinewidth\":0,\"ticks\":\"\"},\"colorscale\":[[0.0,\"#0d0887\"],[0.1111111111111111,\"#46039f\"],[0.2222222222222222,\"#7201a8\"],[0.3333333333333333,\"#9c179e\"],[0.4444444444444444,\"#bd3786\"],[0.5555555555555556,\"#d8576b\"],[0.6666666666666666,\"#ed7953\"],[0.7777777777777778,\"#fb9f3a\"],[0.8888888888888888,\"#fdca26\"],[1.0,\"#f0f921\"]]}],\"heatmap\":[{\"type\":\"heatmap\",\"colorbar\":{\"outlinewidth\":0,\"ticks\":\"\"},\"colorscale\":[[0.0,\"#0d0887\"],[0.1111111111111111,\"#46039f\"],[0.2222222222222222,\"#7201a8\"],[0.3333333333333333,\"#9c179e\"],[0.4444444444444444,\"#bd3786\"],[0.5555555555555556,\"#d8576b\"],[0.6666666666666666,\"#ed7953\"],[0.7777777777777778,\"#fb9f3a\"],[0.8888888888888888,\"#fdca26\"],[1.0,\"#f0f921\"]]}],\"heatmapgl\":[{\"type\":\"heatmapgl\",\"colorbar\":{\"outlinewidth\":0,\"ticks\":\"\"},\"colorscale\":[[0.0,\"#0d0887\"],[0.1111111111111111,\"#46039f\"],[0.2222222222222222,\"#7201a8\"],[0.3333333333333333,\"#9c179e\"],[0.4444444444444444,\"#bd3786\"],[0.5555555555555556,\"#d8576b\"],[0.6666666666666666,\"#ed7953\"],[0.7777777777777778,\"#fb9f3a\"],[0.8888888888888888,\"#fdca26\"],[1.0,\"#f0f921\"]]}],\"contourcarpet\":[{\"type\":\"contourcarpet\",\"colorbar\":{\"outlinewidth\":0,\"ticks\":\"\"}}],\"contour\":[{\"type\":\"contour\",\"colorbar\":{\"outlinewidth\":0,\"ticks\":\"\"},\"colorscale\":[[0.0,\"#0d0887\"],[0.1111111111111111,\"#46039f\"],[0.2222222222222222,\"#7201a8\"],[0.3333333333333333,\"#9c179e\"],[0.4444444444444444,\"#bd3786\"],[0.5555555555555556,\"#d8576b\"],[0.6666666666666666,\"#ed7953\"],[0.7777777777777778,\"#fb9f3a\"],[0.8888888888888888,\"#fdca26\"],[1.0,\"#f0f921\"]]}],\"surface\":[{\"type\":\"surface\",\"colorbar\":{\"outlinewidth\":0,\"ticks\":\"\"},\"colorscale\":[[0.0,\"#0d0887\"],[0.1111111111111111,\"#46039f\"],[0.2222222222222222,\"#7201a8\"],[0.3333333333333333,\"#9c179e\"],[0.4444444444444444,\"#bd3786\"],[0.5555555555555556,\"#d8576b\"],[0.6666666666666666,\"#ed7953\"],[0.7777777777777778,\"#fb9f3a\"],[0.8888888888888888,\"#fdca26\"],[1.0,\"#f0f921\"]]}],\"mesh3d\":[{\"type\":\"mesh3d\",\"colorbar\":{\"outlinewidth\":0,\"ticks\":\"\"}}],\"scatter\":[{\"fillpattern\":{\"fillmode\":\"overlay\",\"size\":10,\"solidity\":0.2},\"type\":\"scatter\"}],\"parcoords\":[{\"type\":\"parcoords\",\"line\":{\"colorbar\":{\"outlinewidth\":0,\"ticks\":\"\"}}}],\"scatterpolargl\":[{\"type\":\"scatterpolargl\",\"marker\":{\"colorbar\":{\"outlinewidth\":0,\"ticks\":\"\"}}}],\"bar\":[{\"error_x\":{\"color\":\"#2a3f5f\"},\"error_y\":{\"color\":\"#2a3f5f\"},\"marker\":{\"line\":{\"color\":\"#E5ECF6\",\"width\":0.5},\"pattern\":{\"fillmode\":\"overlay\",\"size\":10,\"solidity\":0.2}},\"type\":\"bar\"}],\"scattergeo\":[{\"type\":\"scattergeo\",\"marker\":{\"colorbar\":{\"outlinewidth\":0,\"ticks\":\"\"}}}],\"scatterpolar\":[{\"type\":\"scatterpolar\",\"marker\":{\"colorbar\":{\"outlinewidth\":0,\"ticks\":\"\"}}}],\"histogram\":[{\"marker\":{\"pattern\":{\"fillmode\":\"overlay\",\"size\":10,\"solidity\":0.2}},\"type\":\"histogram\"}],\"scattergl\":[{\"type\":\"scattergl\",\"marker\":{\"colorbar\":{\"outlinewidth\":0,\"ticks\":\"\"}}}],\"scatter3d\":[{\"type\":\"scatter3d\",\"line\":{\"colorbar\":{\"outlinewidth\":0,\"ticks\":\"\"}},\"marker\":{\"colorbar\":{\"outlinewidth\":0,\"ticks\":\"\"}}}],\"scattermapbox\":[{\"type\":\"scattermapbox\",\"marker\":{\"colorbar\":{\"outlinewidth\":0,\"ticks\":\"\"}}}],\"scatterternary\":[{\"type\":\"scatterternary\",\"marker\":{\"colorbar\":{\"outlinewidth\":0,\"ticks\":\"\"}}}],\"scattercarpet\":[{\"type\":\"scattercarpet\",\"marker\":{\"colorbar\":{\"outlinewidth\":0,\"ticks\":\"\"}}}],\"carpet\":[{\"aaxis\":{\"endlinecolor\":\"#2a3f5f\",\"gridcolor\":\"white\",\"linecolor\":\"white\",\"minorgridcolor\":\"white\",\"startlinecolor\":\"#2a3f5f\"},\"baxis\":{\"endlinecolor\":\"#2a3f5f\",\"gridcolor\":\"white\",\"linecolor\":\"white\",\"minorgridcolor\":\"white\",\"startlinecolor\":\"#2a3f5f\"},\"type\":\"carpet\"}],\"table\":[{\"cells\":{\"fill\":{\"color\":\"#EBF0F8\"},\"line\":{\"color\":\"white\"}},\"header\":{\"fill\":{\"color\":\"#C8D4E3\"},\"line\":{\"color\":\"white\"}},\"type\":\"table\"}],\"barpolar\":[{\"marker\":{\"line\":{\"color\":\"#E5ECF6\",\"width\":0.5},\"pattern\":{\"fillmode\":\"overlay\",\"size\":10,\"solidity\":0.2}},\"type\":\"barpolar\"}],\"pie\":[{\"automargin\":true,\"type\":\"pie\"}]},\"layout\":{\"autotypenumbers\":\"strict\",\"colorway\":[\"#636efa\",\"#EF553B\",\"#00cc96\",\"#ab63fa\",\"#FFA15A\",\"#19d3f3\",\"#FF6692\",\"#B6E880\",\"#FF97FF\",\"#FECB52\"],\"font\":{\"color\":\"#2a3f5f\"},\"hovermode\":\"closest\",\"hoverlabel\":{\"align\":\"left\"},\"paper_bgcolor\":\"white\",\"plot_bgcolor\":\"#E5ECF6\",\"polar\":{\"bgcolor\":\"#E5ECF6\",\"angularaxis\":{\"gridcolor\":\"white\",\"linecolor\":\"white\",\"ticks\":\"\"},\"radialaxis\":{\"gridcolor\":\"white\",\"linecolor\":\"white\",\"ticks\":\"\"}},\"ternary\":{\"bgcolor\":\"#E5ECF6\",\"aaxis\":{\"gridcolor\":\"white\",\"linecolor\":\"white\",\"ticks\":\"\"},\"baxis\":{\"gridcolor\":\"white\",\"linecolor\":\"white\",\"ticks\":\"\"},\"caxis\":{\"gridcolor\":\"white\",\"linecolor\":\"white\",\"ticks\":\"\"}},\"coloraxis\":{\"colorbar\":{\"outlinewidth\":0,\"ticks\":\"\"}},\"colorscale\":{\"sequential\":[[0.0,\"#0d0887\"],[0.1111111111111111,\"#46039f\"],[0.2222222222222222,\"#7201a8\"],[0.3333333333333333,\"#9c179e\"],[0.4444444444444444,\"#bd3786\"],[0.5555555555555556,\"#d8576b\"],[0.6666666666666666,\"#ed7953\"],[0.7777777777777778,\"#fb9f3a\"],[0.8888888888888888,\"#fdca26\"],[1.0,\"#f0f921\"]],\"sequentialminus\":[[0.0,\"#0d0887\"],[0.1111111111111111,\"#46039f\"],[0.2222222222222222,\"#7201a8\"],[0.3333333333333333,\"#9c179e\"],[0.4444444444444444,\"#bd3786\"],[0.5555555555555556,\"#d8576b\"],[0.6666666666666666,\"#ed7953\"],[0.7777777777777778,\"#fb9f3a\"],[0.8888888888888888,\"#fdca26\"],[1.0,\"#f0f921\"]],\"diverging\":[[0,\"#8e0152\"],[0.1,\"#c51b7d\"],[0.2,\"#de77ae\"],[0.3,\"#f1b6da\"],[0.4,\"#fde0ef\"],[0.5,\"#f7f7f7\"],[0.6,\"#e6f5d0\"],[0.7,\"#b8e186\"],[0.8,\"#7fbc41\"],[0.9,\"#4d9221\"],[1,\"#276419\"]]},\"xaxis\":{\"gridcolor\":\"white\",\"linecolor\":\"white\",\"ticks\":\"\",\"title\":{\"standoff\":15},\"zerolinecolor\":\"white\",\"automargin\":true,\"zerolinewidth\":2},\"yaxis\":{\"gridcolor\":\"white\",\"linecolor\":\"white\",\"ticks\":\"\",\"title\":{\"standoff\":15},\"zerolinecolor\":\"white\",\"automargin\":true,\"zerolinewidth\":2},\"scene\":{\"xaxis\":{\"backgroundcolor\":\"#E5ECF6\",\"gridcolor\":\"white\",\"linecolor\":\"white\",\"showbackground\":true,\"ticks\":\"\",\"zerolinecolor\":\"white\",\"gridwidth\":2},\"yaxis\":{\"backgroundcolor\":\"#E5ECF6\",\"gridcolor\":\"white\",\"linecolor\":\"white\",\"showbackground\":true,\"ticks\":\"\",\"zerolinecolor\":\"white\",\"gridwidth\":2},\"zaxis\":{\"backgroundcolor\":\"#E5ECF6\",\"gridcolor\":\"white\",\"linecolor\":\"white\",\"showbackground\":true,\"ticks\":\"\",\"zerolinecolor\":\"white\",\"gridwidth\":2}},\"shapedefaults\":{\"line\":{\"color\":\"#2a3f5f\"}},\"annotationdefaults\":{\"arrowcolor\":\"#2a3f5f\",\"arrowhead\":0,\"arrowwidth\":1},\"geo\":{\"bgcolor\":\"white\",\"landcolor\":\"#E5ECF6\",\"subunitcolor\":\"white\",\"showland\":true,\"showlakes\":true,\"lakecolor\":\"white\"},\"title\":{\"x\":0.05},\"mapbox\":{\"style\":\"light\"}}},\"xaxis\":{\"anchor\":\"y\",\"domain\":[0.0,1.0],\"title\":{\"text\":\"ADP\"}},\"yaxis\":{\"anchor\":\"x\",\"domain\":[0.0,1.0],\"title\":{\"text\":\"FantasyPoints\"}},\"coloraxis\":{\"colorbar\":{\"title\":{\"text\":\"labels\"}},\"colorscale\":[[0.0,\"#0d0887\"],[0.1111111111111111,\"#46039f\"],[0.2222222222222222,\"#7201a8\"],[0.3333333333333333,\"#9c179e\"],[0.4444444444444444,\"#bd3786\"],[0.5555555555555556,\"#d8576b\"],[0.6666666666666666,\"#ed7953\"],[0.7777777777777778,\"#fb9f3a\"],[0.8888888888888888,\"#fdca26\"],[1.0,\"#f0f921\"]]},\"legend\":{\"tracegroupgap\":0},\"margin\":{\"t\":60},\"font\":{\"family\":\"sans serif\",\"size\":18,\"color\":\"LightSeaGreen\"}},                        {\"responsive\": true}                    ).then(function(){\n",
       "                            \n",
       "var gd = document.getElementById('aec8f27e-4cb2-4c4b-9a3a-1309981a7660');\n",
       "var x = new MutationObserver(function (mutations, observer) {{\n",
       "        var display = window.getComputedStyle(gd).display;\n",
       "        if (!display || display === 'none') {{\n",
       "            console.log([gd, 'removed!']);\n",
       "            Plotly.purge(gd);\n",
       "            observer.disconnect();\n",
       "        }}\n",
       "}});\n",
       "\n",
       "// Listen for the removal of the full notebook cells\n",
       "var notebookContainer = gd.closest('#notebook-container');\n",
       "if (notebookContainer) {{\n",
       "    x.observe(notebookContainer, {childList: true});\n",
       "}}\n",
       "\n",
       "// Listen for the clearing of the current output cell\n",
       "var outputEl = gd.closest('.output');\n",
       "if (outputEl) {{\n",
       "    x.observe(outputEl, {childList: true});\n",
       "}}\n",
       "\n",
       "                        })                };                });            </script>        </div>"
      ]
     },
     "metadata": {},
     "output_type": "display_data"
    },
    {
     "data": {
      "application/vnd.plotly.v1+json": {
       "config": {
        "plotlyServerURL": "https://plot.ly"
       },
       "data": [
        {
         "customdata": [
          [
           "Travis Kelce"
          ],
          [
           "George Kittle"
          ],
          [
           "Zach Ertz"
          ],
          [
           "Eric Ebron"
          ],
          [
           "Jared Cook"
          ],
          [
           "Trey Burton"
          ],
          [
           "Austin Hooper"
          ],
          [
           "David Njoku"
          ],
          [
           "Kyle Rudolph"
          ],
          [
           "O.J. Howard"
          ],
          [
           "Rob Gronkowski"
          ],
          [
           "Vance McDonald"
          ],
          [
           "Evan Engram"
          ],
          [
           "Jimmy Graham"
          ],
          [
           "Jordan Reed"
          ],
          [
           "Cameron Brate"
          ],
          [
           "Gerald Everett"
          ],
          [
           "Greg Olsen"
          ],
          [
           "Ben Watson"
          ],
          [
           "Vernon Davis"
          ],
          [
           "Blake Jarwin"
          ],
          [
           "Antonio Gates"
          ],
          [
           "Tyler Higbee"
          ],
          [
           "Ricky Seals-Jones"
          ],
          [
           "Jack Doyle"
          ],
          [
           "Ryan Griffin"
          ],
          [
           "Virgil Green"
          ],
          [
           "Tyler Eifert"
          ],
          [
           "Hayden Hurst"
          ],
          [
           "Mike Gesicki"
          ],
          [
           "Charles Clay"
          ],
          [
           "Austin Seferian-Jenkins"
          ],
          [
           "Jake Butt"
          ],
          [
           "Blake Bell"
          ],
          [
           "Eric Tomlinson"
          ],
          [
           "Delanie Walker"
          ],
          [
           "Tyler Kroft"
          ],
          [
           "Travis Kelce"
          ],
          [
           "Mark Andrews"
          ],
          [
           "George Kittle"
          ],
          [
           "Darren Waller"
          ],
          [
           "Zach Ertz"
          ],
          [
           "Jared Cook"
          ],
          [
           "Austin Hooper"
          ],
          [
           "Hunter Henry"
          ],
          [
           "Dallas Goedert"
          ],
          [
           "Mike Gesicki"
          ],
          [
           "Jason Witten"
          ],
          [
           "Kyle Rudolph"
          ],
          [
           "Greg Olsen"
          ],
          [
           "Noah Fant"
          ],
          [
           "Jack Doyle"
          ],
          [
           "Evan Engram"
          ],
          [
           "Tyler Eifert"
          ],
          [
           "Jimmy Graham"
          ],
          [
           "Eric Ebron"
          ],
          [
           "Jordan Akins"
          ],
          [
           "Gerald Everett"
          ],
          [
           "Dawson Knox"
          ],
          [
           "Will Dissly"
          ],
          [
           "O.J. Howard"
          ],
          [
           "T.J. Hockenson"
          ],
          [
           "Hayden Hurst"
          ],
          [
           "Vance McDonald"
          ],
          [
           "Irv Smith Jr."
          ],
          [
           "Delanie Walker"
          ],
          [
           "Matt LaCosse"
          ],
          [
           "Ben Watson"
          ],
          [
           "David Njoku"
          ],
          [
           "Trey Burton"
          ],
          [
           "Chris Herndon"
          ],
          [
           "Travis Kelce"
          ],
          [
           "Darren Waller"
          ],
          [
           "Mark Andrews"
          ],
          [
           "T.J. Hockenson"
          ],
          [
           "Mike Gesicki"
          ],
          [
           "Logan Thomas"
          ],
          [
           "Rob Gronkowski"
          ],
          [
           "Jonnu Smith"
          ],
          [
           "Jimmy Graham"
          ],
          [
           "Hayden Hurst"
          ],
          [
           "Jared Cook"
          ],
          [
           "Noah Fant"
          ],
          [
           "Eric Ebron"
          ],
          [
           "Hunter Henry"
          ],
          [
           "Tyler Higbee"
          ],
          [
           "Evan Engram"
          ],
          [
           "George Kittle"
          ],
          [
           "Dallas Goedert"
          ],
          [
           "Irv Smith Jr."
          ],
          [
           "Austin Hooper"
          ],
          [
           "Dan Arnold"
          ],
          [
           "Gerald Everett"
          ],
          [
           "Jordan Akins"
          ],
          [
           "Tyler Eifert"
          ],
          [
           "Chris Herndon"
          ],
          [
           "Dawson Knox"
          ],
          [
           "Zach Ertz"
          ],
          [
           "Jack Doyle"
          ],
          [
           "Will Dissly"
          ],
          [
           "Kyle Rudolph"
          ],
          [
           "Greg Olsen"
          ],
          [
           "O.J. Howard"
          ],
          [
           "Ian Thomas"
          ],
          [
           "C.J. Uzomah"
          ],
          [
           "Blake Jarwin"
          ],
          [
           "Mark Andrews*+"
          ],
          [
           "Travis Kelce*"
          ],
          [
           "Dalton Schultz"
          ],
          [
           "George Kittle*"
          ],
          [
           "Rob Gronkowski"
          ],
          [
           "Dawson Knox"
          ],
          [
           "Hunter Henry"
          ],
          [
           "Dallas Goedert"
          ],
          [
           "Kyle Pitts*"
          ],
          [
           "Zach Ertz"
          ],
          [
           "Mike Gesicki"
          ],
          [
           "Noah Fant"
          ],
          [
           "Tyler Higbee"
          ],
          [
           "Jared Cook"
          ],
          [
           "T.J. Hockenson"
          ],
          [
           "C.J. Uzomah"
          ],
          [
           "Darren Waller"
          ],
          [
           "Tyler Conklin"
          ],
          [
           "Gerald Everett"
          ],
          [
           "Cole Kmet"
          ],
          [
           "Evan Engram"
          ],
          [
           "Austin Hooper"
          ],
          [
           "Anthony Firkser"
          ],
          [
           "Dan Arnold"
          ],
          [
           "Juwan Johnson"
          ],
          [
           "Jonnu Smith"
          ],
          [
           "Hayden Hurst"
          ],
          [
           "Logan Thomas"
          ],
          [
           "Adam Trautman"
          ],
          [
           "Robert Tonyan"
          ],
          [
           "Tyler Kroft"
          ],
          [
           "Blake Jarwin"
          ],
          [
           "Eric Ebron"
          ],
          [
           "O.J. Howard"
          ],
          [
           "Jordan Akins"
          ]
         ],
         "hovertemplate": "ADP=%{x}<br>FantasyPoints=%{y}<br>Player=%{customdata[0]}<br>labels=%{marker.color}<extra></extra>",
         "legendgroup": "",
         "marker": {
          "color": [
           3,
           3,
           3,
           2,
           2,
           4,
           4,
           4,
           3,
           2,
           1,
           4,
           1,
           1,
           1,
           4,
           2,
           1,
           4,
           2,
           2,
           2,
           2,
           2,
           4,
           2,
           2,
           4,
           2,
           2,
           4,
           0,
           2,
           1,
           1,
           1,
           2,
           3,
           3,
           3,
           3,
           3,
           3,
           3,
           1,
           0,
           0,
           0,
           4,
           4,
           0,
           4,
           1,
           0,
           4,
           4,
           0,
           0,
           0,
           0,
           1,
           0,
           0,
           4,
           0,
           4,
           0,
           0,
           4,
           4,
           0,
           3,
           3,
           1,
           4,
           4,
           0,
           4,
           0,
           0,
           4,
           4,
           4,
           4,
           4,
           1,
           1,
           1,
           4,
           4,
           4,
           0,
           0,
           0,
           0,
           4,
           0,
           1,
           4,
           0,
           0,
           0,
           0,
           0,
           0,
           0,
           3,
           3,
           0,
           1,
           4,
           0,
           4,
           4,
           1,
           4,
           4,
           1,
           4,
           4,
           1,
           0,
           1,
           0,
           0,
           4,
           4,
           4,
           0,
           0,
           0,
           4,
           0,
           1,
           0,
           4,
           0,
           0,
           4,
           0,
           0
          ],
          "coloraxis": "coloraxis",
          "symbol": "circle"
         },
         "mode": "markers",
         "name": "",
         "orientation": "v",
         "showlegend": false,
         "type": "scatter",
         "x": [
          24,
          161,
          32,
          396,
          361,
          119,
          198,
          120,
          100,
          360,
          21,
          197,
          66,
          75,
          90,
          168,
          443,
          64,
          169,
          440,
          408,
          442,
          461,
          398,
          118,
          407,
          439,
          146,
          399,
          397,
          145,
          196,
          409,
          1,
          25,
          65,
          441,
          18,
          133,
          29,
          134,
          30,
          68,
          113,
          67,
          249,
          259,
          258,
          183,
          166,
          246,
          132,
          65,
          247,
          193,
          165,
          289,
          257,
          311,
          248,
          66,
          211,
          293,
          99,
          292,
          112,
          291,
          290,
          111,
          131,
          210,
          20,
          69,
          41,
          115,
          134,
          311,
          113,
          210,
          248,
          114,
          111,
          112,
          162,
          110,
          83,
          82,
          23,
          193,
          163,
          136,
          291,
          290,
          289,
          247,
          135,
          249,
          42,
          161,
          258,
          257,
          259,
          293,
          246,
          292,
          211,
          60,
          6,
          311,
          29,
          143,
          249,
          132,
          106,
          62,
          167,
          108,
          82,
          130,
          166,
          61,
          259,
          24,
          248,
          246,
          145,
          144,
          131,
          211,
          293,
          257,
          105,
          292,
          76,
          258,
          107,
          290,
          247,
          165,
          289,
          291
         ],
         "xaxis": "x",
         "y": [
          294.6,
          256.7,
          280.3,
          222.2,
          193.6,
          145.1,
          161,
          143.9,
          151.4,
          120.5,
          131.2,
          133,
          124.3,
          130.6,
          119.8,
          92.9,
          84.6,
          80.1,
          87,
          73.7,
          75.7,
          71.3,
          65.2,
          74.3,
          60.5,
          54.5,
          46,
          38.9,
          35.3,
          40.2,
          37.4,
          26,
          16.5,
          14.7,
          15.2,
          9.2,
          7.6,
          254.3,
          207.2,
          222.5,
          221,
          213.6,
          167.5,
          189.7,
          148.2,
          144.7,
          136,
          137.9,
          111.7,
          123.7,
          111,
          111.8,
          109.4,
          104.6,
          100.7,
          86.5,
          89.8,
          89.8,
          79.7,
          73.9,
          83.9,
          80.7,
          76.9,
          83.5,
          79.1,
          54.5,
          32.1,
          34.3,
          15.1,
          22.4,
          1.7,
          208,
          172,
          112,
          108,
          106,
          105,
          104,
          99,
          94,
          93,
          90,
          87,
          86,
          85,
          84,
          78,
          77,
          70,
          69,
          68,
          66,
          52,
          47,
          47,
          43,
          43,
          42,
          41,
          37,
          37,
          30,
          27,
          21,
          15,
          1,
          194,
          171,
          131,
          127,
          116,
          115,
          114,
          109,
          109,
          107,
          92,
          91,
          86,
          84,
          84,
          79,
          79,
          77,
          70,
          61,
          57,
          55,
          45,
          41,
          40,
          39,
          38,
          36,
          36,
          32,
          23,
          22,
          21,
          20,
          18
         ],
         "yaxis": "y"
        }
       ],
       "layout": {
        "coloraxis": {
         "colorbar": {
          "title": {
           "text": "labels"
          }
         },
         "colorscale": [
          [
           0,
           "#0d0887"
          ],
          [
           0.1111111111111111,
           "#46039f"
          ],
          [
           0.2222222222222222,
           "#7201a8"
          ],
          [
           0.3333333333333333,
           "#9c179e"
          ],
          [
           0.4444444444444444,
           "#bd3786"
          ],
          [
           0.5555555555555556,
           "#d8576b"
          ],
          [
           0.6666666666666666,
           "#ed7953"
          ],
          [
           0.7777777777777778,
           "#fb9f3a"
          ],
          [
           0.8888888888888888,
           "#fdca26"
          ],
          [
           1,
           "#f0f921"
          ]
         ]
        },
        "font": {
         "color": "LightSeaGreen",
         "family": "sans serif",
         "size": 18
        },
        "legend": {
         "tracegroupgap": 0
        },
        "margin": {
         "t": 60
        },
        "template": {
         "data": {
          "bar": [
           {
            "error_x": {
             "color": "#2a3f5f"
            },
            "error_y": {
             "color": "#2a3f5f"
            },
            "marker": {
             "line": {
              "color": "#E5ECF6",
              "width": 0.5
             },
             "pattern": {
              "fillmode": "overlay",
              "size": 10,
              "solidity": 0.2
             }
            },
            "type": "bar"
           }
          ],
          "barpolar": [
           {
            "marker": {
             "line": {
              "color": "#E5ECF6",
              "width": 0.5
             },
             "pattern": {
              "fillmode": "overlay",
              "size": 10,
              "solidity": 0.2
             }
            },
            "type": "barpolar"
           }
          ],
          "carpet": [
           {
            "aaxis": {
             "endlinecolor": "#2a3f5f",
             "gridcolor": "white",
             "linecolor": "white",
             "minorgridcolor": "white",
             "startlinecolor": "#2a3f5f"
            },
            "baxis": {
             "endlinecolor": "#2a3f5f",
             "gridcolor": "white",
             "linecolor": "white",
             "minorgridcolor": "white",
             "startlinecolor": "#2a3f5f"
            },
            "type": "carpet"
           }
          ],
          "choropleth": [
           {
            "colorbar": {
             "outlinewidth": 0,
             "ticks": ""
            },
            "type": "choropleth"
           }
          ],
          "contour": [
           {
            "colorbar": {
             "outlinewidth": 0,
             "ticks": ""
            },
            "colorscale": [
             [
              0,
              "#0d0887"
             ],
             [
              0.1111111111111111,
              "#46039f"
             ],
             [
              0.2222222222222222,
              "#7201a8"
             ],
             [
              0.3333333333333333,
              "#9c179e"
             ],
             [
              0.4444444444444444,
              "#bd3786"
             ],
             [
              0.5555555555555556,
              "#d8576b"
             ],
             [
              0.6666666666666666,
              "#ed7953"
             ],
             [
              0.7777777777777778,
              "#fb9f3a"
             ],
             [
              0.8888888888888888,
              "#fdca26"
             ],
             [
              1,
              "#f0f921"
             ]
            ],
            "type": "contour"
           }
          ],
          "contourcarpet": [
           {
            "colorbar": {
             "outlinewidth": 0,
             "ticks": ""
            },
            "type": "contourcarpet"
           }
          ],
          "heatmap": [
           {
            "colorbar": {
             "outlinewidth": 0,
             "ticks": ""
            },
            "colorscale": [
             [
              0,
              "#0d0887"
             ],
             [
              0.1111111111111111,
              "#46039f"
             ],
             [
              0.2222222222222222,
              "#7201a8"
             ],
             [
              0.3333333333333333,
              "#9c179e"
             ],
             [
              0.4444444444444444,
              "#bd3786"
             ],
             [
              0.5555555555555556,
              "#d8576b"
             ],
             [
              0.6666666666666666,
              "#ed7953"
             ],
             [
              0.7777777777777778,
              "#fb9f3a"
             ],
             [
              0.8888888888888888,
              "#fdca26"
             ],
             [
              1,
              "#f0f921"
             ]
            ],
            "type": "heatmap"
           }
          ],
          "heatmapgl": [
           {
            "colorbar": {
             "outlinewidth": 0,
             "ticks": ""
            },
            "colorscale": [
             [
              0,
              "#0d0887"
             ],
             [
              0.1111111111111111,
              "#46039f"
             ],
             [
              0.2222222222222222,
              "#7201a8"
             ],
             [
              0.3333333333333333,
              "#9c179e"
             ],
             [
              0.4444444444444444,
              "#bd3786"
             ],
             [
              0.5555555555555556,
              "#d8576b"
             ],
             [
              0.6666666666666666,
              "#ed7953"
             ],
             [
              0.7777777777777778,
              "#fb9f3a"
             ],
             [
              0.8888888888888888,
              "#fdca26"
             ],
             [
              1,
              "#f0f921"
             ]
            ],
            "type": "heatmapgl"
           }
          ],
          "histogram": [
           {
            "marker": {
             "pattern": {
              "fillmode": "overlay",
              "size": 10,
              "solidity": 0.2
             }
            },
            "type": "histogram"
           }
          ],
          "histogram2d": [
           {
            "colorbar": {
             "outlinewidth": 0,
             "ticks": ""
            },
            "colorscale": [
             [
              0,
              "#0d0887"
             ],
             [
              0.1111111111111111,
              "#46039f"
             ],
             [
              0.2222222222222222,
              "#7201a8"
             ],
             [
              0.3333333333333333,
              "#9c179e"
             ],
             [
              0.4444444444444444,
              "#bd3786"
             ],
             [
              0.5555555555555556,
              "#d8576b"
             ],
             [
              0.6666666666666666,
              "#ed7953"
             ],
             [
              0.7777777777777778,
              "#fb9f3a"
             ],
             [
              0.8888888888888888,
              "#fdca26"
             ],
             [
              1,
              "#f0f921"
             ]
            ],
            "type": "histogram2d"
           }
          ],
          "histogram2dcontour": [
           {
            "colorbar": {
             "outlinewidth": 0,
             "ticks": ""
            },
            "colorscale": [
             [
              0,
              "#0d0887"
             ],
             [
              0.1111111111111111,
              "#46039f"
             ],
             [
              0.2222222222222222,
              "#7201a8"
             ],
             [
              0.3333333333333333,
              "#9c179e"
             ],
             [
              0.4444444444444444,
              "#bd3786"
             ],
             [
              0.5555555555555556,
              "#d8576b"
             ],
             [
              0.6666666666666666,
              "#ed7953"
             ],
             [
              0.7777777777777778,
              "#fb9f3a"
             ],
             [
              0.8888888888888888,
              "#fdca26"
             ],
             [
              1,
              "#f0f921"
             ]
            ],
            "type": "histogram2dcontour"
           }
          ],
          "mesh3d": [
           {
            "colorbar": {
             "outlinewidth": 0,
             "ticks": ""
            },
            "type": "mesh3d"
           }
          ],
          "parcoords": [
           {
            "line": {
             "colorbar": {
              "outlinewidth": 0,
              "ticks": ""
             }
            },
            "type": "parcoords"
           }
          ],
          "pie": [
           {
            "automargin": true,
            "type": "pie"
           }
          ],
          "scatter": [
           {
            "fillpattern": {
             "fillmode": "overlay",
             "size": 10,
             "solidity": 0.2
            },
            "type": "scatter"
           }
          ],
          "scatter3d": [
           {
            "line": {
             "colorbar": {
              "outlinewidth": 0,
              "ticks": ""
             }
            },
            "marker": {
             "colorbar": {
              "outlinewidth": 0,
              "ticks": ""
             }
            },
            "type": "scatter3d"
           }
          ],
          "scattercarpet": [
           {
            "marker": {
             "colorbar": {
              "outlinewidth": 0,
              "ticks": ""
             }
            },
            "type": "scattercarpet"
           }
          ],
          "scattergeo": [
           {
            "marker": {
             "colorbar": {
              "outlinewidth": 0,
              "ticks": ""
             }
            },
            "type": "scattergeo"
           }
          ],
          "scattergl": [
           {
            "marker": {
             "colorbar": {
              "outlinewidth": 0,
              "ticks": ""
             }
            },
            "type": "scattergl"
           }
          ],
          "scattermapbox": [
           {
            "marker": {
             "colorbar": {
              "outlinewidth": 0,
              "ticks": ""
             }
            },
            "type": "scattermapbox"
           }
          ],
          "scatterpolar": [
           {
            "marker": {
             "colorbar": {
              "outlinewidth": 0,
              "ticks": ""
             }
            },
            "type": "scatterpolar"
           }
          ],
          "scatterpolargl": [
           {
            "marker": {
             "colorbar": {
              "outlinewidth": 0,
              "ticks": ""
             }
            },
            "type": "scatterpolargl"
           }
          ],
          "scatterternary": [
           {
            "marker": {
             "colorbar": {
              "outlinewidth": 0,
              "ticks": ""
             }
            },
            "type": "scatterternary"
           }
          ],
          "surface": [
           {
            "colorbar": {
             "outlinewidth": 0,
             "ticks": ""
            },
            "colorscale": [
             [
              0,
              "#0d0887"
             ],
             [
              0.1111111111111111,
              "#46039f"
             ],
             [
              0.2222222222222222,
              "#7201a8"
             ],
             [
              0.3333333333333333,
              "#9c179e"
             ],
             [
              0.4444444444444444,
              "#bd3786"
             ],
             [
              0.5555555555555556,
              "#d8576b"
             ],
             [
              0.6666666666666666,
              "#ed7953"
             ],
             [
              0.7777777777777778,
              "#fb9f3a"
             ],
             [
              0.8888888888888888,
              "#fdca26"
             ],
             [
              1,
              "#f0f921"
             ]
            ],
            "type": "surface"
           }
          ],
          "table": [
           {
            "cells": {
             "fill": {
              "color": "#EBF0F8"
             },
             "line": {
              "color": "white"
             }
            },
            "header": {
             "fill": {
              "color": "#C8D4E3"
             },
             "line": {
              "color": "white"
             }
            },
            "type": "table"
           }
          ]
         },
         "layout": {
          "annotationdefaults": {
           "arrowcolor": "#2a3f5f",
           "arrowhead": 0,
           "arrowwidth": 1
          },
          "autotypenumbers": "strict",
          "coloraxis": {
           "colorbar": {
            "outlinewidth": 0,
            "ticks": ""
           }
          },
          "colorscale": {
           "diverging": [
            [
             0,
             "#8e0152"
            ],
            [
             0.1,
             "#c51b7d"
            ],
            [
             0.2,
             "#de77ae"
            ],
            [
             0.3,
             "#f1b6da"
            ],
            [
             0.4,
             "#fde0ef"
            ],
            [
             0.5,
             "#f7f7f7"
            ],
            [
             0.6,
             "#e6f5d0"
            ],
            [
             0.7,
             "#b8e186"
            ],
            [
             0.8,
             "#7fbc41"
            ],
            [
             0.9,
             "#4d9221"
            ],
            [
             1,
             "#276419"
            ]
           ],
           "sequential": [
            [
             0,
             "#0d0887"
            ],
            [
             0.1111111111111111,
             "#46039f"
            ],
            [
             0.2222222222222222,
             "#7201a8"
            ],
            [
             0.3333333333333333,
             "#9c179e"
            ],
            [
             0.4444444444444444,
             "#bd3786"
            ],
            [
             0.5555555555555556,
             "#d8576b"
            ],
            [
             0.6666666666666666,
             "#ed7953"
            ],
            [
             0.7777777777777778,
             "#fb9f3a"
            ],
            [
             0.8888888888888888,
             "#fdca26"
            ],
            [
             1,
             "#f0f921"
            ]
           ],
           "sequentialminus": [
            [
             0,
             "#0d0887"
            ],
            [
             0.1111111111111111,
             "#46039f"
            ],
            [
             0.2222222222222222,
             "#7201a8"
            ],
            [
             0.3333333333333333,
             "#9c179e"
            ],
            [
             0.4444444444444444,
             "#bd3786"
            ],
            [
             0.5555555555555556,
             "#d8576b"
            ],
            [
             0.6666666666666666,
             "#ed7953"
            ],
            [
             0.7777777777777778,
             "#fb9f3a"
            ],
            [
             0.8888888888888888,
             "#fdca26"
            ],
            [
             1,
             "#f0f921"
            ]
           ]
          },
          "colorway": [
           "#636efa",
           "#EF553B",
           "#00cc96",
           "#ab63fa",
           "#FFA15A",
           "#19d3f3",
           "#FF6692",
           "#B6E880",
           "#FF97FF",
           "#FECB52"
          ],
          "font": {
           "color": "#2a3f5f"
          },
          "geo": {
           "bgcolor": "white",
           "lakecolor": "white",
           "landcolor": "#E5ECF6",
           "showlakes": true,
           "showland": true,
           "subunitcolor": "white"
          },
          "hoverlabel": {
           "align": "left"
          },
          "hovermode": "closest",
          "mapbox": {
           "style": "light"
          },
          "paper_bgcolor": "white",
          "plot_bgcolor": "#E5ECF6",
          "polar": {
           "angularaxis": {
            "gridcolor": "white",
            "linecolor": "white",
            "ticks": ""
           },
           "bgcolor": "#E5ECF6",
           "radialaxis": {
            "gridcolor": "white",
            "linecolor": "white",
            "ticks": ""
           }
          },
          "scene": {
           "xaxis": {
            "backgroundcolor": "#E5ECF6",
            "gridcolor": "white",
            "gridwidth": 2,
            "linecolor": "white",
            "showbackground": true,
            "ticks": "",
            "zerolinecolor": "white"
           },
           "yaxis": {
            "backgroundcolor": "#E5ECF6",
            "gridcolor": "white",
            "gridwidth": 2,
            "linecolor": "white",
            "showbackground": true,
            "ticks": "",
            "zerolinecolor": "white"
           },
           "zaxis": {
            "backgroundcolor": "#E5ECF6",
            "gridcolor": "white",
            "gridwidth": 2,
            "linecolor": "white",
            "showbackground": true,
            "ticks": "",
            "zerolinecolor": "white"
           }
          },
          "shapedefaults": {
           "line": {
            "color": "#2a3f5f"
           }
          },
          "ternary": {
           "aaxis": {
            "gridcolor": "white",
            "linecolor": "white",
            "ticks": ""
           },
           "baxis": {
            "gridcolor": "white",
            "linecolor": "white",
            "ticks": ""
           },
           "bgcolor": "#E5ECF6",
           "caxis": {
            "gridcolor": "white",
            "linecolor": "white",
            "ticks": ""
           }
          },
          "title": {
           "x": 0.05
          },
          "xaxis": {
           "automargin": true,
           "gridcolor": "white",
           "linecolor": "white",
           "ticks": "",
           "title": {
            "standoff": 15
           },
           "zerolinecolor": "white",
           "zerolinewidth": 2
          },
          "yaxis": {
           "automargin": true,
           "gridcolor": "white",
           "linecolor": "white",
           "ticks": "",
           "title": {
            "standoff": 15
           },
           "zerolinecolor": "white",
           "zerolinewidth": 2
          }
         }
        },
        "xaxis": {
         "anchor": "y",
         "domain": [
          0,
          1
         ],
         "title": {
          "text": "ADP"
         }
        },
        "yaxis": {
         "anchor": "x",
         "domain": [
          0,
          1
         ],
         "title": {
          "text": "FantasyPoints"
         }
        }
       }
      },
      "text/html": [
       "<div>                            <div id=\"a0ae4a19-e709-49e9-a70d-3eb5d697dfda\" class=\"plotly-graph-div\" style=\"height:525px; width:100%;\"></div>            <script type=\"text/javascript\">                require([\"plotly\"], function(Plotly) {                    window.PLOTLYENV=window.PLOTLYENV || {};                                    if (document.getElementById(\"a0ae4a19-e709-49e9-a70d-3eb5d697dfda\")) {                    Plotly.newPlot(                        \"a0ae4a19-e709-49e9-a70d-3eb5d697dfda\",                        [{\"customdata\":[[\"Travis Kelce\"],[\"George Kittle\"],[\"Zach Ertz\"],[\"Eric Ebron\"],[\"Jared Cook\"],[\"Trey Burton\"],[\"Austin Hooper\"],[\"David Njoku\"],[\"Kyle Rudolph\"],[\"O.J. Howard\"],[\"Rob Gronkowski\"],[\"Vance McDonald\"],[\"Evan Engram\"],[\"Jimmy Graham\"],[\"Jordan Reed\"],[\"Cameron Brate\"],[\"Gerald Everett\"],[\"Greg Olsen\"],[\"Ben Watson\"],[\"Vernon Davis\"],[\"Blake Jarwin\"],[\"Antonio Gates\"],[\"Tyler Higbee\"],[\"Ricky Seals-Jones\"],[\"Jack Doyle\"],[\"Ryan Griffin\"],[\"Virgil Green\"],[\"Tyler Eifert\"],[\"Hayden Hurst\"],[\"Mike Gesicki\"],[\"Charles Clay\"],[\"Austin Seferian-Jenkins\"],[\"Jake Butt\"],[\"Blake Bell\"],[\"Eric Tomlinson\"],[\"Delanie Walker\"],[\"Tyler Kroft\"],[\"Travis Kelce\"],[\"Mark Andrews\"],[\"George Kittle\"],[\"Darren Waller\"],[\"Zach Ertz\"],[\"Jared Cook\"],[\"Austin Hooper\"],[\"Hunter Henry\"],[\"Dallas Goedert\"],[\"Mike Gesicki\"],[\"Jason Witten\"],[\"Kyle Rudolph\"],[\"Greg Olsen\"],[\"Noah Fant\"],[\"Jack Doyle\"],[\"Evan Engram\"],[\"Tyler Eifert\"],[\"Jimmy Graham\"],[\"Eric Ebron\"],[\"Jordan Akins\"],[\"Gerald Everett\"],[\"Dawson Knox\"],[\"Will Dissly\"],[\"O.J. Howard\"],[\"T.J. Hockenson\"],[\"Hayden Hurst\"],[\"Vance McDonald\"],[\"Irv Smith Jr.\"],[\"Delanie Walker\"],[\"Matt LaCosse\"],[\"Ben Watson\"],[\"David Njoku\"],[\"Trey Burton\"],[\"Chris Herndon\"],[\"Travis Kelce\"],[\"Darren Waller\"],[\"Mark Andrews\"],[\"T.J. Hockenson\"],[\"Mike Gesicki\"],[\"Logan Thomas\"],[\"Rob Gronkowski\"],[\"Jonnu Smith\"],[\"Jimmy Graham\"],[\"Hayden Hurst\"],[\"Jared Cook\"],[\"Noah Fant\"],[\"Eric Ebron\"],[\"Hunter Henry\"],[\"Tyler Higbee\"],[\"Evan Engram\"],[\"George Kittle\"],[\"Dallas Goedert\"],[\"Irv Smith Jr.\"],[\"Austin Hooper\"],[\"Dan Arnold\"],[\"Gerald Everett\"],[\"Jordan Akins\"],[\"Tyler Eifert\"],[\"Chris Herndon\"],[\"Dawson Knox\"],[\"Zach Ertz\"],[\"Jack Doyle\"],[\"Will Dissly\"],[\"Kyle Rudolph\"],[\"Greg Olsen\"],[\"O.J. Howard\"],[\"Ian Thomas\"],[\"C.J. Uzomah\"],[\"Blake Jarwin\"],[\"Mark Andrews*+\"],[\"Travis Kelce*\"],[\"Dalton Schultz\"],[\"George Kittle*\"],[\"Rob Gronkowski\"],[\"Dawson Knox\"],[\"Hunter Henry\"],[\"Dallas Goedert\"],[\"Kyle Pitts*\"],[\"Zach Ertz\"],[\"Mike Gesicki\"],[\"Noah Fant\"],[\"Tyler Higbee\"],[\"Jared Cook\"],[\"T.J. Hockenson\"],[\"C.J. Uzomah\"],[\"Darren Waller\"],[\"Tyler Conklin\"],[\"Gerald Everett\"],[\"Cole Kmet\"],[\"Evan Engram\"],[\"Austin Hooper\"],[\"Anthony Firkser\"],[\"Dan Arnold\"],[\"Juwan Johnson\"],[\"Jonnu Smith\"],[\"Hayden Hurst\"],[\"Logan Thomas\"],[\"Adam Trautman\"],[\"Robert Tonyan\"],[\"Tyler Kroft\"],[\"Blake Jarwin\"],[\"Eric Ebron\"],[\"O.J. Howard\"],[\"Jordan Akins\"]],\"hovertemplate\":\"ADP=%{x}<br>FantasyPoints=%{y}<br>Player=%{customdata[0]}<br>labels=%{marker.color}<extra></extra>\",\"legendgroup\":\"\",\"marker\":{\"color\":[3,3,3,2,2,4,4,4,3,2,1,4,1,1,1,4,2,1,4,2,2,2,2,2,4,2,2,4,2,2,4,0,2,1,1,1,2,3,3,3,3,3,3,3,1,0,0,0,4,4,0,4,1,0,4,4,0,0,0,0,1,0,0,4,0,4,0,0,4,4,0,3,3,1,4,4,0,4,0,0,4,4,4,4,4,1,1,1,4,4,4,0,0,0,0,4,0,1,4,0,0,0,0,0,0,0,3,3,0,1,4,0,4,4,1,4,4,1,4,4,1,0,1,0,0,4,4,4,0,0,0,4,0,1,0,4,0,0,4,0,0],\"coloraxis\":\"coloraxis\",\"symbol\":\"circle\"},\"mode\":\"markers\",\"name\":\"\",\"orientation\":\"v\",\"showlegend\":false,\"x\":[24.0,161.0,32.0,396.0,361.0,119.0,198.0,120.0,100.0,360.0,21.0,197.0,66.0,75.0,90.0,168.0,443.0,64.0,169.0,440.0,408.0,442.0,461.0,398.0,118.0,407.0,439.0,146.0,399.0,397.0,145.0,196.0,409.0,1.0,25.0,65.0,441.0,18.0,133.0,29.0,134.0,30.0,68.0,113.0,67.0,249.0,259.0,258.0,183.0,166.0,246.0,132.0,65.0,247.0,193.0,165.0,289.0,257.0,311.0,248.0,66.0,211.0,293.0,99.0,292.0,112.0,291.0,290.0,111.0,131.0,210.0,20.0,69.0,41.0,115.0,134.0,311.0,113.0,210.0,248.0,114.0,111.0,112.0,162.0,110.0,83.0,82.0,23.0,193.0,163.0,136.0,291.0,290.0,289.0,247.0,135.0,249.0,42.0,161.0,258.0,257.0,259.0,293.0,246.0,292.0,211.0,60.0,6.0,311.0,29.0,143.0,249.0,132.0,106.0,62.0,167.0,108.0,82.0,130.0,166.0,61.0,259.0,24.0,248.0,246.0,145.0,144.0,131.0,211.0,293.0,257.0,105.0,292.0,76.0,258.0,107.0,290.0,247.0,165.0,289.0,291.0],\"xaxis\":\"x\",\"y\":[294.6,256.7,280.3,222.2,193.6,145.1,161.0,143.9,151.4,120.5,131.2,133.0,124.3,130.6,119.8,92.9,84.6,80.1,87.0,73.7,75.7,71.3,65.2,74.3,60.5,54.5,46.0,38.9,35.3,40.2,37.4,26.0,16.5,14.7,15.2,9.2,7.6,254.3,207.2,222.5,221.0,213.6,167.5,189.7,148.2,144.7,136.0,137.9,111.7,123.7,111.0,111.8,109.4,104.6,100.7,86.5,89.8,89.8,79.7,73.9,83.9,80.7,76.9,83.5,79.1,54.5,32.1,34.3,15.1,22.4,1.7,208.0,172.0,112.0,108.0,106.0,105.0,104.0,99.0,94.0,93.0,90.0,87.0,86.0,85.0,84.0,78.0,77.0,70.0,69.0,68.0,66.0,52.0,47.0,47.0,43.0,43.0,42.0,41.0,37.0,37.0,30.0,27.0,21.0,15.0,1.0,194.0,171.0,131.0,127.0,116.0,115.0,114.0,109.0,109.0,107.0,92.0,91.0,86.0,84.0,84.0,79.0,79.0,77.0,70.0,61.0,57.0,55.0,45.0,41.0,40.0,39.0,38.0,36.0,36.0,32.0,23.0,22.0,21.0,20.0,18.0],\"yaxis\":\"y\",\"type\":\"scatter\"}],                        {\"template\":{\"data\":{\"histogram2dcontour\":[{\"type\":\"histogram2dcontour\",\"colorbar\":{\"outlinewidth\":0,\"ticks\":\"\"},\"colorscale\":[[0.0,\"#0d0887\"],[0.1111111111111111,\"#46039f\"],[0.2222222222222222,\"#7201a8\"],[0.3333333333333333,\"#9c179e\"],[0.4444444444444444,\"#bd3786\"],[0.5555555555555556,\"#d8576b\"],[0.6666666666666666,\"#ed7953\"],[0.7777777777777778,\"#fb9f3a\"],[0.8888888888888888,\"#fdca26\"],[1.0,\"#f0f921\"]]}],\"choropleth\":[{\"type\":\"choropleth\",\"colorbar\":{\"outlinewidth\":0,\"ticks\":\"\"}}],\"histogram2d\":[{\"type\":\"histogram2d\",\"colorbar\":{\"outlinewidth\":0,\"ticks\":\"\"},\"colorscale\":[[0.0,\"#0d0887\"],[0.1111111111111111,\"#46039f\"],[0.2222222222222222,\"#7201a8\"],[0.3333333333333333,\"#9c179e\"],[0.4444444444444444,\"#bd3786\"],[0.5555555555555556,\"#d8576b\"],[0.6666666666666666,\"#ed7953\"],[0.7777777777777778,\"#fb9f3a\"],[0.8888888888888888,\"#fdca26\"],[1.0,\"#f0f921\"]]}],\"heatmap\":[{\"type\":\"heatmap\",\"colorbar\":{\"outlinewidth\":0,\"ticks\":\"\"},\"colorscale\":[[0.0,\"#0d0887\"],[0.1111111111111111,\"#46039f\"],[0.2222222222222222,\"#7201a8\"],[0.3333333333333333,\"#9c179e\"],[0.4444444444444444,\"#bd3786\"],[0.5555555555555556,\"#d8576b\"],[0.6666666666666666,\"#ed7953\"],[0.7777777777777778,\"#fb9f3a\"],[0.8888888888888888,\"#fdca26\"],[1.0,\"#f0f921\"]]}],\"heatmapgl\":[{\"type\":\"heatmapgl\",\"colorbar\":{\"outlinewidth\":0,\"ticks\":\"\"},\"colorscale\":[[0.0,\"#0d0887\"],[0.1111111111111111,\"#46039f\"],[0.2222222222222222,\"#7201a8\"],[0.3333333333333333,\"#9c179e\"],[0.4444444444444444,\"#bd3786\"],[0.5555555555555556,\"#d8576b\"],[0.6666666666666666,\"#ed7953\"],[0.7777777777777778,\"#fb9f3a\"],[0.8888888888888888,\"#fdca26\"],[1.0,\"#f0f921\"]]}],\"contourcarpet\":[{\"type\":\"contourcarpet\",\"colorbar\":{\"outlinewidth\":0,\"ticks\":\"\"}}],\"contour\":[{\"type\":\"contour\",\"colorbar\":{\"outlinewidth\":0,\"ticks\":\"\"},\"colorscale\":[[0.0,\"#0d0887\"],[0.1111111111111111,\"#46039f\"],[0.2222222222222222,\"#7201a8\"],[0.3333333333333333,\"#9c179e\"],[0.4444444444444444,\"#bd3786\"],[0.5555555555555556,\"#d8576b\"],[0.6666666666666666,\"#ed7953\"],[0.7777777777777778,\"#fb9f3a\"],[0.8888888888888888,\"#fdca26\"],[1.0,\"#f0f921\"]]}],\"surface\":[{\"type\":\"surface\",\"colorbar\":{\"outlinewidth\":0,\"ticks\":\"\"},\"colorscale\":[[0.0,\"#0d0887\"],[0.1111111111111111,\"#46039f\"],[0.2222222222222222,\"#7201a8\"],[0.3333333333333333,\"#9c179e\"],[0.4444444444444444,\"#bd3786\"],[0.5555555555555556,\"#d8576b\"],[0.6666666666666666,\"#ed7953\"],[0.7777777777777778,\"#fb9f3a\"],[0.8888888888888888,\"#fdca26\"],[1.0,\"#f0f921\"]]}],\"mesh3d\":[{\"type\":\"mesh3d\",\"colorbar\":{\"outlinewidth\":0,\"ticks\":\"\"}}],\"scatter\":[{\"fillpattern\":{\"fillmode\":\"overlay\",\"size\":10,\"solidity\":0.2},\"type\":\"scatter\"}],\"parcoords\":[{\"type\":\"parcoords\",\"line\":{\"colorbar\":{\"outlinewidth\":0,\"ticks\":\"\"}}}],\"scatterpolargl\":[{\"type\":\"scatterpolargl\",\"marker\":{\"colorbar\":{\"outlinewidth\":0,\"ticks\":\"\"}}}],\"bar\":[{\"error_x\":{\"color\":\"#2a3f5f\"},\"error_y\":{\"color\":\"#2a3f5f\"},\"marker\":{\"line\":{\"color\":\"#E5ECF6\",\"width\":0.5},\"pattern\":{\"fillmode\":\"overlay\",\"size\":10,\"solidity\":0.2}},\"type\":\"bar\"}],\"scattergeo\":[{\"type\":\"scattergeo\",\"marker\":{\"colorbar\":{\"outlinewidth\":0,\"ticks\":\"\"}}}],\"scatterpolar\":[{\"type\":\"scatterpolar\",\"marker\":{\"colorbar\":{\"outlinewidth\":0,\"ticks\":\"\"}}}],\"histogram\":[{\"marker\":{\"pattern\":{\"fillmode\":\"overlay\",\"size\":10,\"solidity\":0.2}},\"type\":\"histogram\"}],\"scattergl\":[{\"type\":\"scattergl\",\"marker\":{\"colorbar\":{\"outlinewidth\":0,\"ticks\":\"\"}}}],\"scatter3d\":[{\"type\":\"scatter3d\",\"line\":{\"colorbar\":{\"outlinewidth\":0,\"ticks\":\"\"}},\"marker\":{\"colorbar\":{\"outlinewidth\":0,\"ticks\":\"\"}}}],\"scattermapbox\":[{\"type\":\"scattermapbox\",\"marker\":{\"colorbar\":{\"outlinewidth\":0,\"ticks\":\"\"}}}],\"scatterternary\":[{\"type\":\"scatterternary\",\"marker\":{\"colorbar\":{\"outlinewidth\":0,\"ticks\":\"\"}}}],\"scattercarpet\":[{\"type\":\"scattercarpet\",\"marker\":{\"colorbar\":{\"outlinewidth\":0,\"ticks\":\"\"}}}],\"carpet\":[{\"aaxis\":{\"endlinecolor\":\"#2a3f5f\",\"gridcolor\":\"white\",\"linecolor\":\"white\",\"minorgridcolor\":\"white\",\"startlinecolor\":\"#2a3f5f\"},\"baxis\":{\"endlinecolor\":\"#2a3f5f\",\"gridcolor\":\"white\",\"linecolor\":\"white\",\"minorgridcolor\":\"white\",\"startlinecolor\":\"#2a3f5f\"},\"type\":\"carpet\"}],\"table\":[{\"cells\":{\"fill\":{\"color\":\"#EBF0F8\"},\"line\":{\"color\":\"white\"}},\"header\":{\"fill\":{\"color\":\"#C8D4E3\"},\"line\":{\"color\":\"white\"}},\"type\":\"table\"}],\"barpolar\":[{\"marker\":{\"line\":{\"color\":\"#E5ECF6\",\"width\":0.5},\"pattern\":{\"fillmode\":\"overlay\",\"size\":10,\"solidity\":0.2}},\"type\":\"barpolar\"}],\"pie\":[{\"automargin\":true,\"type\":\"pie\"}]},\"layout\":{\"autotypenumbers\":\"strict\",\"colorway\":[\"#636efa\",\"#EF553B\",\"#00cc96\",\"#ab63fa\",\"#FFA15A\",\"#19d3f3\",\"#FF6692\",\"#B6E880\",\"#FF97FF\",\"#FECB52\"],\"font\":{\"color\":\"#2a3f5f\"},\"hovermode\":\"closest\",\"hoverlabel\":{\"align\":\"left\"},\"paper_bgcolor\":\"white\",\"plot_bgcolor\":\"#E5ECF6\",\"polar\":{\"bgcolor\":\"#E5ECF6\",\"angularaxis\":{\"gridcolor\":\"white\",\"linecolor\":\"white\",\"ticks\":\"\"},\"radialaxis\":{\"gridcolor\":\"white\",\"linecolor\":\"white\",\"ticks\":\"\"}},\"ternary\":{\"bgcolor\":\"#E5ECF6\",\"aaxis\":{\"gridcolor\":\"white\",\"linecolor\":\"white\",\"ticks\":\"\"},\"baxis\":{\"gridcolor\":\"white\",\"linecolor\":\"white\",\"ticks\":\"\"},\"caxis\":{\"gridcolor\":\"white\",\"linecolor\":\"white\",\"ticks\":\"\"}},\"coloraxis\":{\"colorbar\":{\"outlinewidth\":0,\"ticks\":\"\"}},\"colorscale\":{\"sequential\":[[0.0,\"#0d0887\"],[0.1111111111111111,\"#46039f\"],[0.2222222222222222,\"#7201a8\"],[0.3333333333333333,\"#9c179e\"],[0.4444444444444444,\"#bd3786\"],[0.5555555555555556,\"#d8576b\"],[0.6666666666666666,\"#ed7953\"],[0.7777777777777778,\"#fb9f3a\"],[0.8888888888888888,\"#fdca26\"],[1.0,\"#f0f921\"]],\"sequentialminus\":[[0.0,\"#0d0887\"],[0.1111111111111111,\"#46039f\"],[0.2222222222222222,\"#7201a8\"],[0.3333333333333333,\"#9c179e\"],[0.4444444444444444,\"#bd3786\"],[0.5555555555555556,\"#d8576b\"],[0.6666666666666666,\"#ed7953\"],[0.7777777777777778,\"#fb9f3a\"],[0.8888888888888888,\"#fdca26\"],[1.0,\"#f0f921\"]],\"diverging\":[[0,\"#8e0152\"],[0.1,\"#c51b7d\"],[0.2,\"#de77ae\"],[0.3,\"#f1b6da\"],[0.4,\"#fde0ef\"],[0.5,\"#f7f7f7\"],[0.6,\"#e6f5d0\"],[0.7,\"#b8e186\"],[0.8,\"#7fbc41\"],[0.9,\"#4d9221\"],[1,\"#276419\"]]},\"xaxis\":{\"gridcolor\":\"white\",\"linecolor\":\"white\",\"ticks\":\"\",\"title\":{\"standoff\":15},\"zerolinecolor\":\"white\",\"automargin\":true,\"zerolinewidth\":2},\"yaxis\":{\"gridcolor\":\"white\",\"linecolor\":\"white\",\"ticks\":\"\",\"title\":{\"standoff\":15},\"zerolinecolor\":\"white\",\"automargin\":true,\"zerolinewidth\":2},\"scene\":{\"xaxis\":{\"backgroundcolor\":\"#E5ECF6\",\"gridcolor\":\"white\",\"linecolor\":\"white\",\"showbackground\":true,\"ticks\":\"\",\"zerolinecolor\":\"white\",\"gridwidth\":2},\"yaxis\":{\"backgroundcolor\":\"#E5ECF6\",\"gridcolor\":\"white\",\"linecolor\":\"white\",\"showbackground\":true,\"ticks\":\"\",\"zerolinecolor\":\"white\",\"gridwidth\":2},\"zaxis\":{\"backgroundcolor\":\"#E5ECF6\",\"gridcolor\":\"white\",\"linecolor\":\"white\",\"showbackground\":true,\"ticks\":\"\",\"zerolinecolor\":\"white\",\"gridwidth\":2}},\"shapedefaults\":{\"line\":{\"color\":\"#2a3f5f\"}},\"annotationdefaults\":{\"arrowcolor\":\"#2a3f5f\",\"arrowhead\":0,\"arrowwidth\":1},\"geo\":{\"bgcolor\":\"white\",\"landcolor\":\"#E5ECF6\",\"subunitcolor\":\"white\",\"showland\":true,\"showlakes\":true,\"lakecolor\":\"white\"},\"title\":{\"x\":0.05},\"mapbox\":{\"style\":\"light\"}}},\"xaxis\":{\"anchor\":\"y\",\"domain\":[0.0,1.0],\"title\":{\"text\":\"ADP\"}},\"yaxis\":{\"anchor\":\"x\",\"domain\":[0.0,1.0],\"title\":{\"text\":\"FantasyPoints\"}},\"coloraxis\":{\"colorbar\":{\"title\":{\"text\":\"labels\"}},\"colorscale\":[[0.0,\"#0d0887\"],[0.1111111111111111,\"#46039f\"],[0.2222222222222222,\"#7201a8\"],[0.3333333333333333,\"#9c179e\"],[0.4444444444444444,\"#bd3786\"],[0.5555555555555556,\"#d8576b\"],[0.6666666666666666,\"#ed7953\"],[0.7777777777777778,\"#fb9f3a\"],[0.8888888888888888,\"#fdca26\"],[1.0,\"#f0f921\"]]},\"legend\":{\"tracegroupgap\":0},\"margin\":{\"t\":60},\"font\":{\"family\":\"sans serif\",\"size\":18,\"color\":\"LightSeaGreen\"}},                        {\"responsive\": true}                    ).then(function(){\n",
       "                            \n",
       "var gd = document.getElementById('a0ae4a19-e709-49e9-a70d-3eb5d697dfda');\n",
       "var x = new MutationObserver(function (mutations, observer) {{\n",
       "        var display = window.getComputedStyle(gd).display;\n",
       "        if (!display || display === 'none') {{\n",
       "            console.log([gd, 'removed!']);\n",
       "            Plotly.purge(gd);\n",
       "            observer.disconnect();\n",
       "        }}\n",
       "}});\n",
       "\n",
       "// Listen for the removal of the full notebook cells\n",
       "var notebookContainer = gd.closest('#notebook-container');\n",
       "if (notebookContainer) {{\n",
       "    x.observe(notebookContainer, {childList: true});\n",
       "}}\n",
       "\n",
       "// Listen for the clearing of the current output cell\n",
       "var outputEl = gd.closest('.output');\n",
       "if (outputEl) {{\n",
       "    x.observe(outputEl, {childList: true});\n",
       "}}\n",
       "\n",
       "                        })                };                });            </script>        </div>"
      ]
     },
     "metadata": {},
     "output_type": "display_data"
    },
    {
     "data": {
      "application/vnd.plotly.v1+json": {
       "config": {
        "plotlyServerURL": "https://plot.ly"
       },
       "data": [
        {
         "customdata": [
          [
           "Patrick Mahomes"
          ],
          [
           "Matt Ryan"
          ],
          [
           "Ben Roethlisberger"
          ],
          [
           "Deshaun Watson"
          ],
          [
           "Andrew Luck"
          ],
          [
           "Aaron Rodgers"
          ],
          [
           "Jared Goff"
          ],
          [
           "Drew Brees"
          ],
          [
           "Russell Wilson"
          ],
          [
           "Dak Prescott"
          ],
          [
           "Philip Rivers"
          ],
          [
           "Cam Newton"
          ],
          [
           "Kirk Cousins"
          ],
          [
           "Tom Brady"
          ],
          [
           "Mitchell Trubisky"
          ],
          [
           "Eli Manning"
          ],
          [
           "Baker Mayfield"
          ],
          [
           "Derek Carr"
          ],
          [
           "Case Keenum"
          ],
          [
           "Matthew Stafford"
          ],
          [
           "Josh Allen"
          ],
          [
           "Jameis Winston"
          ],
          [
           "Carson Wentz"
          ],
          [
           "Andy Dalton"
          ],
          [
           "Marcus Mariota"
          ],
          [
           "Blake Bortles"
          ],
          [
           "Sam Darnold"
          ],
          [
           "Ryan Fitzpatrick"
          ],
          [
           "Lamar Jackson"
          ],
          [
           "Ryan Tannehill"
          ],
          [
           "Alex Smith"
          ],
          [
           "Joe Flacco"
          ],
          [
           "Josh Rosen"
          ],
          [
           "Nick Foles"
          ],
          [
           "Jimmy Garoppolo"
          ],
          [
           "Tyrod Taylor"
          ],
          [
           "Josh McCown"
          ],
          [
           "Sam Bradford"
          ],
          [
           "Teddy Bridgewater"
          ],
          [
           "Joe Webb"
          ],
          [
           "A.J. McCarron"
          ],
          [
           "Lamar Jackson"
          ],
          [
           "Dak Prescott"
          ],
          [
           "Russell Wilson"
          ],
          [
           "Deshaun Watson"
          ],
          [
           "Jameis Winston"
          ],
          [
           "Josh Allen"
          ],
          [
           "Patrick Mahomes"
          ],
          [
           "Kyler Murray"
          ],
          [
           "Aaron Rodgers"
          ],
          [
           "Carson Wentz"
          ],
          [
           "Matt Ryan"
          ],
          [
           "Tom Brady"
          ],
          [
           "Jared Goff"
          ],
          [
           "Jimmy Garoppolo"
          ],
          [
           "Derek Carr"
          ],
          [
           "Kirk Cousins"
          ],
          [
           "Ryan Fitzpatrick"
          ],
          [
           "Philip Rivers"
          ],
          [
           "Baker Mayfield"
          ],
          [
           "Drew Brees"
          ],
          [
           "Ryan Tannehill"
          ],
          [
           "Jacoby Brissett"
          ],
          [
           "Daniel Jones"
          ],
          [
           "Andy Dalton"
          ],
          [
           "Mitchell Trubisky"
          ],
          [
           "Sam Darnold"
          ],
          [
           "Matthew Stafford"
          ],
          [
           "Mason Rudolph"
          ],
          [
           "Case Keenum"
          ],
          [
           "Joe Flacco"
          ],
          [
           "Marcus Mariota"
          ],
          [
           "Taysom Hill"
          ],
          [
           "Dwayne Haskins"
          ],
          [
           "Eli Manning"
          ],
          [
           "Nick Foles"
          ],
          [
           "Josh Rosen"
          ],
          [
           "Cam Newton"
          ],
          [
           "Ben Roethlisberger"
          ],
          [
           "Colt McCoy"
          ],
          [
           "Nick Mullens"
          ],
          [
           "Josh Allen"
          ],
          [
           "Aaron Rodgers"
          ],
          [
           "Kyler Murray"
          ],
          [
           "Patrick Mahomes"
          ],
          [
           "Deshaun Watson"
          ],
          [
           "Russell Wilson"
          ],
          [
           "Ryan Tannehill"
          ],
          [
           "Tom Brady"
          ],
          [
           "Justin Herbert"
          ],
          [
           "Lamar Jackson"
          ],
          [
           "Kirk Cousins"
          ],
          [
           "Matt Ryan"
          ],
          [
           "Derek Carr"
          ],
          [
           "Ben Roethlisberger"
          ],
          [
           "Matthew Stafford"
          ],
          [
           "Cam Newton"
          ],
          [
           "Baker Mayfield"
          ],
          [
           "Teddy Bridgewater"
          ],
          [
           "Jared Goff"
          ],
          [
           "Philip Rivers"
          ],
          [
           "Drew Brees"
          ],
          [
           "Carson Wentz"
          ],
          [
           "Drew Lock"
          ],
          [
           "Daniel Jones"
          ],
          [
           "Joe Burrow"
          ],
          [
           "Gardner Minshew II"
          ],
          [
           "Mitchell Trubisky"
          ],
          [
           "Ryan Fitzpatrick"
          ],
          [
           "Dak Prescott"
          ],
          [
           "Tua Tagovailoa"
          ],
          [
           "Sam Darnold"
          ],
          [
           "Jalen Hurts"
          ],
          [
           "Nick Foles"
          ],
          [
           "Alex Smith"
          ],
          [
           "Dwayne Haskins"
          ],
          [
           "Jimmy Garoppolo"
          ],
          [
           "Jarrett Stidham"
          ],
          [
           "Tyrod Taylor"
          ],
          [
           "Case Keenum"
          ],
          [
           "Jameis Winston"
          ],
          [
           "Josh Allen"
          ],
          [
           "Justin Herbert*"
          ],
          [
           "Tom Brady*"
          ],
          [
           "Patrick Mahomes*"
          ],
          [
           "Aaron Rodgers*+"
          ],
          [
           "Matthew Stafford"
          ],
          [
           "Dak Prescott"
          ],
          [
           "Joe Burrow"
          ],
          [
           "Jalen Hurts"
          ],
          [
           "Kyler Murray*"
          ],
          [
           "Kirk Cousins*"
          ],
          [
           "Ryan Tannehill"
          ],
          [
           "Carson Wentz"
          ],
          [
           "Derek Carr"
          ],
          [
           "Russell Wilson*"
          ],
          [
           "Lamar Jackson*"
          ],
          [
           "Jimmy Garoppolo"
          ],
          [
           "Mac Jones*"
          ],
          [
           "Matt Ryan"
          ],
          [
           "Ben Roethlisberger"
          ],
          [
           "Teddy Bridgewater"
          ],
          [
           "Trevor Lawrence"
          ],
          [
           "Jared Goff"
          ],
          [
           "Baker Mayfield"
          ],
          [
           "Tua Tagovailoa"
          ],
          [
           "Daniel Jones"
          ],
          [
           "Sam Darnold"
          ],
          [
           "Davis Mills"
          ],
          [
           "Zach Wilson"
          ],
          [
           "Justin Fields"
          ],
          [
           "Taysom Hill"
          ],
          [
           "Jameis Winston"
          ],
          [
           "Andy Dalton"
          ],
          [
           "Tyrod Taylor"
          ],
          [
           "Trey Lance"
          ],
          [
           "Drew Lock"
          ],
          [
           "Gardner Minshew II"
          ],
          [
           "Ryan Fitzpatrick"
          ],
          [
           "Jacob Eason"
          ]
         ],
         "hovertemplate": "ADP=%{x}<br>FantasyPoints=%{y}<br>Player=%{customdata[0]}<br>labels=%{marker.color}<extra></extra>",
         "legendgroup": "",
         "marker": {
          "color": [
           0,
           0,
           0,
           0,
           0,
           0,
           0,
           0,
           0,
           4,
           4,
           0,
           4,
           0,
           2,
           3,
           3,
           3,
           3,
           4,
           3,
           3,
           4,
           3,
           4,
           3,
           3,
           3,
           3,
           3,
           4,
           3,
           3,
           3,
           1,
           1,
           3,
           3,
           3,
           3,
           3,
           0,
           0,
           0,
           0,
           4,
           2,
           0,
           4,
           0,
           4,
           4,
           4,
           4,
           2,
           2,
           4,
           2,
           4,
           4,
           4,
           2,
           2,
           2,
           2,
           4,
           4,
           2,
           1,
           1,
           1,
           1,
           1,
           1,
           1,
           1,
           1,
           1,
           1,
           1,
           1,
           0,
           0,
           0,
           0,
           0,
           0,
           0,
           0,
           2,
           0,
           2,
           4,
           2,
           4,
           4,
           4,
           4,
           2,
           4,
           2,
           4,
           4,
           2,
           4,
           2,
           2,
           2,
           2,
           4,
           1,
           1,
           1,
           1,
           1,
           1,
           1,
           1,
           1,
           1,
           1,
           0,
           0,
           0,
           0,
           0,
           0,
           0,
           0,
           0,
           0,
           2,
           4,
           2,
           2,
           4,
           4,
           2,
           2,
           4,
           4,
           2,
           4,
           2,
           4,
           4,
           2,
           2,
           2,
           2,
           4,
           1,
           1,
           1,
           1,
           1,
           1,
           1,
           1,
           1
          ],
          "coloraxis": "coloraxis",
          "symbol": "circle"
         },
         "mode": "markers",
         "name": "",
         "orientation": "v",
         "showlegend": false,
         "type": "scatter",
         "x": [
          133,
          128,
          116,
          81,
          91,
          58,
          152,
          127,
          80,
          151,
          134,
          78,
          117,
          59,
          362,
          393,
          468,
          394,
          416,
          126,
          446,
          395,
          79,
          369,
          150,
          417,
          419,
          466,
          465,
          370,
          136,
          418,
          452,
          467,
          135,
          163,
          451,
          420,
          469,
          428,
          460,
          124,
          90,
          117,
          71,
          167,
          212,
          43,
          118,
          73,
          89,
          72,
          114,
          119,
          220,
          219,
          169,
          270,
          168,
          88,
          116,
          318,
          245,
          302,
          266,
          125,
          182,
          243,
          319,
          296,
          268,
          244,
          316,
          310,
          267,
          269,
          301,
          87,
          115,
          317,
          315,
          119,
          122,
          74,
          35,
          73,
          76,
          165,
          117,
          302,
          34,
          212,
          116,
          244,
          164,
          121,
          138,
          167,
          267,
          166,
          245,
          120,
          118,
          243,
          137,
          220,
          219,
          296,
          301,
          75,
          270,
          266,
          315,
          310,
          319,
          268,
          168,
          316,
          269,
          318,
          317,
          50,
          81,
          109,
          49,
          79,
          116,
          67,
          133,
          114,
          63,
          219,
          115,
          266,
          245,
          80,
          68,
          301,
          267,
          147,
          148,
          269,
          146,
          268,
          134,
          135,
          212,
          270,
          318,
          244,
          149,
          310,
          243,
          315,
          296,
          168,
          316,
          319,
          220,
          317
         ],
         "xaxis": "x",
         "y": [
          415.08,
          350.9600000000001,
          333.86,
          331.7000000000001,
          323.92,
          306.58,
          304.32,
          302.98,
          297.42,
          281.9,
          275.02,
          278.6,
          277.11999999999995,
          281.3,
          255.02,
          233.96,
          236.1,
          214.76,
          214.9,
          212.18,
          206.06,
          195.78,
          191.66,
          174.54,
          175.92000000000004,
          173.22,
          168.4,
          163.83999999999995,
          157.54,
          142.96,
          138,
          137.1,
          110.92,
          76.22000000000001,
          46.02,
          41.42,
          20.76,
          12.7,
          7.219999999999999,
          3.3,
          0.12,
          415.68,
          335.7800000000001,
          326.6,
          318.98,
          297.36,
          282.56,
          285.04,
          279.28,
          272.38000000000005,
          271.86,
          265.34,
          261.67999999999995,
          247.52,
          243.32,
          244.36,
          242.42,
          239.46,
          233.50000000000003,
          227.18,
          224.76,
          222.18,
          215.68,
          210.98,
          199.66,
          200.82,
          183.16,
          166.55999999999997,
          108.8,
          103.48,
          82.88,
          85.02000000000002,
          102.2,
          74.69999999999997,
          54.38000000000001,
          35.73999999999999,
          17.98,
          16.68,
          12.739999999999998,
          4.279999999999999,
          -0.3,
          395,
          382,
          379,
          374,
          369,
          360,
          343,
          338,
          333,
          333,
          306,
          282,
          272,
          267,
          261,
          259,
          248,
          241,
          240,
          240,
          209,
          198,
          181,
          180,
          174,
          160,
          154,
          153,
          135,
          135,
          134,
          108,
          104,
          72,
          68,
          64,
          13,
          9,
          2,
          2,
          403,
          381,
          375,
          362,
          332,
          330,
          321,
          314,
          312,
          300,
          300,
          268,
          258,
          257,
          243,
          240,
          228,
          225,
          223,
          218,
          203,
          199,
          195,
          181,
          181,
          167,
          157,
          157,
          152,
          127,
          118,
          117,
          84,
          82,
          65,
          51,
          34,
          1,
          -1
         ],
         "yaxis": "y"
        }
       ],
       "layout": {
        "coloraxis": {
         "colorbar": {
          "title": {
           "text": "labels"
          }
         },
         "colorscale": [
          [
           0,
           "#0d0887"
          ],
          [
           0.1111111111111111,
           "#46039f"
          ],
          [
           0.2222222222222222,
           "#7201a8"
          ],
          [
           0.3333333333333333,
           "#9c179e"
          ],
          [
           0.4444444444444444,
           "#bd3786"
          ],
          [
           0.5555555555555556,
           "#d8576b"
          ],
          [
           0.6666666666666666,
           "#ed7953"
          ],
          [
           0.7777777777777778,
           "#fb9f3a"
          ],
          [
           0.8888888888888888,
           "#fdca26"
          ],
          [
           1,
           "#f0f921"
          ]
         ]
        },
        "font": {
         "color": "LightSeaGreen",
         "family": "sans serif",
         "size": 18
        },
        "legend": {
         "tracegroupgap": 0
        },
        "margin": {
         "t": 60
        },
        "template": {
         "data": {
          "bar": [
           {
            "error_x": {
             "color": "#2a3f5f"
            },
            "error_y": {
             "color": "#2a3f5f"
            },
            "marker": {
             "line": {
              "color": "#E5ECF6",
              "width": 0.5
             },
             "pattern": {
              "fillmode": "overlay",
              "size": 10,
              "solidity": 0.2
             }
            },
            "type": "bar"
           }
          ],
          "barpolar": [
           {
            "marker": {
             "line": {
              "color": "#E5ECF6",
              "width": 0.5
             },
             "pattern": {
              "fillmode": "overlay",
              "size": 10,
              "solidity": 0.2
             }
            },
            "type": "barpolar"
           }
          ],
          "carpet": [
           {
            "aaxis": {
             "endlinecolor": "#2a3f5f",
             "gridcolor": "white",
             "linecolor": "white",
             "minorgridcolor": "white",
             "startlinecolor": "#2a3f5f"
            },
            "baxis": {
             "endlinecolor": "#2a3f5f",
             "gridcolor": "white",
             "linecolor": "white",
             "minorgridcolor": "white",
             "startlinecolor": "#2a3f5f"
            },
            "type": "carpet"
           }
          ],
          "choropleth": [
           {
            "colorbar": {
             "outlinewidth": 0,
             "ticks": ""
            },
            "type": "choropleth"
           }
          ],
          "contour": [
           {
            "colorbar": {
             "outlinewidth": 0,
             "ticks": ""
            },
            "colorscale": [
             [
              0,
              "#0d0887"
             ],
             [
              0.1111111111111111,
              "#46039f"
             ],
             [
              0.2222222222222222,
              "#7201a8"
             ],
             [
              0.3333333333333333,
              "#9c179e"
             ],
             [
              0.4444444444444444,
              "#bd3786"
             ],
             [
              0.5555555555555556,
              "#d8576b"
             ],
             [
              0.6666666666666666,
              "#ed7953"
             ],
             [
              0.7777777777777778,
              "#fb9f3a"
             ],
             [
              0.8888888888888888,
              "#fdca26"
             ],
             [
              1,
              "#f0f921"
             ]
            ],
            "type": "contour"
           }
          ],
          "contourcarpet": [
           {
            "colorbar": {
             "outlinewidth": 0,
             "ticks": ""
            },
            "type": "contourcarpet"
           }
          ],
          "heatmap": [
           {
            "colorbar": {
             "outlinewidth": 0,
             "ticks": ""
            },
            "colorscale": [
             [
              0,
              "#0d0887"
             ],
             [
              0.1111111111111111,
              "#46039f"
             ],
             [
              0.2222222222222222,
              "#7201a8"
             ],
             [
              0.3333333333333333,
              "#9c179e"
             ],
             [
              0.4444444444444444,
              "#bd3786"
             ],
             [
              0.5555555555555556,
              "#d8576b"
             ],
             [
              0.6666666666666666,
              "#ed7953"
             ],
             [
              0.7777777777777778,
              "#fb9f3a"
             ],
             [
              0.8888888888888888,
              "#fdca26"
             ],
             [
              1,
              "#f0f921"
             ]
            ],
            "type": "heatmap"
           }
          ],
          "heatmapgl": [
           {
            "colorbar": {
             "outlinewidth": 0,
             "ticks": ""
            },
            "colorscale": [
             [
              0,
              "#0d0887"
             ],
             [
              0.1111111111111111,
              "#46039f"
             ],
             [
              0.2222222222222222,
              "#7201a8"
             ],
             [
              0.3333333333333333,
              "#9c179e"
             ],
             [
              0.4444444444444444,
              "#bd3786"
             ],
             [
              0.5555555555555556,
              "#d8576b"
             ],
             [
              0.6666666666666666,
              "#ed7953"
             ],
             [
              0.7777777777777778,
              "#fb9f3a"
             ],
             [
              0.8888888888888888,
              "#fdca26"
             ],
             [
              1,
              "#f0f921"
             ]
            ],
            "type": "heatmapgl"
           }
          ],
          "histogram": [
           {
            "marker": {
             "pattern": {
              "fillmode": "overlay",
              "size": 10,
              "solidity": 0.2
             }
            },
            "type": "histogram"
           }
          ],
          "histogram2d": [
           {
            "colorbar": {
             "outlinewidth": 0,
             "ticks": ""
            },
            "colorscale": [
             [
              0,
              "#0d0887"
             ],
             [
              0.1111111111111111,
              "#46039f"
             ],
             [
              0.2222222222222222,
              "#7201a8"
             ],
             [
              0.3333333333333333,
              "#9c179e"
             ],
             [
              0.4444444444444444,
              "#bd3786"
             ],
             [
              0.5555555555555556,
              "#d8576b"
             ],
             [
              0.6666666666666666,
              "#ed7953"
             ],
             [
              0.7777777777777778,
              "#fb9f3a"
             ],
             [
              0.8888888888888888,
              "#fdca26"
             ],
             [
              1,
              "#f0f921"
             ]
            ],
            "type": "histogram2d"
           }
          ],
          "histogram2dcontour": [
           {
            "colorbar": {
             "outlinewidth": 0,
             "ticks": ""
            },
            "colorscale": [
             [
              0,
              "#0d0887"
             ],
             [
              0.1111111111111111,
              "#46039f"
             ],
             [
              0.2222222222222222,
              "#7201a8"
             ],
             [
              0.3333333333333333,
              "#9c179e"
             ],
             [
              0.4444444444444444,
              "#bd3786"
             ],
             [
              0.5555555555555556,
              "#d8576b"
             ],
             [
              0.6666666666666666,
              "#ed7953"
             ],
             [
              0.7777777777777778,
              "#fb9f3a"
             ],
             [
              0.8888888888888888,
              "#fdca26"
             ],
             [
              1,
              "#f0f921"
             ]
            ],
            "type": "histogram2dcontour"
           }
          ],
          "mesh3d": [
           {
            "colorbar": {
             "outlinewidth": 0,
             "ticks": ""
            },
            "type": "mesh3d"
           }
          ],
          "parcoords": [
           {
            "line": {
             "colorbar": {
              "outlinewidth": 0,
              "ticks": ""
             }
            },
            "type": "parcoords"
           }
          ],
          "pie": [
           {
            "automargin": true,
            "type": "pie"
           }
          ],
          "scatter": [
           {
            "fillpattern": {
             "fillmode": "overlay",
             "size": 10,
             "solidity": 0.2
            },
            "type": "scatter"
           }
          ],
          "scatter3d": [
           {
            "line": {
             "colorbar": {
              "outlinewidth": 0,
              "ticks": ""
             }
            },
            "marker": {
             "colorbar": {
              "outlinewidth": 0,
              "ticks": ""
             }
            },
            "type": "scatter3d"
           }
          ],
          "scattercarpet": [
           {
            "marker": {
             "colorbar": {
              "outlinewidth": 0,
              "ticks": ""
             }
            },
            "type": "scattercarpet"
           }
          ],
          "scattergeo": [
           {
            "marker": {
             "colorbar": {
              "outlinewidth": 0,
              "ticks": ""
             }
            },
            "type": "scattergeo"
           }
          ],
          "scattergl": [
           {
            "marker": {
             "colorbar": {
              "outlinewidth": 0,
              "ticks": ""
             }
            },
            "type": "scattergl"
           }
          ],
          "scattermapbox": [
           {
            "marker": {
             "colorbar": {
              "outlinewidth": 0,
              "ticks": ""
             }
            },
            "type": "scattermapbox"
           }
          ],
          "scatterpolar": [
           {
            "marker": {
             "colorbar": {
              "outlinewidth": 0,
              "ticks": ""
             }
            },
            "type": "scatterpolar"
           }
          ],
          "scatterpolargl": [
           {
            "marker": {
             "colorbar": {
              "outlinewidth": 0,
              "ticks": ""
             }
            },
            "type": "scatterpolargl"
           }
          ],
          "scatterternary": [
           {
            "marker": {
             "colorbar": {
              "outlinewidth": 0,
              "ticks": ""
             }
            },
            "type": "scatterternary"
           }
          ],
          "surface": [
           {
            "colorbar": {
             "outlinewidth": 0,
             "ticks": ""
            },
            "colorscale": [
             [
              0,
              "#0d0887"
             ],
             [
              0.1111111111111111,
              "#46039f"
             ],
             [
              0.2222222222222222,
              "#7201a8"
             ],
             [
              0.3333333333333333,
              "#9c179e"
             ],
             [
              0.4444444444444444,
              "#bd3786"
             ],
             [
              0.5555555555555556,
              "#d8576b"
             ],
             [
              0.6666666666666666,
              "#ed7953"
             ],
             [
              0.7777777777777778,
              "#fb9f3a"
             ],
             [
              0.8888888888888888,
              "#fdca26"
             ],
             [
              1,
              "#f0f921"
             ]
            ],
            "type": "surface"
           }
          ],
          "table": [
           {
            "cells": {
             "fill": {
              "color": "#EBF0F8"
             },
             "line": {
              "color": "white"
             }
            },
            "header": {
             "fill": {
              "color": "#C8D4E3"
             },
             "line": {
              "color": "white"
             }
            },
            "type": "table"
           }
          ]
         },
         "layout": {
          "annotationdefaults": {
           "arrowcolor": "#2a3f5f",
           "arrowhead": 0,
           "arrowwidth": 1
          },
          "autotypenumbers": "strict",
          "coloraxis": {
           "colorbar": {
            "outlinewidth": 0,
            "ticks": ""
           }
          },
          "colorscale": {
           "diverging": [
            [
             0,
             "#8e0152"
            ],
            [
             0.1,
             "#c51b7d"
            ],
            [
             0.2,
             "#de77ae"
            ],
            [
             0.3,
             "#f1b6da"
            ],
            [
             0.4,
             "#fde0ef"
            ],
            [
             0.5,
             "#f7f7f7"
            ],
            [
             0.6,
             "#e6f5d0"
            ],
            [
             0.7,
             "#b8e186"
            ],
            [
             0.8,
             "#7fbc41"
            ],
            [
             0.9,
             "#4d9221"
            ],
            [
             1,
             "#276419"
            ]
           ],
           "sequential": [
            [
             0,
             "#0d0887"
            ],
            [
             0.1111111111111111,
             "#46039f"
            ],
            [
             0.2222222222222222,
             "#7201a8"
            ],
            [
             0.3333333333333333,
             "#9c179e"
            ],
            [
             0.4444444444444444,
             "#bd3786"
            ],
            [
             0.5555555555555556,
             "#d8576b"
            ],
            [
             0.6666666666666666,
             "#ed7953"
            ],
            [
             0.7777777777777778,
             "#fb9f3a"
            ],
            [
             0.8888888888888888,
             "#fdca26"
            ],
            [
             1,
             "#f0f921"
            ]
           ],
           "sequentialminus": [
            [
             0,
             "#0d0887"
            ],
            [
             0.1111111111111111,
             "#46039f"
            ],
            [
             0.2222222222222222,
             "#7201a8"
            ],
            [
             0.3333333333333333,
             "#9c179e"
            ],
            [
             0.4444444444444444,
             "#bd3786"
            ],
            [
             0.5555555555555556,
             "#d8576b"
            ],
            [
             0.6666666666666666,
             "#ed7953"
            ],
            [
             0.7777777777777778,
             "#fb9f3a"
            ],
            [
             0.8888888888888888,
             "#fdca26"
            ],
            [
             1,
             "#f0f921"
            ]
           ]
          },
          "colorway": [
           "#636efa",
           "#EF553B",
           "#00cc96",
           "#ab63fa",
           "#FFA15A",
           "#19d3f3",
           "#FF6692",
           "#B6E880",
           "#FF97FF",
           "#FECB52"
          ],
          "font": {
           "color": "#2a3f5f"
          },
          "geo": {
           "bgcolor": "white",
           "lakecolor": "white",
           "landcolor": "#E5ECF6",
           "showlakes": true,
           "showland": true,
           "subunitcolor": "white"
          },
          "hoverlabel": {
           "align": "left"
          },
          "hovermode": "closest",
          "mapbox": {
           "style": "light"
          },
          "paper_bgcolor": "white",
          "plot_bgcolor": "#E5ECF6",
          "polar": {
           "angularaxis": {
            "gridcolor": "white",
            "linecolor": "white",
            "ticks": ""
           },
           "bgcolor": "#E5ECF6",
           "radialaxis": {
            "gridcolor": "white",
            "linecolor": "white",
            "ticks": ""
           }
          },
          "scene": {
           "xaxis": {
            "backgroundcolor": "#E5ECF6",
            "gridcolor": "white",
            "gridwidth": 2,
            "linecolor": "white",
            "showbackground": true,
            "ticks": "",
            "zerolinecolor": "white"
           },
           "yaxis": {
            "backgroundcolor": "#E5ECF6",
            "gridcolor": "white",
            "gridwidth": 2,
            "linecolor": "white",
            "showbackground": true,
            "ticks": "",
            "zerolinecolor": "white"
           },
           "zaxis": {
            "backgroundcolor": "#E5ECF6",
            "gridcolor": "white",
            "gridwidth": 2,
            "linecolor": "white",
            "showbackground": true,
            "ticks": "",
            "zerolinecolor": "white"
           }
          },
          "shapedefaults": {
           "line": {
            "color": "#2a3f5f"
           }
          },
          "ternary": {
           "aaxis": {
            "gridcolor": "white",
            "linecolor": "white",
            "ticks": ""
           },
           "baxis": {
            "gridcolor": "white",
            "linecolor": "white",
            "ticks": ""
           },
           "bgcolor": "#E5ECF6",
           "caxis": {
            "gridcolor": "white",
            "linecolor": "white",
            "ticks": ""
           }
          },
          "title": {
           "x": 0.05
          },
          "xaxis": {
           "automargin": true,
           "gridcolor": "white",
           "linecolor": "white",
           "ticks": "",
           "title": {
            "standoff": 15
           },
           "zerolinecolor": "white",
           "zerolinewidth": 2
          },
          "yaxis": {
           "automargin": true,
           "gridcolor": "white",
           "linecolor": "white",
           "ticks": "",
           "title": {
            "standoff": 15
           },
           "zerolinecolor": "white",
           "zerolinewidth": 2
          }
         }
        },
        "xaxis": {
         "anchor": "y",
         "domain": [
          0,
          1
         ],
         "title": {
          "text": "ADP"
         }
        },
        "yaxis": {
         "anchor": "x",
         "domain": [
          0,
          1
         ],
         "title": {
          "text": "FantasyPoints"
         }
        }
       }
      },
      "text/html": [
       "<div>                            <div id=\"701bdbba-f7d3-4dd5-9b9f-1947efdb58a3\" class=\"plotly-graph-div\" style=\"height:525px; width:100%;\"></div>            <script type=\"text/javascript\">                require([\"plotly\"], function(Plotly) {                    window.PLOTLYENV=window.PLOTLYENV || {};                                    if (document.getElementById(\"701bdbba-f7d3-4dd5-9b9f-1947efdb58a3\")) {                    Plotly.newPlot(                        \"701bdbba-f7d3-4dd5-9b9f-1947efdb58a3\",                        [{\"customdata\":[[\"Patrick Mahomes\"],[\"Matt Ryan\"],[\"Ben Roethlisberger\"],[\"Deshaun Watson\"],[\"Andrew Luck\"],[\"Aaron Rodgers\"],[\"Jared Goff\"],[\"Drew Brees\"],[\"Russell Wilson\"],[\"Dak Prescott\"],[\"Philip Rivers\"],[\"Cam Newton\"],[\"Kirk Cousins\"],[\"Tom Brady\"],[\"Mitchell Trubisky\"],[\"Eli Manning\"],[\"Baker Mayfield\"],[\"Derek Carr\"],[\"Case Keenum\"],[\"Matthew Stafford\"],[\"Josh Allen\"],[\"Jameis Winston\"],[\"Carson Wentz\"],[\"Andy Dalton\"],[\"Marcus Mariota\"],[\"Blake Bortles\"],[\"Sam Darnold\"],[\"Ryan Fitzpatrick\"],[\"Lamar Jackson\"],[\"Ryan Tannehill\"],[\"Alex Smith\"],[\"Joe Flacco\"],[\"Josh Rosen\"],[\"Nick Foles\"],[\"Jimmy Garoppolo\"],[\"Tyrod Taylor\"],[\"Josh McCown\"],[\"Sam Bradford\"],[\"Teddy Bridgewater\"],[\"Joe Webb\"],[\"A.J. McCarron\"],[\"Lamar Jackson\"],[\"Dak Prescott\"],[\"Russell Wilson\"],[\"Deshaun Watson\"],[\"Jameis Winston\"],[\"Josh Allen\"],[\"Patrick Mahomes\"],[\"Kyler Murray\"],[\"Aaron Rodgers\"],[\"Carson Wentz\"],[\"Matt Ryan\"],[\"Tom Brady\"],[\"Jared Goff\"],[\"Jimmy Garoppolo\"],[\"Derek Carr\"],[\"Kirk Cousins\"],[\"Ryan Fitzpatrick\"],[\"Philip Rivers\"],[\"Baker Mayfield\"],[\"Drew Brees\"],[\"Ryan Tannehill\"],[\"Jacoby Brissett\"],[\"Daniel Jones\"],[\"Andy Dalton\"],[\"Mitchell Trubisky\"],[\"Sam Darnold\"],[\"Matthew Stafford\"],[\"Mason Rudolph\"],[\"Case Keenum\"],[\"Joe Flacco\"],[\"Marcus Mariota\"],[\"Taysom Hill\"],[\"Dwayne Haskins\"],[\"Eli Manning\"],[\"Nick Foles\"],[\"Josh Rosen\"],[\"Cam Newton\"],[\"Ben Roethlisberger\"],[\"Colt McCoy\"],[\"Nick Mullens\"],[\"Josh Allen\"],[\"Aaron Rodgers\"],[\"Kyler Murray\"],[\"Patrick Mahomes\"],[\"Deshaun Watson\"],[\"Russell Wilson\"],[\"Ryan Tannehill\"],[\"Tom Brady\"],[\"Justin Herbert\"],[\"Lamar Jackson\"],[\"Kirk Cousins\"],[\"Matt Ryan\"],[\"Derek Carr\"],[\"Ben Roethlisberger\"],[\"Matthew Stafford\"],[\"Cam Newton\"],[\"Baker Mayfield\"],[\"Teddy Bridgewater\"],[\"Jared Goff\"],[\"Philip Rivers\"],[\"Drew Brees\"],[\"Carson Wentz\"],[\"Drew Lock\"],[\"Daniel Jones\"],[\"Joe Burrow\"],[\"Gardner Minshew II\"],[\"Mitchell Trubisky\"],[\"Ryan Fitzpatrick\"],[\"Dak Prescott\"],[\"Tua Tagovailoa\"],[\"Sam Darnold\"],[\"Jalen Hurts\"],[\"Nick Foles\"],[\"Alex Smith\"],[\"Dwayne Haskins\"],[\"Jimmy Garoppolo\"],[\"Jarrett Stidham\"],[\"Tyrod Taylor\"],[\"Case Keenum\"],[\"Jameis Winston\"],[\"Josh Allen\"],[\"Justin Herbert*\"],[\"Tom Brady*\"],[\"Patrick Mahomes*\"],[\"Aaron Rodgers*+\"],[\"Matthew Stafford\"],[\"Dak Prescott\"],[\"Joe Burrow\"],[\"Jalen Hurts\"],[\"Kyler Murray*\"],[\"Kirk Cousins*\"],[\"Ryan Tannehill\"],[\"Carson Wentz\"],[\"Derek Carr\"],[\"Russell Wilson*\"],[\"Lamar Jackson*\"],[\"Jimmy Garoppolo\"],[\"Mac Jones*\"],[\"Matt Ryan\"],[\"Ben Roethlisberger\"],[\"Teddy Bridgewater\"],[\"Trevor Lawrence\"],[\"Jared Goff\"],[\"Baker Mayfield\"],[\"Tua Tagovailoa\"],[\"Daniel Jones\"],[\"Sam Darnold\"],[\"Davis Mills\"],[\"Zach Wilson\"],[\"Justin Fields\"],[\"Taysom Hill\"],[\"Jameis Winston\"],[\"Andy Dalton\"],[\"Tyrod Taylor\"],[\"Trey Lance\"],[\"Drew Lock\"],[\"Gardner Minshew II\"],[\"Ryan Fitzpatrick\"],[\"Jacob Eason\"]],\"hovertemplate\":\"ADP=%{x}<br>FantasyPoints=%{y}<br>Player=%{customdata[0]}<br>labels=%{marker.color}<extra></extra>\",\"legendgroup\":\"\",\"marker\":{\"color\":[0,0,0,0,0,0,0,0,0,4,4,0,4,0,2,3,3,3,3,4,3,3,4,3,4,3,3,3,3,3,4,3,3,3,1,1,3,3,3,3,3,0,0,0,0,4,2,0,4,0,4,4,4,4,2,2,4,2,4,4,4,2,2,2,2,4,4,2,1,1,1,1,1,1,1,1,1,1,1,1,1,0,0,0,0,0,0,0,0,2,0,2,4,2,4,4,4,4,2,4,2,4,4,2,4,2,2,2,2,4,1,1,1,1,1,1,1,1,1,1,1,0,0,0,0,0,0,0,0,0,0,2,4,2,2,4,4,2,2,4,4,2,4,2,4,4,2,2,2,2,4,1,1,1,1,1,1,1,1,1],\"coloraxis\":\"coloraxis\",\"symbol\":\"circle\"},\"mode\":\"markers\",\"name\":\"\",\"orientation\":\"v\",\"showlegend\":false,\"x\":[133.0,128.0,116.0,81.0,91.0,58.0,152.0,127.0,80.0,151.0,134.0,78.0,117.0,59.0,362.0,393.0,468.0,394.0,416.0,126.0,446.0,395.0,79.0,369.0,150.0,417.0,419.0,466.0,465.0,370.0,136.0,418.0,452.0,467.0,135.0,163.0,451.0,420.0,469.0,428.0,460.0,124.0,90.0,117.0,71.0,167.0,212.0,43.0,118.0,73.0,89.0,72.0,114.0,119.0,220.0,219.0,169.0,270.0,168.0,88.0,116.0,318.0,245.0,302.0,266.0,125.0,182.0,243.0,319.0,296.0,268.0,244.0,316.0,310.0,267.0,269.0,301.0,87.0,115.0,317.0,315.0,119.0,122.0,74.0,35.0,73.0,76.0,165.0,117.0,302.0,34.0,212.0,116.0,244.0,164.0,121.0,138.0,167.0,267.0,166.0,245.0,120.0,118.0,243.0,137.0,220.0,219.0,296.0,301.0,75.0,270.0,266.0,315.0,310.0,319.0,268.0,168.0,316.0,269.0,318.0,317.0,50.0,81.0,109.0,49.0,79.0,116.0,67.0,133.0,114.0,63.0,219.0,115.0,266.0,245.0,80.0,68.0,301.0,267.0,147.0,148.0,269.0,146.0,268.0,134.0,135.0,212.0,270.0,318.0,244.0,149.0,310.0,243.0,315.0,296.0,168.0,316.0,319.0,220.0,317.0],\"xaxis\":\"x\",\"y\":[415.08,350.9600000000001,333.86,331.7000000000001,323.92,306.58,304.32,302.98,297.42,281.9,275.02,278.6,277.11999999999995,281.3,255.02,233.96,236.1,214.76,214.9,212.18,206.06,195.78,191.66,174.54,175.92000000000004,173.22,168.4,163.83999999999995,157.54,142.96,138.0,137.1,110.92,76.22000000000001,46.02,41.42,20.76,12.7,7.219999999999999,3.3,0.12,415.68,335.7800000000001,326.6,318.98,297.36,282.56,285.04,279.28,272.38000000000005,271.86,265.34,261.67999999999995,247.52,243.32,244.36,242.42,239.46,233.50000000000003,227.18,224.76,222.18,215.68,210.98,199.66,200.82,183.16,166.55999999999997,108.8,103.48,82.88,85.02000000000002,102.2,74.69999999999997,54.38000000000001,35.73999999999999,17.98,16.68,12.739999999999998,4.279999999999999,-0.3,395.0,382.0,379.0,374.0,369.0,360.0,343.0,338.0,333.0,333.0,306.0,282.0,272.0,267.0,261.0,259.0,248.0,241.0,240.0,240.0,209.0,198.0,181.0,180.0,174.0,160.0,154.0,153.0,135.0,135.0,134.0,108.0,104.0,72.0,68.0,64.0,13.0,9.0,2.0,2.0,403.0,381.0,375.0,362.0,332.0,330.0,321.0,314.0,312.0,300.0,300.0,268.0,258.0,257.0,243.0,240.0,228.0,225.0,223.0,218.0,203.0,199.0,195.0,181.0,181.0,167.0,157.0,157.0,152.0,127.0,118.0,117.0,84.0,82.0,65.0,51.0,34.0,1.0,-1.0],\"yaxis\":\"y\",\"type\":\"scatter\"}],                        {\"template\":{\"data\":{\"histogram2dcontour\":[{\"type\":\"histogram2dcontour\",\"colorbar\":{\"outlinewidth\":0,\"ticks\":\"\"},\"colorscale\":[[0.0,\"#0d0887\"],[0.1111111111111111,\"#46039f\"],[0.2222222222222222,\"#7201a8\"],[0.3333333333333333,\"#9c179e\"],[0.4444444444444444,\"#bd3786\"],[0.5555555555555556,\"#d8576b\"],[0.6666666666666666,\"#ed7953\"],[0.7777777777777778,\"#fb9f3a\"],[0.8888888888888888,\"#fdca26\"],[1.0,\"#f0f921\"]]}],\"choropleth\":[{\"type\":\"choropleth\",\"colorbar\":{\"outlinewidth\":0,\"ticks\":\"\"}}],\"histogram2d\":[{\"type\":\"histogram2d\",\"colorbar\":{\"outlinewidth\":0,\"ticks\":\"\"},\"colorscale\":[[0.0,\"#0d0887\"],[0.1111111111111111,\"#46039f\"],[0.2222222222222222,\"#7201a8\"],[0.3333333333333333,\"#9c179e\"],[0.4444444444444444,\"#bd3786\"],[0.5555555555555556,\"#d8576b\"],[0.6666666666666666,\"#ed7953\"],[0.7777777777777778,\"#fb9f3a\"],[0.8888888888888888,\"#fdca26\"],[1.0,\"#f0f921\"]]}],\"heatmap\":[{\"type\":\"heatmap\",\"colorbar\":{\"outlinewidth\":0,\"ticks\":\"\"},\"colorscale\":[[0.0,\"#0d0887\"],[0.1111111111111111,\"#46039f\"],[0.2222222222222222,\"#7201a8\"],[0.3333333333333333,\"#9c179e\"],[0.4444444444444444,\"#bd3786\"],[0.5555555555555556,\"#d8576b\"],[0.6666666666666666,\"#ed7953\"],[0.7777777777777778,\"#fb9f3a\"],[0.8888888888888888,\"#fdca26\"],[1.0,\"#f0f921\"]]}],\"heatmapgl\":[{\"type\":\"heatmapgl\",\"colorbar\":{\"outlinewidth\":0,\"ticks\":\"\"},\"colorscale\":[[0.0,\"#0d0887\"],[0.1111111111111111,\"#46039f\"],[0.2222222222222222,\"#7201a8\"],[0.3333333333333333,\"#9c179e\"],[0.4444444444444444,\"#bd3786\"],[0.5555555555555556,\"#d8576b\"],[0.6666666666666666,\"#ed7953\"],[0.7777777777777778,\"#fb9f3a\"],[0.8888888888888888,\"#fdca26\"],[1.0,\"#f0f921\"]]}],\"contourcarpet\":[{\"type\":\"contourcarpet\",\"colorbar\":{\"outlinewidth\":0,\"ticks\":\"\"}}],\"contour\":[{\"type\":\"contour\",\"colorbar\":{\"outlinewidth\":0,\"ticks\":\"\"},\"colorscale\":[[0.0,\"#0d0887\"],[0.1111111111111111,\"#46039f\"],[0.2222222222222222,\"#7201a8\"],[0.3333333333333333,\"#9c179e\"],[0.4444444444444444,\"#bd3786\"],[0.5555555555555556,\"#d8576b\"],[0.6666666666666666,\"#ed7953\"],[0.7777777777777778,\"#fb9f3a\"],[0.8888888888888888,\"#fdca26\"],[1.0,\"#f0f921\"]]}],\"surface\":[{\"type\":\"surface\",\"colorbar\":{\"outlinewidth\":0,\"ticks\":\"\"},\"colorscale\":[[0.0,\"#0d0887\"],[0.1111111111111111,\"#46039f\"],[0.2222222222222222,\"#7201a8\"],[0.3333333333333333,\"#9c179e\"],[0.4444444444444444,\"#bd3786\"],[0.5555555555555556,\"#d8576b\"],[0.6666666666666666,\"#ed7953\"],[0.7777777777777778,\"#fb9f3a\"],[0.8888888888888888,\"#fdca26\"],[1.0,\"#f0f921\"]]}],\"mesh3d\":[{\"type\":\"mesh3d\",\"colorbar\":{\"outlinewidth\":0,\"ticks\":\"\"}}],\"scatter\":[{\"fillpattern\":{\"fillmode\":\"overlay\",\"size\":10,\"solidity\":0.2},\"type\":\"scatter\"}],\"parcoords\":[{\"type\":\"parcoords\",\"line\":{\"colorbar\":{\"outlinewidth\":0,\"ticks\":\"\"}}}],\"scatterpolargl\":[{\"type\":\"scatterpolargl\",\"marker\":{\"colorbar\":{\"outlinewidth\":0,\"ticks\":\"\"}}}],\"bar\":[{\"error_x\":{\"color\":\"#2a3f5f\"},\"error_y\":{\"color\":\"#2a3f5f\"},\"marker\":{\"line\":{\"color\":\"#E5ECF6\",\"width\":0.5},\"pattern\":{\"fillmode\":\"overlay\",\"size\":10,\"solidity\":0.2}},\"type\":\"bar\"}],\"scattergeo\":[{\"type\":\"scattergeo\",\"marker\":{\"colorbar\":{\"outlinewidth\":0,\"ticks\":\"\"}}}],\"scatterpolar\":[{\"type\":\"scatterpolar\",\"marker\":{\"colorbar\":{\"outlinewidth\":0,\"ticks\":\"\"}}}],\"histogram\":[{\"marker\":{\"pattern\":{\"fillmode\":\"overlay\",\"size\":10,\"solidity\":0.2}},\"type\":\"histogram\"}],\"scattergl\":[{\"type\":\"scattergl\",\"marker\":{\"colorbar\":{\"outlinewidth\":0,\"ticks\":\"\"}}}],\"scatter3d\":[{\"type\":\"scatter3d\",\"line\":{\"colorbar\":{\"outlinewidth\":0,\"ticks\":\"\"}},\"marker\":{\"colorbar\":{\"outlinewidth\":0,\"ticks\":\"\"}}}],\"scattermapbox\":[{\"type\":\"scattermapbox\",\"marker\":{\"colorbar\":{\"outlinewidth\":0,\"ticks\":\"\"}}}],\"scatterternary\":[{\"type\":\"scatterternary\",\"marker\":{\"colorbar\":{\"outlinewidth\":0,\"ticks\":\"\"}}}],\"scattercarpet\":[{\"type\":\"scattercarpet\",\"marker\":{\"colorbar\":{\"outlinewidth\":0,\"ticks\":\"\"}}}],\"carpet\":[{\"aaxis\":{\"endlinecolor\":\"#2a3f5f\",\"gridcolor\":\"white\",\"linecolor\":\"white\",\"minorgridcolor\":\"white\",\"startlinecolor\":\"#2a3f5f\"},\"baxis\":{\"endlinecolor\":\"#2a3f5f\",\"gridcolor\":\"white\",\"linecolor\":\"white\",\"minorgridcolor\":\"white\",\"startlinecolor\":\"#2a3f5f\"},\"type\":\"carpet\"}],\"table\":[{\"cells\":{\"fill\":{\"color\":\"#EBF0F8\"},\"line\":{\"color\":\"white\"}},\"header\":{\"fill\":{\"color\":\"#C8D4E3\"},\"line\":{\"color\":\"white\"}},\"type\":\"table\"}],\"barpolar\":[{\"marker\":{\"line\":{\"color\":\"#E5ECF6\",\"width\":0.5},\"pattern\":{\"fillmode\":\"overlay\",\"size\":10,\"solidity\":0.2}},\"type\":\"barpolar\"}],\"pie\":[{\"automargin\":true,\"type\":\"pie\"}]},\"layout\":{\"autotypenumbers\":\"strict\",\"colorway\":[\"#636efa\",\"#EF553B\",\"#00cc96\",\"#ab63fa\",\"#FFA15A\",\"#19d3f3\",\"#FF6692\",\"#B6E880\",\"#FF97FF\",\"#FECB52\"],\"font\":{\"color\":\"#2a3f5f\"},\"hovermode\":\"closest\",\"hoverlabel\":{\"align\":\"left\"},\"paper_bgcolor\":\"white\",\"plot_bgcolor\":\"#E5ECF6\",\"polar\":{\"bgcolor\":\"#E5ECF6\",\"angularaxis\":{\"gridcolor\":\"white\",\"linecolor\":\"white\",\"ticks\":\"\"},\"radialaxis\":{\"gridcolor\":\"white\",\"linecolor\":\"white\",\"ticks\":\"\"}},\"ternary\":{\"bgcolor\":\"#E5ECF6\",\"aaxis\":{\"gridcolor\":\"white\",\"linecolor\":\"white\",\"ticks\":\"\"},\"baxis\":{\"gridcolor\":\"white\",\"linecolor\":\"white\",\"ticks\":\"\"},\"caxis\":{\"gridcolor\":\"white\",\"linecolor\":\"white\",\"ticks\":\"\"}},\"coloraxis\":{\"colorbar\":{\"outlinewidth\":0,\"ticks\":\"\"}},\"colorscale\":{\"sequential\":[[0.0,\"#0d0887\"],[0.1111111111111111,\"#46039f\"],[0.2222222222222222,\"#7201a8\"],[0.3333333333333333,\"#9c179e\"],[0.4444444444444444,\"#bd3786\"],[0.5555555555555556,\"#d8576b\"],[0.6666666666666666,\"#ed7953\"],[0.7777777777777778,\"#fb9f3a\"],[0.8888888888888888,\"#fdca26\"],[1.0,\"#f0f921\"]],\"sequentialminus\":[[0.0,\"#0d0887\"],[0.1111111111111111,\"#46039f\"],[0.2222222222222222,\"#7201a8\"],[0.3333333333333333,\"#9c179e\"],[0.4444444444444444,\"#bd3786\"],[0.5555555555555556,\"#d8576b\"],[0.6666666666666666,\"#ed7953\"],[0.7777777777777778,\"#fb9f3a\"],[0.8888888888888888,\"#fdca26\"],[1.0,\"#f0f921\"]],\"diverging\":[[0,\"#8e0152\"],[0.1,\"#c51b7d\"],[0.2,\"#de77ae\"],[0.3,\"#f1b6da\"],[0.4,\"#fde0ef\"],[0.5,\"#f7f7f7\"],[0.6,\"#e6f5d0\"],[0.7,\"#b8e186\"],[0.8,\"#7fbc41\"],[0.9,\"#4d9221\"],[1,\"#276419\"]]},\"xaxis\":{\"gridcolor\":\"white\",\"linecolor\":\"white\",\"ticks\":\"\",\"title\":{\"standoff\":15},\"zerolinecolor\":\"white\",\"automargin\":true,\"zerolinewidth\":2},\"yaxis\":{\"gridcolor\":\"white\",\"linecolor\":\"white\",\"ticks\":\"\",\"title\":{\"standoff\":15},\"zerolinecolor\":\"white\",\"automargin\":true,\"zerolinewidth\":2},\"scene\":{\"xaxis\":{\"backgroundcolor\":\"#E5ECF6\",\"gridcolor\":\"white\",\"linecolor\":\"white\",\"showbackground\":true,\"ticks\":\"\",\"zerolinecolor\":\"white\",\"gridwidth\":2},\"yaxis\":{\"backgroundcolor\":\"#E5ECF6\",\"gridcolor\":\"white\",\"linecolor\":\"white\",\"showbackground\":true,\"ticks\":\"\",\"zerolinecolor\":\"white\",\"gridwidth\":2},\"zaxis\":{\"backgroundcolor\":\"#E5ECF6\",\"gridcolor\":\"white\",\"linecolor\":\"white\",\"showbackground\":true,\"ticks\":\"\",\"zerolinecolor\":\"white\",\"gridwidth\":2}},\"shapedefaults\":{\"line\":{\"color\":\"#2a3f5f\"}},\"annotationdefaults\":{\"arrowcolor\":\"#2a3f5f\",\"arrowhead\":0,\"arrowwidth\":1},\"geo\":{\"bgcolor\":\"white\",\"landcolor\":\"#E5ECF6\",\"subunitcolor\":\"white\",\"showland\":true,\"showlakes\":true,\"lakecolor\":\"white\"},\"title\":{\"x\":0.05},\"mapbox\":{\"style\":\"light\"}}},\"xaxis\":{\"anchor\":\"y\",\"domain\":[0.0,1.0],\"title\":{\"text\":\"ADP\"}},\"yaxis\":{\"anchor\":\"x\",\"domain\":[0.0,1.0],\"title\":{\"text\":\"FantasyPoints\"}},\"coloraxis\":{\"colorbar\":{\"title\":{\"text\":\"labels\"}},\"colorscale\":[[0.0,\"#0d0887\"],[0.1111111111111111,\"#46039f\"],[0.2222222222222222,\"#7201a8\"],[0.3333333333333333,\"#9c179e\"],[0.4444444444444444,\"#bd3786\"],[0.5555555555555556,\"#d8576b\"],[0.6666666666666666,\"#ed7953\"],[0.7777777777777778,\"#fb9f3a\"],[0.8888888888888888,\"#fdca26\"],[1.0,\"#f0f921\"]]},\"legend\":{\"tracegroupgap\":0},\"margin\":{\"t\":60},\"font\":{\"family\":\"sans serif\",\"size\":18,\"color\":\"LightSeaGreen\"}},                        {\"responsive\": true}                    ).then(function(){\n",
       "                            \n",
       "var gd = document.getElementById('701bdbba-f7d3-4dd5-9b9f-1947efdb58a3');\n",
       "var x = new MutationObserver(function (mutations, observer) {{\n",
       "        var display = window.getComputedStyle(gd).display;\n",
       "        if (!display || display === 'none') {{\n",
       "            console.log([gd, 'removed!']);\n",
       "            Plotly.purge(gd);\n",
       "            observer.disconnect();\n",
       "        }}\n",
       "}});\n",
       "\n",
       "// Listen for the removal of the full notebook cells\n",
       "var notebookContainer = gd.closest('#notebook-container');\n",
       "if (notebookContainer) {{\n",
       "    x.observe(notebookContainer, {childList: true});\n",
       "}}\n",
       "\n",
       "// Listen for the clearing of the current output cell\n",
       "var outputEl = gd.closest('.output');\n",
       "if (outputEl) {{\n",
       "    x.observe(outputEl, {childList: true});\n",
       "}}\n",
       "\n",
       "                        })                };                });            </script>        </div>"
      ]
     },
     "metadata": {},
     "output_type": "display_data"
    }
   ],
   "source": [
    "plotKmeans(aggData, position=\"RB\", clusters=5)\n",
    "plotKmeans(aggData, position=\"WR\", clusters=5)\n",
    "plotKmeans(aggData, position=\"TE\", clusters=5)\n",
    "plotKmeans(aggData, position=\"QB\", clusters=5)"
   ]
  },
  {
   "cell_type": "code",
   "execution_count": 64,
   "id": "1d9ff31f",
   "metadata": {
    "scrolled": false
   },
   "outputs": [
    {
     "data": {
      "application/vnd.plotly.v1+json": {
       "config": {
        "plotlyServerURL": "https://plot.ly"
       },
       "data": [
        {
         "hovertemplate": "x=%{x}<br>y=%{y}<extra></extra>",
         "legendgroup": "",
         "marker": {
          "color": "#636efa",
          "symbol": "circle"
         },
         "mode": "markers",
         "name": "",
         "orientation": "v",
         "showlegend": false,
         "type": "scatter",
         "x": [
          1,
          2,
          3,
          4,
          5,
          6,
          7,
          8,
          9,
          10,
          11,
          12,
          13,
          14
         ],
         "xaxis": "x",
         "y": [
          97499.52380952382,
          40519.02777777778,
          17297.242424242424,
          11783.416666666668,
          7378.321428571428,
          4585.988095238095,
          3360.3214285714284,
          2669.25,
          1732.2500000000002,
          1126.8333333333335,
          830,
          625,
          454.16666666666663,
          305.16666666666663
         ],
         "yaxis": "y"
        }
       ],
       "layout": {
        "legend": {
         "tracegroupgap": 0
        },
        "margin": {
         "t": 60
        },
        "template": {
         "data": {
          "bar": [
           {
            "error_x": {
             "color": "#2a3f5f"
            },
            "error_y": {
             "color": "#2a3f5f"
            },
            "marker": {
             "line": {
              "color": "#E5ECF6",
              "width": 0.5
             },
             "pattern": {
              "fillmode": "overlay",
              "size": 10,
              "solidity": 0.2
             }
            },
            "type": "bar"
           }
          ],
          "barpolar": [
           {
            "marker": {
             "line": {
              "color": "#E5ECF6",
              "width": 0.5
             },
             "pattern": {
              "fillmode": "overlay",
              "size": 10,
              "solidity": 0.2
             }
            },
            "type": "barpolar"
           }
          ],
          "carpet": [
           {
            "aaxis": {
             "endlinecolor": "#2a3f5f",
             "gridcolor": "white",
             "linecolor": "white",
             "minorgridcolor": "white",
             "startlinecolor": "#2a3f5f"
            },
            "baxis": {
             "endlinecolor": "#2a3f5f",
             "gridcolor": "white",
             "linecolor": "white",
             "minorgridcolor": "white",
             "startlinecolor": "#2a3f5f"
            },
            "type": "carpet"
           }
          ],
          "choropleth": [
           {
            "colorbar": {
             "outlinewidth": 0,
             "ticks": ""
            },
            "type": "choropleth"
           }
          ],
          "contour": [
           {
            "colorbar": {
             "outlinewidth": 0,
             "ticks": ""
            },
            "colorscale": [
             [
              0,
              "#0d0887"
             ],
             [
              0.1111111111111111,
              "#46039f"
             ],
             [
              0.2222222222222222,
              "#7201a8"
             ],
             [
              0.3333333333333333,
              "#9c179e"
             ],
             [
              0.4444444444444444,
              "#bd3786"
             ],
             [
              0.5555555555555556,
              "#d8576b"
             ],
             [
              0.6666666666666666,
              "#ed7953"
             ],
             [
              0.7777777777777778,
              "#fb9f3a"
             ],
             [
              0.8888888888888888,
              "#fdca26"
             ],
             [
              1,
              "#f0f921"
             ]
            ],
            "type": "contour"
           }
          ],
          "contourcarpet": [
           {
            "colorbar": {
             "outlinewidth": 0,
             "ticks": ""
            },
            "type": "contourcarpet"
           }
          ],
          "heatmap": [
           {
            "colorbar": {
             "outlinewidth": 0,
             "ticks": ""
            },
            "colorscale": [
             [
              0,
              "#0d0887"
             ],
             [
              0.1111111111111111,
              "#46039f"
             ],
             [
              0.2222222222222222,
              "#7201a8"
             ],
             [
              0.3333333333333333,
              "#9c179e"
             ],
             [
              0.4444444444444444,
              "#bd3786"
             ],
             [
              0.5555555555555556,
              "#d8576b"
             ],
             [
              0.6666666666666666,
              "#ed7953"
             ],
             [
              0.7777777777777778,
              "#fb9f3a"
             ],
             [
              0.8888888888888888,
              "#fdca26"
             ],
             [
              1,
              "#f0f921"
             ]
            ],
            "type": "heatmap"
           }
          ],
          "heatmapgl": [
           {
            "colorbar": {
             "outlinewidth": 0,
             "ticks": ""
            },
            "colorscale": [
             [
              0,
              "#0d0887"
             ],
             [
              0.1111111111111111,
              "#46039f"
             ],
             [
              0.2222222222222222,
              "#7201a8"
             ],
             [
              0.3333333333333333,
              "#9c179e"
             ],
             [
              0.4444444444444444,
              "#bd3786"
             ],
             [
              0.5555555555555556,
              "#d8576b"
             ],
             [
              0.6666666666666666,
              "#ed7953"
             ],
             [
              0.7777777777777778,
              "#fb9f3a"
             ],
             [
              0.8888888888888888,
              "#fdca26"
             ],
             [
              1,
              "#f0f921"
             ]
            ],
            "type": "heatmapgl"
           }
          ],
          "histogram": [
           {
            "marker": {
             "pattern": {
              "fillmode": "overlay",
              "size": 10,
              "solidity": 0.2
             }
            },
            "type": "histogram"
           }
          ],
          "histogram2d": [
           {
            "colorbar": {
             "outlinewidth": 0,
             "ticks": ""
            },
            "colorscale": [
             [
              0,
              "#0d0887"
             ],
             [
              0.1111111111111111,
              "#46039f"
             ],
             [
              0.2222222222222222,
              "#7201a8"
             ],
             [
              0.3333333333333333,
              "#9c179e"
             ],
             [
              0.4444444444444444,
              "#bd3786"
             ],
             [
              0.5555555555555556,
              "#d8576b"
             ],
             [
              0.6666666666666666,
              "#ed7953"
             ],
             [
              0.7777777777777778,
              "#fb9f3a"
             ],
             [
              0.8888888888888888,
              "#fdca26"
             ],
             [
              1,
              "#f0f921"
             ]
            ],
            "type": "histogram2d"
           }
          ],
          "histogram2dcontour": [
           {
            "colorbar": {
             "outlinewidth": 0,
             "ticks": ""
            },
            "colorscale": [
             [
              0,
              "#0d0887"
             ],
             [
              0.1111111111111111,
              "#46039f"
             ],
             [
              0.2222222222222222,
              "#7201a8"
             ],
             [
              0.3333333333333333,
              "#9c179e"
             ],
             [
              0.4444444444444444,
              "#bd3786"
             ],
             [
              0.5555555555555556,
              "#d8576b"
             ],
             [
              0.6666666666666666,
              "#ed7953"
             ],
             [
              0.7777777777777778,
              "#fb9f3a"
             ],
             [
              0.8888888888888888,
              "#fdca26"
             ],
             [
              1,
              "#f0f921"
             ]
            ],
            "type": "histogram2dcontour"
           }
          ],
          "mesh3d": [
           {
            "colorbar": {
             "outlinewidth": 0,
             "ticks": ""
            },
            "type": "mesh3d"
           }
          ],
          "parcoords": [
           {
            "line": {
             "colorbar": {
              "outlinewidth": 0,
              "ticks": ""
             }
            },
            "type": "parcoords"
           }
          ],
          "pie": [
           {
            "automargin": true,
            "type": "pie"
           }
          ],
          "scatter": [
           {
            "fillpattern": {
             "fillmode": "overlay",
             "size": 10,
             "solidity": 0.2
            },
            "type": "scatter"
           }
          ],
          "scatter3d": [
           {
            "line": {
             "colorbar": {
              "outlinewidth": 0,
              "ticks": ""
             }
            },
            "marker": {
             "colorbar": {
              "outlinewidth": 0,
              "ticks": ""
             }
            },
            "type": "scatter3d"
           }
          ],
          "scattercarpet": [
           {
            "marker": {
             "colorbar": {
              "outlinewidth": 0,
              "ticks": ""
             }
            },
            "type": "scattercarpet"
           }
          ],
          "scattergeo": [
           {
            "marker": {
             "colorbar": {
              "outlinewidth": 0,
              "ticks": ""
             }
            },
            "type": "scattergeo"
           }
          ],
          "scattergl": [
           {
            "marker": {
             "colorbar": {
              "outlinewidth": 0,
              "ticks": ""
             }
            },
            "type": "scattergl"
           }
          ],
          "scattermapbox": [
           {
            "marker": {
             "colorbar": {
              "outlinewidth": 0,
              "ticks": ""
             }
            },
            "type": "scattermapbox"
           }
          ],
          "scatterpolar": [
           {
            "marker": {
             "colorbar": {
              "outlinewidth": 0,
              "ticks": ""
             }
            },
            "type": "scatterpolar"
           }
          ],
          "scatterpolargl": [
           {
            "marker": {
             "colorbar": {
              "outlinewidth": 0,
              "ticks": ""
             }
            },
            "type": "scatterpolargl"
           }
          ],
          "scatterternary": [
           {
            "marker": {
             "colorbar": {
              "outlinewidth": 0,
              "ticks": ""
             }
            },
            "type": "scatterternary"
           }
          ],
          "surface": [
           {
            "colorbar": {
             "outlinewidth": 0,
             "ticks": ""
            },
            "colorscale": [
             [
              0,
              "#0d0887"
             ],
             [
              0.1111111111111111,
              "#46039f"
             ],
             [
              0.2222222222222222,
              "#7201a8"
             ],
             [
              0.3333333333333333,
              "#9c179e"
             ],
             [
              0.4444444444444444,
              "#bd3786"
             ],
             [
              0.5555555555555556,
              "#d8576b"
             ],
             [
              0.6666666666666666,
              "#ed7953"
             ],
             [
              0.7777777777777778,
              "#fb9f3a"
             ],
             [
              0.8888888888888888,
              "#fdca26"
             ],
             [
              1,
              "#f0f921"
             ]
            ],
            "type": "surface"
           }
          ],
          "table": [
           {
            "cells": {
             "fill": {
              "color": "#EBF0F8"
             },
             "line": {
              "color": "white"
             }
            },
            "header": {
             "fill": {
              "color": "#C8D4E3"
             },
             "line": {
              "color": "white"
             }
            },
            "type": "table"
           }
          ]
         },
         "layout": {
          "annotationdefaults": {
           "arrowcolor": "#2a3f5f",
           "arrowhead": 0,
           "arrowwidth": 1
          },
          "autotypenumbers": "strict",
          "coloraxis": {
           "colorbar": {
            "outlinewidth": 0,
            "ticks": ""
           }
          },
          "colorscale": {
           "diverging": [
            [
             0,
             "#8e0152"
            ],
            [
             0.1,
             "#c51b7d"
            ],
            [
             0.2,
             "#de77ae"
            ],
            [
             0.3,
             "#f1b6da"
            ],
            [
             0.4,
             "#fde0ef"
            ],
            [
             0.5,
             "#f7f7f7"
            ],
            [
             0.6,
             "#e6f5d0"
            ],
            [
             0.7,
             "#b8e186"
            ],
            [
             0.8,
             "#7fbc41"
            ],
            [
             0.9,
             "#4d9221"
            ],
            [
             1,
             "#276419"
            ]
           ],
           "sequential": [
            [
             0,
             "#0d0887"
            ],
            [
             0.1111111111111111,
             "#46039f"
            ],
            [
             0.2222222222222222,
             "#7201a8"
            ],
            [
             0.3333333333333333,
             "#9c179e"
            ],
            [
             0.4444444444444444,
             "#bd3786"
            ],
            [
             0.5555555555555556,
             "#d8576b"
            ],
            [
             0.6666666666666666,
             "#ed7953"
            ],
            [
             0.7777777777777778,
             "#fb9f3a"
            ],
            [
             0.8888888888888888,
             "#fdca26"
            ],
            [
             1,
             "#f0f921"
            ]
           ],
           "sequentialminus": [
            [
             0,
             "#0d0887"
            ],
            [
             0.1111111111111111,
             "#46039f"
            ],
            [
             0.2222222222222222,
             "#7201a8"
            ],
            [
             0.3333333333333333,
             "#9c179e"
            ],
            [
             0.4444444444444444,
             "#bd3786"
            ],
            [
             0.5555555555555556,
             "#d8576b"
            ],
            [
             0.6666666666666666,
             "#ed7953"
            ],
            [
             0.7777777777777778,
             "#fb9f3a"
            ],
            [
             0.8888888888888888,
             "#fdca26"
            ],
            [
             1,
             "#f0f921"
            ]
           ]
          },
          "colorway": [
           "#636efa",
           "#EF553B",
           "#00cc96",
           "#ab63fa",
           "#FFA15A",
           "#19d3f3",
           "#FF6692",
           "#B6E880",
           "#FF97FF",
           "#FECB52"
          ],
          "font": {
           "color": "#2a3f5f"
          },
          "geo": {
           "bgcolor": "white",
           "lakecolor": "white",
           "landcolor": "#E5ECF6",
           "showlakes": true,
           "showland": true,
           "subunitcolor": "white"
          },
          "hoverlabel": {
           "align": "left"
          },
          "hovermode": "closest",
          "mapbox": {
           "style": "light"
          },
          "paper_bgcolor": "white",
          "plot_bgcolor": "#E5ECF6",
          "polar": {
           "angularaxis": {
            "gridcolor": "white",
            "linecolor": "white",
            "ticks": ""
           },
           "bgcolor": "#E5ECF6",
           "radialaxis": {
            "gridcolor": "white",
            "linecolor": "white",
            "ticks": ""
           }
          },
          "scene": {
           "xaxis": {
            "backgroundcolor": "#E5ECF6",
            "gridcolor": "white",
            "gridwidth": 2,
            "linecolor": "white",
            "showbackground": true,
            "ticks": "",
            "zerolinecolor": "white"
           },
           "yaxis": {
            "backgroundcolor": "#E5ECF6",
            "gridcolor": "white",
            "gridwidth": 2,
            "linecolor": "white",
            "showbackground": true,
            "ticks": "",
            "zerolinecolor": "white"
           },
           "zaxis": {
            "backgroundcolor": "#E5ECF6",
            "gridcolor": "white",
            "gridwidth": 2,
            "linecolor": "white",
            "showbackground": true,
            "ticks": "",
            "zerolinecolor": "white"
           }
          },
          "shapedefaults": {
           "line": {
            "color": "#2a3f5f"
           }
          },
          "ternary": {
           "aaxis": {
            "gridcolor": "white",
            "linecolor": "white",
            "ticks": ""
           },
           "baxis": {
            "gridcolor": "white",
            "linecolor": "white",
            "ticks": ""
           },
           "bgcolor": "#E5ECF6",
           "caxis": {
            "gridcolor": "white",
            "linecolor": "white",
            "ticks": ""
           }
          },
          "title": {
           "x": 0.05
          },
          "xaxis": {
           "automargin": true,
           "gridcolor": "white",
           "linecolor": "white",
           "ticks": "",
           "title": {
            "standoff": 15
           },
           "zerolinecolor": "white",
           "zerolinewidth": 2
          },
          "yaxis": {
           "automargin": true,
           "gridcolor": "white",
           "linecolor": "white",
           "ticks": "",
           "title": {
            "standoff": 15
           },
           "zerolinecolor": "white",
           "zerolinewidth": 2
          }
         }
        },
        "xaxis": {
         "anchor": "y",
         "domain": [
          0,
          1
         ],
         "title": {
          "text": "x"
         }
        },
        "yaxis": {
         "anchor": "x",
         "domain": [
          0,
          1
         ],
         "title": {
          "text": "y"
         }
        }
       }
      },
      "text/html": [
       "<div>                            <div id=\"584d6b3b-4227-4645-864a-6a4fa70c1eca\" class=\"plotly-graph-div\" style=\"height:525px; width:100%;\"></div>            <script type=\"text/javascript\">                require([\"plotly\"], function(Plotly) {                    window.PLOTLYENV=window.PLOTLYENV || {};                                    if (document.getElementById(\"584d6b3b-4227-4645-864a-6a4fa70c1eca\")) {                    Plotly.newPlot(                        \"584d6b3b-4227-4645-864a-6a4fa70c1eca\",                        [{\"hovertemplate\":\"x=%{x}<br>y=%{y}<extra></extra>\",\"legendgroup\":\"\",\"marker\":{\"color\":\"#636efa\",\"symbol\":\"circle\"},\"mode\":\"markers\",\"name\":\"\",\"orientation\":\"v\",\"showlegend\":false,\"x\":[1,2,3,4,5,6,7,8,9,10,11,12,13,14],\"xaxis\":\"x\",\"y\":[97499.52380952382,40519.02777777778,17297.242424242424,11783.416666666668,7378.321428571428,4585.988095238095,3360.3214285714284,2669.25,1732.2500000000002,1126.8333333333335,830.0,625.0,454.16666666666663,305.16666666666663],\"yaxis\":\"y\",\"type\":\"scatter\"}],                        {\"template\":{\"data\":{\"histogram2dcontour\":[{\"type\":\"histogram2dcontour\",\"colorbar\":{\"outlinewidth\":0,\"ticks\":\"\"},\"colorscale\":[[0.0,\"#0d0887\"],[0.1111111111111111,\"#46039f\"],[0.2222222222222222,\"#7201a8\"],[0.3333333333333333,\"#9c179e\"],[0.4444444444444444,\"#bd3786\"],[0.5555555555555556,\"#d8576b\"],[0.6666666666666666,\"#ed7953\"],[0.7777777777777778,\"#fb9f3a\"],[0.8888888888888888,\"#fdca26\"],[1.0,\"#f0f921\"]]}],\"choropleth\":[{\"type\":\"choropleth\",\"colorbar\":{\"outlinewidth\":0,\"ticks\":\"\"}}],\"histogram2d\":[{\"type\":\"histogram2d\",\"colorbar\":{\"outlinewidth\":0,\"ticks\":\"\"},\"colorscale\":[[0.0,\"#0d0887\"],[0.1111111111111111,\"#46039f\"],[0.2222222222222222,\"#7201a8\"],[0.3333333333333333,\"#9c179e\"],[0.4444444444444444,\"#bd3786\"],[0.5555555555555556,\"#d8576b\"],[0.6666666666666666,\"#ed7953\"],[0.7777777777777778,\"#fb9f3a\"],[0.8888888888888888,\"#fdca26\"],[1.0,\"#f0f921\"]]}],\"heatmap\":[{\"type\":\"heatmap\",\"colorbar\":{\"outlinewidth\":0,\"ticks\":\"\"},\"colorscale\":[[0.0,\"#0d0887\"],[0.1111111111111111,\"#46039f\"],[0.2222222222222222,\"#7201a8\"],[0.3333333333333333,\"#9c179e\"],[0.4444444444444444,\"#bd3786\"],[0.5555555555555556,\"#d8576b\"],[0.6666666666666666,\"#ed7953\"],[0.7777777777777778,\"#fb9f3a\"],[0.8888888888888888,\"#fdca26\"],[1.0,\"#f0f921\"]]}],\"heatmapgl\":[{\"type\":\"heatmapgl\",\"colorbar\":{\"outlinewidth\":0,\"ticks\":\"\"},\"colorscale\":[[0.0,\"#0d0887\"],[0.1111111111111111,\"#46039f\"],[0.2222222222222222,\"#7201a8\"],[0.3333333333333333,\"#9c179e\"],[0.4444444444444444,\"#bd3786\"],[0.5555555555555556,\"#d8576b\"],[0.6666666666666666,\"#ed7953\"],[0.7777777777777778,\"#fb9f3a\"],[0.8888888888888888,\"#fdca26\"],[1.0,\"#f0f921\"]]}],\"contourcarpet\":[{\"type\":\"contourcarpet\",\"colorbar\":{\"outlinewidth\":0,\"ticks\":\"\"}}],\"contour\":[{\"type\":\"contour\",\"colorbar\":{\"outlinewidth\":0,\"ticks\":\"\"},\"colorscale\":[[0.0,\"#0d0887\"],[0.1111111111111111,\"#46039f\"],[0.2222222222222222,\"#7201a8\"],[0.3333333333333333,\"#9c179e\"],[0.4444444444444444,\"#bd3786\"],[0.5555555555555556,\"#d8576b\"],[0.6666666666666666,\"#ed7953\"],[0.7777777777777778,\"#fb9f3a\"],[0.8888888888888888,\"#fdca26\"],[1.0,\"#f0f921\"]]}],\"surface\":[{\"type\":\"surface\",\"colorbar\":{\"outlinewidth\":0,\"ticks\":\"\"},\"colorscale\":[[0.0,\"#0d0887\"],[0.1111111111111111,\"#46039f\"],[0.2222222222222222,\"#7201a8\"],[0.3333333333333333,\"#9c179e\"],[0.4444444444444444,\"#bd3786\"],[0.5555555555555556,\"#d8576b\"],[0.6666666666666666,\"#ed7953\"],[0.7777777777777778,\"#fb9f3a\"],[0.8888888888888888,\"#fdca26\"],[1.0,\"#f0f921\"]]}],\"mesh3d\":[{\"type\":\"mesh3d\",\"colorbar\":{\"outlinewidth\":0,\"ticks\":\"\"}}],\"scatter\":[{\"fillpattern\":{\"fillmode\":\"overlay\",\"size\":10,\"solidity\":0.2},\"type\":\"scatter\"}],\"parcoords\":[{\"type\":\"parcoords\",\"line\":{\"colorbar\":{\"outlinewidth\":0,\"ticks\":\"\"}}}],\"scatterpolargl\":[{\"type\":\"scatterpolargl\",\"marker\":{\"colorbar\":{\"outlinewidth\":0,\"ticks\":\"\"}}}],\"bar\":[{\"error_x\":{\"color\":\"#2a3f5f\"},\"error_y\":{\"color\":\"#2a3f5f\"},\"marker\":{\"line\":{\"color\":\"#E5ECF6\",\"width\":0.5},\"pattern\":{\"fillmode\":\"overlay\",\"size\":10,\"solidity\":0.2}},\"type\":\"bar\"}],\"scattergeo\":[{\"type\":\"scattergeo\",\"marker\":{\"colorbar\":{\"outlinewidth\":0,\"ticks\":\"\"}}}],\"scatterpolar\":[{\"type\":\"scatterpolar\",\"marker\":{\"colorbar\":{\"outlinewidth\":0,\"ticks\":\"\"}}}],\"histogram\":[{\"marker\":{\"pattern\":{\"fillmode\":\"overlay\",\"size\":10,\"solidity\":0.2}},\"type\":\"histogram\"}],\"scattergl\":[{\"type\":\"scattergl\",\"marker\":{\"colorbar\":{\"outlinewidth\":0,\"ticks\":\"\"}}}],\"scatter3d\":[{\"type\":\"scatter3d\",\"line\":{\"colorbar\":{\"outlinewidth\":0,\"ticks\":\"\"}},\"marker\":{\"colorbar\":{\"outlinewidth\":0,\"ticks\":\"\"}}}],\"scattermapbox\":[{\"type\":\"scattermapbox\",\"marker\":{\"colorbar\":{\"outlinewidth\":0,\"ticks\":\"\"}}}],\"scatterternary\":[{\"type\":\"scatterternary\",\"marker\":{\"colorbar\":{\"outlinewidth\":0,\"ticks\":\"\"}}}],\"scattercarpet\":[{\"type\":\"scattercarpet\",\"marker\":{\"colorbar\":{\"outlinewidth\":0,\"ticks\":\"\"}}}],\"carpet\":[{\"aaxis\":{\"endlinecolor\":\"#2a3f5f\",\"gridcolor\":\"white\",\"linecolor\":\"white\",\"minorgridcolor\":\"white\",\"startlinecolor\":\"#2a3f5f\"},\"baxis\":{\"endlinecolor\":\"#2a3f5f\",\"gridcolor\":\"white\",\"linecolor\":\"white\",\"minorgridcolor\":\"white\",\"startlinecolor\":\"#2a3f5f\"},\"type\":\"carpet\"}],\"table\":[{\"cells\":{\"fill\":{\"color\":\"#EBF0F8\"},\"line\":{\"color\":\"white\"}},\"header\":{\"fill\":{\"color\":\"#C8D4E3\"},\"line\":{\"color\":\"white\"}},\"type\":\"table\"}],\"barpolar\":[{\"marker\":{\"line\":{\"color\":\"#E5ECF6\",\"width\":0.5},\"pattern\":{\"fillmode\":\"overlay\",\"size\":10,\"solidity\":0.2}},\"type\":\"barpolar\"}],\"pie\":[{\"automargin\":true,\"type\":\"pie\"}]},\"layout\":{\"autotypenumbers\":\"strict\",\"colorway\":[\"#636efa\",\"#EF553B\",\"#00cc96\",\"#ab63fa\",\"#FFA15A\",\"#19d3f3\",\"#FF6692\",\"#B6E880\",\"#FF97FF\",\"#FECB52\"],\"font\":{\"color\":\"#2a3f5f\"},\"hovermode\":\"closest\",\"hoverlabel\":{\"align\":\"left\"},\"paper_bgcolor\":\"white\",\"plot_bgcolor\":\"#E5ECF6\",\"polar\":{\"bgcolor\":\"#E5ECF6\",\"angularaxis\":{\"gridcolor\":\"white\",\"linecolor\":\"white\",\"ticks\":\"\"},\"radialaxis\":{\"gridcolor\":\"white\",\"linecolor\":\"white\",\"ticks\":\"\"}},\"ternary\":{\"bgcolor\":\"#E5ECF6\",\"aaxis\":{\"gridcolor\":\"white\",\"linecolor\":\"white\",\"ticks\":\"\"},\"baxis\":{\"gridcolor\":\"white\",\"linecolor\":\"white\",\"ticks\":\"\"},\"caxis\":{\"gridcolor\":\"white\",\"linecolor\":\"white\",\"ticks\":\"\"}},\"coloraxis\":{\"colorbar\":{\"outlinewidth\":0,\"ticks\":\"\"}},\"colorscale\":{\"sequential\":[[0.0,\"#0d0887\"],[0.1111111111111111,\"#46039f\"],[0.2222222222222222,\"#7201a8\"],[0.3333333333333333,\"#9c179e\"],[0.4444444444444444,\"#bd3786\"],[0.5555555555555556,\"#d8576b\"],[0.6666666666666666,\"#ed7953\"],[0.7777777777777778,\"#fb9f3a\"],[0.8888888888888888,\"#fdca26\"],[1.0,\"#f0f921\"]],\"sequentialminus\":[[0.0,\"#0d0887\"],[0.1111111111111111,\"#46039f\"],[0.2222222222222222,\"#7201a8\"],[0.3333333333333333,\"#9c179e\"],[0.4444444444444444,\"#bd3786\"],[0.5555555555555556,\"#d8576b\"],[0.6666666666666666,\"#ed7953\"],[0.7777777777777778,\"#fb9f3a\"],[0.8888888888888888,\"#fdca26\"],[1.0,\"#f0f921\"]],\"diverging\":[[0,\"#8e0152\"],[0.1,\"#c51b7d\"],[0.2,\"#de77ae\"],[0.3,\"#f1b6da\"],[0.4,\"#fde0ef\"],[0.5,\"#f7f7f7\"],[0.6,\"#e6f5d0\"],[0.7,\"#b8e186\"],[0.8,\"#7fbc41\"],[0.9,\"#4d9221\"],[1,\"#276419\"]]},\"xaxis\":{\"gridcolor\":\"white\",\"linecolor\":\"white\",\"ticks\":\"\",\"title\":{\"standoff\":15},\"zerolinecolor\":\"white\",\"automargin\":true,\"zerolinewidth\":2},\"yaxis\":{\"gridcolor\":\"white\",\"linecolor\":\"white\",\"ticks\":\"\",\"title\":{\"standoff\":15},\"zerolinecolor\":\"white\",\"automargin\":true,\"zerolinewidth\":2},\"scene\":{\"xaxis\":{\"backgroundcolor\":\"#E5ECF6\",\"gridcolor\":\"white\",\"linecolor\":\"white\",\"showbackground\":true,\"ticks\":\"\",\"zerolinecolor\":\"white\",\"gridwidth\":2},\"yaxis\":{\"backgroundcolor\":\"#E5ECF6\",\"gridcolor\":\"white\",\"linecolor\":\"white\",\"showbackground\":true,\"ticks\":\"\",\"zerolinecolor\":\"white\",\"gridwidth\":2},\"zaxis\":{\"backgroundcolor\":\"#E5ECF6\",\"gridcolor\":\"white\",\"linecolor\":\"white\",\"showbackground\":true,\"ticks\":\"\",\"zerolinecolor\":\"white\",\"gridwidth\":2}},\"shapedefaults\":{\"line\":{\"color\":\"#2a3f5f\"}},\"annotationdefaults\":{\"arrowcolor\":\"#2a3f5f\",\"arrowhead\":0,\"arrowwidth\":1},\"geo\":{\"bgcolor\":\"white\",\"landcolor\":\"#E5ECF6\",\"subunitcolor\":\"white\",\"showland\":true,\"showlakes\":true,\"lakecolor\":\"white\"},\"title\":{\"x\":0.05},\"mapbox\":{\"style\":\"light\"}}},\"xaxis\":{\"anchor\":\"y\",\"domain\":[0.0,1.0],\"title\":{\"text\":\"x\"}},\"yaxis\":{\"anchor\":\"x\",\"domain\":[0.0,1.0],\"title\":{\"text\":\"y\"}},\"legend\":{\"tracegroupgap\":0},\"margin\":{\"t\":60}},                        {\"responsive\": true}                    ).then(function(){\n",
       "                            \n",
       "var gd = document.getElementById('584d6b3b-4227-4645-864a-6a4fa70c1eca');\n",
       "var x = new MutationObserver(function (mutations, observer) {{\n",
       "        var display = window.getComputedStyle(gd).display;\n",
       "        if (!display || display === 'none') {{\n",
       "            console.log([gd, 'removed!']);\n",
       "            Plotly.purge(gd);\n",
       "            observer.disconnect();\n",
       "        }}\n",
       "}});\n",
       "\n",
       "// Listen for the removal of the full notebook cells\n",
       "var notebookContainer = gd.closest('#notebook-container');\n",
       "if (notebookContainer) {{\n",
       "    x.observe(notebookContainer, {childList: true});\n",
       "}}\n",
       "\n",
       "// Listen for the clearing of the current output cell\n",
       "var outputEl = gd.closest('.output');\n",
       "if (outputEl) {{\n",
       "    x.observe(outputEl, {childList: true});\n",
       "}}\n",
       "\n",
       "                        })                };                });            </script>        </div>"
      ]
     },
     "metadata": {},
     "output_type": "display_data"
    },
    {
     "ename": "ValueError",
     "evalue": "Expected 2D array, got 1D array instead:\narray=[].\nReshape your data either using array.reshape(-1, 1) if your data has a single feature or array.reshape(1, -1) if it contains a single sample.",
     "output_type": "error",
     "traceback": [
      "\u001b[0;31m---------------------------------------------------------------------------\u001b[0m",
      "\u001b[0;31mValueError\u001b[0m                                Traceback (most recent call last)",
      "Input \u001b[0;32mIn [64]\u001b[0m, in \u001b[0;36m<cell line: 2>\u001b[0;34m()\u001b[0m\n\u001b[1;32m      1\u001b[0m plotElbow(data, position\u001b[38;5;241m=\u001b[39m\u001b[38;5;124m\"\u001b[39m\u001b[38;5;124mRB\u001b[39m\u001b[38;5;124m\"\u001b[39m)\n\u001b[0;32m----> 2\u001b[0m \u001b[43mplotElbow\u001b[49m\u001b[43m(\u001b[49m\u001b[43mdata\u001b[49m\u001b[43m,\u001b[49m\u001b[43m \u001b[49m\u001b[43mposition\u001b[49m\u001b[38;5;241;43m=\u001b[39;49m\u001b[38;5;124;43m\"\u001b[39;49m\u001b[38;5;124;43mWR\u001b[39;49m\u001b[38;5;124;43m\"\u001b[39;49m\u001b[43m)\u001b[49m\n\u001b[1;32m      3\u001b[0m plotElbow(data, position\u001b[38;5;241m=\u001b[39m\u001b[38;5;124m\"\u001b[39m\u001b[38;5;124mTE\u001b[39m\u001b[38;5;124m\"\u001b[39m)\n\u001b[1;32m      4\u001b[0m plotElbow(data, position\u001b[38;5;241m=\u001b[39m\u001b[38;5;124m\"\u001b[39m\u001b[38;5;124mQB\u001b[39m\u001b[38;5;124m\"\u001b[39m)\n",
      "Input \u001b[0;32mIn [53]\u001b[0m, in \u001b[0;36mplotElbow\u001b[0;34m(df, x, y, position)\u001b[0m\n\u001b[1;32m     28\u001b[0m points \u001b[38;5;241m=\u001b[39m \u001b[38;5;28mlist\u001b[39m(\u001b[38;5;28mzip\u001b[39m(dataset[x]\u001b[38;5;241m.\u001b[39mto_list(), dataset[y]\u001b[38;5;241m.\u001b[39mto_list()))\n\u001b[1;32m     29\u001b[0m kmeans \u001b[38;5;241m=\u001b[39m KMeans(n_clusters\u001b[38;5;241m=\u001b[39mi, random_state\u001b[38;5;241m=\u001b[39m\u001b[38;5;241m42\u001b[39m) \n\u001b[0;32m---> 30\u001b[0m \u001b[43mkmeans\u001b[49m\u001b[38;5;241;43m.\u001b[39;49m\u001b[43mfit\u001b[49m\u001b[43m(\u001b[49m\u001b[43mpoints\u001b[49m\u001b[43m)\u001b[49m\n\u001b[1;32m     31\u001b[0m kmeans\u001b[38;5;241m.\u001b[39mlabels_\n\u001b[1;32m     32\u001b[0m dataset[\u001b[38;5;124m\"\u001b[39m\u001b[38;5;124mlabels\u001b[39m\u001b[38;5;124m\"\u001b[39m] \u001b[38;5;241m=\u001b[39m kmeans\u001b[38;5;241m.\u001b[39mlabels_\n",
      "File \u001b[0;32m/opt/homebrew/lib/python3.9/site-packages/sklearn/cluster/_kmeans.py:1367\u001b[0m, in \u001b[0;36mKMeans.fit\u001b[0;34m(self, X, y, sample_weight)\u001b[0m\n\u001b[1;32m   1341\u001b[0m \u001b[38;5;28;01mdef\u001b[39;00m \u001b[38;5;21mfit\u001b[39m(\u001b[38;5;28mself\u001b[39m, X, y\u001b[38;5;241m=\u001b[39m\u001b[38;5;28;01mNone\u001b[39;00m, sample_weight\u001b[38;5;241m=\u001b[39m\u001b[38;5;28;01mNone\u001b[39;00m):\n\u001b[1;32m   1342\u001b[0m     \u001b[38;5;124;03m\"\"\"Compute k-means clustering.\u001b[39;00m\n\u001b[1;32m   1343\u001b[0m \n\u001b[1;32m   1344\u001b[0m \u001b[38;5;124;03m    Parameters\u001b[39;00m\n\u001b[0;32m   (...)\u001b[0m\n\u001b[1;32m   1365\u001b[0m \u001b[38;5;124;03m        Fitted estimator.\u001b[39;00m\n\u001b[1;32m   1366\u001b[0m \u001b[38;5;124;03m    \"\"\"\u001b[39;00m\n\u001b[0;32m-> 1367\u001b[0m     X \u001b[38;5;241m=\u001b[39m \u001b[38;5;28;43mself\u001b[39;49m\u001b[38;5;241;43m.\u001b[39;49m\u001b[43m_validate_data\u001b[49m\u001b[43m(\u001b[49m\n\u001b[1;32m   1368\u001b[0m \u001b[43m        \u001b[49m\u001b[43mX\u001b[49m\u001b[43m,\u001b[49m\n\u001b[1;32m   1369\u001b[0m \u001b[43m        \u001b[49m\u001b[43maccept_sparse\u001b[49m\u001b[38;5;241;43m=\u001b[39;49m\u001b[38;5;124;43m\"\u001b[39;49m\u001b[38;5;124;43mcsr\u001b[39;49m\u001b[38;5;124;43m\"\u001b[39;49m\u001b[43m,\u001b[49m\n\u001b[1;32m   1370\u001b[0m \u001b[43m        \u001b[49m\u001b[43mdtype\u001b[49m\u001b[38;5;241;43m=\u001b[39;49m\u001b[43m[\u001b[49m\u001b[43mnp\u001b[49m\u001b[38;5;241;43m.\u001b[39;49m\u001b[43mfloat64\u001b[49m\u001b[43m,\u001b[49m\u001b[43m \u001b[49m\u001b[43mnp\u001b[49m\u001b[38;5;241;43m.\u001b[39;49m\u001b[43mfloat32\u001b[49m\u001b[43m]\u001b[49m\u001b[43m,\u001b[49m\n\u001b[1;32m   1371\u001b[0m \u001b[43m        \u001b[49m\u001b[43morder\u001b[49m\u001b[38;5;241;43m=\u001b[39;49m\u001b[38;5;124;43m\"\u001b[39;49m\u001b[38;5;124;43mC\u001b[39;49m\u001b[38;5;124;43m\"\u001b[39;49m\u001b[43m,\u001b[49m\n\u001b[1;32m   1372\u001b[0m \u001b[43m        \u001b[49m\u001b[43mcopy\u001b[49m\u001b[38;5;241;43m=\u001b[39;49m\u001b[38;5;28;43mself\u001b[39;49m\u001b[38;5;241;43m.\u001b[39;49m\u001b[43mcopy_x\u001b[49m\u001b[43m,\u001b[49m\n\u001b[1;32m   1373\u001b[0m \u001b[43m        \u001b[49m\u001b[43maccept_large_sparse\u001b[49m\u001b[38;5;241;43m=\u001b[39;49m\u001b[38;5;28;43;01mFalse\u001b[39;49;00m\u001b[43m,\u001b[49m\n\u001b[1;32m   1374\u001b[0m \u001b[43m    \u001b[49m\u001b[43m)\u001b[49m\n\u001b[1;32m   1376\u001b[0m     \u001b[38;5;28mself\u001b[39m\u001b[38;5;241m.\u001b[39m_check_params(X)\n\u001b[1;32m   1377\u001b[0m     random_state \u001b[38;5;241m=\u001b[39m check_random_state(\u001b[38;5;28mself\u001b[39m\u001b[38;5;241m.\u001b[39mrandom_state)\n",
      "File \u001b[0;32m/opt/homebrew/lib/python3.9/site-packages/sklearn/base.py:577\u001b[0m, in \u001b[0;36mBaseEstimator._validate_data\u001b[0;34m(self, X, y, reset, validate_separately, **check_params)\u001b[0m\n\u001b[1;32m    575\u001b[0m     \u001b[38;5;28;01mraise\u001b[39;00m \u001b[38;5;167;01mValueError\u001b[39;00m(\u001b[38;5;124m\"\u001b[39m\u001b[38;5;124mValidation should be done on X, y or both.\u001b[39m\u001b[38;5;124m\"\u001b[39m)\n\u001b[1;32m    576\u001b[0m \u001b[38;5;28;01melif\u001b[39;00m \u001b[38;5;129;01mnot\u001b[39;00m no_val_X \u001b[38;5;129;01mand\u001b[39;00m no_val_y:\n\u001b[0;32m--> 577\u001b[0m     X \u001b[38;5;241m=\u001b[39m \u001b[43mcheck_array\u001b[49m\u001b[43m(\u001b[49m\u001b[43mX\u001b[49m\u001b[43m,\u001b[49m\u001b[43m \u001b[49m\u001b[43minput_name\u001b[49m\u001b[38;5;241;43m=\u001b[39;49m\u001b[38;5;124;43m\"\u001b[39;49m\u001b[38;5;124;43mX\u001b[39;49m\u001b[38;5;124;43m\"\u001b[39;49m\u001b[43m,\u001b[49m\u001b[43m \u001b[49m\u001b[38;5;241;43m*\u001b[39;49m\u001b[38;5;241;43m*\u001b[39;49m\u001b[43mcheck_params\u001b[49m\u001b[43m)\u001b[49m\n\u001b[1;32m    578\u001b[0m     out \u001b[38;5;241m=\u001b[39m X\n\u001b[1;32m    579\u001b[0m \u001b[38;5;28;01melif\u001b[39;00m no_val_X \u001b[38;5;129;01mand\u001b[39;00m \u001b[38;5;129;01mnot\u001b[39;00m no_val_y:\n",
      "File \u001b[0;32m/opt/homebrew/lib/python3.9/site-packages/sklearn/utils/validation.py:879\u001b[0m, in \u001b[0;36mcheck_array\u001b[0;34m(array, accept_sparse, accept_large_sparse, dtype, order, copy, force_all_finite, ensure_2d, allow_nd, ensure_min_samples, ensure_min_features, estimator, input_name)\u001b[0m\n\u001b[1;32m    877\u001b[0m     \u001b[38;5;66;03m# If input is 1D raise error\u001b[39;00m\n\u001b[1;32m    878\u001b[0m     \u001b[38;5;28;01mif\u001b[39;00m array\u001b[38;5;241m.\u001b[39mndim \u001b[38;5;241m==\u001b[39m \u001b[38;5;241m1\u001b[39m:\n\u001b[0;32m--> 879\u001b[0m         \u001b[38;5;28;01mraise\u001b[39;00m \u001b[38;5;167;01mValueError\u001b[39;00m(\n\u001b[1;32m    880\u001b[0m             \u001b[38;5;124m\"\u001b[39m\u001b[38;5;124mExpected 2D array, got 1D array instead:\u001b[39m\u001b[38;5;130;01m\\n\u001b[39;00m\u001b[38;5;124marray=\u001b[39m\u001b[38;5;132;01m{}\u001b[39;00m\u001b[38;5;124m.\u001b[39m\u001b[38;5;130;01m\\n\u001b[39;00m\u001b[38;5;124m\"\u001b[39m\n\u001b[1;32m    881\u001b[0m             \u001b[38;5;124m\"\u001b[39m\u001b[38;5;124mReshape your data either using array.reshape(-1, 1) if \u001b[39m\u001b[38;5;124m\"\u001b[39m\n\u001b[1;32m    882\u001b[0m             \u001b[38;5;124m\"\u001b[39m\u001b[38;5;124myour data has a single feature or array.reshape(1, -1) \u001b[39m\u001b[38;5;124m\"\u001b[39m\n\u001b[1;32m    883\u001b[0m             \u001b[38;5;124m\"\u001b[39m\u001b[38;5;124mif it contains a single sample.\u001b[39m\u001b[38;5;124m\"\u001b[39m\u001b[38;5;241m.\u001b[39mformat(array)\n\u001b[1;32m    884\u001b[0m         )\n\u001b[1;32m    886\u001b[0m \u001b[38;5;28;01mif\u001b[39;00m dtype_numeric \u001b[38;5;129;01mand\u001b[39;00m array\u001b[38;5;241m.\u001b[39mdtype\u001b[38;5;241m.\u001b[39mkind \u001b[38;5;129;01min\u001b[39;00m \u001b[38;5;124m\"\u001b[39m\u001b[38;5;124mUSV\u001b[39m\u001b[38;5;124m\"\u001b[39m:\n\u001b[1;32m    887\u001b[0m     \u001b[38;5;28;01mraise\u001b[39;00m \u001b[38;5;167;01mValueError\u001b[39;00m(\n\u001b[1;32m    888\u001b[0m         \u001b[38;5;124m\"\u001b[39m\u001b[38;5;124mdtype=\u001b[39m\u001b[38;5;124m'\u001b[39m\u001b[38;5;124mnumeric\u001b[39m\u001b[38;5;124m'\u001b[39m\u001b[38;5;124m is not compatible with arrays of bytes/strings.\u001b[39m\u001b[38;5;124m\"\u001b[39m\n\u001b[1;32m    889\u001b[0m         \u001b[38;5;124m\"\u001b[39m\u001b[38;5;124mConvert your data to numeric values explicitly instead.\u001b[39m\u001b[38;5;124m\"\u001b[39m\n\u001b[1;32m    890\u001b[0m     )\n",
      "\u001b[0;31mValueError\u001b[0m: Expected 2D array, got 1D array instead:\narray=[].\nReshape your data either using array.reshape(-1, 1) if your data has a single feature or array.reshape(1, -1) if it contains a single sample."
     ]
    }
   ],
   "source": [
    "plotElbow(data, position=\"RB\")\n",
    "plotElbow(data, position=\"WR\")\n",
    "plotElbow(data, position=\"TE\")\n",
    "plotElbow(data, position=\"QB\")"
   ]
  },
  {
   "cell_type": "code",
   "execution_count": 63,
   "id": "a6be7100",
   "metadata": {},
   "outputs": [
    {
     "data": {
      "text/html": [
       "<div>\n",
       "<style scoped>\n",
       "    .dataframe tbody tr th:only-of-type {\n",
       "        vertical-align: middle;\n",
       "    }\n",
       "\n",
       "    .dataframe tbody tr th {\n",
       "        vertical-align: top;\n",
       "    }\n",
       "\n",
       "    .dataframe thead th {\n",
       "        text-align: right;\n",
       "    }\n",
       "</style>\n",
       "<table border=\"1\" class=\"dataframe\">\n",
       "  <thead>\n",
       "    <tr style=\"text-align: right;\">\n",
       "      <th></th>\n",
       "      <th>Unnamed: 0</th>\n",
       "      <th>Player</th>\n",
       "      <th>Tm</th>\n",
       "      <th>Pos</th>\n",
       "      <th>Age</th>\n",
       "      <th>G</th>\n",
       "      <th>GS</th>\n",
       "      <th>Tgt</th>\n",
       "      <th>Rec</th>\n",
       "      <th>PassingYds</th>\n",
       "      <th>...</th>\n",
       "      <th>RushingYds</th>\n",
       "      <th>RushingTD</th>\n",
       "      <th>RushingAtt</th>\n",
       "      <th>ReceivingYds</th>\n",
       "      <th>ReceivingTD</th>\n",
       "      <th>FantasyPoints</th>\n",
       "      <th>Int</th>\n",
       "      <th>Fumbles</th>\n",
       "      <th>FumblesLost</th>\n",
       "      <th>ADP</th>\n",
       "    </tr>\n",
       "  </thead>\n",
       "  <tbody>\n",
       "    <tr>\n",
       "      <th>0</th>\n",
       "      <td>0</td>\n",
       "      <td>Todd Gurley</td>\n",
       "      <td>LAR</td>\n",
       "      <td>RB</td>\n",
       "      <td>24.0</td>\n",
       "      <td>14.0</td>\n",
       "      <td>14.0</td>\n",
       "      <td>81.0</td>\n",
       "      <td>59.0</td>\n",
       "      <td>0.0</td>\n",
       "      <td>...</td>\n",
       "      <td>1251.0</td>\n",
       "      <td>17.0</td>\n",
       "      <td>256.0</td>\n",
       "      <td>580.0</td>\n",
       "      <td>4.0</td>\n",
       "      <td>366.10</td>\n",
       "      <td>0.0</td>\n",
       "      <td>1.0</td>\n",
       "      <td>1.0</td>\n",
       "      <td>2.0</td>\n",
       "    </tr>\n",
       "    <tr>\n",
       "      <th>1</th>\n",
       "      <td>1</td>\n",
       "      <td>Saquon Barkley</td>\n",
       "      <td>NYG</td>\n",
       "      <td>RB</td>\n",
       "      <td>21.0</td>\n",
       "      <td>16.0</td>\n",
       "      <td>16.0</td>\n",
       "      <td>121.0</td>\n",
       "      <td>91.0</td>\n",
       "      <td>0.0</td>\n",
       "      <td>...</td>\n",
       "      <td>1307.0</td>\n",
       "      <td>11.0</td>\n",
       "      <td>261.0</td>\n",
       "      <td>721.0</td>\n",
       "      <td>4.0</td>\n",
       "      <td>383.80</td>\n",
       "      <td>0.0</td>\n",
       "      <td>0.0</td>\n",
       "      <td>0.0</td>\n",
       "      <td>6.0</td>\n",
       "    </tr>\n",
       "    <tr>\n",
       "      <th>2</th>\n",
       "      <td>2</td>\n",
       "      <td>Christian McCaffrey</td>\n",
       "      <td>CAR</td>\n",
       "      <td>RB</td>\n",
       "      <td>22.0</td>\n",
       "      <td>16.0</td>\n",
       "      <td>16.0</td>\n",
       "      <td>124.0</td>\n",
       "      <td>107.0</td>\n",
       "      <td>50.0</td>\n",
       "      <td>...</td>\n",
       "      <td>1098.0</td>\n",
       "      <td>7.0</td>\n",
       "      <td>219.0</td>\n",
       "      <td>867.0</td>\n",
       "      <td>6.0</td>\n",
       "      <td>385.50</td>\n",
       "      <td>0.0</td>\n",
       "      <td>4.0</td>\n",
       "      <td>1.0</td>\n",
       "      <td>18.0</td>\n",
       "    </tr>\n",
       "    <tr>\n",
       "      <th>3</th>\n",
       "      <td>3</td>\n",
       "      <td>Alvin Kamara</td>\n",
       "      <td>NOR</td>\n",
       "      <td>RB</td>\n",
       "      <td>23.0</td>\n",
       "      <td>15.0</td>\n",
       "      <td>13.0</td>\n",
       "      <td>105.0</td>\n",
       "      <td>81.0</td>\n",
       "      <td>0.0</td>\n",
       "      <td>...</td>\n",
       "      <td>883.0</td>\n",
       "      <td>14.0</td>\n",
       "      <td>194.0</td>\n",
       "      <td>709.0</td>\n",
       "      <td>4.0</td>\n",
       "      <td>348.20</td>\n",
       "      <td>0.0</td>\n",
       "      <td>1.0</td>\n",
       "      <td>0.0</td>\n",
       "      <td>7.0</td>\n",
       "    </tr>\n",
       "    <tr>\n",
       "      <th>4</th>\n",
       "      <td>4</td>\n",
       "      <td>Patrick Mahomes</td>\n",
       "      <td>KAN</td>\n",
       "      <td>QB</td>\n",
       "      <td>23.0</td>\n",
       "      <td>16.0</td>\n",
       "      <td>16.0</td>\n",
       "      <td>0.0</td>\n",
       "      <td>0.0</td>\n",
       "      <td>5097.0</td>\n",
       "      <td>...</td>\n",
       "      <td>272.0</td>\n",
       "      <td>2.0</td>\n",
       "      <td>60.0</td>\n",
       "      <td>0.0</td>\n",
       "      <td>0.0</td>\n",
       "      <td>415.08</td>\n",
       "      <td>12.0</td>\n",
       "      <td>9.0</td>\n",
       "      <td>2.0</td>\n",
       "      <td>NaN</td>\n",
       "    </tr>\n",
       "    <tr>\n",
       "      <th>...</th>\n",
       "      <td>...</td>\n",
       "      <td>...</td>\n",
       "      <td>...</td>\n",
       "      <td>...</td>\n",
       "      <td>...</td>\n",
       "      <td>...</td>\n",
       "      <td>...</td>\n",
       "      <td>...</td>\n",
       "      <td>...</td>\n",
       "      <td>...</td>\n",
       "      <td>...</td>\n",
       "      <td>...</td>\n",
       "      <td>...</td>\n",
       "      <td>...</td>\n",
       "      <td>...</td>\n",
       "      <td>...</td>\n",
       "      <td>...</td>\n",
       "      <td>...</td>\n",
       "      <td>...</td>\n",
       "      <td>...</td>\n",
       "      <td>...</td>\n",
       "    </tr>\n",
       "    <tr>\n",
       "      <th>617</th>\n",
       "      <td>617</td>\n",
       "      <td>Kaelin Clay</td>\n",
       "      <td>NYG</td>\n",
       "      <td>0</td>\n",
       "      <td>26.0</td>\n",
       "      <td>2.0</td>\n",
       "      <td>0.0</td>\n",
       "      <td>0.0</td>\n",
       "      <td>0.0</td>\n",
       "      <td>0.0</td>\n",
       "      <td>...</td>\n",
       "      <td>0.0</td>\n",
       "      <td>0.0</td>\n",
       "      <td>0.0</td>\n",
       "      <td>0.0</td>\n",
       "      <td>0.0</td>\n",
       "      <td>-2.00</td>\n",
       "      <td>0.0</td>\n",
       "      <td>1.0</td>\n",
       "      <td>1.0</td>\n",
       "      <td>NaN</td>\n",
       "    </tr>\n",
       "    <tr>\n",
       "      <th>618</th>\n",
       "      <td>618</td>\n",
       "      <td>JJ Jones</td>\n",
       "      <td>2TM</td>\n",
       "      <td>WR</td>\n",
       "      <td>26.0</td>\n",
       "      <td>4.0</td>\n",
       "      <td>0.0</td>\n",
       "      <td>1.0</td>\n",
       "      <td>1.0</td>\n",
       "      <td>0.0</td>\n",
       "      <td>...</td>\n",
       "      <td>0.0</td>\n",
       "      <td>0.0</td>\n",
       "      <td>1.0</td>\n",
       "      <td>3.0</td>\n",
       "      <td>0.0</td>\n",
       "      <td>-0.70</td>\n",
       "      <td>0.0</td>\n",
       "      <td>2.0</td>\n",
       "      <td>1.0</td>\n",
       "      <td>NaN</td>\n",
       "    </tr>\n",
       "    <tr>\n",
       "      <th>619</th>\n",
       "      <td>619</td>\n",
       "      <td>Kyle Lauletta</td>\n",
       "      <td>NYG</td>\n",
       "      <td>QB</td>\n",
       "      <td>23.0</td>\n",
       "      <td>2.0</td>\n",
       "      <td>0.0</td>\n",
       "      <td>0.0</td>\n",
       "      <td>0.0</td>\n",
       "      <td>0.0</td>\n",
       "      <td>...</td>\n",
       "      <td>-2.0</td>\n",
       "      <td>0.0</td>\n",
       "      <td>1.0</td>\n",
       "      <td>0.0</td>\n",
       "      <td>0.0</td>\n",
       "      <td>-2.20</td>\n",
       "      <td>1.0</td>\n",
       "      <td>0.0</td>\n",
       "      <td>0.0</td>\n",
       "      <td>NaN</td>\n",
       "    </tr>\n",
       "    <tr>\n",
       "      <th>620</th>\n",
       "      <td>620</td>\n",
       "      <td>Riley McCarron</td>\n",
       "      <td>NWE</td>\n",
       "      <td>0</td>\n",
       "      <td>25.0</td>\n",
       "      <td>1.0</td>\n",
       "      <td>0.0</td>\n",
       "      <td>1.0</td>\n",
       "      <td>0.0</td>\n",
       "      <td>0.0</td>\n",
       "      <td>...</td>\n",
       "      <td>0.0</td>\n",
       "      <td>0.0</td>\n",
       "      <td>0.0</td>\n",
       "      <td>0.0</td>\n",
       "      <td>0.0</td>\n",
       "      <td>-2.00</td>\n",
       "      <td>0.0</td>\n",
       "      <td>1.0</td>\n",
       "      <td>1.0</td>\n",
       "      <td>NaN</td>\n",
       "    </tr>\n",
       "    <tr>\n",
       "      <th>621</th>\n",
       "      <td>621</td>\n",
       "      <td>Jojo Natson</td>\n",
       "      <td>LAR</td>\n",
       "      <td>0</td>\n",
       "      <td>24.0</td>\n",
       "      <td>13.0</td>\n",
       "      <td>0.0</td>\n",
       "      <td>0.0</td>\n",
       "      <td>0.0</td>\n",
       "      <td>0.0</td>\n",
       "      <td>...</td>\n",
       "      <td>0.0</td>\n",
       "      <td>0.0</td>\n",
       "      <td>0.0</td>\n",
       "      <td>0.0</td>\n",
       "      <td>0.0</td>\n",
       "      <td>-2.00</td>\n",
       "      <td>0.0</td>\n",
       "      <td>2.0</td>\n",
       "      <td>1.0</td>\n",
       "      <td>NaN</td>\n",
       "    </tr>\n",
       "  </tbody>\n",
       "</table>\n",
       "<p>622 rows × 22 columns</p>\n",
       "</div>"
      ],
      "text/plain": [
       "     Unnamed: 0               Player   Tm Pos   Age     G    GS    Tgt    Rec  \\\n",
       "0             0          Todd Gurley  LAR  RB  24.0  14.0  14.0   81.0   59.0   \n",
       "1             1       Saquon Barkley  NYG  RB  21.0  16.0  16.0  121.0   91.0   \n",
       "2             2  Christian McCaffrey  CAR  RB  22.0  16.0  16.0  124.0  107.0   \n",
       "3             3         Alvin Kamara  NOR  RB  23.0  15.0  13.0  105.0   81.0   \n",
       "4             4      Patrick Mahomes  KAN  QB  23.0  16.0  16.0    0.0    0.0   \n",
       "..          ...                  ...  ...  ..   ...   ...   ...    ...    ...   \n",
       "617         617          Kaelin Clay  NYG   0  26.0   2.0   0.0    0.0    0.0   \n",
       "618         618             JJ Jones  2TM  WR  26.0   4.0   0.0    1.0    1.0   \n",
       "619         619        Kyle Lauletta  NYG  QB  23.0   2.0   0.0    0.0    0.0   \n",
       "620         620       Riley McCarron  NWE   0  25.0   1.0   0.0    1.0    0.0   \n",
       "621         621          Jojo Natson  LAR   0  24.0  13.0   0.0    0.0    0.0   \n",
       "\n",
       "     PassingYds  ...  RushingYds  RushingTD  RushingAtt  ReceivingYds  \\\n",
       "0           0.0  ...      1251.0       17.0       256.0         580.0   \n",
       "1           0.0  ...      1307.0       11.0       261.0         721.0   \n",
       "2          50.0  ...      1098.0        7.0       219.0         867.0   \n",
       "3           0.0  ...       883.0       14.0       194.0         709.0   \n",
       "4        5097.0  ...       272.0        2.0        60.0           0.0   \n",
       "..          ...  ...         ...        ...         ...           ...   \n",
       "617         0.0  ...         0.0        0.0         0.0           0.0   \n",
       "618         0.0  ...         0.0        0.0         1.0           3.0   \n",
       "619         0.0  ...        -2.0        0.0         1.0           0.0   \n",
       "620         0.0  ...         0.0        0.0         0.0           0.0   \n",
       "621         0.0  ...         0.0        0.0         0.0           0.0   \n",
       "\n",
       "     ReceivingTD  FantasyPoints   Int  Fumbles  FumblesLost   ADP  \n",
       "0            4.0         366.10   0.0      1.0          1.0   2.0  \n",
       "1            4.0         383.80   0.0      0.0          0.0   6.0  \n",
       "2            6.0         385.50   0.0      4.0          1.0  18.0  \n",
       "3            4.0         348.20   0.0      1.0          0.0   7.0  \n",
       "4            0.0         415.08  12.0      9.0          2.0   NaN  \n",
       "..           ...            ...   ...      ...          ...   ...  \n",
       "617          0.0          -2.00   0.0      1.0          1.0   NaN  \n",
       "618          0.0          -0.70   0.0      2.0          1.0   NaN  \n",
       "619          0.0          -2.20   1.0      0.0          0.0   NaN  \n",
       "620          0.0          -2.00   0.0      1.0          1.0   NaN  \n",
       "621          0.0          -2.00   0.0      2.0          1.0   NaN  \n",
       "\n",
       "[622 rows x 22 columns]"
      ]
     },
     "execution_count": 63,
     "metadata": {},
     "output_type": "execute_result"
    }
   ],
   "source": [
    "data18"
   ]
  },
  {
   "cell_type": "code",
   "execution_count": 283,
   "id": "0533cc8f",
   "metadata": {},
   "outputs": [
    {
     "name": "stdout",
     "output_type": "stream",
     "text": [
      "{'/Type': '/Page', '/Parent': IndirectObject(2, 0, 11342576176), '/Resources': {'/ExtGState': {'/GS6': IndirectObject(6, 0, 11342576176), '/GS9': IndirectObject(9, 0, 11342576176)}, '/Font': {'/F1': IndirectObject(7, 0, 11342576176), '/F2': IndirectObject(10, 0, 11342576176)}, '/XObject': {'/Image12': IndirectObject(12, 0, 11342576176)}, '/ProcSet': ['/PDF', '/Text', '/ImageB', '/ImageC', '/ImageI']}, '/MediaBox': [0, 0, 612, 792], '/Contents': IndirectObject(5, 0, 11342576176), '/Group': {'/Type': '/Group', '/S': '/Transparency', '/CS': '/DeviceRGB'}, '/Tabs': '/S', '/StructParents': 0}\n"
     ]
    }
   ],
   "source": [
    "\n",
    "        \n",
    "qb, wr, rb, te = loadAdp2(\"2021\")"
   ]
  },
  {
   "cell_type": "code",
   "execution_count": 317,
   "id": "3e059b88",
   "metadata": {},
   "outputs": [
    {
     "data": {
      "text/plain": [
       "0      LAR\n",
       "1      NYG\n",
       "2      CAR\n",
       "3      NOR\n",
       "4      KAN\n",
       "      ... \n",
       "665    TEN\n",
       "667    2TM\n",
       "668    LAR\n",
       "669    ATL\n",
       "670    DEN\n",
       "Name: Tm, Length: 2416, dtype: object"
      ]
     },
     "execution_count": 317,
     "metadata": {},
     "output_type": "execute_result"
    }
   ],
   "source": [
    "aggData.Tm"
   ]
  },
  {
   "cell_type": "code",
   "execution_count": null,
   "id": "8a8decbd",
   "metadata": {},
   "outputs": [],
   "source": [
    "# def getDataFromLine(line, prev_line, column_map, year):\n",
    "    \n",
    "#     output = {\n",
    "#         \"QB\" : [],\n",
    "#         \"RB\" : [],\n",
    "#         \"WR\" : [],\n",
    "#         \"TE\" : [],\n",
    "#         \"K\"  : [],\n",
    "#         \"DST\": [],\n",
    "#     }\n",
    "#     s = line.split(\"$\")\n",
    "#     if prev_line is None:\n",
    "#         line_split = line.split(\"$\")\n",
    "#         col0 = line_split[0]\n",
    "#         col1 = line_split[1]\n",
    "#         col2 = line_split[2]\n",
    "#         col3 = line_split[3]\n",
    "#         output[column_map[0]].append((getNameFromSlice(col0), getAdpFromSlice(col0)))\n",
    "#         output[column_map[1]].append((getNameFromSlice(col1), getAdpFromSlice(col1)))\n",
    "#         output[column_map[2]].append((getNameFromSlice(col2), getAdpFromSlice(col2)))\n",
    "#         output[column_map[3]].append((getNameFromSlice(col3), getAdpFromSlice(col3)))\n",
    "#         return output\n",
    "#     line_split = line.split(\"$\")\n",
    "#     prev_line_split = prev_line.split(\"$\")\n",
    "#     if len(line_split) == 5:\n",
    "#         col0 = line_split[0]\n",
    "#         col1 = line_split[1]\n",
    "#         col2 = line_split[2]\n",
    "#         col3 = line_split[3]\n",
    "#         output[column_map[0]].append((getNameFromSlice(col0), getAdpFromSlice(col0)))\n",
    "#         output[column_map[1]].append((getNameFromSlice(col1), getAdpFromSlice(col1)))\n",
    "#         output[column_map[2]].append((getNameFromSlice(col2), getAdpFromSlice(col2)))\n",
    "#         output[column_map[3]].append((getNameFromSlice(col3), getAdpFromSlice(col3)))\n",
    "#         return output\n",
    "#     elif len(line_split) == len(prev_line_split):\n",
    "#         col0 = None\n",
    "#         col1 = None\n",
    "#         col2 = None\n",
    "#         col3 = None\n",
    "        \n",
    "#         while line_split:\n",
    "#             col = line_split.pop()\n",
    "            \n",
    "\n",
    "#         if col0:\n",
    "#             output[column_map[0]] = (getNameFromSlice(col0), getAdpFromSlice(col0))\n",
    "#         if col1:\n",
    "#             output[column_map[1]] = (getNameFromSlice(col1), getAdpFromSlice(col1))\n",
    "#         if col2:\n",
    "#             output[column_map[2]] = (getNameFromSlice(col2), getAdpFromSlice(col2))\n",
    "#         if col3:\n",
    "#             output[column_map[3]] = (getNameFromSlice(col3), getAdpFromSlice(col3))\n",
    "#         return output\n",
    "        \n",
    "#     else:\n",
    "#         col0 = None\n",
    "#         col1 = None\n",
    "#         col2 = None\n",
    "#         col3 = None\n",
    "        \n",
    "#         while line_split[:-1]:\n",
    "#             col = line_split.pop(0)\n",
    "#             try:\n",
    "#                 ix = getColumnIndex(col)\n",
    "#             except:\n",
    "#                 continue\n",
    "#             pix0 = getColumnIndex(prev_line_split[0])\n",
    "#             pix1 = getColumnIndex(prev_line_split[1])\n",
    "#             pix2 = getColumnIndex(prev_line_split[2])\n",
    "#             pix3 = getColumnIndex(prev_line_split[3])\n",
    "#             if ix == pix3+1:\n",
    "#                 col3 = col\n",
    "#             elif ix == pix2+1 and col2 is None:\n",
    "#                 col2 = col\n",
    "#             elif ix == pix1+1 and col1 is None:\n",
    "#                 col1 = col\n",
    "#             elif ix == pix0+1 and col0 is None:\n",
    "#                 col0 = col\n",
    "                \n",
    "#             print(col0, col1, col2, col3)\n",
    "            \n",
    "            \n",
    "            \n",
    "#         if col0:\n",
    "#             output[column_map[0]].append((getNameFromSlice(col0), getAdpFromSlice(col0)))\n",
    "#         if col1:\n",
    "#             output[column_map[1]].append((getNameFromSlice(col1), getAdpFromSlice(col1)))\n",
    "#         if col2:\n",
    "#             output[column_map[2]].append((getNameFromSlice(col2), getAdpFromSlice(col2)))\n",
    "#         if col3:\n",
    "#             output[column_map[3]].append((getNameFromSlice(col3), getAdpFromSlice(col3)))\n",
    "        \n",
    "#         print(column_map)\n",
    "#         getNewColumnMap([col0, col1, col2, col3], column_map, year)\n",
    "#         print(column_map)\n",
    "#         # do weird shit\n",
    "#         return output"
   ]
  }
 ],
 "metadata": {
  "kernelspec": {
   "display_name": "Python 3 (ipykernel)",
   "language": "python",
   "name": "python3"
  },
  "language_info": {
   "codemirror_mode": {
    "name": "ipython",
    "version": 3
   },
   "file_extension": ".py",
   "mimetype": "text/x-python",
   "name": "python",
   "nbconvert_exporter": "python",
   "pygments_lexer": "ipython3",
   "version": "3.9.13"
  }
 },
 "nbformat": 4,
 "nbformat_minor": 5
}
