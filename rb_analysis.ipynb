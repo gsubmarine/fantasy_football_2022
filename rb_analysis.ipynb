{
 "cells": [
  {
   "cell_type": "code",
   "execution_count": 1,
   "metadata": {},
   "outputs": [],
   "source": [
    "import pandas as pd\n",
    "import matplotlib.pyplot as plt\n",
    "import numpy as np"
   ]
  },
  {
   "cell_type": "code",
   "execution_count": 2,
   "metadata": {},
   "outputs": [],
   "source": [
    "df = pd.read_csv(\"rb_info.csv\")"
   ]
  },
  {
   "cell_type": "code",
   "execution_count": 18,
   "metadata": {},
   "outputs": [
    {
     "name": "stderr",
     "output_type": "stream",
     "text": [
      "/var/folders/gm/4tf5pr0s0l18g9tk17cp2hvm0000gp/T/ipykernel_36278/1262259739.py:16: VisibleDeprecationWarning: Creating an ndarray from ragged nested sequences (which is a list-or-tuple of lists-or-tuples-or ndarrays with different lengths or shapes) is deprecated. If you meant to do this, you must specify 'dtype=object' when creating the ndarray.\n",
      "  attempts_2d_array = np.array([attempts_2d_array ,attempts_list])\n"
     ]
    },
    {
     "data": {
      "image/png": "[encoded data removed]",
      "text/plain": [
       "<Figure size 432x288 with 1 Axes>"
      ]
     },
     "metadata": {
      "needs_background": "light"
     },
     "output_type": "display_data"
    }
   ],
   "source": [
    "from optparse import Values\n",
    "\n",
    "\n",
    "name_list = []\n",
    "attempts_2d_array = []\n",
    "for _id, _df in df.groupby('name'):\n",
    "    _df = _df.sort_values(by='year')\n",
    "    name_list.append(_id) \n",
    "    attempts_list = np.array(_df['attempts'])\n",
    "    if 2015 not in _df.year:\n",
    "        attempts_list = np.insert(attempts_list, 0, 0, axis=0)\n",
    "\n",
    "    if 2021 not in _df.year:\n",
    "        np.append(attempts_list, 0)\n",
    "    \n",
    "    attempts_2d_array.append(attempts_list) \n",
    "\n",
    "        \n",
    "\n",
    "\n",
    "data1 = [23,85, 72, 43, 52]\n",
    "data2 = [42, 35, 21, 16, 9]\n",
    "width =0.3\n",
    "plt.bar(np.arange(len(attempts_list)), attempts_list, width=width)\n",
    "#plt.bar(np.arange(len(data2))+ width, data2, width=width)\n",
    "plt.show()"
   ]
  },
  {
   "cell_type": "code",
   "execution_count": 19,
   "metadata": {},
   "outputs": [
    {
     "data": {
      "text/plain": [
       "array([array([array([array([array([array([array([], dtype=float64), array([  0, 120, 194, 171, 187, 240])],\n",
       "                                         dtype=object)                                                     ,\n",
       "                                   array([  0, 117, 219, 287,  59,  99])], dtype=object)                    ,\n",
       "                            array([  0,  74, 133, 250, 312, 249])], dtype=object)                            ,\n",
       "                     array([  0, 125, 293,  11, 258,  94, 147,  67])], dtype=object)                          ,\n",
       "              array([  0, 110, 176, 215, 303, 378, 219])], dtype=object)                                       ,\n",
       "       array([  0, 322, 242, 304, 301, 244, 237])], dtype=object)"
      ]
     },
     "execution_count": 19,
     "metadata": {},
     "output_type": "execute_result"
    }
   ],
   "source": [
    "attempts_2d_array[0]"
   ]
  }
 ],
 "metadata": {
  "kernelspec": {
   "display_name": "Python 3.8.5 64-bit",
   "language": "python",
   "name": "python3"
  },
  "language_info": {
   "codemirror_mode": {
    "name": "ipython",
    "version": 3
   },
   "file_extension": ".py",
   "mimetype": "text/x-python",
   "name": "python",
   "nbconvert_exporter": "python",
   "pygments_lexer": "ipython3",
   "version": "3.8.5"
  },
  "orig_nbformat": 4,
  "vscode": {
   "interpreter": {
    "hash": "c5a25365ded4b1a712f0386ce2bb0c8fdfa8504d389deb75525ae716e4fbecee"
   }
  }
 },
 "nbformat": 4,
 "nbformat_minor": 2
}
