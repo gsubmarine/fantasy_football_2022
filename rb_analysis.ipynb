{
 "cells": [
  {
   "cell_type": "code",
   "execution_count": 36,
   "metadata": {},
   "outputs": [],
   "source": [
    "from PyPDF2 import PdfReader\n",
    "from pdfminer.high_level import extract_text as fallback_text_extraction\n",
    "import re\n",
    "from bs4 import BeautifulSoup  \n",
    "import requests\n",
    "import urllib3\n",
    "import pandas as pd\n",
    "http = urllib3.PoolManager()\n",
    "import matplotlib.pyplot as plt\n",
    "\n",
    "years = [\"2018\", \"2019\", \"2020\", \"2021\"]\n",
    "filenames = ['espn_' + year + \".pdf\" for year in years] \n",
    "outcomes_files = [ \"yearly/\" + year + \".csv\" for year in years]\n",
    "\n",
    "def pdf_to_text(filename:str) -> str:\n",
    "\n",
    "    text = \"\"\n",
    "    try:\n",
    "        reader = PdfReader(filename)\n",
    "        for page in reader.pages:\n",
    "            text += page.extract_text()\n",
    "            return text\n",
    "    except Exception as exc:\n",
    "        text = fallback_text_extraction(filename)\n",
    "        print(\"FAIL Parsing PDF \", exc)\n",
    "        return\n",
    "\n",
    "\n",
    "def parse_top_rb_from_espn_cheatsheet(text: str) -> list:\n",
    "    #seperate text into a list of rows\n",
    "    lines = []\n",
    "    line = \"\"\n",
    "    for char in text:\n",
    "        if char == \"\\n\":\n",
    "            lines.append(line)\n",
    "            line=\"\"\n",
    "            continue\n",
    "        line+=char\n",
    "    #Find runningback value in each row\n",
    "    running_back_names = []\n",
    "    for line in lines:\n",
    "        line_split =  line.split('.')\n",
    "        #index 2 in each line is the running back column\n",
    "        #'6. (79) Aaron Rodgers, GB $4 13 6. (8) Ezekiel Elliott, DAL $50 7 83. (276) Dwayne Washington, NO $0 6 73. (164) Amon-Ra St. Brown, DET $0 9'\n",
    "        running_back_match = re.search(r\"\\) .+(?=,)\", line_split[2]).group()\n",
    "        running_back_names.append(running_back_match[2:])\n",
    "        if line == lines[20]:\n",
    "            break\n",
    "    return running_back_names\n"
   ]
  },
  {
   "cell_type": "code",
   "execution_count": 37,
   "metadata": {},
   "outputs": [],
   "source": [
    "df = pd.DataFrame(columns=['name', 'cheatsheet_name', 'year', 'fantasy_points'])\n",
    "for filename in filenames:\n",
    "    text = pdf_to_text(filename)"
   ]
  },
  {
   "cell_type": "code",
   "execution_count": 38,
   "metadata": {},
   "outputs": [],
   "source": [
    "rb_list = parse_top_rb_from_espn_cheatsheet(text)"
   ]
  },
  {
   "cell_type": "code",
   "execution_count": 42,
   "metadata": {},
   "outputs": [
    {
     "name": "stdout",
     "output_type": "stream",
     "text": [
      " (1) Christian McCaffrey, CAR $62 13 78\n",
      " (2) Dalvin Cook, MIN $59 7 79\n",
      " (3) Alvin Kamara, NO $59 6 80\n",
      " (4) Saquon Barkley, NYG $58 10 81\n",
      " (5) Derrick Henry, TEN $56 13 82\n",
      " (8) Ezekiel Elliott, DAL $50 7 83\n",
      " (9) Jonathan Taylor, IND $48 14 84\n",
      " (10) Austin Ekeler, LAC $46 7 85\n",
      " (11) Aaron Jones, GB $45 13 76\n",
      " (12) Nick Chubb, CLE $45 13 77\n",
      " (14) Antonio Gibson, WAS $43 9 1\n",
      " (15) Najee Harris, PIT $42 7 2\n",
      " (22) Joe Mixon, CIN $33 10 3\n",
      " (23) Clyde Edwards-Helaire, KC $32 12 4\n",
      " (30) David Montgomery, CHI $26 10 5\n",
      " (31) James Robinson, JAC $26 7 6\n",
      " (32) Miles Sanders, PHI $25 14 7\n",
      " (36) D'Andre Swift, DET $22 9 8\n",
      " (37) Chris Carson, SEA $22 9 9\n",
      " (47) Josh Jacobs, LV $15 8 10\n",
      " (48) Chase Edmonds, ARI $14 12 11\n"
     ]
    }
   ],
   "source": [
    "lines=[]\n",
    "line = \"\"\n",
    "for char in text:\n",
    "    if char == \"\\n\":\n",
    "        lines.append(line)\n",
    "        line=\"\"\n",
    "        continue\n",
    "    line+=char\n",
    "#Find runningback value in each row\n",
    "running_back_names = []\n",
    "ADP = []\n",
    "for line in lines:\n",
    "    line_split =  line.split('.')\n",
    "    print(line_split[2])\n",
    "    #index 2 in each line is the running back column\n",
    "    #'6. (79) Aaron Rodgers, GB $4 13 6. (8) Ezekiel Elliott, DAL $50 7 83. (276) Dwayne Washington, NO $0 6 73. (164) Amon-Ra St. Brown, DET $0 9'\n",
    "    running_back_match = re.search(r\"\\) .+(?=,)\", line_split[2]).group()\n",
    "    running_back_names.append(running_back_match[2:])\n",
    "\n",
    "    #parse out ADP\n",
    "    ADP_match = re.search(r\"\\(.+(?=,)\", line_split[2]).group()\n",
    "    ADP.append(ADP_match[1:])\n",
    "    print(ADP)\n",
    " \n",
    "    if line == lines[20]:\n",
    "        break"
   ]
  }
 ],
 "metadata": {
  "kernelspec": {
   "display_name": "Python 3.8.5 64-bit",
   "language": "python",
   "name": "python3"
  },
  "language_info": {
   "codemirror_mode": {
    "name": "ipython",
    "version": 3
   },
   "file_extension": ".py",
   "mimetype": "text/x-python",
   "name": "python",
   "nbconvert_exporter": "python",
   "pygments_lexer": "ipython3",
   "version": "3.8.5"
  },
  "orig_nbformat": 4,
  "vscode": {
   "interpreter": {
    "hash": "c5a25365ded4b1a712f0386ce2bb0c8fdfa8504d389deb75525ae716e4fbecee"
   }
  }
 },
 "nbformat": 4,
 "nbformat_minor": 2
}
